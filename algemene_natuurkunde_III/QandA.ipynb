{
 "cells": [
  {
   "cell_type": "code",
   "execution_count": null,
   "metadata": {},
   "outputs": [],
   "source": [
    "%pylab inline\n",
    "from scipy import constants as cst"
   ]
  },
  {
   "cell_type": "code",
   "execution_count": null,
   "metadata": {
    "slideshow": {
     "slide_type": "-"
    }
   },
   "outputs": [],
   "source": [
    "# Data\n",
    "\n",
    "deuterium_atomic_mass = 2.01410178 # Wikipedia https://en.wikipedia.org/wiki/Deuterium\n",
    "hydrogen_atomic_mass = 1.007825 # Giancoli table 41-1\n",
    "\n",
    "Bi_212_atomic_mass =  211.9912860 # NIST\n",
    "Pb_208_atomic_mass = 207.9766525 # NIST\n",
    "alpha_atomic_mass = 4.002603 # Appendix F of Giancoli\n",
    "Be_7_atomic_mass = 7.016930 # F\n",
    "Li_7_atomic_mass = 7.016005 # F"
   ]
  },
  {
   "cell_type": "markdown",
   "metadata": {
    "slideshow": {
     "slide_type": "slide"
    }
   },
   "source": [
    "# Schrödinger equation\n",
    "\n",
    "Finite well exercise (Giancoli 38.37)\n",
    "\n",
    "An electron is trapped in a 0.16-nm-wide finite square\n",
    "well of height $U_0 = 2.0$keV. Estimate at what distance\n",
    "outside the walls of the well the ground state wave function\n",
    "drops to 1.0% of its value at the walls.\n",
    "\n",
    "$$ -\\frac{\\hbar^2}{2m} \\frac{\\partial^2 \\psi(x)}{\\partial x^2} + U \\psi(x) = E \\psi(x) $$\n"
   ]
  },
  {
   "cell_type": "markdown",
   "metadata": {
    "slideshow": {
     "slide_type": "subslide"
    }
   },
   "source": [
    "Assume that the electron is in a bound state. For $x<0$, $\\psi(x) = \\mathcal{N} e^{\\kappa x}$.\n",
    "\n",
    "$$ -\\frac{\\hbar^2}{2m} \\frac{\\partial^2 \\psi(x)}{\\partial x^2} = (E-U) \\psi(x) $$\n",
    "\n",
    "$$ -\\frac{\\hbar^2}{2m} \\kappa^2 \\psi(x)= (E-U) \\psi(x) $$"
   ]
  },
  {
   "cell_type": "markdown",
   "metadata": {
    "slideshow": {
     "slide_type": "subslide"
    }
   },
   "source": [
    "For $E-U<0$, $\\kappa^2>0$ and admits a real root $\\kappa = \\sqrt{(E-U) 2 m /\\hbar^2}$. The question becomes\n",
    "\n",
    "$$e^{-\\kappa d} = 0.01$$\n",
    "\n",
    "For which the solution is $d = \\log(100)/\\kappa$"
   ]
  },
  {
   "cell_type": "code",
   "execution_count": null,
   "metadata": {},
   "outputs": [],
   "source": [
    "E = cst.hbar**2/2/cst.electron_mass*(np.pi/.16e-9)**2\n",
    "U = 2e3*cst.electron_volt\n",
    "print(\"Ground state energy\", E, \"Barrier energy\", U)\n",
    "kappa = np.sqrt((U-E) * 2 * cst.electron_mass / cst.hbar**2)\n",
    "print(\"kappa\", kappa)\n",
    "print(\"d\", np.log(100)/kappa)"
   ]
  },
  {
   "cell_type": "markdown",
   "metadata": {
    "slideshow": {
     "slide_type": "slide"
    }
   },
   "source": [
    "# Nuclear/particle reaction\n",
    "\n",
    "Consider the reaction\n",
    "\n",
    "$$ p + p \\to 3 p + \\bar p$$\n",
    "\n",
    "1. Is the reaction possible?\n",
    "2. What is the Q value of the reaction?\n",
    "3. If one the initial protons is at rest and the other moving, and that all 4 particles move at the same speed *after* the reaction, compute the activation energy of the reaction."
   ]
  },
  {
   "cell_type": "markdown",
   "metadata": {
    "slideshow": {
     "slide_type": "subslide"
    }
   },
   "source": [
    "1 . The reaction follows conservation of charge, baryonic and leptonic numbers.\n",
    "\n",
    "| Charge       | Baryonic number   | Leptonic number  |\n",
    "|--------------|-------------------|------------------|\n",
    "| 1 + 1        | 1 + 1             | 0                |\n",
    "| 3 - 1        | 3 - 1             | 0                |"
   ]
  },
  {
   "cell_type": "markdown",
   "metadata": {
    "slideshow": {
     "slide_type": "subslide"
    }
   },
   "source": [
    "2 . The Q-value is:\n",
    "\n",
    "$$Q = 2\\times m_p c^2 - 3\\times m_p c^2 - m_{\\bar p} c^2$$\n",
    "\n",
    "As the mass of the anti-proton is equal to the mass of the proton:\n",
    "\n",
    "$$Q = -2m_p c^2$$"
   ]
  },
  {
   "cell_type": "markdown",
   "metadata": {
    "slideshow": {
     "slide_type": "subslide"
    }
   },
   "source": [
    "3 . The initial energy of the system is given by the kinetic energy of the single proton, $K_p$.\n",
    "\n",
    "A. Conservation of momentum:\n",
    "\n",
    "$$P_{p_1} + 0 = P_{p'_1} + P_{p'_2} + P_{p'3} + P_{\\bar p}$$\n",
    "\n",
    "As the particles share the same mass and have the same velocity:\n",
    "\n",
    "$$P_{p'} = P_{p_1}/4$$"
   ]
  },
  {
   "cell_type": "markdown",
   "metadata": {
    "slideshow": {
     "slide_type": "subslide"
    }
   },
   "source": [
    "B. Conservation of energy\n",
    "\n",
    "We use $E^2 = m^2 c^4 + p^2 c^2$ for the energy and $E = m c^2 + K$.\n",
    "\n",
    "First result: $K_{p_1} + 2 m c^2 = K_f + 4 m c^2$ so $K_f = K_{p_1} - 2 m c^2$\n",
    "\n",
    "($K_f$ stands for the total kinetic energy after the reaction)."
   ]
  },
  {
   "cell_type": "markdown",
   "metadata": {
    "slideshow": {
     "slide_type": "subslide"
    }
   },
   "source": [
    "\n",
    "$P_{p_1} c = 4 P_{p'} c$\n",
    "\n",
    "$\\sqrt{E_{p_1}^2 - m^2 c^4} = 4\\sqrt{E_{p'}^2 - m^2 c^4}$\n",
    "\n",
    "$E_{p_1}^2 - m^2 c^4 = 16 (E_{p'}^2 - m^2 c^4)$\n",
    "\n",
    "$E_{p_1}^2 - m^2 c^4 = 16 ((mc^2 + K_{p'})^2 - m^2 c^4)$\n",
    "\n",
    "$(mc^2 + K_p)^2 - m^2 c^4 = 16 ( K_{p'}^2 + 2 K_{p'} m c^2 + m^2 c^4 - m^2 c^4)$"
   ]
  },
  {
   "cell_type": "markdown",
   "metadata": {
    "slideshow": {
     "slide_type": "subslide"
    }
   },
   "source": [
    "\n",
    "$m^2c^4 + 2 K_p mc^2 + K_p^2 - m^2 c^4 = 16 ( K_{p'}^2 + 2 K_{p'} m c^2)$\n",
    "\n",
    "\n",
    "$2 K_p mc^2 + K_p^2 = (K_p - 2mc^2)^2 + 8 (K_p-2mc^2) mc^2$\n",
    "\n",
    "$2 K_p mc^2 = 12 m^2c^4$"
   ]
  },
  {
   "cell_type": "markdown",
   "metadata": {
    "slideshow": {
     "slide_type": "slide"
    }
   },
   "source": [
    "# Reactions\n",
    "\n",
    "(From 2de zitting 2014-2015)\n",
    "\n",
    "Fill to obtain stable products\n",
    "\n",
    "- $\\bar n$ $\\to$\n",
    "- $^1_1$H + $^1_1$H $\\to$ X + $\\nu_e$\n",
    "- $^{212}$Bi $\\to$ $\\to$ Pb + e$^-$\n",
    "- $^7_4$Be + e$^-$ $\\to$"
   ]
  },
  {
   "cell_type": "markdown",
   "metadata": {
    "slideshow": {
     "slide_type": "subslide"
    }
   },
   "source": [
    "### Antineutron\n",
    "\n",
    "The charge is zero, the baryonic number is $-1$, the leptonic numbers are zero.\n",
    "\n",
    "Possible reaction:\n",
    "\n",
    "$$\\bar n \\to \\bar p + e^+ + \\nu_e$$"
   ]
  },
  {
   "cell_type": "code",
   "execution_count": null,
   "metadata": {},
   "outputs": [],
   "source": [
    "print(\"Mass of an antineutron\", cst.neutron_mass/cst.atomic_mass)\n",
    "\n",
    "print(\"Mass of an antiproton and a positron\", (cst.proton_mass + cst.electron_mass)/cst.atomic_mass)"
   ]
  },
  {
   "cell_type": "markdown",
   "metadata": {
    "slideshow": {
     "slide_type": "subslide"
    }
   },
   "source": [
    "### Two $^1_1$H\n",
    "\n",
    "$^1_1$H + $^1_1$H $\\to$ X + $\\nu_e$\n",
    "\n",
    "Because of the neutrino, we need an anti-electron anyway $^1_1$H + $^1_1$H $\\to$ X + e$^+$ + $\\nu_e$\n",
    "\n",
    "We had two positive charges, so we still need one $^2_1$H$^-$ + e$^+$ + $\\nu_e$"
   ]
  },
  {
   "cell_type": "code",
   "execution_count": null,
   "metadata": {},
   "outputs": [],
   "source": [
    "print(\"Mass of 2 hydrogen atoms\", 2*hydrogen_atomic_mass)\n",
    "\n",
    "print(\"Mass of a deuterium atom + electron mass\", deuterium_atomic_mass + cst.electron_mass/cst.atomic_mass)\n"
   ]
  },
  {
   "cell_type": "markdown",
   "metadata": {
    "slideshow": {
     "slide_type": "subslide"
    }
   },
   "source": [
    "###  $^{212}_{83}$Bi $\\to$ $\\to$ $_{82}$Pb + e$^-$\n",
    "\n",
    "$^{212}_{83}$Bi $\\to$ $^{212}_{84}$Po + e$^-$ + $\\bar \\nu_e$\n",
    "\n",
    "$^{208}_{82}$Pb + $\\alpha$ + e$^-$ + $\\bar \\nu_e$\n",
    "\n"
   ]
  },
  {
   "cell_type": "code",
   "execution_count": null,
   "metadata": {},
   "outputs": [],
   "source": [
    "print(\"Mass of Bi 212\", Bi_212_atomic_mass)\n",
    "print(\"Mass of Pb 208 + alpha\", Pb_208_atomic_mass + alpha_atomic_mass + cst.electron_mass/cst.atomic_mass)"
   ]
  },
  {
   "cell_type": "markdown",
   "metadata": {
    "slideshow": {
     "slide_type": "subslide"
    }
   },
   "source": [
    "### $^7_4$Be + e$^-$ $\\to$\n",
    "\n",
    "The Beryllium can convert one of its protons to a neutron, giving back Lithium\n",
    "\n",
    "$^7_3$Li + $\\nu_e$"
   ]
  },
  {
   "cell_type": "code",
   "execution_count": null,
   "metadata": {},
   "outputs": [],
   "source": [
    "print(\"Mass of Be 7\", Be_7_atomic_mass)\n",
    "print(\"Mass of Li 7\", Li_7_atomic_mass)"
   ]
  },
  {
   "cell_type": "markdown",
   "metadata": {
    "slideshow": {
     "slide_type": "slide"
    }
   },
   "source": [
    "# Decay\n",
    "\n",
    "From january 2012.\n",
    "\n",
    "At 120km of height, a incoming proton collides with a atmospheric proton.\n",
    "\n",
    "A pion is formed (rest mass of 139.6 MeV) with a total energy of 135000 MeV,\n",
    "moving vertically towards earth.\n",
    "The pion decays after a time, in its own reference frame, of 35ns.\n",
    "At what altitude does this happen?\n"
   ]
  },
  {
   "cell_type": "markdown",
   "metadata": {
    "slideshow": {
     "slide_type": "subslide"
    }
   },
   "source": [
    "$E = 135000 MeV = \\gamma m c^2$\n",
    "\n",
    "$\\gamma = E/(mc^2)$\n",
    "\n",
    "The inverse relation of $\\gamma = (1-v^2/c^2)^{1/2}$ is $v=c\\sqrt{1-\\gamma^{-2}}$, so $v = c\\sqrt{1-m^2c^4/E^2}$\n"
   ]
  },
  {
   "cell_type": "code",
   "execution_count": null,
   "metadata": {},
   "outputs": [],
   "source": [
    "E_over_mc2 = 135000/139.6 ; gamma = E_over_mc2\n",
    "v = cst.c*np.sqrt(1-gamma**-2) ; t_lab = 35e-9*gamma\n",
    "print(\"gamma\", gamma) ; print(\"velocity\", v)\n",
    "print(\"Time in lab frame\", t_lab)\n",
    "print(\"Distance traveled (km)\", v*t_lab/1000)"
   ]
  },
  {
   "cell_type": "markdown",
   "metadata": {
    "slideshow": {
     "slide_type": "slide"
    }
   },
   "source": [
    "## Uranium decay\n",
    "\n",
    "Giancoli 41.85: Almost all of naturally occurring uranium is $^{238}_{92}$U with a\n",
    "half-life of 4.468 10$^9$ years. Most of the rest of natural\n",
    "uranium is $^{235}_{92}$U with a half-life of 7.04 10$^8$ years. Today a\n",
    "sample contains 0.720% of $^{235}_{92}$U.\n",
    "\n",
    "(a) What was this percentage 1.0 billion years ago?  \n",
    "(b) What percentage of $^{235}_{92}$U will\n",
    "remain 100 million years from now?\n",
    "\n",
    "The decay follows $N(t) = e^{-\\lambda t} N(0)$ where $\\lambda = \\log(2)/T_{1/2}$"
   ]
  },
  {
   "cell_type": "code",
   "execution_count": null,
   "metadata": {
    "slideshow": {
     "slide_type": "subslide"
    }
   },
   "outputs": [],
   "source": [
    "lambda_238 = np.log(2)/4.468e9\n",
    "lambda_235 = np.log(2)/7.04e8\n",
    "\n",
    "N0_238 = 99.28 * np.exp(lambda_238*1e9)\n",
    "N0_235 = 0.72 * np.exp(lambda_235*1e9)\n",
    "\n",
    "print(\"Original number of U 238\", N0_238)\n",
    "print(\"Original number of U 235\", N0_235)\n",
    "print(\"Percentage of U 235\", N0_235/(N0_235+N0_238)*100)"
   ]
  },
  {
   "cell_type": "markdown",
   "metadata": {
    "slideshow": {
     "slide_type": "subslide"
    }
   },
   "source": [
    "And in 100 million years?\n"
   ]
  },
  {
   "cell_type": "code",
   "execution_count": null,
   "metadata": {},
   "outputs": [],
   "source": [
    "N_238 = N0_238*np.exp(-lambda_238*(1.1e9))\n",
    "N_235 = N0_235*np.exp(-lambda_235*(1.1e9))\n",
    "print(N_235/(N_235+N_238)*100)"
   ]
  }
 ],
 "metadata": {
  "celltoolbar": "Slideshow",
  "kernelspec": {
   "display_name": "Python 3",
   "language": "python",
   "name": "python3"
  },
  "language_info": {
   "codemirror_mode": {
    "name": "ipython",
    "version": 3
   },
   "file_extension": ".py",
   "mimetype": "text/x-python",
   "name": "python",
   "nbconvert_exporter": "python",
   "pygments_lexer": "ipython3",
   "version": "3.6.4rc1"
  }
 },
 "nbformat": 4,
 "nbformat_minor": 2
}
