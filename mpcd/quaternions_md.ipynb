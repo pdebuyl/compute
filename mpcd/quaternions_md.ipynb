{
 "cells": [
  {
   "cell_type": "markdown",
   "metadata": {},
   "source": [
    "## Introduction and references\n",
    "\n",
    "In this blog article, I present a brief overview on the use of quaternions\n",
    "for ridid-body dynamics in Molecular Dynamics. This topic is quite old and\n",
    "is found in many reference material. For some reason, none of the presentations\n",
    "seemed to me to provide a brief presentation of the quaternions, their relation\n",
    "to the equations of motion of a rigid body and how they can used in Molecular Dynamics.\n",
    "This is probably more of problem on my side than one with the material but as I prepare\n",
    "these notes I might as well publish them here.\n",
    "\n",
    "The references mentioned in the text are:\n",
    "- [Goldstein2002]: Goldstein, Poole and Safko, *Classical Mechanics* $3^\\mathrm{rd}$ edition (Pearson Education, San Francisco, CA, 2002).\n",
    "- [Rapaport1995]: Rapaport, *The art of molecular dynamics simulation* (Cambridge University Press, 1995).\n"
   ]
  },
  {
   "cell_type": "code",
   "execution_count": null,
   "metadata": {
    "collapsed": true
   },
   "outputs": [],
   "source": []
  },
  {
   "cell_type": "markdown",
   "metadata": {},
   "source": [
    "## Notation and definition of the quaternions\n",
    "\n",
    "The notation is set to \"completely abstract\". Any quantity can a scalar, vector\n",
    "or quaternion depending on the context. For convenience, though, the following letters\n",
    "are reserved for specific quantities:\n",
    "\n",
    "- $r$ is a vector denoting the position of a point or particle in Euclidean space.\n",
    "- $r_i$ is as $r$, but for the $i^\\mathrm{th}$ particle of the rigid body.\n",
    "- $v_i$ is the velocity of a particle.\n",
    "- $\\omega$ is the angular velocity of the rigid body.\n",
    "- $I$ is the inertia tensor, with components $I_{i,j}$.\n",
    "- $L$ is the angular momentum, a vector.\n",
    "- $\\mathcal{T}$ is the torque on the rigid body.\n",
    "- $\\wedge$ is the cross product.\n",
    "- $q$, $q_1$, etc. are quaternions.\n",
    "- The superscript $^B$ is for quantities defined in the frame of reference of the rigid body. Other quantities are in the laboratory reference frame.\n",
    "\n",
    "When an operation involves quaternions and vectors, the result is truncated to \"vector\" only\n",
    "implicitly when needed (i.e. when the result is a physical quantity).\n",
    "\n",
    "Quaternions are defined as the sum of a scalar part $s$ and a 3-dimensional vector part $v$ as\n",
    "\n",
    "$$q = s + v$$\n",
    "\n",
    "Multiplication of the elementary vectors $v_i=(1, 0, 0)$, $v_j=(0, 1, 0)$ and $v_k=(0,0,1)$:\n",
    "- $v_i v_j = v_k$\n",
    "- $v_j v_k = v_i$\n",
    "- $v_k v_i = v_j$\n",
    "- $v_j v_i = -v_k$\n",
    "- $v_k v_j = -v_i$\n",
    "- $v_i v_k = -v_j$\n",
    "- $v_i^2 = v_j^2 = v_k^2 = -1$\n",
    "\n",
    "$$\n",
    "\\begin{align}\n",
    "a &= b\\\\\n",
    "  &= c\n",
    "\\end{align}\n",
    "$$"
   ]
  },
  {
   "cell_type": "markdown",
   "metadata": {},
   "source": [
    "## Quaternions for rigid-body Molecular Dynamics\n",
    "\n",
    "The motion of a rigid body can be defined entirely on the basis of the\n",
    "rotation operator that transforms vectors from the rigid body reference frame to the\n",
    "laboratory reference frame. Explicitly, any point of particle with coordinates $r^B$\n",
    "can be transformed as\n",
    "\n",
    "$$r = R r^B$$\n",
    "\n",
    "Using quaternions, the relation is written\n",
    "\n",
    "$$r = q r^B q^\\ast$$\n",
    "\n",
    "and obtaining the time-dependent quaternion $q(t)$ provides a solution to this problem.\n",
    "\n",
    "The starting point is the equations of motion for a rigid body:\n",
    "$$\\dot L = \\mathcal{T}$$\n",
    "\n",
    "that can be written in $^B$ coordinates as\n",
    "\n",
    "$$\\dot L^B = \\mathcal{T}^B + \\omega^B \\wedge L^B$$\n",
    "\n",
    "where $I$ is a 3 by 3 matrix called the \"tensor of inertia\". The elements of $I$ are defined by\n",
    "\n",
    "$$I_{ij} = \\sum_k m_k \\left( r_k^2 \\delta_{ij} - r_{k,i} r_{k,j} \\right)$$\n",
    "\n",
    "where $m_k$ is the mass of the $k^\\mathrm{th}$ particle, $r_i$ its vector position and $r_{k,i}$ the $i^\\mathrm{th}$ component of the vector.\n",
    "\n",
    "$$\\dot L^B + \\omega \\wedge L = \\mathcal{T}^B$$\n",
    "\n",
    "In this reference frame, $I^{B}$ is diagonal and constant\n",
    "$$I^B = \\left(\\begin{matrix}I^B_x & 0 & 0\\cr 0 & I^B_y & 0\\cr 0 & 0 & I^B_z\\end{matrix}\\right)$$\n",
    "and we have obtained\n",
    "\n",
    "$$I \\dot \\omega = \\mathcal{T}^B - \\omega^B \\wedge L^B$$\n",
    "or\n",
    "$$\\dot \\omega = I^{-1}\\mathcal{T}^B - I^{-1}\\omega^B \\wedge L^B$$\n",
    "\n",
    "There is a difficulty to integrate numerically this equation as the time derivative of\n",
    "$\\omega$ depends on $\\omega$ and one way out of this is to use an iterative scheme.\n",
    "\n",
    "I will use here the most recent algorithm that I could find and that, according to the paper,\n",
    "outperforms earlier tentatives and, of great importance, fits in a velocity Verlet scheme."
   ]
  },
  {
   "cell_type": "markdown",
   "metadata": {},
   "source": [
    "### Rotations\n",
    "\n",
    "The interest of quaternions arises from their capacity to represent rotations\n",
    "in 3 dimensions as:\n",
    "\n",
    "$$r' = q r q^\\ast$$\n",
    "\n",
    "For rigid-body dynamics, the problem can be recast in the equations of motion\n",
    "for $q$.\n",
    "\n",
    "The position $r$ is related to the body-frame position $r^B$ as\n",
    "\n",
    "$$r(t) = q(t) r^B q^\\ast(t)$$\n",
    "\n",
    "where $r^B$ is fixed in time. The explicit dependence on $t$ is dropped in the notation\n",
    "from now on.\n",
    "\n",
    "The equations of motion can be cast as\n",
    "\n",
    "$$\\dot r = \\dot q r^B q^\\ast + q r^B \\dot q^\\ast$$"
   ]
  },
  {
   "cell_type": "code",
   "execution_count": null,
   "metadata": {
    "collapsed": false
   },
   "outputs": [],
   "source": [
    "import sympy\n",
    "from sympy import *\n",
    "init_session()"
   ]
  },
  {
   "cell_type": "code",
   "execution_count": null,
   "metadata": {
    "collapsed": false
   },
   "outputs": [],
   "source": []
  },
  {
   "cell_type": "code",
   "execution_count": null,
   "metadata": {
    "collapsed": false
   },
   "outputs": [],
   "source": []
  },
  {
   "cell_type": "code",
   "execution_count": null,
   "metadata": {
    "collapsed": false
   },
   "outputs": [],
   "source": [
    "class quat(object):\n",
    "    def __init__(self, qvec, q4):\n",
    "        self.qvec = sympy.Matrix(qvec)\n",
    "        self.q4 = q4\n",
    "    def __mul__(self, qq):\n",
    "        if isinstance(qq, Matrix):\n",
    "            qq = quat(qq, 0)\n",
    "        return quat(self.q4*qq.qvec + self.qvec*qq.q4 + self.qvec.cross(qq.qvec), self.q4*qq.q4-self.qvec.dot(qq.qvec))\n",
    "    "
   ]
  },
  {
   "cell_type": "code",
   "execution_count": null,
   "metadata": {
    "collapsed": false
   },
   "outputs": [],
   "source": [
    "q1 = quat((1,0,0), 0)\n",
    "q2 = quat((0,1,0), 0)\n",
    "one_x = Matrix([1,0,0])"
   ]
  },
  {
   "cell_type": "code",
   "execution_count": null,
   "metadata": {
    "collapsed": false
   },
   "outputs": [],
   "source": [
    "q3 = q1*one_x"
   ]
  },
  {
   "cell_type": "code",
   "execution_count": null,
   "metadata": {
    "collapsed": false
   },
   "outputs": [],
   "source": [
    "q3.qvec, q3.q4"
   ]
  },
  {
   "cell_type": "code",
   "execution_count": null,
   "metadata": {
    "collapsed": false
   },
   "outputs": [],
   "source": [
    "def qmul(q1, q2):\n",
    "    return ()"
   ]
  },
  {
   "cell_type": "code",
   "execution_count": null,
   "metadata": {
    "collapsed": false
   },
   "outputs": [],
   "source": [
    "import transforms3d"
   ]
  },
  {
   "cell_type": "code",
   "execution_count": null,
   "metadata": {
    "collapsed": false
   },
   "outputs": [],
   "source": []
  },
  {
   "cell_type": "code",
   "execution_count": null,
   "metadata": {
    "collapsed": false
   },
   "outputs": [],
   "source": [
    "q = np.array([0.0, 1, 0, 0], dtype=float)\n",
    "q /= np.sqrt(np.sum(q**2))"
   ]
  },
  {
   "cell_type": "code",
   "execution_count": null,
   "metadata": {
    "collapsed": false
   },
   "outputs": [],
   "source": [
    "qmult(q, qmult(q, qinverse(q)))"
   ]
  },
  {
   "cell_type": "code",
   "execution_count": null,
   "metadata": {
    "collapsed": false
   },
   "outputs": [],
   "source": [
    "np.dot(transforms3d.quaternions.quat2mat(q), q[1:])"
   ]
  },
  {
   "cell_type": "code",
   "execution_count": null,
   "metadata": {
    "collapsed": false
   },
   "outputs": [],
   "source": [
    "transforms3d.quaternions.qmult([0,1,0,0], [0,1,0,0])"
   ]
  },
  {
   "cell_type": "code",
   "execution_count": null,
   "metadata": {
    "collapsed": false
   },
   "outputs": [],
   "source": [
    "from transforms3d.quaternions import qmult, qinverse, qnorm"
   ]
  },
  {
   "cell_type": "code",
   "execution_count": null,
   "metadata": {
    "collapsed": false
   },
   "outputs": [],
   "source": [
    "\n",
    "q = [np.cos(2*np.pi/3), np.sin(2*np.pi/3)/np.sqrt(3), np.sin(2*np.pi/3)/np.sqrt(3), np.sin(2*np.pi/3)/np.sqrt(3)]"
   ]
  },
  {
   "cell_type": "code",
   "execution_count": null,
   "metadata": {
    "collapsed": false
   },
   "outputs": [],
   "source": [
    "qmult(q, qmult([0, 0, 0, 1], qinverse(q)))"
   ]
  },
  {
   "cell_type": "code",
   "execution_count": null,
   "metadata": {
    "collapsed": false
   },
   "outputs": [],
   "source": [
    "def cross(x, y):\n",
    "    return Matrix([x[1]*y[2]-x[2]*y[1], x[2]*y[0]-x[0]*y[2], x[0]*y[1]-x[1]*y[0]])\n",
    "\n",
    "def dot(x, y):\n",
    "    return x[0]*y[0]+x[1]*y[1]+x[2]*y[2]\n",
    "\n",
    "def mult(x, y):\n",
    "    *xv, xs = x\n",
    "    *yv, ys = y\n",
    "    xv = Matrix(xv)\n",
    "    yv = Matrix(yv)\n",
    "    res = xs*yv + ys*xv + cross(xv, yv)\n",
    "    return res.row_insert(3, Matrix([xs*ys - dot(xv, yv)]))\n",
    "\n",
    "def conj(q):\n",
    "    return Matrix([-q[0], -q[1], -q[2], q[3]])\n",
    "\n",
    "def norm(q):\n",
    "    return sympy.sqrt(q[0]**2+q[1]**2+q[2]**2+q[3]**2)\n",
    "\n",
    "def inverse(q):\n",
    "    return conj(q)/norm(q)"
   ]
  },
  {
   "cell_type": "code",
   "execution_count": null,
   "metadata": {
    "collapsed": false
   },
   "outputs": [],
   "source": [
    "r = Matrix([x, y, z, w])"
   ]
  },
  {
   "cell_type": "code",
   "execution_count": null,
   "metadata": {
    "collapsed": false
   },
   "outputs": [],
   "source": []
  },
  {
   "cell_type": "code",
   "execution_count": null,
   "metadata": {
    "collapsed": false
   },
   "outputs": [],
   "source": [
    "mult(r, conj(r))"
   ]
  },
  {
   "cell_type": "code",
   "execution_count": null,
   "metadata": {
    "collapsed": false
   },
   "outputs": [],
   "source": [
    "A = Matrix([a1, a2, a3, a4])"
   ]
  },
  {
   "cell_type": "code",
   "execution_count": null,
   "metadata": {
    "collapsed": false
   },
   "outputs": [],
   "source": [
    "v1, v2, v3, v4 = symbols('v1 v2 v3 v4')"
   ]
  },
  {
   "cell_type": "code",
   "execution_count": null,
   "metadata": {
    "collapsed": false
   },
   "outputs": [],
   "source": [
    "V = Matrix([v1, v2, v3, v4])"
   ]
  },
  {
   "cell_type": "code",
   "execution_count": null,
   "metadata": {
    "collapsed": false
   },
   "outputs": [],
   "source": [
    "rotated_V = mult(A, mult(V, inverse(A)))"
   ]
  },
  {
   "cell_type": "code",
   "execution_count": null,
   "metadata": {
    "collapsed": false
   },
   "outputs": [],
   "source": [
    "rotated_V"
   ]
  },
  {
   "cell_type": "code",
   "execution_count": null,
   "metadata": {
    "collapsed": false
   },
   "outputs": [],
   "source": [
    "simplify(_)"
   ]
  },
  {
   "cell_type": "code",
   "execution_count": null,
   "metadata": {
    "collapsed": false
   },
   "outputs": [],
   "source": []
  },
  {
   "cell_type": "code",
   "execution_count": null,
   "metadata": {
    "collapsed": false
   },
   "outputs": [],
   "source": []
  },
  {
   "cell_type": "code",
   "execution_count": null,
   "metadata": {
    "collapsed": false
   },
   "outputs": [],
   "source": [
    "norm(V - dot(A,V)*V/norm(A))"
   ]
  },
  {
   "cell_type": "code",
   "execution_count": null,
   "metadata": {
    "collapsed": false
   },
   "outputs": [],
   "source": [
    "simplify(_)"
   ]
  },
  {
   "cell_type": "code",
   "execution_count": null,
   "metadata": {
    "collapsed": false
   },
   "outputs": [],
   "source": [
    "simplify(norm(rotated_V - dot(A,rotated_V)*rotated_V/norm(A)))"
   ]
  },
  {
   "cell_type": "code",
   "execution_count": null,
   "metadata": {
    "collapsed": false
   },
   "outputs": [],
   "source": [
    "simplify(norm(V))"
   ]
  },
  {
   "cell_type": "code",
   "execution_count": null,
   "metadata": {
    "collapsed": false
   },
   "outputs": [],
   "source": [
    "simplify(norm(rotated_V))"
   ]
  },
  {
   "cell_type": "code",
   "execution_count": null,
   "metadata": {
    "collapsed": false
   },
   "outputs": [],
   "source": [
    "norm(r)"
   ]
  },
  {
   "cell_type": "code",
   "execution_count": null,
   "metadata": {
    "collapsed": false
   },
   "outputs": [],
   "source": [
    "mult(r,conj(r))"
   ]
  },
  {
   "cell_type": "code",
   "execution_count": null,
   "metadata": {
    "collapsed": true
   },
   "outputs": [],
   "source": []
  }
 ],
 "metadata": {
  "kernelspec": {
   "display_name": "Python 3",
   "language": "python",
   "name": "python3"
  },
  "language_info": {
   "codemirror_mode": {
    "name": "ipython",
    "version": 3
   },
   "file_extension": ".py",
   "mimetype": "text/x-python",
   "name": "python",
   "nbconvert_exporter": "python",
   "pygments_lexer": "ipython3",
   "version": "3.5.2+"
  }
 },
 "nbformat": 4,
 "nbformat_minor": 2
}
