{
 "cells": [
  {
   "cell_type": "code",
   "execution_count": null,
   "metadata": {
    "collapsed": true
   },
   "outputs": [],
   "source": [
    "%matplotlib inline\n",
    "import matplotlib.pyplot as plt\n",
    "import numpy as np\n"
   ]
  },
  {
   "cell_type": "code",
   "execution_count": null,
   "metadata": {
    "collapsed": true
   },
   "outputs": [],
   "source": [
    "T = 3\n",
    "tau = 0.1\n",
    "a = 1\n",
    "rho = 10\n",
    "m = 1\n",
    "gamma = rho\n",
    "alpha = np.pi / 2\n"
   ]
  },
  {
   "cell_type": "code",
   "execution_count": null,
   "metadata": {
    "collapsed": false
   },
   "outputs": [],
   "source": [
    "# Kapral review Eq. 55\n",
    "\n",
    "eta_kin = T * tau * rho / (2*m) * \\\n",
    "(5*gamma-(gamma - 1 + np.exp(-gamma))*(2 - np.cos(alpha)-np.cos(2*alpha)))/ \\\n",
    "((gamma - 1 + np.exp(-gamma))*(2 - np.cos(alpha)-np.cos(2*alpha)))"
   ]
  },
  {
   "cell_type": "code",
   "execution_count": null,
   "metadata": {
    "collapsed": false
   },
   "outputs": [],
   "source": [
    "# Kapral review Eq. 56\n",
    "\n",
    "eta_coll = m / (18 * a * tau) * (gamma - 1 + np.exp(-gamma))*(1-np.cos(alpha))"
   ]
  },
  {
   "cell_type": "code",
   "execution_count": null,
   "metadata": {
    "collapsed": true
   },
   "outputs": [],
   "source": [
    "eta = eta_kin + eta_coll"
   ]
  },
  {
   "cell_type": "code",
   "execution_count": null,
   "metadata": {
    "collapsed": true
   },
   "outputs": [],
   "source": [
    "\n",
    "D_fluid = T*tau/(2*m) * (3*gamma/((gamma - 1 + np.exp(-gamma))*(1-np.cos(alpha))) - 1)"
   ]
  },
  {
   "cell_type": "code",
   "execution_count": null,
   "metadata": {
    "collapsed": false
   },
   "outputs": [],
   "source": [
    "D_fluid"
   ]
  },
  {
   "cell_type": "code",
   "execution_count": null,
   "metadata": {
    "collapsed": false
   },
   "outputs": [],
   "source": [
    "1/(6 * np.pi * eta * 1)"
   ]
  },
  {
   "cell_type": "code",
   "execution_count": null,
   "metadata": {
    "collapsed": false
   },
   "outputs": [],
   "source": [
    "eta"
   ]
  },
  {
   "cell_type": "markdown",
   "metadata": {
    "collapsed": true
   },
   "source": [
    "### Thermal diffusivity\n",
    "\n",
    "Lüsebrink and Ripoll J. Chem. Phys. 136, 084106 (2012)\n"
   ]
  },
  {
   "cell_type": "code",
   "execution_count": null,
   "metadata": {
    "collapsed": false
   },
   "outputs": [],
   "source": [
    "d = 3\n",
    "kappa_kin = T*tau/(2*m) * ( d/(1-np.cos(alpha)) - 1 + 2*d/rho * ((7-d)/5 - 1/(4 * np.sin(alpha/2)**2)) )\n",
    "kappa_col = a**2/tau / (3*(d+2)*rho) * (1 - 1/rho) * (1-np.cos(alpha))\n",
    "print(kappa_kin+kappa_col)"
   ]
  },
  {
   "cell_type": "code",
   "execution_count": null,
   "metadata": {
    "collapsed": true
   },
   "outputs": [],
   "source": []
  }
 ],
 "metadata": {
  "kernelspec": {
   "display_name": "Python 3",
   "language": "python",
   "name": "python3"
  },
  "language_info": {
   "codemirror_mode": {
    "name": "ipython",
    "version": 3
   },
   "file_extension": ".py",
   "mimetype": "text/x-python",
   "name": "python",
   "nbconvert_exporter": "python",
   "pygments_lexer": "ipython3",
   "version": "3.4.3+"
  }
 },
 "nbformat": 4,
 "nbformat_minor": 0
}
