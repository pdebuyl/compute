{
 "cells": [
  {
   "cell_type": "code",
   "execution_count": null,
   "metadata": {},
   "outputs": [],
   "source": [
    "%pylab inline"
   ]
  },
  {
   "cell_type": "code",
   "execution_count": null,
   "metadata": {
    "collapsed": true
   },
   "outputs": [],
   "source": [
    "L = array([8, 10, 3])\n",
    "\n",
    "PBC = 0 ; BB = 1 ; SL = 2\n",
    "\n",
    "_pos_list = []\n",
    "\n",
    "def apply_PBC(x, v, dim):\n",
    "    x[dim] = x[dim] % L[dim]\n",
    "    return x, v\n",
    "\n",
    "def apply_BB(x, v, dim):\n",
    "    tc = x[dim]/v[dim]\n",
    "    xcoll = x - tc*v\n",
    "    v *= -1\n",
    "    print(\"Applying BB in dim\", dim, \"xcoll = \", xcoll)\n",
    "    _pos_list.append(xcoll.copy())\n",
    "    return xcoll + (1-tc)*v, v\n",
    "\n",
    "apply_BC = (apply_PBC, apply_BB)\n"
   ]
  },
  {
   "cell_type": "code",
   "execution_count": null,
   "metadata": {},
   "outputs": [],
   "source": [
    "x = random.random(size=(3,))*L"
   ]
  },
  {
   "cell_type": "code",
   "execution_count": null,
   "metadata": {},
   "outputs": [],
   "source": [
    "print(x)"
   ]
  },
  {
   "cell_type": "code",
   "execution_count": null,
   "metadata": {
    "collapsed": true
   },
   "outputs": [],
   "source": []
  },
  {
   "cell_type": "code",
   "execution_count": null,
   "metadata": {},
   "outputs": [],
   "source": []
  },
  {
   "cell_type": "code",
   "execution_count": null,
   "metadata": {},
   "outputs": [],
   "source": [
    "BC = [BB, PBC, BB]\n",
    "\n",
    "xold = array([1, 5, 2])\n",
    "v = array([-1.5, 0.1, -2.2])\n",
    "x = xold + v\n",
    "print(\"x = \", x)\n",
    "print(\"v = \", v)\n",
    "\n",
    "_pos_list.append(xold.copy())\n",
    "tc = zeros(3)\n",
    "for dim in [0, 1, 2]:\n",
    "    if x[dim] < 0 and BC[dim] > 0:\n",
    "        tc[dim] = -xold[dim]/v[dim]\n",
    "    else:\n",
    "        tc[dim] = np.inf\n",
    "c_dim = np.argsort(tc)\n",
    "c_dim = c_dim[np.isfinite(tc[c_dim])]\n",
    "\n",
    "for dim in c_dim:\n",
    "    x, v = apply_BC[BC[dim]](x, v, dim)\n",
    "    print(x, v)\n",
    "\n",
    "_pos_list.append(x.copy())\n",
    "\n",
    "print(\"x = \", x)\n",
    "print(\"v = \", v)\n",
    "pos_list = array(_pos_list)\n",
    "_pos_list.clear()"
   ]
  },
  {
   "cell_type": "code",
   "execution_count": null,
   "metadata": {},
   "outputs": [],
   "source": [
    "plt.plot(pos_list[:,::2])"
   ]
  },
  {
   "cell_type": "code",
   "execution_count": null,
   "metadata": {},
   "outputs": [],
   "source": [
    "tc = x / v"
   ]
  },
  {
   "cell_type": "code",
   "execution_count": null,
   "metadata": {},
   "outputs": [],
   "source": [
    "tc"
   ]
  },
  {
   "cell_type": "code",
   "execution_count": null,
   "metadata": {},
   "outputs": [],
   "source": [
    "x, v"
   ]
  },
  {
   "cell_type": "code",
   "execution_count": null,
   "metadata": {
    "collapsed": true
   },
   "outputs": [],
   "source": [
    "def collision(x, v, L):\n",
    "    \n",
    "    t_coll = - x/v\n",
    "    "
   ]
  }
 ],
 "metadata": {
  "kernelspec": {
   "display_name": "Python 3",
   "language": "python",
   "name": "python3"
  },
  "language_info": {
   "codemirror_mode": {
    "name": "ipython",
    "version": 3
   },
   "file_extension": ".py",
   "mimetype": "text/x-python",
   "name": "python",
   "nbconvert_exporter": "python",
   "pygments_lexer": "ipython3",
   "version": "3.7.2"
  }
 },
 "nbformat": 4,
 "nbformat_minor": 1
}
