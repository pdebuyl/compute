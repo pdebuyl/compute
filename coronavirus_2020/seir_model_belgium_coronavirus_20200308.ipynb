{
 "cells": [
  {
   "cell_type": "code",
   "execution_count": null,
   "metadata": {},
   "outputs": [],
   "source": [
    "%matplotlib notebook\n",
    "import numpy as np\n",
    "import matplotlib.pyplot as plt\n",
    "from scipy.integrate import odeint"
   ]
  },
  {
   "cell_type": "markdown",
   "metadata": {},
   "source": [
    "# Test runs of the SEIR model for Belgium - coronavirus\n",
    "\n",
    "**Author:** Pierre de Buyl  \n",
    "**Date:** 11 march 2020  \n",
    "**Licence:** [CC-BY](https://creativecommons.org/licenses/by/4.0/)\n",
    "\n",
    "*Warning:* I am not an epidemiologist. I wrote this notebook to have a starting\n",
    "point for comparing estimates that I found online, for instance the one by Nicolas\n",
    "Vandewalle show below.\n",
    "\n",
    "I used a standard epidemiological model (SEIR) along with parameters from a recent\n",
    "article by a team of chinese scientists for the case of Wuhan.\n",
    "\n",
    "The absolute values are likely incorrect. The trends are good to know.\n",
    "\n",
    "![](figure_vdwnico_20200308.jpeg)\n",
    "\n",
    "Source: [@vdwnico](https://twitter.com/vdwnico/status/1236542044685959168) on Twitter, 8 march 2020."
   ]
  },
  {
   "cell_type": "markdown",
   "metadata": {},
   "source": [
    "## Data from Belgian government\n",
    "\n",
    "Below, I write down the number of new cases in Belgium since march 2.\n",
    "\n",
    "`data_I` is the total of infected cases (there are no recoveries recorded yet)."
   ]
  },
  {
   "cell_type": "code",
   "execution_count": null,
   "metadata": {},
   "outputs": [],
   "source": [
    "new_I = [2, 6, 5, 10, 27, 59, 60, 31, 39, 28, 47] # starting march 1\n",
    "data_I = np.cumsum(new_I)\n",
    "data_dates = np.arange('2020-03-01', len(new_I), dtype=np.datetime64)"
   ]
  },
  {
   "cell_type": "markdown",
   "metadata": {},
   "source": [
    "## Definition of the model and parameters\n",
    "\n",
    "I take the SEIR model defined in Wang et al. Cell Discovery (2020) 6:10 https://doi.org/10.1038/s41421-020-0148-0\n",
    "\n"
   ]
  },
  {
   "cell_type": "code",
   "execution_count": null,
   "metadata": {},
   "outputs": [],
   "source": [
    "# parameters for the model, page 6\n",
    "\n",
    "σ = 1/5.2 # inverse of mean period\n",
    "γ = 1/18  # time for which a case should be recovered\n",
    "#R0 = 3.1  # estimates between 1.9 and 3.1\n",
    "\n",
    "#β = R0*γ\n",
    "\n",
    "N = 11e6  # population size\n",
    "\n",
    "# definition of model page 6\n",
    "def SEIR(x, t, R0):\n",
    "    S, E, I, R = x\n",
    "    β = R0*γ\n",
    "    return [\n",
    "            - β*I*S/N,\n",
    "            β*I*S/N - σ*E,\n",
    "            σ*E - γ*I,\n",
    "            γ*I,\n",
    "           ]"
   ]
  },
  {
   "cell_type": "code",
   "execution_count": null,
   "metadata": {},
   "outputs": [],
   "source": []
  },
  {
   "cell_type": "markdown",
   "metadata": {},
   "source": [
    "## Estimate for Belgium\n",
    "\n",
    "I start with the record of 2 infected cases on march 2 at https://www.info-coronavirus.be/fr/2020/03/01/deuxieme-infection-au-covid-19-en-belgique/ and list the new cases day per day (see above).\n",
    "\n",
    "The \"day 0\" is thus march 2 and the initial number of infected people is 2.\n",
    "\n",
    "For estimating the healthcare network saturation, I use the estimate of Philippe Devos regarding the\n",
    "availability of intensive care beds and the estimate of 6.1% of infected people needing intensive care\n",
    "(no other information is taken from that article).\n",
    "\n",
    "Article by Philippe Devos in La Libre Belgique, 2 march 2020:\n",
    "https://www.lalibre.be/debats/opinions/coronavirus-sans-mesures-de-precaution-drastiques-on-risque-d-avoir-850-000-personnes-infectees-et-50-000-morts-en-belgique-5e5cf60f9978e23106a0bfd9\n",
    "\n",
    "To circumvent the low statistics of the first few days, I allow to delay the initial condition\n",
    "of the SEIR model by an offset of `start_day`, taking the corresponding cumulated number of cases\n",
    "for I0.\n"
   ]
  },
  {
   "cell_type": "code",
   "execution_count": null,
   "metadata": {},
   "outputs": [],
   "source": [
    "start_day = 3\n",
    "I0 = data_I[start_day]\n",
    "E0 = 20*I0 # number of initially exposed people, see Wang et al\n",
    "\n",
    "t = np.arange(0, 200, dtype=float) # running for 100 days\n",
    "t_display = np.arange('2020-03-02', len(t), dtype=np.datetime64) + start_day\n"
   ]
  },
  {
   "cell_type": "code",
   "execution_count": null,
   "metadata": {},
   "outputs": [],
   "source": [
    "plt.figure()\n",
    "plt.plot(data_dates, data_I, marker='o', label='reported I')\n",
    "\n",
    "R0 = 1.9\n",
    "model = odeint(SEIR, [N-I0-E0, E0, I0, 0], t, args=(R0,))\n",
    "plt.plot(t_display, model[:,2], label=f'model I. R0={R0}')\n",
    "\n",
    "R0 = 3.1\n",
    "model = odeint(SEIR, [N-I0-E0, E0, I0, 0], t, args=(R0,))\n",
    "plt.plot(t_display, model[:,2], label=f'model I. R0={R0}')\n",
    "\n",
    "plt.yscale('log')\n",
    "\n",
    "plt.xlabel('time')\n",
    "\n",
    "available_icu_beds = 140\n",
    "fraction_of_icu_need = 0.061\n",
    "saturation_of_icu_beds = 140/fraction_of_icu_need\n",
    "plt.axhline(saturation_of_icu_beds, label='saturation', c='k', ls='--')\n",
    "\n",
    "ylo, yhi = plt.ylim()\n",
    "plt.ylim(data_I[0], yhi)\n",
    "\n",
    "plt.legend()\n",
    "plt.grid()\n",
    "#plt.savefig('seir_model_start_2.png')"
   ]
  },
  {
   "cell_type": "markdown",
   "metadata": {},
   "source": [
    "## Risk of under-reporting\n",
    "\n",
    "Again, as a test, I use below twice the number of reported cases to\n",
    "understand the risk related to under-reporting.\n",
    "\n",
    "If the actual number of cases is twice as high, the peak infection arises\n",
    "earlier (mid-end july instead of mid-august) and the saturation of ICU beds\n",
    "occurs late march instead of mid-april."
   ]
  },
  {
   "cell_type": "code",
   "execution_count": null,
   "metadata": {},
   "outputs": [],
   "source": [
    "I0 = 2*I0\n",
    "E0 = 20*I0\n",
    "\n",
    "plt.figure()\n",
    "plt.plot(data_dates, 2*data_I, marker='o', label='reported I')\n",
    "\n",
    "R0 = 1.9\n",
    "model = odeint(SEIR, [N-I0-E0, E0, I0, 0], t, args=(R0,))\n",
    "plt.plot(t_display, model[:,2], label=f'model I. R0={R0}')\n",
    "\n",
    "R0 = 3.1\n",
    "model = odeint(SEIR, [N-I0-E0, E0, I0, 0], t, args=(R0,))\n",
    "plt.plot(t_display, model[:,2], label=f'model I. R0={R0}')\n",
    "\n",
    "plt.yscale('log')\n",
    "\n",
    "plt.xlabel('time')\n",
    "\n",
    "available_icu_beds = 140\n",
    "fraction_of_icu_need = 0.061\n",
    "saturation_of_icu_beds = 140/fraction_of_icu_need\n",
    "plt.axhline(saturation_of_icu_beds, label='saturation', c='k', ls='--')\n",
    "\n",
    "ylo, yhi = plt.ylim()\n",
    "plt.ylim(data_I[0], yhi)\n",
    "\n",
    "plt.legend()\n",
    "plt.grid()\n",
    "#plt.savefig('seir_model_start_2.png')"
   ]
  },
  {
   "cell_type": "markdown",
   "metadata": {},
   "source": [
    "## Observations\n",
    "\n",
    "The initial data corresponds vaguely with the model. It does not stand\n",
    "closer inspection of the figure by zooming.\n",
    "\n",
    "With respect to Nicolas Vandewalle, I find a later peak in august 2020\n",
    "instead of end may.\n",
    "\n",
    "For comparison, I also added the healthcare network treshold suggested\n",
    "by Philippe Devos in La Libre Belgique. This treshold, should the SEIR model\n",
    "be realistic and the estimate for the number of ICU beds hold, would be reached\n",
    "around the 10 april for $R_0=3.1$ and mid-may for $R_0=1.9$.\n",
    "\n",
    "To assess the risk of under-reporting, I used the double amount of infected cases."
   ]
  },
  {
   "cell_type": "code",
   "execution_count": null,
   "metadata": {},
   "outputs": [],
   "source": []
  },
  {
   "cell_type": "code",
   "execution_count": null,
   "metadata": {},
   "outputs": [],
   "source": []
  }
 ],
 "metadata": {
  "kernelspec": {
   "display_name": "Python 3",
   "language": "python",
   "name": "python3"
  },
  "language_info": {
   "codemirror_mode": {
    "name": "ipython",
    "version": 3
   },
   "file_extension": ".py",
   "mimetype": "text/x-python",
   "name": "python",
   "nbconvert_exporter": "python",
   "pygments_lexer": "ipython3",
   "version": "3.7.3"
  }
 },
 "nbformat": 4,
 "nbformat_minor": 2
}
