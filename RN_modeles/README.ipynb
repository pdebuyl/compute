{
 "cells": [
  {
   "cell_type": "markdown",
   "metadata": {},
   "source": [
    "# Modèles\n",
    "\n",
    "**Auteur:** Pierre de Buyl http://pdebuyl.be/  \n",
    "**Licence:** [Creative Commons CC-BY](https://creativecommons.org/licenses/by/4.0/deed.fr)\n",
    "\n",
    "Les notebooks dans ce répertoire servent d'illustration pour l'article sur les\n",
    "modèles paru dans la [Revue Nouvelle](https://www.revuenouvelle.be/) (2020, numéro 3).\n",
    "\n",
    "Ces modèles ont une vocation pédagogique. Vous pouvez recréer les figures de l'article à\n",
    "l'aide des notebooks ci-dessous.\n",
    "\n",
    "- [Croissance exponentielle](./Croissance-exponentielle.ipynb)\n",
    "- [Modèle SEIR](./Modèle-SEIR.ipynb)"
   ]
  }
 ],
 "metadata": {
  "kernelspec": {
   "display_name": "Python 3",
   "language": "python",
   "name": "python3"
  },
  "language_info": {
   "codemirror_mode": {
    "name": "ipython",
    "version": 3
   },
   "file_extension": ".py",
   "mimetype": "text/x-python",
   "name": "python",
   "nbconvert_exporter": "python",
   "pygments_lexer": "ipython3",
   "version": "3.7.3"
  }
 },
 "nbformat": 4,
 "nbformat_minor": 2
}
