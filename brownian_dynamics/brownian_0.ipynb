{
 "cells": [
  {
   "cell_type": "code",
   "execution_count": null,
   "metadata": {
    "collapsed": false
   },
   "outputs": [],
   "source": [
    "%matplotlib inline\n",
    "\n",
    "import numpy as np\n",
    "import matplotlib.pyplot as plt\n",
    "import math\n",
    "import random\n",
    "from __future__ import division, print_function\n",
    "\n",
    "plt.rcParams['figure.figsize'] = (12, 8)"
   ]
  },
  {
   "cell_type": "code",
   "execution_count": null,
   "metadata": {
    "collapsed": true
   },
   "outputs": [],
   "source": [
    "D = 1.0\n",
    "xi = 2.\n",
    "\n",
    "def update(x, dt, f=None):\n",
    "    if f is None:\n",
    "        return x + 2*(np.random.random_sample(x.shape)-0.5)*math.sqrt(dt*D)\n",
    "    else:\n",
    "        return x + 2*(np.random.random_sample(x.shape)-0.5)*math.sqrt(dt*D) + f(x)*dt/(xi)\n",
    "\n",
    "\n",
    "def srk(x, dt, f):\n",
    "    f1 = f(x)\n",
    "    G0 = (np.random.normal(0, 1, x.shape))*math.sqrt(2*D*dt)\n",
    "    x1 = x + D/T*f(x)*dt + G0\n",
    "    f2 = f(x1)\n",
    "    return x + D/(2*T)*(f1+f2)*dt + G0\n",
    "\n",
    "def f_hat(x):\n",
    "    rsq = np.sum(x**2, axis=1).reshape((-1,1))\n",
    "    return 3*(2*x - 1.2*rsq*x)\n",
    "\n",
    "def f_zero(x):\n",
    "    return 0\n",
    "\n",
    "def f_hat_rotation(x):\n",
    "    v = 5. * x[:,::-1]\n",
    "    v[:,1] *= -1\n",
    "    return f_hat(x) + v\n",
    "\n",
    "def create_f_hat(alpha, gamma):\n",
    "    def f(x):\n",
    "        rsq = np.sum(x**2, axis=1).reshape((-1,1))\n",
    "        return alpha*x - gamma*rsq*x\n",
    "    return f\n",
    "\n",
    "def create_f_hat_rotation(alpha, gamma, k):\n",
    "    f = create_f_hat(alpha, gamma)\n",
    "    def g(x):\n",
    "        v = k * x[:,::-1]\n",
    "        v[:,1] *= -1\n",
    "        return f(x) + v\n",
    "    return g\n"
   ]
  },
  {
   "cell_type": "code",
   "execution_count": null,
   "metadata": {
    "collapsed": false
   },
   "outputs": [],
   "source": [
    "x0 = np.random.random_sample((23, 2))\n",
    "x0 = np.zeros((32, 2))\n",
    "\n",
    "DT = 0.05\n",
    "T = 1.\n",
    "\n",
    "msd_data = []\n",
    "\n",
    "for i in range(10):\n",
    "    x = x0.copy()\n",
    "    data = [x]\n",
    "    for t in range(5000):\n",
    "        x = srk(x, DT, f_hat_rotation)\n",
    "        data.append(x)\n",
    "    data = np.array(data)\n",
    "    msd_data.append((data**2).sum(axis=-1).mean(axis=-1))\n",
    "msd_data = np.array(msd_data)"
   ]
  },
  {
   "cell_type": "code",
   "execution_count": null,
   "metadata": {
    "collapsed": false
   },
   "outputs": [],
   "source": [
    "plt.hist2d(data[...,0].reshape((-1,)), data[...,1].reshape((-1,)), bins=32);"
   ]
  },
  {
   "cell_type": "code",
   "execution_count": null,
   "metadata": {
    "collapsed": false
   },
   "outputs": [],
   "source": [
    "[plt.plot(data[:,i,0], data[:,i,1]) for i in range(2)];"
   ]
  },
  {
   "cell_type": "code",
   "execution_count": null,
   "metadata": {
    "collapsed": false
   },
   "outputs": [],
   "source": [
    "tt = DT*np.arange(len(data))\n",
    "m = np.mean(msd_data, axis=0)\n",
    "s = np.std(msd_data, axis=0)\n",
    "plt.plot(tt, m)\n",
    "plt.plot(tt, m-s)\n",
    "plt.plot(tt, m+s)\n",
    "plt.plot(tt, tt * D, 'k')\n",
    "plt.plot(tt, 2 * tt * D * (1+2*math.sqrt(1./(msd_data.shape[0]*data.shape[1]))), 'k--')\n",
    "plt.plot(tt, 2 * tt * D * (1-2*math.sqrt(1./(msd_data.shape[0]*data.shape[1]))), 'k--')"
   ]
  },
  {
   "cell_type": "code",
   "execution_count": null,
   "metadata": {
    "collapsed": true
   },
   "outputs": [],
   "source": [
    "x0 = np.array( (1, 0) )\n",
    "\n",
    "x = x0.copy()\n",
    "\n",
    "DT=0.2\n",
    "\n",
    "K = 1.\n",
    "\n",
    "def trap(x):\n",
    "    return - K * x\n",
    "\n",
    "# hat potential = 0.3*x**4 - x**2\n",
    "# hat force = - (1.2 x**3 - 2 x) = 2 x - 1.2 x**3\n",
    "\n",
    "def hat(x):\n",
    "    rsq = sum(x**2)\n",
    "    return 2*x - 1.2*rsq*x\n",
    "\n",
    "data = []\n",
    "for t in range(1000):\n",
    "    x = update(x, DT, hat)\n",
    "    data.append(x)"
   ]
  },
  {
   "cell_type": "code",
   "execution_count": null,
   "metadata": {
    "collapsed": false
   },
   "outputs": [],
   "source": [
    "plt.plot(data[:,1,:])"
   ]
  },
  {
   "cell_type": "code",
   "execution_count": null,
   "metadata": {
    "collapsed": false
   },
   "outputs": [],
   "source": [
    "np.sum?"
   ]
  },
  {
   "cell_type": "code",
   "execution_count": null,
   "metadata": {
    "collapsed": false
   },
   "outputs": [],
   "source": [
    "msd_data.shape"
   ]
  },
  {
   "cell_type": "code",
   "execution_count": null,
   "metadata": {
    "collapsed": false
   },
   "outputs": [],
   "source": [
    "data.shape"
   ]
  },
  {
   "cell_type": "code",
   "execution_count": null,
   "metadata": {
    "collapsed": false
   },
   "outputs": [],
   "source": [
    "D_tracer = 0.0001\n",
    "D_bath = 1.\n",
    "T = 1\n",
    "def srk_w_tracer(x, X, dt, bond_k, f):\n",
    "    f1 = f(x)\n",
    "    bond_f1 = bond_k * (X.reshape((1,-1)) - x) / x.shape[0]\n",
    "    f1 += bond_f1\n",
    "    F1 = -bond_f1.sum(axis=0)\n",
    "    g0 = (np.random.normal(0, 1, x.shape))*math.sqrt(2*D_bath*dt)\n",
    "    G0 = (np.random.normal(0, 1, X.shape))*math.sqrt(2*D_tracer*dt)\n",
    "    x1 = x + D_bath/T*f1*dt + g0\n",
    "    X1 = X + D_tracer/T*F1*dt + G0\n",
    "    f2 = f(x1)\n",
    "    bond_f2 = bond_k * (X1.reshape((1,-1)) - x1) / x.shape[0]\n",
    "    f2 += bond_f2\n",
    "    F2 = -bond_f2.sum(axis=0)\n",
    "\n",
    "    return (x + D_bath/(2*T)*(f1+f2)*dt + g0, X + D_tracer/(2*T)*(F1+F2)*dt + G0)\n"
   ]
  },
  {
   "cell_type": "code",
   "execution_count": null,
   "metadata": {
    "collapsed": false
   },
   "outputs": [],
   "source": [
    "def run_w_tracer(x0, X0, k, f, dt=0.1, Nsteps=10000):\n",
    "\n",
    "    data = [x0]\n",
    "    DATA = [X0]\n",
    "    x = x0.copy()\n",
    "    X = X0.copy()\n",
    "    for t in range(Nsteps):\n",
    "        x, X = srk_w_tracer(x, X, dt, k, f)\n",
    "        data.append(x)\n",
    "        DATA.append(X)\n",
    "\n",
    "    return np.array(data), np.array(DATA)"
   ]
  },
  {
   "cell_type": "code",
   "execution_count": null,
   "metadata": {
    "collapsed": false
   },
   "outputs": [],
   "source": [
    "x0 = np.zeros((32, 2))\n",
    "X0 = np.zeros((2,))\n",
    "\n",
    "x_data, X_data = run_w_tracer(x0, X0, 0.1, f_zero)"
   ]
  },
  {
   "cell_type": "code",
   "execution_count": null,
   "metadata": {
    "collapsed": false
   },
   "outputs": [],
   "source": [
    "[plt.plot(x_data[:,i,0], x_data[:,i,1]) for i in range(x_data.shape[1])];\n",
    "plt.plot(X_data[:,0], X_data[:,1], 'k', lw=3);"
   ]
  },
  {
   "cell_type": "code",
   "execution_count": null,
   "metadata": {
    "collapsed": false
   },
   "outputs": [],
   "source": []
  },
  {
   "cell_type": "code",
   "execution_count": null,
   "metadata": {
    "collapsed": false
   },
   "outputs": [],
   "source": [
    "x0 = np.zeros((32, 2))\n",
    "X0 = np.zeros((2,))\n",
    "\n",
    "x_data, X_data = run_w_tracer(x0, X0, 1., f_hat, Nsteps=5000000, dt=0.02)"
   ]
  },
  {
   "cell_type": "code",
   "execution_count": null,
   "metadata": {
    "collapsed": false
   },
   "outputs": [],
   "source": [
    "[plt.plot(x_data[-2000:,i,0], x_data[-2000:,i,1]) for i in range(x_data.shape[1])];\n",
    "plt.plot(X_data[:,0], X_data[:, 1], 'k', lw=3, alpha=0.6)"
   ]
  },
  {
   "cell_type": "code",
   "execution_count": null,
   "metadata": {
    "collapsed": false
   },
   "outputs": [],
   "source": [
    "plt.plot(X_data, 'k', lw=3, alpha=0.6)"
   ]
  },
  {
   "cell_type": "code",
   "execution_count": null,
   "metadata": {
    "collapsed": false
   },
   "outputs": [],
   "source": [
    "X_data.shape"
   ]
  },
  {
   "cell_type": "code",
   "execution_count": null,
   "metadata": {
    "collapsed": false
   },
   "outputs": [],
   "source": [
    "plt.hist2d(x_data[...,0].reshape((-1,)), x_data[...,1].reshape((-1,)), bins=32);\n",
    "plt.figure()\n",
    "plt.hist2d(X_data[:,0], X_data[:,1]);"
   ]
  },
  {
   "cell_type": "code",
   "execution_count": null,
   "metadata": {
    "collapsed": false
   },
   "outputs": [],
   "source": [
    "\n",
    "xx = np.empty( (100, 2))\n",
    "xx[:,0] = np.arange(100)*0.05\n",
    "xx[:,1] = 0\n",
    "\n",
    "f = create_f_hat(1, 0.1)\n",
    "ff = f(xx)\n",
    "plt.plot(xx[:,0], ff[:,0])\n",
    "#plt.plot(xx[:,0], ff[:,1])\n",
    "\n",
    "f = create_f_hat(1, 1.)\n",
    "ff = f(xx)\n",
    "plt.plot(xx[:,0], ff[:,0])\n",
    "#plt.plot(xx[:,0], ff[:,1])\n",
    "\n",
    "#f = create_f_hat_rotation(1, 1.2, 1)\n",
    "#ff = f(xx)\n",
    "#plt.plot(xx[:,0], ff[:,0])\n",
    "#plt.plot(xx[:,0], ff[:,1])\n",
    "\n",
    "plt.ylim(-2, 2);"
   ]
  },
  {
   "cell_type": "code",
   "execution_count": null,
   "metadata": {
    "collapsed": false
   },
   "outputs": [],
   "source": []
  },
  {
   "cell_type": "code",
   "execution_count": null,
   "metadata": {
    "collapsed": false
   },
   "outputs": [],
   "source": [
    "import brownian_wrapper"
   ]
  },
  {
   "cell_type": "code",
   "execution_count": null,
   "metadata": {
    "collapsed": false
   },
   "outputs": [],
   "source": [
    "x0 = np.zeros((32,2))\n",
    "X0 = np.zeros(2)\n",
    "\n",
    "sims = []\n",
    "for i in range(5):\n",
    "    sims.append(brownian_wrapper.srk_with_tracer(x0, X0, 1, 0.001, 0.01, 400, 1000000, 1., 0.1, 0.5))"
   ]
  },
  {
   "cell_type": "code",
   "execution_count": null,
   "metadata": {
    "collapsed": false
   },
   "outputs": [],
   "source": [
    "plt.plot(sims[0][1]);"
   ]
  },
  {
   "cell_type": "code",
   "execution_count": null,
   "metadata": {
    "collapsed": false
   },
   "outputs": [],
   "source": [
    "plt.plot(x.mean(axis=1));"
   ]
  },
  {
   "cell_type": "code",
   "execution_count": null,
   "metadata": {
    "collapsed": false
   },
   "outputs": [],
   "source": [
    "plt.hist2d(x[...,0].reshape((-1,)), x[...,1].reshape((-1,)), bins=32);"
   ]
  },
  {
   "cell_type": "code",
   "execution_count": null,
   "metadata": {
    "collapsed": false
   },
   "outputs": [],
   "source": [
    "x_sq = x**2\n",
    "x_sqrt = np.sqrt(np.sum(x_sq.reshape((-1,2)), axis=1))\n",
    "plt.hist(x_sqrt, bins=32, normed=True, weights=1/x_sqrt);"
   ]
  },
  {
   "cell_type": "code",
   "execution_count": null,
   "metadata": {
    "collapsed": false
   },
   "outputs": [],
   "source": [
    "x.size"
   ]
  },
  {
   "cell_type": "code",
   "execution_count": null,
   "metadata": {
    "collapsed": false
   },
   "outputs": [],
   "source": [
    "[plt.plot(x[:,i,0], x[:,i,1]) for i in range(x.shape[1])];\n",
    "plt.plot(X[:,0], X[:, 1], 'k', lw=3, alpha=0.6);"
   ]
  },
  {
   "cell_type": "code",
   "execution_count": null,
   "metadata": {
    "collapsed": false
   },
   "outputs": [],
   "source": []
  },
  {
   "cell_type": "code",
   "execution_count": null,
   "metadata": {
    "collapsed": false
   },
   "outputs": [],
   "source": [
    "plt.hist2d(X[:,0], X[:,1], bins=32);"
   ]
  },
  {
   "cell_type": "code",
   "execution_count": null,
   "metadata": {
    "collapsed": false
   },
   "outputs": [],
   "source": [
    "import brownian_wrapper"
   ]
  },
  {
   "cell_type": "code",
   "execution_count": null,
   "metadata": {
    "collapsed": false
   },
   "outputs": [],
   "source": [
    "x0 = np.zeros((1,2))\n",
    "X0 = np.zeros(2)\n",
    "\n",
    "x, X, force, force_count = brownian_wrapper.srk_with_tracer(x0, X0, 1, 0.005, 0.01, 100, 2500000, 1., 0.1, 0.5, 3., 0)"
   ]
  },
  {
   "cell_type": "code",
   "execution_count": null,
   "metadata": {
    "collapsed": false
   },
   "outputs": [],
   "source": [
    "plt.subplot(221)\n",
    "plt.hist2d(X[:,0], X[:,1])\n",
    "radius = np.sqrt(np.sum(X**2, axis=1))\n",
    "plt.subplot(222)\n",
    "plt.hist(radius, bins=32, normed=True, weights=1/radius);\n",
    "plt.subplot(223)\n",
    "plt.plot(np.arange(force.shape[0])*1./force.shape[0], force/force_count)\n",
    "plt.subplot(224)\n",
    "plt.hist2d(x[:,0,0], x[:,0,1], bins=32, normed=True);"
   ]
  },
  {
   "cell_type": "code",
   "execution_count": null,
   "metadata": {
    "collapsed": true
   },
   "outputs": [],
   "source": []
  }
 ],
 "metadata": {
  "kernelspec": {
   "display_name": "Python 2",
   "language": "python",
   "name": "python2"
  },
  "language_info": {
   "codemirror_mode": {
    "name": "ipython",
    "version": 2
   },
   "file_extension": ".py",
   "mimetype": "text/x-python",
   "name": "python",
   "nbconvert_exporter": "python",
   "pygments_lexer": "ipython2",
   "version": "2.7.9"
  }
 },
 "nbformat": 4,
 "nbformat_minor": 0
}
