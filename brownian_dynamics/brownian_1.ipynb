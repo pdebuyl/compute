{
 "cells": [
  {
   "cell_type": "code",
   "execution_count": null,
   "metadata": {},
   "outputs": [],
   "source": [
    "%matplotlib inline\n",
    "import matplotlib.pyplot as plt\n",
    "import numpy as np\n",
    "import brownian_wrapper\n",
    "from collections import namedtuple\n",
    "\n",
    "Sim = namedtuple('Sim', ['x', 'X', 'force', 'force_count'])"
   ]
  },
  {
   "cell_type": "code",
   "execution_count": null,
   "metadata": {
    "collapsed": true
   },
   "outputs": [],
   "source": [
    "def box(sim):\n",
    "    x, X, force, force_count = sim\n",
    "    plt.subplot(221)\n",
    "    plt.hist2d(X[:,0], X[:,1])\n",
    "    radius = np.sqrt(np.sum(X**2, axis=1))\n",
    "    plt.subplot(222)\n",
    "    plt.hist(radius, bins=32, normed=True, weights=1/radius, histtype='step');\n",
    "    plt.subplot(223)\n",
    "    plt.plot(np.arange(force.shape[0])*1./force.shape[0], force/force_count)\n",
    "    plt.subplot(224)\n",
    "    plt.hist2d(x[:,0,0], x[:,0,1], bins=32, normed=True)"
   ]
  },
  {
   "cell_type": "code",
   "execution_count": null,
   "metadata": {},
   "outputs": [],
   "source": [
    "%%time\n",
    "x0 = np.zeros((1,2))\n",
    "X0 = np.zeros(2)\n",
    "\n",
    "sims_0 = []\n",
    "for i in range(5):\n",
    "        sims_0.append(Sim(*brownian_wrapper.srk_with_tracer(x0, X0, 1, 0.002, 0.01, 100, 2000000, 5000, 1., 0.1, 0.5, 3., 0)))\n"
   ]
  },
  {
   "cell_type": "code",
   "execution_count": null,
   "metadata": {},
   "outputs": [],
   "source": [
    "for sim in sims_0[:5]:\n",
    "    box(sim)\n"
   ]
  },
  {
   "cell_type": "code",
   "execution_count": null,
   "metadata": {},
   "outputs": [],
   "source": [
    "force_m = []\n",
    "for x, X, force, force_count in sims_0[:5]:\n",
    "    force_m.append(force/force_count)\n",
    "force_m = np.array(force_m).mean(axis=0)"
   ]
  },
  {
   "cell_type": "code",
   "execution_count": null,
   "metadata": {},
   "outputs": [],
   "source": [
    "plt.plot(np.arange(force_m.shape[0])*1./force_m.shape[0], force_m)\n",
    "plt.xlabel(r'$|x|$')\n",
    "plt.ylabel(r'$f_r$')\n",
    ";"
   ]
  },
  {
   "cell_type": "code",
   "execution_count": null,
   "metadata": {},
   "outputs": [],
   "source": [
    "force_m = []\n",
    "for x, X, force, force_count in sims_0[5:]:\n",
    "    force_m.append(force/force_count)\n",
    "force_m = np.array(force_m).mean(axis=0)\n",
    "plt.plot(np.arange(force_m.shape[0])*1./force_m.shape[0], force_m)\n",
    "plt.xlabel(r'$|x|$')\n",
    "plt.ylabel(r'$f_r$')\n",
    ";"
   ]
  },
  {
   "cell_type": "code",
   "execution_count": null,
   "metadata": {
    "collapsed": true
   },
   "outputs": [],
   "source": []
  }
 ],
 "metadata": {
  "kernelspec": {
   "display_name": "Python 2",
   "language": "python",
   "name": "python2"
  },
  "language_info": {
   "codemirror_mode": {
    "name": "ipython",
    "version": 2
   },
   "file_extension": ".py",
   "mimetype": "text/x-python",
   "name": "python",
   "nbconvert_exporter": "python",
   "pygments_lexer": "ipython2",
   "version": "2.7.14+"
  }
 },
 "nbformat": 4,
 "nbformat_minor": 1
}
