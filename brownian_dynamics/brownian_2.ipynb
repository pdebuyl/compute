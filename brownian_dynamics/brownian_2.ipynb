{
 "cells": [
  {
   "cell_type": "code",
   "execution_count": null,
   "metadata": {
    "collapsed": true
   },
   "outputs": [],
   "source": [
    "%matplotlib inline\n",
    "import numpy as np\n",
    "import matplotlib.pyplot as plt\n",
    "from ipyparallel import Client\n",
    "from __future__ import division, print_function\n",
    "import brownian_wrapper\n",
    "from collections import namedtuple\n",
    "import time\n",
    "\n",
    "plt.rcParams['figure.figsize'] = (12, 8)\n",
    "plt.rcParams['figure.subplot.hspace'] = 0.3"
   ]
  },
  {
   "cell_type": "code",
   "execution_count": null,
   "metadata": {
    "collapsed": true
   },
   "outputs": [],
   "source": [
    "\n",
    "Sim = namedtuple('Sim', ['x', 'X', 'force', 'force_count'])\n",
    "\n",
    "def show_sims(sims):\n",
    "    for x, X, force, force_count in sims:\n",
    "        plt.figure(figsize=(7, 4.5))\n",
    "        plt.subplot(221)\n",
    "        plt.title('Probe P(x,y)')\n",
    "        plt.hist2d(X[:,0], X[:,1], bins=16)\n",
    "        radius = np.sqrt(np.sum(X**2, axis=1))\n",
    "        plt.subplot(222)\n",
    "        plt.title('Probe P(r)')\n",
    "        plt.hist(radius, bins=32, normed=True, weights=1/radius);\n",
    "        plt.subplot(223)\n",
    "        plt.title('Probe f')\n",
    "        plt.plot(np.arange(force.shape[0])*1./force.shape[0], force/force_count)\n",
    "        plt.subplot(224)\n",
    "        plt.title(r'Bath P(x,y)')\n",
    "        plt.hist2d(x[:,:,0].reshape((-1,)), x[:,:,1].reshape((-1,)), bins=32, normed=True);\n",
    "\n"
   ]
  },
  {
   "cell_type": "code",
   "execution_count": null,
   "metadata": {
    "collapsed": true
   },
   "outputs": [],
   "source": [
    "def get_sims(k):\n",
    "    import numpy as np\n",
    "    import sys\n",
    "    sys.path.append('/pierre/compute/brownian_dynamics')\n",
    "    import brownian_wrapper\n",
    "    list_of_sims = []\n",
    "    for N_bath in [8, 16, 32, 64]:\n",
    "        x0 = np.random.normal(scale=4, size=(N_bath, 2))\n",
    "        X0 = np.zeros(2)\n",
    "        list_of_sims.append(\n",
    "            brownian_wrapper.srk_with_tracer(x0, X0,\n",
    "                                                  1, 0.01, 0.01, 1000, 100000, 100,\n",
    "                                                  1., 0.1, k, 1., 100, 0, 2))\n",
    "    return list_of_sims\n"
   ]
  },
  {
   "cell_type": "code",
   "execution_count": null,
   "metadata": {
    "collapsed": false
   },
   "outputs": [],
   "source": [
    "c = Client()"
   ]
  },
  {
   "cell_type": "code",
   "execution_count": null,
   "metadata": {
    "collapsed": false
   },
   "outputs": [],
   "source": [
    "c.ids"
   ]
  },
  {
   "cell_type": "code",
   "execution_count": null,
   "metadata": {
    "collapsed": false
   },
   "outputs": [],
   "source": [
    "t0 = time.time()\n",
    "parallel_result = c[:].map_sync(get_sims, [0.5, 1., 2.])\n",
    "print(\"%6.1f seconds elapsed\" % (time.time() - t0))"
   ]
  },
  {
   "cell_type": "code",
   "execution_count": null,
   "metadata": {
    "collapsed": false
   },
   "outputs": [],
   "source": [
    "show_sims(parallel_result[0])"
   ]
  },
  {
   "cell_type": "code",
   "execution_count": null,
   "metadata": {
    "collapsed": false
   },
   "outputs": [],
   "source": [
    "show_sims(parallel_result[1])"
   ]
  },
  {
   "cell_type": "code",
   "execution_count": null,
   "metadata": {
    "collapsed": false
   },
   "outputs": [],
   "source": [
    "show_sims(parallel_result[2])"
   ]
  },
  {
   "cell_type": "code",
   "execution_count": null,
   "metadata": {
    "collapsed": false
   },
   "outputs": [],
   "source": [
    "time.time?"
   ]
  },
  {
   "cell_type": "code",
   "execution_count": null,
   "metadata": {
    "collapsed": true
   },
   "outputs": [],
   "source": [
    "x, X, force, force_count = parallel_result[0][0]"
   ]
  },
  {
   "cell_type": "code",
   "execution_count": null,
   "metadata": {
    "collapsed": false
   },
   "outputs": [],
   "source": [
    "force"
   ]
  },
  {
   "cell_type": "code",
   "execution_count": null,
   "metadata": {
    "collapsed": false
   },
   "outputs": [],
   "source": [
    "force_count"
   ]
  },
  {
   "cell_type": "code",
   "execution_count": null,
   "metadata": {
    "collapsed": true
   },
   "outputs": [],
   "source": [
    "N_bath = 16\n",
    "k = 0.5\n",
    "x0 = np.random.normal(scale=4, size=(N_bath, 2))\n",
    "X0 = np.zeros(2)\n",
    "single = brownian_wrapper.srk_with_tracer(x0, X0,\n",
    "                                          1, 0.01, 0.01, 1000, 50000, 100,\n",
    "                                          1., 0.1, k, 1., 100, 1., 2)\n"
   ]
  },
  {
   "cell_type": "code",
   "execution_count": null,
   "metadata": {
    "collapsed": false
   },
   "outputs": [],
   "source": [
    "show_sims([single])"
   ]
  },
  {
   "cell_type": "code",
   "execution_count": null,
   "metadata": {
    "collapsed": false
   },
   "outputs": [],
   "source": [
    "N_bath = 1\n",
    "k = 0.5\n",
    "x0 = np.random.normal(scale=4, size=(N_bath, 2))\n",
    "X0 = np.zeros(2)\n",
    "single = brownian_wrapper.srk_with_tracer(x0, X0,\n",
    "                                          1, 0.01, 0.01, 1000, 50000, 100,\n",
    "                                          1., 0.1, k, 1., 100, 0., 2)\n",
    "show_sims([single])"
   ]
  },
  {
   "cell_type": "code",
   "execution_count": null,
   "metadata": {
    "collapsed": false
   },
   "outputs": [],
   "source": [
    "N_bath = 1\n",
    "k = 0.5\n",
    "x0 = np.random.normal(scale=4, size=(N_bath, 2))\n",
    "X0 = np.zeros(2)\n",
    "single = brownian_wrapper.srk_with_tracer(x0, X0,\n",
    "                                          1, 0.01, 0.01, 1000, 50000, 100,\n",
    "                                          1., 0.1, k, 1., 100, 1., 2)\n",
    "show_sims([single])"
   ]
  },
  {
   "cell_type": "code",
   "execution_count": null,
   "metadata": {
    "collapsed": true
   },
   "outputs": [],
   "source": []
  }
 ],
 "metadata": {
  "kernelspec": {
   "display_name": "Python 2",
   "language": "python",
   "name": "python2"
  },
  "language_info": {
   "codemirror_mode": {
    "name": "ipython",
    "version": 2
   },
   "file_extension": ".py",
   "mimetype": "text/x-python",
   "name": "python",
   "nbconvert_exporter": "python",
   "pygments_lexer": "ipython2",
   "version": "2.7.6"
  }
 },
 "nbformat": 4,
 "nbformat_minor": 0
}
