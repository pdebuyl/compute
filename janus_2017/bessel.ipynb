{
 "cells": [
  {
   "cell_type": "markdown",
   "metadata": {},
   "source": [
    "## Solution to the reaction-diffusion profile around a Janus particle\n",
    "\n",
    "In this notebook, I compute the solution of the reaction-diffusion\n",
    "\n",
    "$$(\\nabla^2-\\kappa^2) f = 0$$\n",
    "\n",
    "with a reactive boundary condition on a sphere centered at the origin\n",
    "of the coordinate system, with azimuthal symmetry.\n",
    "\n",
    "In general, one can write these solutions as\n",
    "\n",
    "$$c = \\sum_{l=0}^\\infty a_l \\frac{\\sqrt{\\kappa r_0}}{K_{l+1/2}(\\kappa r_0)} \\frac{K_{l+1/2}(\\kappa r)}{\\sqrt{\\kappa r}} P_l(\\cos\\theta)$$\n",
    "\n",
    "Here, the problem is specified by having only the top half of the sphere catalytic.\n",
    "\n",
    "The $K_{l+1/2}$ are the modified Bessel function or half-integer order."
   ]
  },
  {
   "cell_type": "code",
   "execution_count": null,
   "metadata": {},
   "outputs": [],
   "source": [
    "%matplotlib inline\n",
    "import matplotlib.pyplot as plt\n",
    "import numpy as np\n",
    "from scipy import special\n",
    "from scipy import integrate\n",
    "import itertools\n",
    "\n",
    "π = np.pi"
   ]
  },
  {
   "cell_type": "markdown",
   "metadata": {},
   "source": [
    "### Getting the Legendre polynomials"
   ]
  },
  {
   "cell_type": "code",
   "execution_count": null,
   "metadata": {},
   "outputs": [],
   "source": [
    "# Define a range of \n",
    "mu_r = np.linspace(-1, 1, 101)"
   ]
  },
  {
   "cell_type": "code",
   "execution_count": null,
   "metadata": {},
   "outputs": [],
   "source": [
    "[plt.plot(mu_r, special.legendre(i)(mu_r), label=r'$P_%i(\\mu)$' % i) for i in range(6)];\n",
    "plt.xlabel(r'$\\mu$')\n",
    "plt.ylabel(r'$P_l(\\mu)$')\n",
    "plt.legend()"
   ]
  },
  {
   "cell_type": "markdown",
   "metadata": {},
   "source": [
    "### Getting the Bessel function"
   ]
  },
  {
   "cell_type": "code",
   "execution_count": null,
   "metadata": {},
   "outputs": [],
   "source": [
    "r_range = np.linspace(1, 8, 101)\n",
    "\n",
    "[plt.plot(r_range, special.kv(i+0.5, r_range)/np.sqrt(r_range)/special.kv(i+0.5, r_range[0]), label=r'$K_{'+str(i)+r'+1/2}(r)$') for i in [0, 1, 2, 3]]\n",
    "\n",
    "plt.xlabel(r'$r$')\n",
    "plt.ylabel(r'$\\frac{K_{l+1/2}(r)}{\\sqrt{r}}$')\n",
    "plt.legend()"
   ]
  },
  {
   "cell_type": "markdown",
   "metadata": {},
   "source": [
    "## Definition of the problem\n",
    "\n",
    "Having written the solution as\n",
    "\n",
    "$$\\sum_l M_{jl} a_l = b_j$$\n",
    "\n",
    "We must compute $M_{jl}$ and $b_j$\n",
    "\n",
    "$$m_jl = \\frac{k_0}{k_D}  \\int_0^1 d\\mu\\ P_l(\\mu) P_j(\\mu) + r_0 \\kappa \\left[ \\frac{K_{l+3/2}(\\kappa r_0)}{K_{l+1/2}(\\kappa r_0)} -\\frac{l}{\\kappa r_0}\\right] \\frac{2}{2l+1}\\delta_{l,j}$$\n"
   ]
  },
  {
   "cell_type": "markdown",
   "metadata": {},
   "source": [
    "### Compute integrals of Legendre polynomials\n",
    "\n",
    "Here, we compute $\\int_0^1 P_l(\\mu) P_j(\\mu) d\\mu$ and $\\int_0^1 P_j(\\mu) d\\mu$"
   ]
  },
  {
   "cell_type": "code",
   "execution_count": null,
   "metadata": {},
   "outputs": [],
   "source": [
    "def legendre_int_lj(l, j):\n",
    "    Pl = special.legendre(l)\n",
    "    Pj = special.legendre(j)\n",
    "    sol, err = integrate.quad(lambda mu: Pl(mu)*Pj(mu), 0, 1)\n",
    "    return sol\n",
    "\n",
    "def legendre_int_j(j):\n",
    "    Pj = special.legendre(j)\n",
    "    sol, err = integrate.quad(lambda mu: Pj(mu), 0, 1)\n",
    "    return sol"
   ]
  },
  {
   "cell_type": "markdown",
   "metadata": {},
   "source": [
    "### Compute the Bessel term\n",
    "\n",
    "$$\\frac{K_{l+3/2}(\\kappa r_0)}{K_{l+1/2}(\\kappa r_0)}$$"
   ]
  },
  {
   "cell_type": "code",
   "execution_count": null,
   "metadata": {},
   "outputs": [],
   "source": [
    "def bessel_term(l, kr0):\n",
    "    return special.kv(l+1.5, kr0)/special.kv(l+0.5,kr0)"
   ]
  },
  {
   "cell_type": "markdown",
   "metadata": {},
   "source": [
    "### Build the left-hand side matrix"
   ]
  },
  {
   "cell_type": "code",
   "execution_count": null,
   "metadata": {},
   "outputs": [],
   "source": [
    "Ncut = 40\n",
    "\n",
    "M = np.zeros((Ncut, Ncut))\n",
    "delta = np.eye(Ncut)\n",
    "\n",
    "T = 1\n",
    "m = 1\n",
    "p = 1\n",
    "R = 3.5\n",
    "D = 1.17\n",
    "kD = 4*π*R*D\n",
    "k0 = p*R**2*np.sqrt(8*π*T/m)\n",
    "k2 = 0.02\n",
    "κ = np.sqrt(k2/D)\n",
    "r0 = R\n",
    "\n",
    "for i, j in itertools.product(range(Ncut), range(Ncut)):\n",
    "    T1 = k0/kD * legendre_int_lj(i, j)\n",
    "    T2 = (r0*κ*bessel_term(j, κ*r0) - j)*2/(2*j+1)*delta[i,j]\n",
    "    M[i,j] = T1+T2\n",
    "    "
   ]
  },
  {
   "cell_type": "markdown",
   "metadata": {},
   "source": [
    "### Build the right-hand side vector"
   ]
  },
  {
   "cell_type": "code",
   "execution_count": null,
   "metadata": {},
   "outputs": [],
   "source": [
    "b = k0/kD * np.array([legendre_int_j(j) for j in range(Ncut)])"
   ]
  },
  {
   "cell_type": "markdown",
   "metadata": {},
   "source": [
    "### Solve"
   ]
  },
  {
   "cell_type": "code",
   "execution_count": null,
   "metadata": {},
   "outputs": [],
   "source": [
    "a = np.linalg.solve(M, b)"
   ]
  },
  {
   "cell_type": "code",
   "execution_count": null,
   "metadata": {},
   "outputs": [],
   "source": [
    "# Verification\n",
    "\n",
    "assert np.allclose(np.dot(M, a), b)"
   ]
  },
  {
   "cell_type": "markdown",
   "metadata": {},
   "source": [
    "### Define the solution $c(r, \\mu)$"
   ]
  },
  {
   "cell_type": "code",
   "execution_count": null,
   "metadata": {},
   "outputs": [],
   "source": [
    "def c(r, mu):\n",
    "    res = 0\n",
    "    for i in range(Ncut):\n",
    "        res += a[i]*special.legendre(i)(mu)*special.kv(i+0.5, κ*r)/np.sqrt(κ*r)/(special.kv(i+0.5, κ*R)/np.sqrt(κ*R))\n",
    "    return res"
   ]
  },
  {
   "cell_type": "code",
   "execution_count": null,
   "metadata": {},
   "outputs": [],
   "source": [
    "# Compute the solution on a grid\n",
    "\n",
    "MU = np.linspace(-1, 1, 64)\n",
    "RR = np.linspace(R, 6.9*R/2.9, 64)\n",
    "\n",
    "data = [[c(r, mu) for r in RR] for mu in MU]\n",
    "data = np.array(data)\n",
    "\n",
    "# Convert to cartesian coordinates for display\n",
    "X = RR.reshape((1,-1)) * np.sqrt(1-MU**2).reshape((-1, 1))\n",
    "Z = RR.reshape((1,-1)) * MU.reshape((-1, 1))\n"
   ]
  },
  {
   "cell_type": "code",
   "execution_count": null,
   "metadata": {},
   "outputs": [],
   "source": [
    "plt.figure(figsize=(8,10))\n",
    "plt.subplot(111, aspect=1)\n",
    "plt.pcolormesh(X, Z, data)\n",
    "plt.colorbar()\n",
    "plt.contour(X, Z, data, colors='k')"
   ]
  },
  {
   "cell_type": "code",
   "execution_count": null,
   "metadata": {},
   "outputs": [],
   "source": []
  },
  {
   "cell_type": "code",
   "execution_count": null,
   "metadata": {},
   "outputs": [],
   "source": []
  }
 ],
 "metadata": {
  "kernelspec": {
   "display_name": "Python 3",
   "language": "python",
   "name": "python3"
  },
  "language_info": {
   "codemirror_mode": {
    "name": "ipython",
    "version": 3
   },
   "file_extension": ".py",
   "mimetype": "text/x-python",
   "name": "python",
   "nbconvert_exporter": "python",
   "pygments_lexer": "ipython3",
   "version": "3.5.2+"
  }
 },
 "nbformat": 4,
 "nbformat_minor": 2
}
