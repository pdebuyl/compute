{
 "cells": [
  {
   "cell_type": "markdown",
   "metadata": {},
   "source": [
    "## Solution to the reaction-diffusion profile around a Janus particle\n",
    "\n",
    "In this notebook, I compute the solution of the reaction-diffusion\n",
    "\n",
    "$$(\\nabla^2-\\kappa^2) f = 0$$\n",
    "\n",
    "with a reactive boundary condition on a sphere centered at the origin\n",
    "of the coordinate system, with azimuthal symmetry.\n",
    "\n",
    "In general, one can write these solutions as\n",
    "\n",
    "$$c = \\sum_{l=0}^\\infty a_l \\frac{\\sqrt{\\kappa r_0}}{K_{l+1/2}(\\kappa r_0)} \\frac{K_{l+1/2}(\\kappa r)}{\\sqrt{\\kappa r}} P_l(\\cos\\theta)$$\n",
    "\n",
    "Here, the problem is specified by having only the top half of the sphere catalytic.\n",
    "\n",
    "The $K_{l+1/2}$ are the modified Bessel function or half-integer order."
   ]
  },
  {
   "cell_type": "code",
   "execution_count": null,
   "metadata": {},
   "outputs": [],
   "source": [
    "%matplotlib notebook\n",
    "import matplotlib.pyplot as plt\n",
    "import numpy as np\n",
    "from scipy import special\n",
    "from scipy import integrate\n",
    "import itertools\n",
    "from glob import glob\n",
    "\n",
    "π = np.pi\n",
    "\n",
    "plt.rcParams['figure.figsize'] = (8*.7, 6*.7)\n",
    "plt.rcParams['figure.subplot.hspace'] = .25\n",
    "plt.rcParams['figure.subplot.wspace'] = .3\n",
    "plt.rcParams['figure.subplot.left'] = .24\n",
    "plt.rcParams['figure.subplot.bottom'] = .15\n",
    "plt.rcParams['figure.subplot.top'] = 0.95\n",
    "plt.rcParams['figure.subplot.right'] = 0.95\n",
    "\n",
    "plt.rcParams['font.size'] = 16\n"
   ]
  },
  {
   "cell_type": "markdown",
   "metadata": {},
   "source": [
    "### Getting the Legendre polynomials"
   ]
  },
  {
   "cell_type": "code",
   "execution_count": null,
   "metadata": {},
   "outputs": [],
   "source": [
    "# Define a range of \n",
    "mu_r = np.linspace(-1, 1, 101)"
   ]
  },
  {
   "cell_type": "code",
   "execution_count": null,
   "metadata": {},
   "outputs": [],
   "source": [
    "[plt.plot(mu_r, special.legendre(i)(mu_r), label=r'$P_%i(\\mu)$' % i) for i in range(5)];\n",
    "plt.xlabel(r'$\\mu$')\n",
    "plt.ylabel(r'$P_l(\\mu)$')\n",
    "plt.legend()"
   ]
  },
  {
   "cell_type": "markdown",
   "metadata": {},
   "source": [
    "### Getting the Bessel function"
   ]
  },
  {
   "cell_type": "code",
   "execution_count": null,
   "metadata": {},
   "outputs": [],
   "source": [
    "r_range = np.linspace(1, 8, 101)\n",
    "\n",
    "[plt.plot(r_range, special.kv(i+0.5, r_range)/np.sqrt(r_range)/special.kv(i+0.5, r_range[0]), label=r'$K_{'+str(i)+r'+1/2}(r)$') for i in [0, 1, 2, 3]]\n",
    "\n",
    "plt.xlabel(r'$r$')\n",
    "plt.ylabel(r'$\\frac{K_{l+1/2}(r)}{\\sqrt{r}}$')\n",
    "plt.legend()"
   ]
  },
  {
   "cell_type": "markdown",
   "metadata": {},
   "source": [
    "## Definition of the problem\n",
    "\n",
    "Having written the solution as\n",
    "\n",
    "$$\\sum_l M_{jl} a_l = b_j$$\n",
    "\n",
    "We must compute $M_{jl}$ and $b_j$\n",
    "\n",
    "$$m_jl = \\frac{k_0}{k_D}  \\int_0^1 d\\mu\\ P_l(\\mu) P_j(\\mu) + r_0 \\kappa \\left[ \\frac{K_{l+3/2}(\\kappa r_0)}{K_{l+1/2}(\\kappa r_0)} -\\frac{l}{\\kappa r_0}\\right] \\frac{2}{2l+1}\\delta_{l,j}$$\n"
   ]
  },
  {
   "cell_type": "markdown",
   "metadata": {},
   "source": [
    "### Compute integrals of Legendre polynomials\n",
    "\n",
    "Here, we compute $\\int_0^1 P_l(\\mu) P_j(\\mu) d\\mu$ and $\\int_0^1 P_j(\\mu) d\\mu$"
   ]
  },
  {
   "cell_type": "code",
   "execution_count": null,
   "metadata": {},
   "outputs": [],
   "source": [
    "def legendre_int_lj(l, j):\n",
    "    Pl = special.legendre(l)\n",
    "    Pj = special.legendre(j)\n",
    "    sol, err = integrate.quad(lambda mu: Pl(mu)*Pj(mu), 0, 1)\n",
    "    return sol\n",
    "\n",
    "def legendre_int_j(j):\n",
    "    Pj = special.legendre(j)\n",
    "    sol, err = integrate.quad(lambda mu: Pj(mu), 0, 1)\n",
    "    return sol"
   ]
  },
  {
   "cell_type": "markdown",
   "metadata": {},
   "source": [
    "### Compute the Bessel term\n",
    "\n",
    "$$\\frac{K_{l+3/2}(\\kappa r_0)}{K_{l+1/2}(\\kappa r_0)}$$"
   ]
  },
  {
   "cell_type": "code",
   "execution_count": null,
   "metadata": {},
   "outputs": [],
   "source": [
    "def bessel_term(l, kr0):\n",
    "    return special.kv(l+1.5, kr0)/special.kv(l+0.5,kr0)"
   ]
  },
  {
   "cell_type": "markdown",
   "metadata": {},
   "source": [
    "### Build the left-hand side matrix"
   ]
  },
  {
   "cell_type": "code",
   "execution_count": null,
   "metadata": {},
   "outputs": [],
   "source": [
    "Ncut = 40\n",
    "\n",
    "M = np.zeros((Ncut, Ncut))\n",
    "delta = np.eye(Ncut)\n",
    "\n",
    "c0 = 10\n",
    "T = 1\n",
    "m = 1\n",
    "p = 1\n",
    "R = 3.5\n",
    "D = 1.17\n",
    "kD = 4*π*R*D\n",
    "k0 = p*R**2*np.sqrt(8*π*T/m)\n",
    "k2 = 0.02\n",
    "κ = np.sqrt(k2/D)\n",
    "layer = np.sqrt(3)/2\n",
    "layer = 0.5\n",
    "r0 = R+layer\n",
    "\n",
    "for i, j in itertools.product(range(Ncut), range(Ncut)):\n",
    "    T1 = k0/kD * legendre_int_lj(i, j)\n",
    "    T2 = (r0*κ*bessel_term(j, κ*r0) - j)*2/(2*j+1)*delta[i,j]\n",
    "    M[i,j] = T1+T2\n"
   ]
  },
  {
   "cell_type": "markdown",
   "metadata": {},
   "source": [
    "### Build the right-hand side vector"
   ]
  },
  {
   "cell_type": "code",
   "execution_count": null,
   "metadata": {},
   "outputs": [],
   "source": [
    "b = k0/kD * np.array([legendre_int_j(j) for j in range(Ncut)])"
   ]
  },
  {
   "cell_type": "markdown",
   "metadata": {},
   "source": [
    "### Solve"
   ]
  },
  {
   "cell_type": "code",
   "execution_count": null,
   "metadata": {},
   "outputs": [],
   "source": [
    "a = np.linalg.solve(M, b)"
   ]
  },
  {
   "cell_type": "code",
   "execution_count": null,
   "metadata": {},
   "outputs": [],
   "source": [
    "# Verification\n",
    "\n",
    "assert np.allclose(np.dot(M, a), b)"
   ]
  },
  {
   "cell_type": "markdown",
   "metadata": {},
   "source": [
    "### Define the solution $c(r, \\mu)$"
   ]
  },
  {
   "cell_type": "code",
   "execution_count": null,
   "metadata": {},
   "outputs": [],
   "source": [
    "def c(r, mu):\n",
    "    res = 0\n",
    "    for i in range(Ncut):\n",
    "        res += a[i]*special.legendre(i)(mu)*special.kv(i+0.5, κ*r)/np.sqrt(κ*r)/(special.kv(i+0.5, κ*r0)/np.sqrt(κ*r0))\n",
    "    return res"
   ]
  },
  {
   "cell_type": "code",
   "execution_count": null,
   "metadata": {},
   "outputs": [],
   "source": [
    "# Compute the solution on a grid\n",
    "\n",
    "MU = np.linspace(-1, 1, 64)\n",
    "RR = np.linspace(R, 7, 64)\n",
    "\n",
    "data = [[c(r, mu) for r in RR] for mu in MU]\n",
    "data = c0*np.array(data)\n",
    "\n",
    "# Convert to cartesian coordinates for display\n",
    "X = RR.reshape((1,-1)) * np.sqrt(1-MU**2).reshape((-1, 1))\n",
    "Z = RR.reshape((1,-1)) * MU.reshape((-1, 1))\n"
   ]
  },
  {
   "cell_type": "code",
   "execution_count": null,
   "metadata": {},
   "outputs": [],
   "source": [
    "tmp_th = np.linspace(0, np.pi, 101)\n",
    "\n",
    "fig = plt.figure(figsize=(9, 7))\n",
    "plt.subplot(121, aspect=1)\n",
    "\n",
    "masked_data = np.ma.array(data, mask=(X**2+Z**2) < r0**2)\n",
    "cm = plt.pcolormesh(X, Z, masked_data, rasterized=True, vmin=0, vmax=6)\n",
    "\n",
    "plt.contour(X, Z, masked_data, [1, 2, 3], colors='k')\n",
    "plt.plot(R*np.sin(tmp_th), R*np.cos(tmp_th), 'k', lw=3)\n",
    "plt.plot(r0*np.sin(tmp_th), r0*np.cos(tmp_th), 'k', lw=3)\n",
    "\n",
    "plt.subplot(122, aspect=1)\n",
    "\n",
    "plt.pcolormesh(simu_X, simu_Z, simu_c[:,:,1], cmap=plt.cm.viridis, rasterized=True, vmin=0, vmax=6)\n",
    "plt.contour(simu_X[:-1,:-1], simu_Z[:-1,:-1], simu_c[:,:,1], [1, 2, 3], colors='k')\n",
    "\n",
    "plt.plot(R*np.sin(tmp_th), R*np.cos(tmp_th), 'w', lw=3)\n",
    "plt.plot(r0*np.sin(tmp_th), r0*np.cos(tmp_th), 'w', lw=3)\n",
    "\n",
    "if False:\n",
    "    plt.subplot(133, aspect=1)\n",
    "    plt.pcolormesh(X, Z, data_cb, rasterized=True, vmin=0, vmax=6)\n",
    "\n",
    "    plt.contour(X, Z, data_cb, [1, 2, 3], colors='k')\n",
    "    plt.plot(R*np.sin(tmp_th), R*np.cos(tmp_th), 'k', lw=3)\n",
    "\n",
    "fig.subplots_adjust(right=0.8)\n",
    "cbar_ax = fig.add_axes([0.85, 0.15, 0.05, 0.7])\n",
    "fig.colorbar(cm, cax=cbar_ax)\n",
    "\n",
    "plt.savefig('janus_concentration_field_EPSB1000_20180131.pdf')"
   ]
  },
  {
   "cell_type": "code",
   "execution_count": null,
   "metadata": {},
   "outputs": [],
   "source": []
  },
  {
   "cell_type": "code",
   "execution_count": null,
   "metadata": {},
   "outputs": [],
   "source": [
    "import h5py\n",
    "\n",
    "for fname in glob('20180112*.h5'):\n",
    "    simu_c_data = []\n",
    "    with h5py.File(fname, 'r') as f:\n",
    "        simu_c = f['fields/polar_concentration']\n",
    "        simu_v = f['fields/polar_velocity']\n",
    "        simu_r_min = simu_c.attrs['r_min'][()]\n",
    "        simu_r_max = simu_c.attrs['r_max'][()]\n",
    "        simu_dr = simu_c.attrs['dr'][()]\n",
    "        simu_dtheta = simu_c.attrs['dtheta'][()]\n",
    "\n",
    "        simu_c = simu_c[:]\n",
    "        simu_v = simu_v[:]\n",
    "\n",
    "        simu_N_r, simu_N_theta = simu_c.shape[:2]\n",
    "\n",
    "        # r and th must overshoot c.shape by one for pcolormesh\n",
    "        simu_r = simu_r_min + np.arange(simu_N_r+1)*simu_dr\n",
    "        simu_r = simu_r.reshape((-1,1))\n",
    "        simu_th = (np.arange(simu_N_theta+1)+0.5)*simu_dtheta\n",
    "        simu_th = simu_th.reshape((1,-1))\n",
    "\n",
    "        simu_c[:,:,0] /= (2*np.pi*simu_r**2*np.sin(simu_th)*simu_dr*simu_dtheta)[:-1,:-1]\n",
    "        simu_c[:,:,1] /= (2*np.pi*simu_r**2*np.sin(simu_th)*simu_dr*simu_dtheta)[:-1,:-1]\n",
    "\n",
    "        simu_X = simu_r*np.sin(simu_th)\n",
    "        simu_Z = simu_r*np.cos(simu_th)\n",
    "        simu_c_data.append(simu_c)\n",
    "simu_c = np.mean(np.array(simu_c_data), axis=0)"
   ]
  },
  {
   "cell_type": "code",
   "execution_count": null,
   "metadata": {},
   "outputs": [],
   "source": [
    "\n",
    "plt.plot((simu_r[1:,0]+simu_r[:-1,0])/2, np.mean(simu_c[:,:,0], axis=1)+np.mean(simu_c[:,:,1], axis=1))\n",
    "\n",
    "R_hydro = 3.2\n",
    "\n",
    "plt.xlabel(r'$r$')\n",
    "plt.ylabel(r'$c_A(r)$')\n",
    "plt.xlim(1.5, 6)\n",
    "\n",
    "plt.axvline(R_hydro, c='orange', ls='--')\n",
    "plt.annotate(r'$R_\\mathrm{hydro}$', xy=(R_hydro, 2-0.2), xytext=(r0+0.4, 3.1), arrowprops=dict(facecolor='black', shrink=0.05),\n",
    ")\n",
    "plt.axvline(R, c='orange', ls='--')\n",
    "plt.annotate(r'$R_\\mathrm{cut}$', xy=(R, 3.5), xytext=(r0+0.4, 4.5), arrowprops=dict(facecolor='black', shrink=0.05),\n",
    ")\n",
    "\n",
    "plt.axvline(r0, c='orange', ls='--')\n",
    "plt.annotate(r'$R_\\mathrm{cut} + 1/2$', xy=(r0, 5), xytext=(r0+0.4, 6), arrowprops=dict(facecolor='black', shrink=0.05),\n",
    ")\n",
    "\n",
    "plt.savefig('janus_eq_radial_c.pdf')"
   ]
  },
  {
   "cell_type": "code",
   "execution_count": null,
   "metadata": {},
   "outputs": [],
   "source": []
  },
  {
   "cell_type": "code",
   "execution_count": null,
   "metadata": {},
   "outputs": [],
   "source": [
    "rr = np.linspace(R, 2*R, 100)\n",
    "rr_mid = 0.5*(rr[1:]+rr[:-1])\n",
    "\n",
    "plt.plot(rr, c(rr, 1))\n",
    "plt.plot(rr, k0/(k0+kD)*R/rr)\n",
    "plt.plot(rr_mid, np.diff(c(rr, 1))/(rr[1]-rr[0]))\n",
    "plt.plot(rr, -k0/(k0+kD) * R/rr**2)"
   ]
  },
  {
   "cell_type": "code",
   "execution_count": null,
   "metadata": {},
   "outputs": [],
   "source": []
  },
  {
   "cell_type": "code",
   "execution_count": null,
   "metadata": {},
   "outputs": [],
   "source": [
    "r_range = np.linspace(0, 3, 101)\n",
    "\n",
    "[plt.plot(r_range, special.kv(i+0.5, r_range), label=r'$K_{'+str(i)+r'+1/2}(r)$') for i in [0, 1]]\n",
    "\n",
    "plt.xlabel(r'$r$')\n",
    "plt.ylabel(r'$\\frac{K_{l+1/2}(r)}{\\sqrt{r}}$')\n",
    "plt.legend()\n",
    "plt.ylim(0, 2)"
   ]
  },
  {
   "cell_type": "code",
   "execution_count": null,
   "metadata": {},
   "outputs": [],
   "source": [
    "special.kv(1.5, 1)"
   ]
  },
  {
   "cell_type": "code",
   "execution_count": null,
   "metadata": {},
   "outputs": [],
   "source": [
    "hop = integrate.quad(lambda mu: c(R, mu), -1, 1)\n",
    "\n",
    "print(c0*hop[0]*k0)"
   ]
  },
  {
   "cell_type": "code",
   "execution_count": null,
   "metadata": {},
   "outputs": [],
   "source": [
    "print(c0*hop[0]*k0*2*π*R**2/(4*π*R**2))"
   ]
  },
  {
   "cell_type": "code",
   "execution_count": null,
   "metadata": {},
   "outputs": [],
   "source": [
    "print(c0*hop[0]*k0/2)"
   ]
  },
  {
   "cell_type": "code",
   "execution_count": null,
   "metadata": {},
   "outputs": [],
   "source": [
    "210/132"
   ]
  },
  {
   "cell_type": "code",
   "execution_count": null,
   "metadata": {},
   "outputs": [],
   "source": [
    "π/2, R/2"
   ]
  },
  {
   "cell_type": "code",
   "execution_count": null,
   "metadata": {},
   "outputs": [],
   "source": [
    "fig = plt.figure(figsize=(9, 7))\n",
    "plt.subplot(121, aspect=1)\n",
    "plt.pcolormesh(simu_X, simu_Z, simu_c[:,:,0], cmap=plt.cm.viridis, rasterized=True, vmin=0, vmax=10)\n",
    "\n",
    "#plt.contour(simu_X[:-1,:-1], simu_Z[:-1,:-1], simu_c[:,:,1], [1, 2, 3], colors='k')\n",
    "\n",
    "plt.plot(R*np.sin(tmp_th), R*np.cos(tmp_th), 'w', lw=3)\n",
    "\n",
    "plt.colorbar()"
   ]
  },
  {
   "cell_type": "code",
   "execution_count": null,
   "metadata": {},
   "outputs": [],
   "source": [
    "simu_c[:,:,0].max()"
   ]
  },
  {
   "cell_type": "code",
   "execution_count": null,
   "metadata": {},
   "outputs": [],
   "source": [
    "mu_r.shape"
   ]
  },
  {
   "cell_type": "code",
   "execution_count": null,
   "metadata": {},
   "outputs": [],
   "source": [
    "[integrate.quad(lambda mu: special.legendre(i)(mu)*special.legendre(i)(mu), -1, 1)[0] for i in range(5)]"
   ]
  },
  {
   "cell_type": "code",
   "execution_count": null,
   "metadata": {},
   "outputs": [],
   "source": [
    "[2/(2*i+1) for i in range(5)]"
   ]
  },
  {
   "cell_type": "code",
   "execution_count": null,
   "metadata": {},
   "outputs": [],
   "source": [
    "mu_r = np.linspace(-1, 1, 1001)\n",
    "N_h = 50\n",
    "heavi_al = np.array([integrate.quad(special.legendre(i), 0, 1)[0] for i in range(N_h)])\n",
    "heavi_al /= (2/(2*np.arange(N_h)+1))\n",
    "\n",
    "hop = heavi_al[:,None] * np.array([special.legendre(i)(mu_r) for i in range(N_h)])"
   ]
  },
  {
   "cell_type": "code",
   "execution_count": null,
   "metadata": {},
   "outputs": [],
   "source": [
    "plt.plot(mu_r, np.sum(hop, axis=0))\n",
    "plt.plot(mu_r, np.heaviside(mu_r, 0.5))"
   ]
  },
  {
   "cell_type": "code",
   "execution_count": null,
   "metadata": {},
   "outputs": [],
   "source": []
  },
  {
   "cell_type": "code",
   "execution_count": null,
   "metadata": {},
   "outputs": [],
   "source": [
    "def get_cb():\n",
    "\n",
    "    Ncut = 40\n",
    "\n",
    "    M = np.zeros((Ncut, Ncut))\n",
    "    delta = np.eye(Ncut)\n",
    "\n",
    "    c0 = 10\n",
    "    T = 1\n",
    "    m = 1\n",
    "    p = 1\n",
    "    R = 3.2\n",
    "    D = 1.17\n",
    "    kD = 4*π*R*D\n",
    "    k0 = p*R**2*np.sqrt(8*π*T/m)\n",
    "    k2 = 0.01\n",
    "    κ = np.sqrt(k2/D)\n",
    "    r0 = R\n",
    "\n",
    "    for i, j in itertools.product(range(Ncut), range(Ncut)):\n",
    "        T1 = k0/kD * legendre_int_lj(i, j)\n",
    "        T2 = 2*(j+1)/R/(2*j+1)*delta[i,j]\n",
    "        M[i,j] = T1+T2\n",
    "\n",
    "    a = np.linalg.solve(M, b)\n",
    "    \n",
    "    def cb(r, mu):\n",
    "        res = 0\n",
    "        for i in range(Ncut):\n",
    "            res += a[i]*special.legendre(i)(mu)*(R/r)**(i+1)\n",
    "        return res\n",
    "    return cb\n"
   ]
  },
  {
   "cell_type": "code",
   "execution_count": null,
   "metadata": {},
   "outputs": [],
   "source": [
    "cb = get_cb()"
   ]
  },
  {
   "cell_type": "code",
   "execution_count": null,
   "metadata": {},
   "outputs": [],
   "source": []
  },
  {
   "cell_type": "code",
   "execution_count": null,
   "metadata": {},
   "outputs": [],
   "source": [
    "data_cb = c0*np.array([[cb(r, mu) for r in RR] for mu in MU])\n"
   ]
  },
  {
   "cell_type": "code",
   "execution_count": null,
   "metadata": {},
   "outputs": [],
   "source": [
    "tmp_th = np.linspace(0, np.pi, 101)\n",
    "\n",
    "fig = plt.figure(figsize=(9, 7))\n",
    "plt.subplot(121, aspect=1)\n",
    "cm = plt.pcolormesh(X, Z, data, rasterized=True, vmin=0, vmax=6)\n",
    "\n",
    "plt.contour(X, Z, data, [1, 2, 3], colors='k')\n",
    "plt.plot(R*np.sin(tmp_th), R*np.cos(tmp_th), 'k', lw=3)\n",
    "\n",
    "plt.subplot(122, aspect=1)\n",
    "\n",
    "plt.pcolormesh(simu_X, simu_Z, simu_c[:,:,1], cmap=plt.cm.viridis, rasterized=True, vmin=0, vmax=6)\n",
    "plt.contour(simu_X[:-1,:-1], simu_Z[:-1,:-1], simu_c[:,:,1], [1, 2, 3], colors='k')\n",
    "\n",
    "plt.plot(R*np.sin(tmp_th), R*np.cos(tmp_th), 'w', lw=3)\n",
    "\n",
    "fig.subplots_adjust(right=0.8)\n",
    "cbar_ax = fig.add_axes([0.85, 0.15, 0.05, 0.7])\n",
    "fig.colorbar(cm, cax=cbar_ax)\n",
    "\n"
   ]
  },
  {
   "cell_type": "code",
   "execution_count": null,
   "metadata": {},
   "outputs": [],
   "source": []
  }
 ],
 "metadata": {
  "kernelspec": {
   "display_name": "Python 3",
   "language": "python",
   "name": "python3"
  },
  "language_info": {
   "codemirror_mode": {
    "name": "ipython",
    "version": 3
   },
   "file_extension": ".py",
   "mimetype": "text/x-python",
   "name": "python",
   "nbconvert_exporter": "python",
   "pygments_lexer": "ipython3",
   "version": "3.6.4"
  }
 },
 "nbformat": 4,
 "nbformat_minor": 2
}
