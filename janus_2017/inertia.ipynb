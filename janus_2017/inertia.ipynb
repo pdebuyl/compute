{
 "cells": [
  {
   "cell_type": "code",
   "execution_count": null,
   "metadata": {
    "collapsed": false
   },
   "outputs": [],
   "source": [
    "%pylab inline\n",
    "from transforms3d.quaternions import qconjugate, qmult, qnorm\n",
    "import matplotlib.pyplot as plt\n",
    "from mpl_toolkits.mplot3d import Axes3D\n"
   ]
  },
  {
   "cell_type": "code",
   "execution_count": null,
   "metadata": {
    "collapsed": true
   },
   "outputs": [],
   "source": [
    "def inertia_tensor(r):\n",
    "    r = np.asarray(r)\n",
    "    res = np.zeros((3,3))\n",
    "    for i in range(r.shape[0]):\n",
    "        res += np.eye(3)*np.sum(r[i]**2)\n",
    "        res -= np.outer(r[i], r[i])\n",
    "\n",
    "    return res\n"
   ]
  },
  {
   "cell_type": "code",
   "execution_count": null,
   "metadata": {
    "collapsed": false
   },
   "outputs": [],
   "source": [
    "r = np.random.normal(size=(7, 3))\n",
    "r -= r.mean(axis=0)"
   ]
  },
  {
   "cell_type": "code",
   "execution_count": null,
   "metadata": {
    "collapsed": false
   },
   "outputs": [],
   "source": [
    "print(inertia_tensor(r))"
   ]
  },
  {
   "cell_type": "code",
   "execution_count": null,
   "metadata": {
    "collapsed": false
   },
   "outputs": [],
   "source": [
    "# Align z\n",
    "I = inertia_tensor(r)\n",
    "e_val, e_vec = np.linalg.eig(I)\n",
    "e_z = e_vec[:,0]\n",
    "one_z = array((0,0,1))\n",
    "vec = cross(e_z, one_z)\n",
    "vec = vec/np.sqrt(np.dot(vec, vec))\n",
    "theta = arccos(np.dot(e_z, one_z))\n",
    "q = np.array([np.cos(theta/2), *np.sin(theta/2)*vec])\n"
   ]
  },
  {
   "cell_type": "code",
   "execution_count": null,
   "metadata": {
    "collapsed": false
   },
   "outputs": [],
   "source": [
    "for i in range(r.shape[0]):\n",
    "    r[i] = quaternions.rotate_vector(r[i], q)"
   ]
  },
  {
   "cell_type": "code",
   "execution_count": null,
   "metadata": {
    "collapsed": false
   },
   "outputs": [],
   "source": [
    "inertia_tensor(r)"
   ]
  },
  {
   "cell_type": "code",
   "execution_count": null,
   "metadata": {
    "collapsed": false
   },
   "outputs": [],
   "source": []
  },
  {
   "cell_type": "code",
   "execution_count": null,
   "metadata": {
    "collapsed": true
   },
   "outputs": [],
   "source": [
    "# Align second axis\n",
    "\n",
    "I = inertia_tensor(r)\n",
    "e_val, e_vec = np.linalg.eig(I)\n",
    "\n",
    "e_z = e_vec[1]\n",
    "one_z = array((0,1,0))\n",
    "vec = cross(e_z, one_z)\n",
    "vec = vec/np.sqrt(np.dot(vec, vec))\n",
    "theta = arccos(np.dot(e_z, one_z))\n",
    "q = np.array([np.cos(theta/2), *np.sin(theta/2)*vec])\n",
    "for i in range(r.shape[0]):\n",
    "    r[i] = quaternions.rotate_vector(r[i], q)"
   ]
  },
  {
   "cell_type": "code",
   "execution_count": null,
   "metadata": {
    "collapsed": false
   },
   "outputs": [],
   "source": [
    "# Balance the diagonal elements\n",
    "\n",
    "x, y, z = inertia_tensor(r).diagonal()\n",
    "\n",
    "r[:,0] /= np.sqrt((y+z-x))\n",
    "r[:,1] /= np.sqrt((x+z-y))\n",
    "r[:,2] /= np.sqrt((x+y-z))"
   ]
  },
  {
   "cell_type": "code",
   "execution_count": null,
   "metadata": {
    "collapsed": false
   },
   "outputs": [],
   "source": [
    "inertia_tensor(r)"
   ]
  },
  {
   "cell_type": "code",
   "execution_count": null,
   "metadata": {
    "collapsed": false
   },
   "outputs": [],
   "source": [
    "np.linalg.eig(inertia_tensor(r))"
   ]
  },
  {
   "cell_type": "code",
   "execution_count": null,
   "metadata": {
    "collapsed": false
   },
   "outputs": [],
   "source": [
    "fig = plt.figure()\n",
    "ax = fig.add_subplot(111, projection='3d')\n",
    "\n",
    "ax.plot(r[:,0], r[:,1], r[:,2], ls='', marker='o')"
   ]
  },
  {
   "cell_type": "code",
   "execution_count": null,
   "metadata": {
    "collapsed": false
   },
   "outputs": [],
   "source": [
    "s = r.copy()\n",
    "s[:,0] *= -1\n",
    "s[:,1] *= -1\n",
    "np.linalg.eig(inertia_tensor(s))"
   ]
  },
  {
   "cell_type": "code",
   "execution_count": null,
   "metadata": {
    "collapsed": false
   },
   "outputs": [],
   "source": [
    "I = inertia_tensor(r)"
   ]
  },
  {
   "cell_type": "code",
   "execution_count": null,
   "metadata": {
    "collapsed": true
   },
   "outputs": [],
   "source": []
  },
  {
   "cell_type": "code",
   "execution_count": null,
   "metadata": {
    "collapsed": false
   },
   "outputs": [],
   "source": [
    "inertia_tensor(s)"
   ]
  },
  {
   "cell_type": "code",
   "execution_count": null,
   "metadata": {
    "collapsed": true
   },
   "outputs": [],
   "source": [
    "def align_axis(r, idx):\n",
    "    r = np.asarray(r)\n",
    "    I = inertia_tensor(r)\n",
    "    e_val, e_vec = np.linalg.eig(I)\n",
    "    e_z = e_vec[:,idx]\n",
    "    one_z = np.zeros(3)\n",
    "    one_z[idx] = 1\n",
    "    vec = np.cross(e_z, one_z)\n",
    "    vec = vec/np.sqrt(np.dot(vec, vec))\n",
    "    theta = np.arccos(np.dot(e_z, one_z))\n",
    "    q = np.array([np.cos(theta/2), *np.sin(theta/2)*vec])\n",
    "    for i in range(r.shape[0]):\n",
    "        r[i] = quaternions.rotate_vector(r[i], q)\n",
    "    return r\n",
    "\n",
    "def balance_diagonal(r):\n",
    "    x, y, z = inertia_tensor(r).diagonal()\n",
    "    r[:,0] /= np.sqrt((y+z-x))\n",
    "    r[:,1] /= np.sqrt((x+z-y))\n",
    "    r[:,2] /= np.sqrt((x+y-z))\n",
    "    return r"
   ]
  },
  {
   "cell_type": "code",
   "execution_count": null,
   "metadata": {
    "collapsed": true
   },
   "outputs": [],
   "source": [
    "r = np.random.normal(size=(7, 3))\n",
    "r -= r.mean(axis=0)"
   ]
  },
  {
   "cell_type": "code",
   "execution_count": null,
   "metadata": {
    "collapsed": false
   },
   "outputs": [],
   "source": [
    "s = balance_diagonal(align_axis(align_axis(r, 0),1))"
   ]
  },
  {
   "cell_type": "code",
   "execution_count": null,
   "metadata": {
    "collapsed": false
   },
   "outputs": [],
   "source": [
    "inertia_tensor(s)"
   ]
  },
  {
   "cell_type": "code",
   "execution_count": null,
   "metadata": {
    "collapsed": true
   },
   "outputs": [],
   "source": []
  },
  {
   "cell_type": "code",
   "execution_count": null,
   "metadata": {
    "collapsed": false
   },
   "outputs": [],
   "source": []
  },
  {
   "cell_type": "code",
   "execution_count": null,
   "metadata": {
    "collapsed": true
   },
   "outputs": [],
   "source": []
  }
 ],
 "metadata": {
  "kernelspec": {
   "display_name": "Python 3",
   "language": "python",
   "name": "python3"
  },
  "language_info": {
   "codemirror_mode": {
    "name": "ipython",
    "version": 3
   },
   "file_extension": ".py",
   "mimetype": "text/x-python",
   "name": "python",
   "nbconvert_exporter": "python",
   "pygments_lexer": "ipython3",
   "version": "3.5.2+"
  }
 },
 "nbformat": 4,
 "nbformat_minor": 2
}
