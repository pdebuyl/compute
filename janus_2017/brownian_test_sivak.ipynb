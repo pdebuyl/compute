{
 "cells": [
  {
   "cell_type": "code",
   "execution_count": null,
   "metadata": {},
   "outputs": [],
   "source": [
    "%pylab notebook\n",
    "\n",
    "import scipy, scipy.linalg, scipy.signal\n",
    "import itertools\n",
    "import tidynamics"
   ]
  },
  {
   "cell_type": "code",
   "execution_count": null,
   "metadata": {},
   "outputs": [],
   "source": [
    "plt.rcParams['figure.figsize'] = (10,6)"
   ]
  },
  {
   "cell_type": "code",
   "execution_count": null,
   "metadata": {},
   "outputs": [],
   "source": [
    "def mycor(a, b, N_max=None):                      \n",
    "    N = len(a)                                             \n",
    "    if N_max is None:\n",
    "        N_max = N//10\n",
    "    res = scipy.signal.fftconvolve(a[:], b[::-1])[N-1:] / (N-np.arange(N))\n",
    "    return res[:N_max]\n"
   ]
  },
  {
   "cell_type": "code",
   "execution_count": null,
   "metadata": {},
   "outputs": [],
   "source": [
    "Γ = np.array([[400, 50, -200],[50, 600, 250], [-200, 250, 4000]])\n",
    "\n",
    "Γ = np.array([[  395.24876886,    49.64205652,  -211.47449726],\n",
    "       [   53.02416734,   568.67494294,   288.95198073],\n",
    "       [ -214.96374295,   273.39955903,  4100.94214944]])\n",
    "\n",
    "Γ = np.eye(3)*10\n",
    "Γ[0,2] = Γ[2, 0] = 3\n",
    "\n",
    "Mdiag = np.array([14745, 14745, 107233])\n",
    "\n",
    "Mdiag = np.array([100, 100, 100])\n",
    "\n",
    "oosqrt_M = np.diagflat(1/np.sqrt(Mdiag))\n",
    "\n",
    "γ = oosqrt_M @ Γ @ oosqrt_M"
   ]
  },
  {
   "cell_type": "code",
   "execution_count": null,
   "metadata": {},
   "outputs": [],
   "source": [
    "w, v = np.linalg.eig(-γ)\n",
    "vinv = np.linalg.inv(v)"
   ]
  },
  {
   "cell_type": "code",
   "execution_count": null,
   "metadata": {},
   "outputs": [],
   "source": [
    "print(w, v)"
   ]
  },
  {
   "cell_type": "code",
   "execution_count": null,
   "metadata": {},
   "outputs": [],
   "source": []
  },
  {
   "cell_type": "code",
   "execution_count": null,
   "metadata": {},
   "outputs": [],
   "source": [
    "dt = 0.05\n",
    "\n",
    "a = v @ np.diagflat(np.exp(w*dt)) @ vinv\n",
    "sqrt_a = v @ np.sqrt(np.diagflat(np.exp(w*dt))) @ vinv\n",
    "one_minus_a = v @ (np.eye(3) - np.diagflat(np.exp(w*dt))) @ vinv\n",
    "sqrt_one_minus_a = v @ np.sqrt((np.eye(3) - np.diagflat(np.exp(w*dt)))) @ vinv"
   ]
  },
  {
   "cell_type": "code",
   "execution_count": null,
   "metadata": {},
   "outputs": [],
   "source": [
    "print(a)\n",
    "print(sqrt_a)\n",
    "\n",
    "assert np.allclose(a, sqrt_a @ sqrt_a)"
   ]
  },
  {
   "cell_type": "code",
   "execution_count": null,
   "metadata": {},
   "outputs": [],
   "source": [
    "vel = np.zeros(3)\n",
    "\n",
    "F = np.array([0, 0, 0])\n",
    "\n",
    "FF = F*dt/np.sqrt(Mdiag)\n",
    "\n",
    "data = []\n",
    "v_data = []\n",
    "for i in range(32768*2):\n",
    "    for j in range(10):\n",
    "        vel = sqrt_a @ vel + sqrt_one_minus_a @ np.random.normal(size=3)\n",
    "        vel += FF\n",
    "        vel = sqrt_a @ vel + sqrt_one_minus_a @ np.random.normal(size=3)\n",
    "\n",
    "    data.append(vel)\n",
    "    v_data.append(oosqrt_M @ vel)\n",
    "\n",
    "data = np.array(data)\n",
    "v_data = np.array(v_data)"
   ]
  },
  {
   "cell_type": "code",
   "execution_count": null,
   "metadata": {},
   "outputs": [],
   "source": []
  },
  {
   "cell_type": "code",
   "execution_count": null,
   "metadata": {},
   "outputs": [],
   "source": [
    "def theo(t):\n",
    "    return v @ np.diagflat(np.exp(w*t)) @ vinv\n",
    "\n",
    "N_plot = int(100/dt)\n",
    "\n",
    "T = dt*np.arange(N_plot)*10\n",
    "\n",
    "tdata = np.array([theo(t) for t in T])\n"
   ]
  },
  {
   "cell_type": "code",
   "execution_count": null,
   "metadata": {},
   "outputs": [],
   "source": [
    "plt.figure()\n",
    "\n",
    "ax = [plt.subplot(3, 3, 1+3*i+j) for i, j in itertools.product(range(3), range(3))]\n",
    "for i, j in itertools.product(range(3), range(3)):\n",
    "    cross_mean = 0 if i==j else (data[:,i]*data[:,j]).mean()\n",
    "    ax[3*i+j].plot(T, mycor(data[:,i], data[:,j], N_max=N_plot)-cross_mean)\n",
    "    ax[3*i+j].plot(T, tdata[:,i,j])\n",
    "    ax[3*i+j].plot(T, tidynamics.core.correlation_1d(data[:,i], data[:,j])[-len(data[:,i]):][:N_plot]-cross_mean)\n"
   ]
  },
  {
   "cell_type": "code",
   "execution_count": null,
   "metadata": {},
   "outputs": [],
   "source": [
    "tdata.shape"
   ]
  },
  {
   "cell_type": "code",
   "execution_count": null,
   "metadata": {},
   "outputs": [],
   "source": []
  },
  {
   "cell_type": "code",
   "execution_count": null,
   "metadata": {},
   "outputs": [],
   "source": []
  },
  {
   "cell_type": "code",
   "execution_count": null,
   "metadata": {},
   "outputs": [],
   "source": []
  },
  {
   "cell_type": "code",
   "execution_count": null,
   "metadata": {},
   "outputs": [],
   "source": [
    "plt.figure()\n",
    "vrange = np.linspace(-3/10, 3/10, 101)\n",
    "\n",
    "for i in range(3):\n",
    "    plt.subplot(3, 1, i+1)\n",
    "    dum = hist(v_data[:,i], bins=32, normed=True, histtype='step', lw=2)\n",
    "\n",
    "    plt.plot(vrange, np.sqrt(Mdiag[i]/(2*np.pi))*np.exp(-Mdiag[i]*vrange**2/2))\n",
    "\n",
    "\n",
    "#[plt.axvline(m, color=l.get_color(), lw=2) for m, l in zip(data.mean(axis=0)/np.sqrt(Mdiag), lines)];\n",
    "\n",
    "#[plt.axvline(vstall, color=l.get_color(), lw=2, ls='--') for vstall, l in zip(np.linalg.inv(Γ) @ F, lines)];"
   ]
  },
  {
   "cell_type": "code",
   "execution_count": null,
   "metadata": {},
   "outputs": [],
   "source": []
  },
  {
   "cell_type": "code",
   "execution_count": null,
   "metadata": {},
   "outputs": [],
   "source": []
  },
  {
   "cell_type": "code",
   "execution_count": null,
   "metadata": {},
   "outputs": [],
   "source": [
    "Γ_inv = np.linalg.inv(Γ)\n",
    "v_stall = Γ_inv @ F\n",
    "\n",
    "print('Radius from stall velocity')\n",
    "print(np.sqrt(v_stall[0]**2+v_stall[1]**2)/v_stall[2])\n",
    "print('Radius from friction matrix')\n",
    "print(np.sqrt(Γ_inv.T[0,0]**2+Γ_inv.T[0,1]**2)/Γ_inv.T[0,2])\n",
    "v_mean = data.mean(axis=0)/np.sqrt(Mdiag)\n",
    "print('Radius from mean velocity')\n",
    "print(np.sqrt(v_mean[0]**2+v_mean[1]**2)/v_mean[2])"
   ]
  },
  {
   "cell_type": "code",
   "execution_count": null,
   "metadata": {},
   "outputs": [],
   "source": [
    "Γ"
   ]
  },
  {
   "cell_type": "code",
   "execution_count": null,
   "metadata": {},
   "outputs": [],
   "source": [
    "np.sqrt(γ[0,0]**2+γ[0,1]**2)/γ[0,2]"
   ]
  },
  {
   "cell_type": "code",
   "execution_count": null,
   "metadata": {},
   "outputs": [],
   "source": [
    "np.sqrt(data[:,0].mean()**2+data[:,1].mean()**2)/data[:,2].mean()"
   ]
  },
  {
   "cell_type": "code",
   "execution_count": null,
   "metadata": {},
   "outputs": [],
   "source": [
    "Γ_inv"
   ]
  },
  {
   "cell_type": "code",
   "execution_count": null,
   "metadata": {},
   "outputs": [],
   "source": [
    "pos = scipy.integrate.cumtrapz(v_data, axis=0)[::32,:]*10*dt"
   ]
  },
  {
   "cell_type": "code",
   "execution_count": null,
   "metadata": {},
   "outputs": [],
   "source": [
    "cd = tidynamics.cross_displacement(pos)"
   ]
  },
  {
   "cell_type": "code",
   "execution_count": null,
   "metadata": {},
   "outputs": [],
   "source": [
    "plt.figure()\n",
    "\n",
    "pos_time = np.arange(pos.shape[0])*32*10*dt\n",
    "\n",
    "ax = [plt.subplot(3, 3, 1+3*i+j) for i, j in itertools.product(range(3), range(3))]\n",
    "\n",
    "for i, j in itertools.product(range(3), range(3)):\n",
    "    plt.subplot(3, 3, 1+3*i+j)\n",
    "    plt.plot(pos_time[:400], cd[i][j][:400])\n",
    "    if i==j:\n",
    "        plt.plot(pos_time[:400], 2*Γ_inv[i, i]*pos_time[:400])\n",
    "    else:\n",
    "        #plt.plot(T, T*scipy.integrate.cumtrapz((tdata[:,i,j]+tdata[:,j,i])*(1-1/(T+1e-6)), initial=0, dx=dt*10)*(oosqrt_M[i,i]*oosqrt_M[j,j]))\n",
    "        plt.plot(T, t_msd(i, j))\n",
    "    plt.xlim(0, 2000)\n"
   ]
  },
  {
   "cell_type": "code",
   "execution_count": null,
   "metadata": {},
   "outputs": [],
   "source": []
  },
  {
   "cell_type": "code",
   "execution_count": null,
   "metadata": {},
   "outputs": [],
   "source": [
    "def t_msd(i, j):\n",
    "    def local_integral(t_idx):\n",
    "        t = T[t_idx]\n",
    "        cross_mean = 0 if i==j else tdata[0,i,j]\n",
    "        return t*scipy.integrate.trapz((tdata[:t_idx,i,j]+tdata[:t_idx,j,i]-2*cross_mean)*(1-T[:t_idx]/(t+1e-6)), dx=10*dt)\n",
    "    return np.array([local_integral(i) for i in range(len(T))])*(oosqrt_M[i,i]*oosqrt_M[j,j])\n"
   ]
  },
  {
   "cell_type": "code",
   "execution_count": null,
   "metadata": {},
   "outputs": [],
   "source": [
    "oosqrt_M"
   ]
  },
  {
   "cell_type": "code",
   "execution_count": null,
   "metadata": {},
   "outputs": [],
   "source": [
    "i, j"
   ]
  },
  {
   "cell_type": "code",
   "execution_count": null,
   "metadata": {},
   "outputs": [],
   "source": []
  }
 ],
 "metadata": {
  "kernelspec": {
   "display_name": "Python 3",
   "language": "python",
   "name": "python3"
  },
  "language_info": {
   "codemirror_mode": {
    "name": "ipython",
    "version": 3
   },
   "file_extension": ".py",
   "mimetype": "text/x-python",
   "name": "python",
   "nbconvert_exporter": "python",
   "pygments_lexer": "ipython3",
   "version": "3.6.4rc1"
  }
 },
 "nbformat": 4,
 "nbformat_minor": 2
}
