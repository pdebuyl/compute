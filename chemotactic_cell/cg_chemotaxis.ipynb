{
 "cells": [
  {
   "cell_type": "code",
   "execution_count": null,
   "metadata": {
    "collapsed": true
   },
   "outputs": [],
   "source": [
    "%matplotlib inline\n",
    "import h5py\n",
    "import matplotlib.pyplot as plt\n",
    "from matplotlib.figure import SubplotParams\n",
    "import numpy as np\n",
    "from glob import glob\n",
    "import os.path\n",
    "\n",
    "plt.rcParams['figure.figsize'] = (12, 6)\n",
    "plt.rcParams['figure.subplot.hspace'] = 0.25\n",
    "plt.rcParams['figure.subplot.wspace'] = 0.25\n",
    "plt.rcParams['figure.subplot.left'] = 0.17\n",
    "plt.rcParams['figure.subplot.top'] = 0.88\n",
    "plt.rcParams['axes.labelsize'] = 16\n",
    "plt.rcParams['font.size'] = 14\n"
   ]
  },
  {
   "cell_type": "code",
   "execution_count": null,
   "metadata": {
    "collapsed": true
   },
   "outputs": [],
   "source": [
    "def show_cg_nm(xy, phi, v):\n",
    "    \"\"\"Show a summary of the properties of constant gradient chemotactic simulations\"\"\"\n",
    "    \n",
    "    plt.figure()\n",
    "\n",
    "    plt.suptitle(r\"Average +/- std. dev. of x and y\")\n",
    "    m = xy.mean(axis=0)\n",
    "    s = xy.std(axis=0)\n",
    "    plt.subplot(121)\n",
    "    plt.fill_between(np.arange(len(m)), m[:,0]-s[:,0], m[:,0]+s[:,0], label='x')\n",
    "    plt.xlabel('time')\n",
    "    plt.legend()\n",
    "\n",
    "    plt.subplot(122)\n",
    "    plt.fill_between(np.arange(len(m)), m[:,1]-s[:,1], m[:,1]+s[:,1], label='y')\n",
    "    plt.xlabel('time')\n",
    "    plt.legend()\n",
    "\n",
    "    \n",
    "    plt.figure()\n",
    "\n",
    "    plt.axhline(-np.pi/2)\n",
    "    plt.axhline(0)\n",
    "    plt.axhline(np.pi/2)\n",
    "\n",
    "    plt.suptitle(r\"Angle $\\phi$\")\n",
    "    [plt.plot(phi[i,:]) for i in range(phi.shape[0])];\n",
    "    plt.xlabel('time')\n",
    "\n",
    "    plt.figure()\n",
    "\n",
    "    plt.suptitle(r\"Trajectories\")\n",
    "\n",
    "    [plt.plot(xy[i,:,0], xy[i,:,1]) for i in range(xy.shape[0])];\n",
    "    plt.xlabel('x')\n",
    "    plt.ylabel('y')\n",
    "\n",
    "    plt.figure()\n",
    "\n",
    "    plt.suptitle(r\"Histogram of angle w.r.t. gradient direction\")\n",
    "    all_phi = np.arccos(np.sin(phi[:,phi.shape[1]//4:].reshape((-1,))))\n",
    "    plt.hist(all_phi, bins=32, normed=True);\n",
    "    plt.xlabel(r\"$\\theta$\")\n",
    "    plt.ylabel(r'$P(\\theta)$')\n",
    "\n",
    "def summary_cg_nm(xy, phi, v):\n",
    "    \"\"\"Show a summary of the properties of constant gradient chemotactic simulations\"\"\"\n",
    "    plt.figure(figsize=(8,12))\n",
    "    plt.subplot(311)\n",
    "    m = xy.mean(axis=0)\n",
    "    s = xy.std(axis=0)\n",
    "    plt.fill_between(np.arange(len(m)), m[:,1]-s[:,1], m[:,1]+s[:,1])\n",
    "    plt.xlabel('$t$')\n",
    "    plt.ylabel(r'$y$')\n",
    "    \n",
    "    plt.subplot(312)\n",
    "\n",
    "    all_phi = np.arccos(np.sin(phi[:,phi.shape[1]//4:].reshape((-1,))))\n",
    "    plt.hist(all_phi, bins=32, normed=True);\n",
    "    plt.xlabel(r\"$\\theta$\")\n",
    "    plt.ylabel(r'$P(\\theta)$')\n",
    "    plt.xlim(0, np.pi)\n",
    "\n",
    "    plt.subplot(313)\n",
    "\n",
    "    plt.hist(xy[:,xy.shape[1]//4:,1].reshape((-1,)), bins=32, normed=True);\n",
    "    plt.xlabel(r\"$y$\")\n",
    "    plt.ylabel(r'$P(y)$')\n",
    "    plt.xlim(0, 30)\n",
    "    \n",
    "def get_array(filename):\n",
    "    with h5py.File(filename, 'r') as f:\n",
    "        xy = f['xy'][:]\n",
    "        phi = f['phi'][:]\n",
    "        v = f['v'][:]\n",
    "    return xy, phi, v\n"
   ]
  },
  {
   "cell_type": "code",
   "execution_count": null,
   "metadata": {
    "collapsed": true
   },
   "outputs": [],
   "source": [
    "cg_location = '/home/pierre/SIMU/20170118'"
   ]
  },
  {
   "cell_type": "code",
   "execution_count": null,
   "metadata": {
    "collapsed": true
   },
   "outputs": [],
   "source": [
    "runs = glob(os.path.join(cg_location, 'N_only_*.h5'))\n",
    "runs.sort()\n",
    "\n",
    "\n",
    "N_only_data = [get_array(r) for r in runs]\n",
    "\n",
    "N_only_xy, N_only_phi, N_only_v = map(np.array, zip(*N_only_data))"
   ]
  },
  {
   "cell_type": "code",
   "execution_count": null,
   "metadata": {
    "collapsed": false,
    "scrolled": false
   },
   "outputs": [],
   "source": [
    "show_cg_nm(N_only_xy, N_only_phi, N_only_v)"
   ]
  },
  {
   "cell_type": "code",
   "execution_count": null,
   "metadata": {
    "collapsed": false
   },
   "outputs": [],
   "source": [
    "runs = glob(os.path.join(cg_location, 'N_C_*.h5'))\n",
    "runs.sort()\n",
    "\n",
    "N_C_data = [get_array(r) for r in runs]\n",
    "\n",
    "N_C_xy, N_C_phi, N_C_v = map(np.array, zip(*N_C_data))"
   ]
  },
  {
   "cell_type": "code",
   "execution_count": null,
   "metadata": {
    "collapsed": false,
    "scrolled": false
   },
   "outputs": [],
   "source": [
    "show_cg_nm(N_C_xy, N_C_phi, N_C_v)"
   ]
  },
  {
   "cell_type": "code",
   "execution_count": null,
   "metadata": {
    "collapsed": false
   },
   "outputs": [],
   "source": [
    "plt.hist(N_only_xy[:,N_only_xy.shape[1]//4:,1].reshape((-1,)), bins=32, normed=True);"
   ]
  },
  {
   "cell_type": "code",
   "execution_count": null,
   "metadata": {
    "collapsed": false
   },
   "outputs": [],
   "source": [
    "N_only_xy[:,:,1].max()"
   ]
  },
  {
   "cell_type": "code",
   "execution_count": null,
   "metadata": {
    "collapsed": true
   },
   "outputs": [],
   "source": [
    "import stochastic_nanomotor"
   ]
  },
  {
   "cell_type": "code",
   "execution_count": null,
   "metadata": {
    "collapsed": false
   },
   "outputs": [],
   "source": [
    "N_short = [stochastic_nanomotor.run_cg_nm(phi_0=0) for i in range(4)]\n",
    "\n",
    "N_short_xy, N_short_phi, N_short_v = map(np.array, zip(*N_short))"
   ]
  },
  {
   "cell_type": "code",
   "execution_count": null,
   "metadata": {
    "collapsed": false
   },
   "outputs": [],
   "source": [
    "show_cg_nm(N_short_xy, N_short_phi, N_short_v)"
   ]
  },
  {
   "cell_type": "code",
   "execution_count": null,
   "metadata": {
    "collapsed": false
   },
   "outputs": [],
   "source": [
    "summary_cg_nm(N_only_xy, N_only_phi, N_only_v)\n",
    "plt.savefig('N_only_cg.pdf')"
   ]
  },
  {
   "cell_type": "code",
   "execution_count": null,
   "metadata": {
    "collapsed": false
   },
   "outputs": [],
   "source": [
    "summary_cg_nm(N_C_xy, N_C_phi, N_C_v)\n",
    "plt.savefig('N_C_cg.pdf')"
   ]
  },
  {
   "cell_type": "code",
   "execution_count": null,
   "metadata": {
    "collapsed": true
   },
   "outputs": [],
   "source": []
  }
 ],
 "metadata": {
  "kernelspec": {
   "display_name": "Python 3",
   "language": "python",
   "name": "python3"
  },
  "language_info": {
   "codemirror_mode": {
    "name": "ipython",
    "version": 3
   },
   "file_extension": ".py",
   "mimetype": "text/x-python",
   "name": "python",
   "nbconvert_exporter": "python",
   "pygments_lexer": "ipython3",
   "version": "3.5.2+"
  }
 },
 "nbformat": 4,
 "nbformat_minor": 2
}
