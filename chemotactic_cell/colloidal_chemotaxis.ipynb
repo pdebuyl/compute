{
 "cells": [
  {
   "cell_type": "code",
   "execution_count": null,
   "metadata": {
    "collapsed": true
   },
   "outputs": [],
   "source": [
    "%matplotlib inline\n",
    "import matplotlib.pyplot as plt\n",
    "import numpy as np\n",
    "from scipy.special import erfc, erf\n",
    "from scipy.integrate import quad\n",
    "from collections import namedtuple\n",
    "import h5py\n",
    "from glob import glob\n",
    "plt.rcParams['figure.figsize'] = (8, 6)\n",
    "plt.rcParams['figure.subplot.hspace'] = 0.25\n",
    "plt.rcParams['figure.subplot.left'] = 0.17\n",
    "plt.rcParams['axes.labelsize'] = 16"
   ]
  },
  {
   "cell_type": "code",
   "execution_count": null,
   "metadata": {
    "collapsed": false
   },
   "outputs": [],
   "source": [
    "# compute D, v_flow\n",
    "\n",
    "fluid = namedtuple('fluid', ['tau', 'T', 'rho', 'alpha', 'm', 'a', 'eta'])\n",
    "cell = namedtuple('cell', ['Ly', 'Lz', 'g'])\n",
    "colloid = namedtuple('colloid', ['sigma', 'R'])\n",
    "\n",
    "fluid.tau = 0.5\n",
    "fluid.T = 0.33\n",
    "fluid.rho = 10\n",
    "fluid.alpha = 2.6\n",
    "fluid.m = 1\n",
    "fluid.a = 1\n",
    "\n",
    "# Kapral review Eq. 55\n",
    "eta_kin = fluid.T * fluid.tau * fluid.rho / (2*fluid.m) * \\\n",
    "    (5*fluid.rho-(fluid.rho - 1 + np.exp(-fluid.rho))*(2 - np.cos(fluid.alpha)-np.cos(2*fluid.alpha)))/ \\\n",
    "    ((fluid.rho - 1 + np.exp(-fluid.rho))*(2 - np.cos(fluid.alpha)-np.cos(2*fluid.alpha)))\n",
    "# Kapral review Eq. 56\n",
    "eta_coll = fluid.m / (18 * fluid.a * fluid.tau) * (fluid.rho - 1 + np.exp(-fluid.rho))*(1-np.cos(fluid.alpha))\n",
    "fluid.eta = eta_kin + eta_coll\n",
    "print(\"Viscosity\", fluid.eta)\n",
    "fluid.D = fluid.T*fluid.tau/(2*fluid.m) * (3*fluid.rho/((fluid.rho - 1 + np.exp(-fluid.rho))*(1-np.cos(fluid.alpha))) - 1)\n",
    "print(\"Self-diffusion D\", fluid.D)\n",
    "\n",
    "cell.Ly = 60\n",
    "cell.Lz = 15\n",
    "cell.g = 1/1000\n",
    "\n",
    "def v_of_eta(fluid, cell):\n",
    "    return fluid.rho*cell.g*cell.Lz**2/(8*fluid.eta)\n",
    "\n",
    "v_max = v_of_eta(fluid, cell)\n",
    "v_av = 2/3*v_max\n",
    "print(\"Flow maximum \", v_max)\n",
    "print(\"Flow average \", v_av)\n",
    "print(\"Poiseuille flow Peclet number\", v_av*cell.Lz/fluid.D)\n",
    "\n",
    "colloid.sigma = 3\n",
    "colloid.R = colloid.sigma*2**(1/6)"
   ]
  },
  {
   "cell_type": "code",
   "execution_count": null,
   "metadata": {
    "collapsed": false
   },
   "outputs": [],
   "source": [
    "# define c_A(x,y) and lambda (derivative)\n",
    "\n",
    "def c_A(x,y):\n",
    "    return fluid.rho * 0.5*(1+erf(-(y-cell.Ly/2)/np.sqrt(4*fluid.D*x/v_max)))\n",
    "\n",
    "def lam(x,y):\n",
    "    return -fluid.rho*np.exp(-(y-cell.Ly/2)**2/(4*fluid.D*x/v_max))/np.sqrt(4*np.pi*fluid.D*x/v_max)"
   ]
  },
  {
   "cell_type": "code",
   "execution_count": null,
   "metadata": {
    "collapsed": false
   },
   "outputs": [],
   "source": [
    "X, Y = np.meshgrid(np.linspace(0.1, 20, 180),np.linspace(0, cell.Ly, 150))\n",
    "\n",
    "plt.pcolormesh(X, Y, c_A(X, Y), cmap=plt.cm.viridis)\n",
    "plt.colorbar()\n",
    "plt.axis([X.min(), X.max(), 0, cell.Ly])\n"
   ]
  },
  {
   "cell_type": "code",
   "execution_count": null,
   "metadata": {
    "collapsed": false
   },
   "outputs": [],
   "source": [
    "plt.pcolormesh(X, Y, lam(X, Y), cmap=plt.cm.viridis)\n",
    "plt.colorbar()\n",
    "plt.axis([X.min(), X.max(), 0, cell.Ly])\n"
   ]
  },
  {
   "cell_type": "code",
   "execution_count": null,
   "metadata": {
    "collapsed": true
   },
   "outputs": [],
   "source": [
    "# define Lambda(R, eps)\n",
    "\n",
    "def V(r, sigma, eps):\n",
    "    return 4*eps*((sigma/r)**12-(sigma/r)**6) + eps\n",
    "\n",
    "def integrand(r, sigma, eps):\n",
    "    return r*np.exp(-V(r, sigma, eps)/fluid.T)\n",
    "\n",
    "def Lambda(R, eps):\n",
    "    result, error = quad(integrand, colloid.R/2, colloid.R, args=(colloid.sigma, eps))\n",
    "    return result - colloid.R**2/2\n"
   ]
  },
  {
   "cell_type": "code",
   "execution_count": null,
   "metadata": {
    "collapsed": false
   },
   "outputs": [],
   "source": [
    "Lambda(3.1, 0.1)"
   ]
  },
  {
   "cell_type": "markdown",
   "metadata": {},
   "source": [
    "## Single passive colloid\n",
    "\n",
    "Here, the setup "
   ]
  },
  {
   "cell_type": "code",
   "execution_count": null,
   "metadata": {
    "collapsed": false
   },
   "outputs": [],
   "source": [
    "# Single passive colloid\n",
    "# Lambda lambda\n",
    "\n",
    "sigma = colloid.sigma\n",
    "R = colloid.R\n",
    "y_shift = 3.4\n",
    "\n",
    "dt = 0.01\n",
    "gamma = 4*np.pi*fluid.eta*sigma\n",
    "D = fluid.T/gamma\n",
    "x_factor = np.sqrt(2*D*dt)\n",
    "y_factor = np.sqrt(2*D*dt)\n",
    "F_factor = 8*np.pi*fluid.T/3 * R * (Lambda(R, 1)-Lambda(R, 0.5))/gamma\n",
    "\n",
    "def run_single_passive():\n",
    "    x, y = sigma, cell.Ly/2 + y_shift\n",
    "    xy_data = []\n",
    "    for t in range(1000):\n",
    "        for tt in range(50):\n",
    "            F_y = F_factor * lam(x, y)\n",
    "            xi_x, xi_y = np.random.normal(size=(2,))\n",
    "            x += v_max*dt + x_factor*xi_x\n",
    "            y += F_y*dt + y_factor*xi_y\n",
    "        xy_data.append((x,y))\n",
    "    return np.array(xy_data)\n",
    "\n",
    "single_passive = np.array([run_single_passive() for i in range(16)])"
   ]
  },
  {
   "cell_type": "code",
   "execution_count": null,
   "metadata": {
    "collapsed": true
   },
   "outputs": [],
   "source": [
    "# Collect simulation data\n",
    "\n",
    "runs = glob('/pierre/code/RMPCDMD/experiments/02-chemotactic-cell/passive_sphere_80_60_eps0.50_[A-H].h5')\n",
    "\n",
    "runs.sort()\n",
    "xy_data = []\n",
    "for r in runs:\n",
    "    with h5py.File(r, 'r') as a:\n",
    "        xy_data.append(a['/particles/dimer/position/value'][:,0,:2])\n",
    "xy_data = np.array(xy_data)"
   ]
  },
  {
   "cell_type": "code",
   "execution_count": null,
   "metadata": {
    "collapsed": false
   },
   "outputs": [],
   "source": [
    "m = single_passive.mean(axis=0).T\n",
    "s = single_passive.std(axis=0).T\n",
    "plt.fill_between(m[0,:], m[1,:]-s[1,:], m[1,:]+s[1,:], color='b', alpha=0.5)\n",
    "plt.plot(*m, color='b', lw=2)\n",
    "\n",
    "m = xy_data[:,450:].mean(axis=0).T\n",
    "s = xy_data[:,450:].std(axis=0).T\n",
    "m[0,:] -= 20\n",
    "\n",
    "plt.fill_between(m[0,:], m[1,:]-s[1,:], m[1,:]+s[1,:], color='r', alpha=0.5)\n",
    "plt.plot(*m, color='r', lw=2)\n",
    "\n",
    "plt.xlim(0, 27)\n",
    "plt.xlabel(r'$x$')\n",
    "plt.ylabel(r'$y$')"
   ]
  },
  {
   "cell_type": "code",
   "execution_count": null,
   "metadata": {
    "collapsed": false
   },
   "outputs": [],
   "source": []
  },
  {
   "cell_type": "code",
   "execution_count": null,
   "metadata": {
    "collapsed": true
   },
   "outputs": [],
   "source": [
    "# Single active colloid\n",
    "# Lambda c_2"
   ]
  },
  {
   "cell_type": "code",
   "execution_count": null,
   "metadata": {
    "collapsed": false
   },
   "outputs": [],
   "source": [
    "probability = 1\n",
    "k0 = probability*R**2*np.sqrt(8*np.pi*fluid.T/fluid.m)\n",
    "kD = 4*np.pi*R*fluid.D\n",
    "\n",
    "print(k0, kD)\n"
   ]
  },
  {
   "cell_type": "code",
   "execution_count": null,
   "metadata": {
    "collapsed": false
   },
   "outputs": [],
   "source": [
    "gamma"
   ]
  },
  {
   "cell_type": "code",
   "execution_count": null,
   "metadata": {
    "collapsed": false
   },
   "outputs": [],
   "source": [
    "20/(500*0.5)"
   ]
  },
  {
   "cell_type": "code",
   "execution_count": null,
   "metadata": {
    "collapsed": false
   },
   "outputs": [],
   "source": [
    "plt.plot(xy_data[:,0])"
   ]
  },
  {
   "cell_type": "code",
   "execution_count": null,
   "metadata": {
    "collapsed": false
   },
   "outputs": [],
   "source": [
    "1/2/R*fluid.rho"
   ]
  },
  {
   "cell_type": "code",
   "execution_count": null,
   "metadata": {
    "collapsed": false
   },
   "outputs": [],
   "source": [
    "k0/(k0+kD)"
   ]
  },
  {
   "cell_type": "code",
   "execution_count": null,
   "metadata": {
    "collapsed": false
   },
   "outputs": [],
   "source": [
    "(0,)*10"
   ]
  },
  {
   "cell_type": "code",
   "execution_count": null,
   "metadata": {
    "collapsed": false
   },
   "outputs": [],
   "source": [
    "v_max"
   ]
  },
  {
   "cell_type": "code",
   "execution_count": null,
   "metadata": {
    "collapsed": true
   },
   "outputs": [],
   "source": []
  }
 ],
 "metadata": {
  "kernelspec": {
   "display_name": "Python 3",
   "language": "python",
   "name": "python3"
  },
  "language_info": {
   "codemirror_mode": {
    "name": "ipython",
    "version": 3
   },
   "file_extension": ".py",
   "mimetype": "text/x-python",
   "name": "python",
   "nbconvert_exporter": "python",
   "pygments_lexer": "ipython3",
   "version": "3.4.3"
  }
 },
 "nbformat": 4,
 "nbformat_minor": 0
}
