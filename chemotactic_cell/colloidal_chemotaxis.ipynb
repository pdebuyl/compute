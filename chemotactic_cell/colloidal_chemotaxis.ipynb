{
 "cells": [
  {
   "cell_type": "code",
   "execution_count": null,
   "metadata": {
    "collapsed": false
   },
   "outputs": [],
   "source": [
    "%matplotlib inline\n",
    "import matplotlib.pyplot as plt\n",
    "import numpy as np\n",
    "from scipy.special import erfc, erf\n",
    "from scipy.integrate import quad, nquad\n",
    "from collections import namedtuple\n",
    "import h5py\n",
    "from glob import glob\n",
    "%load_ext Cython\n",
    "plt.rcParams['figure.figsize'] = (8, 6)\n",
    "plt.rcParams['figure.subplot.hspace'] = 0.25\n",
    "plt.rcParams['figure.subplot.left'] = 0.17\n",
    "plt.rcParams['axes.labelsize'] = 16"
   ]
  },
  {
   "cell_type": "code",
   "execution_count": null,
   "metadata": {
    "collapsed": false
   },
   "outputs": [],
   "source": [
    "# compute D, v_flow\n",
    "\n",
    "fluid = namedtuple('fluid', ['tau', 'T', 'rho', 'alpha', 'm', 'a', 'eta'])\n",
    "cell = namedtuple('cell', ['Ly', 'Lz', 'g'])\n",
    "colloid = namedtuple('colloid', ['sigma', 'R'])\n",
    "\n",
    "fluid.tau = 0.5\n",
    "fluid.T = 0.33\n",
    "fluid.rho = 10\n",
    "fluid.alpha = 2.6\n",
    "fluid.m = 1\n",
    "fluid.a = 1\n",
    "\n",
    "# Kapral review Eq. 55\n",
    "eta_kin = fluid.T * fluid.tau * fluid.rho / (2*fluid.m) * \\\n",
    "    (5*fluid.rho-(fluid.rho - 1 + np.exp(-fluid.rho))*(2 - np.cos(fluid.alpha)-np.cos(2*fluid.alpha)))/ \\\n",
    "    ((fluid.rho - 1 + np.exp(-fluid.rho))*(2 - np.cos(fluid.alpha)-np.cos(2*fluid.alpha)))\n",
    "# Kapral review Eq. 56\n",
    "eta_coll = fluid.m / (18 * fluid.a * fluid.tau) * (fluid.rho - 1 + np.exp(-fluid.rho))*(1-np.cos(fluid.alpha))\n",
    "fluid.eta = eta_kin + eta_coll\n",
    "print(\"Viscosity\", fluid.eta)\n",
    "fluid.D = fluid.T*fluid.tau/(2*fluid.m) * (3*fluid.rho/((fluid.rho - 1 + np.exp(-fluid.rho))*(1-np.cos(fluid.alpha))) - 1)\n",
    "print(\"Self-diffusion D\", fluid.D)\n",
    "\n",
    "cell.Ly = 60\n",
    "cell.Lz = 15\n",
    "cell.g = 1/1000\n",
    "\n",
    "def v_of_eta(fluid, cell):\n",
    "    return fluid.rho*cell.g*cell.Lz**2/(8*fluid.eta)\n",
    "\n",
    "v_max = v_of_eta(fluid, cell)\n",
    "v_av = 2/3*v_max\n",
    "print(\"Flow maximum \", v_max)\n",
    "print(\"Flow average \", v_av)\n",
    "print(\"Poiseuille flow Peclet number\", v_av*cell.Lz/fluid.D)\n",
    "\n",
    "colloid.sigma = 3\n",
    "colloid.R = colloid.sigma*2**(1/6)"
   ]
  },
  {
   "cell_type": "code",
   "execution_count": null,
   "metadata": {
    "collapsed": false
   },
   "outputs": [],
   "source": [
    "# define c_A(x,y) and lambda (derivative)\n",
    "\n",
    "def c_A(x,y):\n",
    "    return fluid.rho * 0.5*(1+erf(-(y-cell.Ly/2)/np.sqrt(4*fluid.D*x/v_max)))\n",
    "\n",
    "def lam(x,y):\n",
    "    return -fluid.rho*np.exp(-(y-cell.Ly/2)**2/(4*fluid.D*x/v_max))/np.sqrt(4*np.pi*fluid.D*x/v_max)"
   ]
  },
  {
   "cell_type": "code",
   "execution_count": null,
   "metadata": {
    "collapsed": false
   },
   "outputs": [],
   "source": [
    "X, Y = np.meshgrid(np.linspace(0.1, 20, 180),np.linspace(0, cell.Ly, 150))\n",
    "\n",
    "plt.pcolormesh(X, Y, c_A(X, Y), cmap=plt.cm.viridis)\n",
    "plt.colorbar()\n",
    "plt.axis([X.min(), X.max(), 0, cell.Ly])\n"
   ]
  },
  {
   "cell_type": "code",
   "execution_count": null,
   "metadata": {
    "collapsed": false,
    "scrolled": true
   },
   "outputs": [],
   "source": [
    "plt.pcolormesh(X, Y, lam(X, Y), cmap=plt.cm.viridis)\n",
    "plt.colorbar()\n",
    "plt.axis([X.min(), X.max(), 0, cell.Ly])\n"
   ]
  },
  {
   "cell_type": "code",
   "execution_count": null,
   "metadata": {
    "collapsed": true
   },
   "outputs": [],
   "source": [
    "# define Lambda(R, eps)\n",
    "\n",
    "def V(r, sigma, eps):\n",
    "    return 4*eps*((sigma/r)**12-(sigma/r)**6) + eps\n",
    "\n",
    "def integrand(r, sigma, eps):\n",
    "    return r*np.exp(-V(r, sigma, eps)/fluid.T)\n",
    "\n",
    "def Lambda(R, eps):\n",
    "    result, error = quad(integrand, colloid.R/2, colloid.R, args=(colloid.sigma, eps))\n",
    "    return result - colloid.R**2/2\n"
   ]
  },
  {
   "cell_type": "code",
   "execution_count": null,
   "metadata": {
    "collapsed": false
   },
   "outputs": [],
   "source": [
    "Lambda(3.1, 0.1)"
   ]
  },
  {
   "cell_type": "code",
   "execution_count": null,
   "metadata": {
    "collapsed": true
   },
   "outputs": [],
   "source": [
    "# define placeholder dicts for the numerical data\n",
    "\n",
    "passive_sphere_meso = {}\n",
    "passive_sphere_stoc = {}\n",
    "active_sphere_meso = {}\n",
    "active_sphere_stoc = {}\n",
    "nanomotor_meso = {}\n",
    "nanomotor_stoc = {}\n"
   ]
  },
  {
   "cell_type": "markdown",
   "metadata": {},
   "source": [
    "## Single passive colloid\n",
    "\n",
    "Here, the setup "
   ]
  },
  {
   "cell_type": "code",
   "execution_count": null,
   "metadata": {
    "collapsed": false
   },
   "outputs": [],
   "source": [
    "# Single passive colloid\n",
    "# Lambda lambda\n",
    "\n",
    "sigma = colloid.sigma\n",
    "R = colloid.R\n",
    "y_shift = 3.4\n",
    "\n",
    "dt = 0.01\n",
    "gamma = 4*np.pi*fluid.eta*sigma\n",
    "D = fluid.T/gamma\n",
    "x_factor = np.sqrt(2*D*dt)\n",
    "y_factor = np.sqrt(2*D*dt)\n",
    "\n",
    "def run_single_passive(passive_EPS):\n",
    "    F_factor = 8*np.pi*fluid.T/3 * R * (Lambda(R, 1)-Lambda(R, float(passive_EPS)))/gamma\n",
    "    x, y = sigma, cell.Ly/2 + y_shift\n",
    "    xy_data = []\n",
    "    for t in range(1000):\n",
    "        for tt in range(50):\n",
    "            F_y = F_factor * lam(x, y)\n",
    "            xi_x, xi_y = np.random.normal(size=(2,))\n",
    "            x += 0.08*dt + x_factor*xi_x\n",
    "            y += F_y*dt + y_factor*xi_y\n",
    "        xy_data.append((x,y))\n",
    "    return np.array(xy_data)\n",
    "\n",
    "#passive_sphere_stoc[passive_EPS] = np.array([run_single_passive(passive_EPS) for i in range(16)])"
   ]
  },
  {
   "cell_type": "code",
   "execution_count": null,
   "metadata": {
    "collapsed": true
   },
   "outputs": [],
   "source": [
    "# Collect simulation data\n",
    "for passive_EPS in ['0.25', '0.50', '1.00', '2.00', '4.00']:\n",
    "    runs = glob('/home/pierre/SIMU/20170103/passive_sphere_EPS{}_*/passive_sphere_no_solvent.h5'.format(passive_EPS))\n",
    "\n",
    "    runs.sort()\n",
    "    xy_data = []\n",
    "    for r in runs:\n",
    "        with h5py.File(r, 'r') as a:\n",
    "            xy_data.append(a['/particles/dimer/position/value'][:,0,:2])\n",
    "\n",
    "    passive_sphere_meso[passive_EPS] = np.array(xy_data)"
   ]
  },
  {
   "cell_type": "code",
   "execution_count": null,
   "metadata": {
    "collapsed": false
   },
   "outputs": [],
   "source": [
    "\n",
    "m = passive_sphere_stoc[passive_EPS].mean(axis=0).T\n",
    "s = passive_sphere_stoc[passive_EPS].std(axis=0).T\n",
    "plt.fill_between(m[0,:], m[1,:]-s[1,:], m[1,:]+s[1,:], color='b', alpha=0.5)\n",
    "plt.plot(*m, color='b', lw=2)\n",
    "\n",
    "m = passive_sphere_meso[passive_EPS][:,450:].mean(axis=0).T\n",
    "s = passive_sphere_meso[passive_EPS][:,450:].std(axis=0).T\n",
    "m[0,:] -= 20\n",
    "\n",
    "plt.fill_between(m[0,:], m[1,:]-s[1,:], m[1,:]+s[1,:], color='r', alpha=0.5)\n",
    "plt.plot(*m, color='r', lw=2)\n",
    "\n",
    "plt.xlim(0, 27)\n",
    "plt.xlabel(r'$x$')\n",
    "plt.ylabel(r'$y$')"
   ]
  },
  {
   "cell_type": "code",
   "execution_count": null,
   "metadata": {
    "collapsed": false
   },
   "outputs": [],
   "source": [
    "for passive_EPS in ['0.25', '0.50', '1.00', '2.00', '4.00']:\n",
    "    passive_sphere_stoc[passive_EPS] = np.array([run_single_passive(passive_EPS) for i in range(16)])\n"
   ]
  },
  {
   "cell_type": "code",
   "execution_count": null,
   "metadata": {
    "collapsed": false
   },
   "outputs": [],
   "source": []
  },
  {
   "cell_type": "markdown",
   "metadata": {
    "collapsed": false
   },
   "source": [
    "## Single active colloid"
   ]
  },
  {
   "cell_type": "code",
   "execution_count": null,
   "metadata": {
    "collapsed": true
   },
   "outputs": [],
   "source": []
  },
  {
   "cell_type": "code",
   "execution_count": null,
   "metadata": {
    "collapsed": false
   },
   "outputs": [],
   "source": [
    "# Single active colloid\n",
    "# Lambda c_2\n",
    "\n",
    "probability = 1\n",
    "k0 = probability*colloid.R**2*np.sqrt(8*np.pi*fluid.T/fluid.m)\n",
    "kD = 4*np.pi*colloid.R*fluid.D\n",
    "\n",
    "sigma = colloid.sigma\n",
    "R = colloid.R\n",
    "y_shift = 3.4\n",
    "\n",
    "dt = 0.01\n",
    "gamma = 4*np.pi*fluid.eta*sigma\n",
    "D = fluid.T/gamma\n",
    "x_factor = np.sqrt(2*D*dt)\n",
    "y_factor = np.sqrt(2*D*dt)\n",
    "\n",
    "def run_single_active(active_EPS):\n",
    "    F_factor = 8*np.pi*fluid.T/3 * R * k0/(k0+2*kD) * (Lambda(R, 1)-Lambda(R, float(active_EPS)))/gamma\n",
    "    x, y = sigma, cell.Ly/2 + y_shift\n",
    "    xy_data = []\n",
    "    for t in range(1000):\n",
    "        for tt in range(50):\n",
    "            F_y = F_factor * lam(x, y)\n",
    "            xi_x, xi_y = np.random.normal(size=(2,))\n",
    "            x += 0.08*dt + x_factor*xi_x\n",
    "            y += F_y*dt + y_factor*xi_y\n",
    "        xy_data.append((x,y))\n",
    "    return np.array(xy_data)\n",
    "\n"
   ]
  },
  {
   "cell_type": "code",
   "execution_count": null,
   "metadata": {
    "collapsed": false
   },
   "outputs": [],
   "source": [
    "# Collect simulation data\n",
    "\n",
    "for active_EPS in ['0.25', '0.50', '1.00', '2.00', '4.00']:\n",
    "    runs = glob('/home/pierre/SIMU/20170102/active_sphere_EPS{}_*/active_sphere_no_solvent.h5'.format(active_EPS))\n",
    "    runs.sort()\n",
    "    active_simulation = []\n",
    "    for r in runs[:2]:\n",
    "        with h5py.File(r, 'r') as a:\n",
    "            active_simulation.append(a['/particles/dimer/position/value'][:,0,:2])\n",
    "    active_sphere_meso[active_EPS] = np.array(active_simulation)"
   ]
  },
  {
   "cell_type": "code",
   "execution_count": null,
   "metadata": {
    "collapsed": false
   },
   "outputs": [],
   "source": [
    "m = active_sphere_stoc[active_EPS].mean(axis=0).T\n",
    "s = active_sphere_stoc[active_EPS].std(axis=0).T\n",
    "\n",
    "plt.fill_between(m[0,:], m[1,:]-s[1,:], m[1,:]+s[1,:], color='b', alpha=0.5)\n",
    "plt.plot(*m, color='b', lw=2)\n",
    "\n",
    "m = active_sphere_meso[active_EPS][:,400:].mean(axis=0).T\n",
    "s = active_sphere_meso[active_EPS][:,400:].std(axis=0).T\n",
    "m[0,:] -= 20\n",
    "\n",
    "plt.fill_between(m[0,:], m[1,:]-s[1,:], m[1,:]+s[1,:], color='r', alpha=0.5)\n",
    "plt.plot(*m, color='r', lw=2)\n",
    "\n",
    "plt.xlim(0, 27)\n",
    "plt.xlabel(r'$x$')\n",
    "plt.ylabel(r'$y$')"
   ]
  },
  {
   "cell_type": "code",
   "execution_count": null,
   "metadata": {
    "collapsed": false
   },
   "outputs": [],
   "source": [
    "for active_EPS in ['0.25', '0.50', '1.00', '2.00', '4.00']:\n",
    "    active_sphere_stoc[active_EPS] = np.array([run_single_active(active_EPS) for i in range(16)])\n"
   ]
  },
  {
   "cell_type": "code",
   "execution_count": null,
   "metadata": {
    "collapsed": false
   },
   "outputs": [],
   "source": [
    "probability = 1\n",
    "k0 = probability*colloid.R**2*np.sqrt(8*np.pi*fluid.T/fluid.m)\n",
    "kD = 4*np.pi*colloid.R*fluid.D\n",
    "\n",
    "print(k0, kD)\n"
   ]
  },
  {
   "cell_type": "code",
   "execution_count": null,
   "metadata": {
    "collapsed": false
   },
   "outputs": [],
   "source": []
  },
  {
   "cell_type": "markdown",
   "metadata": {
    "collapsed": false
   },
   "source": [
    "## Dimer nanomotor"
   ]
  },
  {
   "cell_type": "code",
   "execution_count": null,
   "metadata": {
    "collapsed": false
   },
   "outputs": [],
   "source": [
    "d = 6.7\n",
    "nanomotor_EPS = '0.50'\n",
    "Lambda_NM = Lambda(colloid.R, float(nanomotor_EPS)) - Lambda(colloid.R, 1)\n",
    "\n",
    "def polar_c_B(theta, varphi, r, x, y, phi):\n",
    "    \"\"\"Concentration of B at location theta, varphi, r from the N bead.\n",
    "    x, y are the c.o.m. coordinates and phi is the orientation of the dimer.\"\"\"\n",
    "    x_C = x + d*np.cos(phi)/2\n",
    "    y_C = y + d*np.sin(phi)/2\n",
    "    x_N = x - d*np.cos(phi)/2\n",
    "    y_N = y - d*np.sin(phi)/2\n",
    "    \n",
    "    c0 = c_A(x_C, y_C)\n",
    "    c1 = -k0/(k0+kD)*c0\n",
    "    c2 = -k0/(k0+2*kD)*lam(x_C, y_C)\n",
    "\n",
    "    x_p = x_N + r*np.cos(varphi)*np.sin(theta)\n",
    "    y_p = y_N + r*np.cos(theta)\n",
    "    z_p = r*np.sin(varphi)*np.sin(theta)\n",
    "\n",
    "    r_0 = np.sqrt((x_p-x_C)**2+(y_p-y_C)**2+z_p**2)\n",
    "    theta_0 = np.arccos((r*np.cos(theta)-d*np.sin(phi))/r_0)\n",
    "\n",
    "    return -c1*(R/r_0) - c2*(R/r_0)**2*np.cos(theta_0)\n",
    "\n",
    "\n",
    "def polar_c_B_cos_sin(theta, varphi, r, x, y, phi):\n",
    "    return polar_c_B(theta, varphi, r, x, y, phi)*np.cos(theta)*np.sin(theta)\n",
    "\n",
    "def polar_c_B_sin_sin(theta, varphi, r, x, y, phi):\n",
    "    return polar_c_B(theta, varphi, r, x, y, phi)*np.sin(theta)*np.sin(theta)\n",
    "\n",
    "def F_C_y(x, y, phi):\n",
    "    return 8*np.pi*fluid.T/3 * colloid.R * k0/(k0+2*kD) * Lambda_NM *lam(x-d*np.cos(phi)/2, y-d*np.sin(phi)/2)\n",
    "\n",
    "@np.vectorize\n",
    "def F_N(x, y, phi):\n",
    "    f_x, f_x_err = nquad(polar_c_B_cos_sin, ((0, np.pi), (0, 2*np.pi)), args=(colloid.R, x, y, 0), opts={'limit':20})\n",
    "    f_x = f_x * 2*fluid.T*Lambda_NM\n",
    "    f_y, f_y_err = nquad(polar_c_B_sin_sin, ((0, np.pi), (0, 2*np.pi)), args=(colloid.R, x, y, 0), opts={'limit':20})\n",
    "    f_y = f_y * 2*fluid.T*Lambda_NM\n",
    "    return f_x, f_y\n",
    "\n",
    "def torque(f_c_y, f_n_x, f_n_y, phi):\n",
    "    return (np.cos(phi) * (f_c_y - f_n_y) + np.sin(phi) * f_n_x)*d/2\n"
   ]
  },
  {
   "cell_type": "code",
   "execution_count": null,
   "metadata": {
    "collapsed": false
   },
   "outputs": [],
   "source": [
    "print('Lambda_NM =',Lambda(colloid.R, float(nanomotor_EPS)) - Lambda(colloid.R, 1))\n",
    "print('R =', colloid.R)\n",
    "print('cdef double T =', fluid.T)\n",
    "print('cdef double k0 =', k0)\n",
    "print('cdef double kD =', kD)"
   ]
  },
  {
   "cell_type": "code",
   "execution_count": null,
   "metadata": {
    "collapsed": false
   },
   "outputs": [],
   "source": [
    "%%cython\n",
    "\n",
    "import cython\n",
    "cimport cython\n",
    "import numpy as np\n",
    "cimport numpy as np\n",
    "from libc.math cimport exp, abs, cos, sin, sqrt, acos, erf\n",
    "from scipy.integrate import nquad\n",
    "\n",
    "cdef double d = 6.7\n",
    "cdef double Lambda_NM = 0.1948643129217249\n",
    "\n",
    "cdef double RHO = 10\n",
    "cdef double LY = 60\n",
    "cdef double FLUID_D = 0.06559643942750612\n",
    "cdef double V_MAX = 0.095309639068441587\n",
    "cdef double R = 3.367386144928119\n",
    "cdef double T = 0.33\n",
    "cdef double k0 = 32.6559814827\n",
    "cdef double kD = 2.77576727425\n",
    "\n",
    "cdef double c_A(double x,double y):\n",
    "    return RHO * 0.5*(1+erf(-(y-LY/2)/sqrt(4*FLUID_D*x/V_MAX)))\n",
    "\n",
    "cdef double lam(x,y):\n",
    "    return -RHO*exp(-(y-LY/2)**2/(4*FLUID_D*x/V_MAX))/sqrt(4*np.pi*FLUID_D*x/V_MAX)\n",
    "\n",
    "cdef double polar_c_B(double theta, double varphi, double r, double x, double y, double phi):\n",
    "    \"\"\"Concentration of B at location theta, varphi, r from the N bead.\n",
    "    x, y are the c.o.m. coordinates and phi is the orientation of the dimer.\"\"\"\n",
    "    cdef double x_C, y_C, x_N, y_N, c0, c1, c2, x_p, y_p, z_p, r_0\n",
    "    x_C = x + d*cos(phi)/2\n",
    "    y_C = y + d*sin(phi)/2\n",
    "    x_N = x - d*cos(phi)/2\n",
    "    y_N = y - d*sin(phi)/2\n",
    "    \n",
    "    c0 = c_A(x_C, y_C)\n",
    "    c1 = -k0/(k0+kD)*c0\n",
    "    c2 = -k0/(k0+2*kD)*lam(x_C, y_C)\n",
    "\n",
    "    x_p = x_N + r*np.cos(varphi)*np.sin(theta)\n",
    "    y_p = y_N + r*np.cos(theta)\n",
    "    z_p = r*np.sin(varphi)*np.sin(theta)\n",
    "\n",
    "    r_0 = sqrt((x_p-x_C)**2+(y_p-y_C)**2+z_p**2)\n",
    "    theta_0 = acos((r*cos(theta)-d*sin(phi))/r_0)\n",
    "\n",
    "    return -c1*(R/r_0) - c2*(R/r_0)**2*cos(theta_0)\n",
    "\n",
    "cdef double polar_c_B_cos_sin(double theta, double varphi, double r, double x, double y, double phi):\n",
    "    return polar_c_B(theta, varphi, r, x, y, phi)*cos(theta)*sin(theta)\n",
    "\n",
    "cdef double polar_c_B_sin_sin(double theta, varphi, double r, double x, double y, double phi):\n",
    "    return polar_c_B(theta, varphi, r, x, y, phi)*sin(theta)*sin(theta)\n",
    "\n",
    "cdef double F_C_y(double x, double y, double phi):\n",
    "    return 8*np.pi*T/3 * R * k0/(k0+2*kD) * Lambda_NM *lam(x-d*cos(phi)/2, y-d*sin(phi)/2)\n",
    "\n",
    "@cython.boundscheck(False)\n",
    "@cython.cdivision(True)\n",
    "@cython.wraparound(False)\n",
    "def new_F_N(double x, double y, double phi):\n",
    "    cdef double fx = 0\n",
    "    cdef double fy = 0\n",
    "    cdef int i_theta, i_varphi, N_theta, N_varphi\n",
    "    cdef double c, th, vphi\n",
    "    cdef double PI = np.pi\n",
    "    N_theta = 32\n",
    "    N_varphi = 32\n",
    "    cdef double inv_N_theta = 1.0/N_theta\n",
    "    cdef double inv_N_varphi = 1.0/N_varphi\n",
    "    for i_theta in range(N_theta):\n",
    "        th = (i_theta+0.5)*PI*inv_N_theta\n",
    "        for i_varphi in range(N_varphi):\n",
    "            vphi = (i_varphi+0.5)*2*PI*inv_N_varphi\n",
    "            c = polar_c_B(th, vphi, R, x, y, phi)\n",
    "            fx = fx + c*sin(th)*sin(th)\n",
    "            fy = fy + c*sin(th)*cos(th)\n",
    "    factor = 2*T*Lambda_NM*np.pi*inv_N_theta*2*np.pi*inv_N_varphi\n",
    "    return fx*factor, fy*factor\n",
    "\n",
    "def F_N(x, y, phi):\n",
    "    f_x, f_x_err = nquad(polar_c_B_cos_sin, ((0, np.pi), (0, 2*np.pi)), args=(R, x, y, 0), opts={'limit':20})\n",
    "    f_x = f_x * 2*T*Lambda_NM\n",
    "    f_y, f_y_err = nquad(polar_c_B_sin_sin, ((0, np.pi), (0, 2*np.pi)), args=(R, x, y, 0), opts={'limit':20})\n",
    "    f_y = f_y * 2*T*Lambda_NM\n",
    "    return f_x, f_y\n",
    "\n",
    "cdef double torque(double f_c_y, double f_n_x, double f_n_y, double phi):\n",
    "    return (cos(phi) * (f_c_y - f_n_y) + sin(phi) * f_n_x)*d/2\n"
   ]
  },
  {
   "cell_type": "code",
   "execution_count": null,
   "metadata": {
    "collapsed": false
   },
   "outputs": [],
   "source": [
    "theta_range = np.linspace(0, np.pi, 100)\n",
    "plt.plot(theta_range, polar_c_B(theta_range, 0, colloid.R, x, y, 0))\n",
    "plt.plot(theta_range, polar_c_B(theta_range, 0, colloid.R+1, x, y, 0))"
   ]
  },
  {
   "cell_type": "code",
   "execution_count": null,
   "metadata": {
    "collapsed": false
   },
   "outputs": [],
   "source": [
    "THETA, VARPHI = np.meshgrid(np.linspace(0, np.pi, 101), np.linspace(0, 2*np.pi, 101))\n",
    "\n",
    "plt.pcolormesh(THETA, VARPHI, polar_c_B(x, y, 0, colloid.R, THETA, VARPHI), cmap=plt.cm.viridis)\n",
    "plt.axis([0, np.pi, 0, 2*np.pi])\n",
    "plt.xlabel(r'$\\theta$')\n",
    "plt.ylabel(r'$\\varphi$')\n",
    "plt.colorbar();"
   ]
  },
  {
   "cell_type": "code",
   "execution_count": null,
   "metadata": {
    "collapsed": false
   },
   "outputs": [],
   "source": [
    "\n",
    "x, y"
   ]
  },
  {
   "cell_type": "code",
   "execution_count": null,
   "metadata": {
    "collapsed": true
   },
   "outputs": [],
   "source": [
    "DATA = F_N(X, Y, 0)"
   ]
  },
  {
   "cell_type": "code",
   "execution_count": null,
   "metadata": {
    "collapsed": false
   },
   "outputs": [],
   "source": [
    "\n",
    "\n",
    "X, Y = np.meshgrid(np.linspace(7, 20, 16),np.linspace(cell.Ly/2 - 5, cell.Ly/2 + 5, 16))\n",
    "\n",
    "plt.pcolormesh(X, Y, DATA[0], cmap=plt.cm.viridis)\n",
    "plt.colorbar()\n",
    "plt.axis([X.min(), X.max(), Y.min(), Y.max()])\n"
   ]
  },
  {
   "cell_type": "code",
   "execution_count": null,
   "metadata": {
    "collapsed": false
   },
   "outputs": [],
   "source": [
    "plt.pcolormesh(X, Y, DATA[1], cmap=plt.cm.viridis)\n",
    "plt.colorbar()\n",
    "plt.axis([X.min(), X.max(), Y.min(), Y.max()])\n"
   ]
  },
  {
   "cell_type": "code",
   "execution_count": null,
   "metadata": {
    "collapsed": true
   },
   "outputs": [],
   "source": [
    "def rotate_xy(x, y, phi):\n",
    "    rot = np.array([[np.cos(phi), -np.sin(phi)], [np.sin(phi), np.cos(phi)]])\n",
    "    return np.dot(rot, (x,y))"
   ]
  },
  {
   "cell_type": "code",
   "execution_count": null,
   "metadata": {
    "collapsed": false
   },
   "outputs": [],
   "source": [
    "rotate_xy(1, 0, np.pi*2)"
   ]
  },
  {
   "cell_type": "code",
   "execution_count": null,
   "metadata": {
    "collapsed": false
   },
   "outputs": [],
   "source": [
    "def run_nm():\n",
    "\n",
    "    y_shift = 3.4\n",
    "    x, y = 5, cell.Ly/2 + y_shift\n",
    "    phi = 0\n",
    "\n",
    "    D_para = 0.002\n",
    "    gamma_para = fluid.T/D_para\n",
    "    D_perp = 0.001\n",
    "    gamma_perp = fluid.T/D_perp\n",
    "    D_r = 1.25e-4\n",
    "    gamma_r = fluid.T/D_r\n",
    "\n",
    "    dt = 0.025\n",
    "    x_para_factor = np.sqrt(2*D_para*dt)\n",
    "    x_perp_factor = np.sqrt(2*D_perp*dt)\n",
    "\n",
    "    phi_factor = np.sqrt(2*D_r*dt)\n",
    "    dimer_data = []\n",
    "    for t in range(500):\n",
    "        for i in range(20):\n",
    "            F_y = F_C_y(x, y, phi)\n",
    "            F_N_x, F_N_y = new_F_N(x, y, phi)\n",
    "            F_com_x = F_N_x\n",
    "            F_com_y = F_N_y + F_y\n",
    "\n",
    "            xi_para, xi_perp, xi_phi = np.random.normal(size=(3,))\n",
    "            F_para, F_perp = rotate_xy(F_com_x, F_com_y, -phi)\n",
    "            F_para = F_para*dt/gamma_para + x_para_factor*xi_para\n",
    "            F_perp = F_perp*dt/gamma_perp + x_perp_factor*xi_perp\n",
    "            F_com = rotate_xy(F_para, F_perp, phi)\n",
    "            x += v_max*dt + F_com[0]\n",
    "            y += F_com[1]\n",
    "            phi += torque(F_y, F_N_x, F_N_y, phi)*dt / gamma_r + phi_factor*xi_phi\n",
    "        dimer_data.append((x,y,phi))\n",
    "    return np.array(dimer_data)\n"
   ]
  },
  {
   "cell_type": "code",
   "execution_count": null,
   "metadata": {
    "collapsed": false
   },
   "outputs": [],
   "source": [
    "nanomotor_stoc[nanomotor_EPS] = np.array([run_nm() for i in range(6)])"
   ]
  },
  {
   "cell_type": "code",
   "execution_count": null,
   "metadata": {
    "collapsed": false
   },
   "outputs": [],
   "source": [
    "plt.plot(*nanomotor_stoc[nanomotor_EPS].mean(axis=0)[:,:2].T)"
   ]
  },
  {
   "cell_type": "code",
   "execution_count": null,
   "metadata": {
    "collapsed": false
   },
   "outputs": [],
   "source": []
  },
  {
   "cell_type": "code",
   "execution_count": null,
   "metadata": {
    "collapsed": false
   },
   "outputs": [],
   "source": [
    "plt.plot(dimer_data[:,2])"
   ]
  },
  {
   "cell_type": "code",
   "execution_count": null,
   "metadata": {
    "collapsed": false
   },
   "outputs": [],
   "source": [
    "len(all_d_d)"
   ]
  },
  {
   "cell_type": "code",
   "execution_count": null,
   "metadata": {
    "collapsed": false
   },
   "outputs": [],
   "source": [
    "torque(F_C_y(5, 33, 0), fx, fy, 0)"
   ]
  },
  {
   "cell_type": "code",
   "execution_count": null,
   "metadata": {
    "collapsed": false
   },
   "outputs": [],
   "source": [
    "new_F_N(5, 33, 0), F_C_y(5, 33, 0)"
   ]
  },
  {
   "cell_type": "code",
   "execution_count": null,
   "metadata": {
    "collapsed": false
   },
   "outputs": [],
   "source": []
  },
  {
   "cell_type": "code",
   "execution_count": null,
   "metadata": {
    "collapsed": false
   },
   "outputs": [],
   "source": []
  },
  {
   "cell_type": "code",
   "execution_count": null,
   "metadata": {
    "collapsed": false
   },
   "outputs": [],
   "source": [
    "sto_m = np.array(all_d_d).mean(axis=0)\n",
    "sto_s = np.array(all_d_d).std(axis=0)\n",
    "\n",
    "plt.fill_between(sto_m[:,0], sto_m[:,1]-sto_s[:,1], sto_m[:,1]+sto_s[:,1], alpha=0.5)\n",
    "plt.plot(sto_m[:,0], sto_m[:,1])\n",
    "\n",
    "if False:\n",
    "    m, s = nm_xy_data.mean(axis=0), nm_xy_data.std(axis=0)\n",
    "    phi_m, phi_s = nm_phi_data.mean(axis=0), nm_phi_data.std(axis=0)\n",
    "\n",
    "    idx = m[:,0].searchsorted(23)\n",
    "\n",
    "    m = m[idx:]\n",
    "    m[:,0] -= 20\n",
    "    s = s[idx:]\n",
    "    phi_m = phi_m[idx:]\n",
    "    phi_s = phi_s[idx:]\n",
    "\n",
    "    plt.fill_between(m[:,0], m[:,1]-s[:,1], m[:,1]+s[:,1], alpha=0.5, color='r')\n",
    "    plt.plot(m[:,0], m[:,1], 'r')\n",
    "\n",
    "plt.figure()\n",
    "\n",
    "plt.plot(sto_m[:,0], sto_m[:,2], 'b')\n",
    "#plt.plot(m[:,0], phi_m, 'r')"
   ]
  },
  {
   "cell_type": "code",
   "execution_count": null,
   "metadata": {
    "collapsed": false
   },
   "outputs": [],
   "source": [
    "runs = glob('/pierre/code/RMPCDMD/experiments/02-chemotactic-cell/nanomotor_[A-Z].h5')\n",
    "runs.sort()\n",
    "\n",
    "nm_xy_data = []\n",
    "nm_phi_data = []\n",
    "for r in runs:\n",
    "    a = h5py.File(r, 'r')\n",
    "\n",
    "    r = a['particles/dimer/position/value'][:]\n",
    "\n",
    "    xy = r[:,:,:].mean(axis=1)\n",
    "    nm_xy_data.append(xy)\n",
    "    orientation = r[:,0,:] - r[:,1,:]\n",
    "    nm_phi_data.append(np.arctan2(orientation[:,1], orientation[:,0]))\n",
    "\n",
    "nm_xy_data = np.array(nm_xy_data)\n",
    "nm_phi_data = np.array(nm_phi_data)"
   ]
  },
  {
   "cell_type": "code",
   "execution_count": null,
   "metadata": {
    "collapsed": true
   },
   "outputs": [],
   "source": []
  }
 ],
 "metadata": {
  "kernelspec": {
   "display_name": "Python 3",
   "language": "python",
   "name": "python3"
  },
  "language_info": {
   "codemirror_mode": {
    "name": "ipython",
    "version": 3
   },
   "file_extension": ".py",
   "mimetype": "text/x-python",
   "name": "python",
   "nbconvert_exporter": "python",
   "pygments_lexer": "ipython3",
   "version": "3.5.2+"
  }
 },
 "nbformat": 4,
 "nbformat_minor": 0
}
