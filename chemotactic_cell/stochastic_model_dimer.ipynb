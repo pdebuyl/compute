{
 "cells": [
  {
   "cell_type": "code",
   "execution_count": null,
   "metadata": {
    "collapsed": true
   },
   "outputs": [],
   "source": [
    "%matplotlib inline\n",
    "import matplotlib.pyplot as plt\n",
    "import numpy as np\n",
    "import scipy.special"
   ]
  },
  {
   "cell_type": "markdown",
   "metadata": {},
   "source": [
    "### Diffusion equation\n",
    "\n",
    "The solution is\n",
    "$$\\frac{1}{2}\\left(1+\\mathrm{erf}(-\\frac{y}{\\sqrt{4Dt}})\\right)$$\n",
    "The \"standard\" definition matches the one of SciPy for [erf](https://docs.scipy.org/doc/scipy/reference/generated/scipy.special.erf.html).\n",
    "\n",
    "The derivative is\n",
    "$$\\lambda = - \\frac{1}{\\sqrt{4\\pi Dt}}e^{-y^2/(4Dt)}$$\n",
    "\n",
    "Both results are shifted by $L_y/2$ in the simulation as the separation\n",
    "of input channels takes place there."
   ]
  },
  {
   "cell_type": "code",
   "execution_count": null,
   "metadata": {
    "collapsed": true
   },
   "outputs": [],
   "source": [
    "class diffusion(object):\n",
    "    def __init__(self, D, rho, v_max, Ly):\n",
    "        self._D = D\n",
    "        self._rho = rho\n",
    "        self._v_max = v_max\n",
    "        self._Ly = Ly\n",
    "    def c_A(self, x, y):\n",
    "        \"\"\"Concentration of A species at position x, y\"\"\"\n",
    "        t_eff = 4*self._D*x/self._v_max\n",
    "        return self._rho*(1+scipy.special.erf(-(y-self._Ly/2)/np.sqrt(t_eff)))/2\n",
    "    def lam(self, x, y):\n",
    "        \"\"\"y derivative of the concentration at position x, y\"\"\"\n",
    "        t_eff = 4*self._D*x/self._v_max\n",
    "        return -self._rho/np.sqrt(np.pi*t_eff)*np.exp(-(y-self._Ly/2)**2/t_eff)\n",
    "    "
   ]
  },
  {
   "cell_type": "code",
   "execution_count": null,
   "metadata": {
    "collapsed": true
   },
   "outputs": [],
   "source": [
    "d = diffusion(0.194442848776, 10, 0.1583, 32)"
   ]
  },
  {
   "cell_type": "code",
   "execution_count": null,
   "metadata": {
    "collapsed": false
   },
   "outputs": [],
   "source": []
  },
  {
   "cell_type": "code",
   "execution_count": null,
   "metadata": {
    "collapsed": false
   },
   "outputs": [],
   "source": [
    "X, Y = np.meshgrid(np.linspace(0.1, 20, 120),np.linspace(0, 32, 100))"
   ]
  },
  {
   "cell_type": "code",
   "execution_count": null,
   "metadata": {
    "collapsed": false
   },
   "outputs": [],
   "source": [
    "plt.pcolormesh(X, Y, d.c_A(X, Y))\n",
    "#plt.xlim(0, 30)\n",
    "#plt.ylim(0, 32)\n",
    "plt.colorbar()"
   ]
  },
  {
   "cell_type": "code",
   "execution_count": null,
   "metadata": {
    "collapsed": false
   },
   "outputs": [],
   "source": [
    "plt.figure(figsize=(16,8))\n",
    "plt.subplot(121)\n",
    "plt.pcolormesh(X, Y, d.lam(X, Y))\n",
    "plt.colorbar()\n",
    "\n",
    "cprime = np.diff(d.c_A(X, Y), axis=0)/(Y[1,0]-Y[0,0])\n",
    "plt.subplot(122)\n",
    "plt.pcolormesh(X[:-1,:], Y[:-1,:], cprime)\n",
    "plt.colorbar()"
   ]
  },
  {
   "cell_type": "code",
   "execution_count": null,
   "metadata": {
    "collapsed": false
   },
   "outputs": [],
   "source": [
    "Y[1,0]-Y[0,0], 32/99"
   ]
  },
  {
   "cell_type": "code",
   "execution_count": null,
   "metadata": {
    "collapsed": true
   },
   "outputs": [],
   "source": [
    "class d_solution(object):\n",
    "    def __init__(self):\n",
    "        self.c0 = 0\n",
    "        self.c1 = 0\n",
    "        self.c2 = 0\n",
    "        self.lam = 0\n",
    "        self.R = 0\n",
    "    def polar_c(self, r, theta):\n",
    "        costheta = np.cos(theta)\n",
    "        h = 2\n",
    "        r_inverse = R/(np.exp(-h*r)/h+r)\n",
    "        return self.c0 + self.c1*r_inverse + self.c2*r_inverse**2*costheta\n",
    "    def cart_c(self, x, y):\n",
    "        r = np.sqrt(x**2+y**2)\n",
    "        theta = np.arccos(y/r)\n",
    "        return self.polar_c(r, theta)\n",
    "    "
   ]
  },
  {
   "cell_type": "code",
   "execution_count": null,
   "metadata": {
    "collapsed": true
   },
   "outputs": [],
   "source": [
    "s = d_solution()"
   ]
  },
  {
   "cell_type": "code",
   "execution_count": null,
   "metadata": {
    "collapsed": false
   },
   "outputs": [],
   "source": [
    "k0 = 1\n",
    "R = 3\n",
    "s.R = R\n",
    "lam = 0.5\n",
    "s.lam = lam\n",
    "D = 2\n",
    "kD = 4*np.pi*R*D\n",
    "c0 = 10\n",
    "s.c0 = c0\n",
    "s.c1 = k0/(k0+kD)*c0\n",
    "s.c2 = -k0/(k0+2*kD)*lam*R"
   ]
  },
  {
   "cell_type": "code",
   "execution_count": null,
   "metadata": {
    "collapsed": false
   },
   "outputs": [],
   "source": [
    "s.c2"
   ]
  },
  {
   "cell_type": "code",
   "execution_count": null,
   "metadata": {
    "collapsed": false
   },
   "outputs": [],
   "source": [
    "X, Y = np.meshgrid(np.linspace(-2, 2, 100),np.linspace(-2, 2, 100))"
   ]
  },
  {
   "cell_type": "code",
   "execution_count": null,
   "metadata": {
    "collapsed": false
   },
   "outputs": [],
   "source": [
    "plt.contour(X, Y, s.cart_c(X, Y))"
   ]
  },
  {
   "cell_type": "code",
   "execution_count": null,
   "metadata": {
    "collapsed": false
   },
   "outputs": [],
   "source": [
    "r = (np.arange(100)+1)/50\n",
    "plt.plot(r, 1/(0.05+r))\n",
    "plt.plot(r, 1/r)"
   ]
  },
  {
   "cell_type": "code",
   "execution_count": null,
   "metadata": {
    "collapsed": false
   },
   "outputs": [],
   "source": [
    "plt.plot(r, 1/r)\n",
    "h = 2\n",
    "plt.plot(r, 1/(np.exp(-h*r)/h+r))"
   ]
  },
  {
   "cell_type": "code",
   "execution_count": null,
   "metadata": {
    "collapsed": false
   },
   "outputs": [],
   "source": [
    "x = np.linspace(-20, 20, 400)\n",
    "D = 1\n",
    "t = 5\n",
    "f = 1/np.sqrt(np.pi*4*D*t)*np.exp(-x**2/(4*D*t))\n",
    "plt.plot(x, f)\n",
    "print(np.sum(f)*(x[1]-x[0]))"
   ]
  },
  {
   "cell_type": "code",
   "execution_count": null,
   "metadata": {
    "collapsed": true
   },
   "outputs": [],
   "source": [
    "scipy.integrate.quad?"
   ]
  },
  {
   "cell_type": "code",
   "execution_count": null,
   "metadata": {
    "collapsed": false
   },
   "outputs": [],
   "source": [
    "scipy.integrate.quad(lambda x: np.exp(-x**2)*2/np.sqrt(np.pi), -np.inf, 0)"
   ]
  },
  {
   "cell_type": "code",
   "execution_count": null,
   "metadata": {
    "collapsed": true
   },
   "outputs": [],
   "source": []
  }
 ],
 "metadata": {
  "kernelspec": {
   "display_name": "Python 3",
   "language": "python",
   "name": "python3"
  },
  "language_info": {
   "codemirror_mode": {
    "name": "ipython",
    "version": 3
   },
   "file_extension": ".py",
   "mimetype": "text/x-python",
   "name": "python",
   "nbconvert_exporter": "python",
   "pygments_lexer": "ipython3",
   "version": "3.5.2+"
  }
 },
 "nbformat": 4,
 "nbformat_minor": 0
}
