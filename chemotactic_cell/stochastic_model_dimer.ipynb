{
 "cells": [
  {
   "cell_type": "code",
   "execution_count": null,
   "metadata": {
    "collapsed": false
   },
   "outputs": [],
   "source": [
    "%matplotlib inline\n",
    "import matplotlib.pyplot as plt\n",
    "import numpy as np\n",
    "import scipy.special\n",
    "plt.rcParams['figure.figsize'] = (8, 6)\n",
    "plt.rcParams['figure.subplot.hspace'] = 0.25\n",
    "plt.rcParams['figure.subplot.left'] = 0.17\n",
    "plt.rcParams['axes.labelsize'] = 16\n"
   ]
  },
  {
   "cell_type": "markdown",
   "metadata": {},
   "source": [
    "### Diffusion equation\n",
    "\n",
    "The solution is\n",
    "$$\\frac{1}{2}\\left(1+\\mathrm{erf}(-\\frac{y}{\\sqrt{4Dt}})\\right)$$\n",
    "The \"standard\" definition matches the one of SciPy for [erf](https://docs.scipy.org/doc/scipy/reference/generated/scipy.special.erf.html).\n",
    "\n",
    "The derivative is\n",
    "$$\\lambda = - \\frac{1}{\\sqrt{4\\pi Dt}}e^{-y^2/(4Dt)}$$\n",
    "\n",
    "Both results are shifted by $L_y/2$ in the simulation as the separation\n",
    "of input channels takes place there.\n",
    "\n",
    "The time is directly related to the position in the channel via\n",
    "$$t = \\frac{x}{v}$$"
   ]
  },
  {
   "cell_type": "code",
   "execution_count": null,
   "metadata": {
    "collapsed": true
   },
   "outputs": [],
   "source": [
    "class diffusion(object):\n",
    "    def __init__(self, D, rho, v_max, Ly):\n",
    "        self._D = D\n",
    "        self._rho = rho\n",
    "        self._v_max = v_max\n",
    "        self._Ly = Ly\n",
    "    def c_A(self, x, y):\n",
    "        \"\"\"Concentration of A species at position x, y\"\"\"\n",
    "        t_eff = 4*self._D*x/self._v_max\n",
    "        return self._rho*(1+scipy.special.erf(-(y-self._Ly/2)/np.sqrt(t_eff)))/2\n",
    "    def lam(self, x, y):\n",
    "        \"\"\"y derivative of the concentration at position x, y\"\"\"\n",
    "        t_eff = 4*self._D*x/self._v_max\n",
    "        return -self._rho/np.sqrt(np.pi*t_eff)*np.exp(-(y-self._Ly/2)**2/t_eff)\n",
    "    "
   ]
  },
  {
   "cell_type": "code",
   "execution_count": null,
   "metadata": {
    "collapsed": true
   },
   "outputs": [],
   "source": [
    "# Parameters for \"cceq_2.p\"\n",
    "d = diffusion(0.194442848776, 10, 0.1583, 32)"
   ]
  },
  {
   "cell_type": "code",
   "execution_count": null,
   "metadata": {
    "collapsed": false
   },
   "outputs": [],
   "source": [
    "X, Y = np.meshgrid(np.linspace(0.1, 20, 180),np.linspace(0, 32, 150))"
   ]
  },
  {
   "cell_type": "code",
   "execution_count": null,
   "metadata": {
    "collapsed": false
   },
   "outputs": [],
   "source": [
    "plt.pcolormesh(X, Y, d.c_A(X, Y))\n",
    "#plt.xlim(0, 30)\n",
    "#plt.ylim(0, 32)\n",
    "plt.colorbar()\n",
    "plt.axis([X.min(), X.max(), Y.min(), Y.max()])\n",
    "plt.title('Concentration of A in the cell')"
   ]
  },
  {
   "cell_type": "code",
   "execution_count": null,
   "metadata": {
    "collapsed": false
   },
   "outputs": [],
   "source": [
    "plt.figure(figsize=(16,8))\n",
    "plt.subplot(121)\n",
    "plt.pcolormesh(X, Y, d.lam(X, Y))\n",
    "plt.colorbar()\n",
    "plt.axis([X.min(), X.max(), Y.min(), Y.max()])\n",
    "plt.title('y-derivative of $c_A$ - formula')\n",
    "\n",
    "cprime = np.diff(d.c_A(X, Y), axis=0)/(Y[1,0]-Y[0,0])\n",
    "plt.subplot(122)\n",
    "plt.pcolormesh(X[:-1,:], Y[:-1,:], cprime)\n",
    "plt.colorbar()\n",
    "plt.axis([X.min(), X.max(), Y.min(), Y.max()])\n",
    "plt.title('y-derivative of $c_A$ - numerical');\n"
   ]
  },
  {
   "cell_type": "code",
   "execution_count": null,
   "metadata": {
    "collapsed": false
   },
   "outputs": [],
   "source": [
    "Y[1,0]-Y[0,0], 32/99"
   ]
  },
  {
   "cell_type": "code",
   "execution_count": null,
   "metadata": {
    "collapsed": true
   },
   "outputs": [],
   "source": [
    "class d_solution(object):\n",
    "    def __init__(self, diffusor, x0):\n",
    "        self._diffusor = diffusor\n",
    "        self._x0 = x0\n",
    "        self.k0 = 0\n",
    "        self.kD = 0\n",
    "        self.R = 0\n",
    "    def cB(self, x, y):\n",
    "        x0, y0 = self._x0\n",
    "        c0 = self._diffusor.c_A(x0, y0)\n",
    "        lam = self._diffusor.lam(x0, y0)\n",
    "        c1 = - self.k0/(self.k0+self.kD)*c0\n",
    "        c2 = - self.k0/(self.k0+2*self.kD)*lam*self.R\n",
    "        r = np.sqrt((x-self._x0[0])**2+(y-self._x0[1])**2)\n",
    "        h = 1/R\n",
    "        r_inverse = self.R/(np.exp(-h*r)/h+r)\n",
    "        costheta = (y-y0)/r\n",
    "        return - c1*R/r - c2*R**2/r**2*costheta\n",
    "\n",
    "    def cart_c(self, x, y):\n",
    "        r = np.sqrt(x**2+y**2)\n",
    "        theta = np.arccos(y/r)\n",
    "        return self.polar_c(r, theta)\n",
    "    "
   ]
  },
  {
   "cell_type": "code",
   "execution_count": null,
   "metadata": {
    "collapsed": false
   },
   "outputs": [],
   "source": [
    "s = d_solution(d, x0=(3, 16))"
   ]
  },
  {
   "cell_type": "code",
   "execution_count": null,
   "metadata": {
    "collapsed": false
   },
   "outputs": [],
   "source": [
    "k0 = 1\n",
    "s.k0 = k0\n",
    "R = 2\n",
    "R_cut = R*2**(1/6)\n",
    "s.R = R\n",
    "s.kD = 4*np.pi*R*s._diffusor._D\n",
    "beta = 3\n",
    "eps = 1\n",
    "def V(r):\n",
    "    return 4*eps*((R/r)**12-(R/r)**6) + eps\n"
   ]
  },
  {
   "cell_type": "code",
   "execution_count": null,
   "metadata": {
    "collapsed": false
   },
   "outputs": [],
   "source": [
    "c = d.c_A(X, Y) - s.cB(X, Y)\n",
    "r = np.sqrt((X-s._x0[0])**2+(Y-s._x0[1])**2)\n",
    "mask = r<R_cut\n",
    "c[mask] = c[mask]*np.exp(-beta*V(r[mask]))\n",
    "plt.pcolormesh(X, Y, c)\n",
    "plt.axis([X.min(), X.max(), Y.min(), Y.max()])\n",
    "plt.colorbar()"
   ]
  },
  {
   "cell_type": "code",
   "execution_count": null,
   "metadata": {
    "collapsed": false
   },
   "outputs": [],
   "source": []
  },
  {
   "cell_type": "code",
   "execution_count": null,
   "metadata": {
    "collapsed": false
   },
   "outputs": [],
   "source": [
    "r = np.linspace(0.5, 5, 100)\n",
    "plt.plot(r, 1/r)\n",
    "h = 1\n",
    "plt.plot(r, 1/(np.exp(-h*r)/h+r))\n",
    "plt.plot(r, V(r))\n",
    "plt.ylim(0, 10)"
   ]
  },
  {
   "cell_type": "code",
   "execution_count": null,
   "metadata": {
    "collapsed": false
   },
   "outputs": [],
   "source": [
    "x = np.linspace(-20, 20, 400)\n",
    "D = 1\n",
    "t = 5\n",
    "f = 1/np.sqrt(np.pi*4*D*t)*np.exp(-x**2/(4*D*t))\n",
    "plt.plot(x, f)\n",
    "print(np.sum(f)*(x[1]-x[0]))"
   ]
  },
  {
   "cell_type": "code",
   "execution_count": null,
   "metadata": {
    "collapsed": true
   },
   "outputs": [],
   "source": [
    "scipy.integrate.quad?"
   ]
  },
  {
   "cell_type": "code",
   "execution_count": null,
   "metadata": {
    "collapsed": false
   },
   "outputs": [],
   "source": [
    "scipy.integrate.quad(lambda x: np.exp(-x**2)*2/np.sqrt(np.pi), -np.inf, 0)"
   ]
  },
  {
   "cell_type": "code",
   "execution_count": null,
   "metadata": {
    "collapsed": true
   },
   "outputs": [],
   "source": []
  }
 ],
 "metadata": {
  "kernelspec": {
   "display_name": "Python 3",
   "language": "python",
   "name": "python3"
  },
  "language_info": {
   "codemirror_mode": {
    "name": "ipython",
    "version": 3
   },
   "file_extension": ".py",
   "mimetype": "text/x-python",
   "name": "python",
   "nbconvert_exporter": "python",
   "pygments_lexer": "ipython3",
   "version": "3.5.2+"
  }
 },
 "nbformat": 4,
 "nbformat_minor": 0
}
