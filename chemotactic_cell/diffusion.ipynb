{
 "cells": [
  {
   "cell_type": "code",
   "execution_count": null,
   "metadata": {
    "collapsed": false
   },
   "outputs": [],
   "source": [
    "%matplotlib notebook\n",
    "import h5py\n",
    "import matplotlib.pyplot as plt\n",
    "import numpy as np\n",
    "from scipy.signal import fftconvolve\n",
    "from scipy.optimize import leastsq, curve_fit\n",
    "from scipy.integrate import simps, cumtrapz\n",
    "from glob import glob"
   ]
  },
  {
   "cell_type": "code",
   "execution_count": null,
   "metadata": {
    "collapsed": false
   },
   "outputs": [],
   "source": [
    "def _fitfunc(t, f0, tau):\n",
    "    return f0*np.exp(-t/tau)\n",
    "\n",
    "def _linfitfunc(t, p):\n",
    "    return p[0] + p[1]*t\n",
    "\n",
    "def fitfunc(p, t):\n",
    "    return p[0] + p[1]*t\n",
    "def errfunc(p, t, y):\n",
    "    return fitfunc(p, t) - y\n",
    "\n",
    "\n",
    "def get_block_data(group, name, dim=3):\n",
    "    t_data = []\n",
    "    data = []\n",
    "    block = group[name]['value'][:]\n",
    "    count = group[name]['count'][:]\n",
    "    block /= count.reshape((-1, 1, 1, 1))\n",
    "    dt = group[name]['time'][()]\n",
    "    for i in range(block.shape[0]):\n",
    "        t = dt*np.arange(block.shape[1])*block.shape[1]**i\n",
    "        t_data.append(t[1:])\n",
    "        data.append(block[i,1:,:,:].reshape((-1,dim)))\n",
    "\n",
    "    return np.concatenate(t_data), np.concatenate(data)\n"
   ]
  },
  {
   "cell_type": "code",
   "execution_count": null,
   "metadata": {
    "collapsed": true
   },
   "outputs": [],
   "source": [
    "runs = glob('/pierre/work/20161120/cceq_profile_compact_2041[567]*/*.h5')\n",
    "runs.sort()\n",
    "\n",
    "msd_all = []\n",
    "vacf_all = []\n",
    "tvacf_all = []\n",
    "pvacf_all = []\n",
    "\n",
    "for f in runs:\n",
    "    a = h5py.File(f, 'r')\n",
    "    group = a['block_correlators']\n",
    "\n",
    "    msd_t, msd_data = get_block_data(group, 'mean_square_displacement')\n",
    "    msd_all.append(msd_data)\n",
    "\n",
    "    vacf_t, vacf_data = get_block_data(group, 'velocity_autocorrelation')\n",
    "    vacf_all.append(vacf_data)\n",
    "\n",
    "    do_pvacf = 'parallel_velocity_autocorrelation' in group\n",
    "    if do_pvacf:\n",
    "        pvacf_t, pvacf_data = get_block_data(group, 'parallel_velocity_autocorrelation')\n",
    "        pvacf_all.append(pvacf_data)\n",
    "\n",
    "    do_tvacf = 'transverse_velocity_autocorrelation' in group\n",
    "    if do_tvacf:\n",
    "        tvacf_t, tvacf_data = get_block_data(group, 'transverse_velocity_autocorrelation')\n",
    "        tvacf_all.append(tvacf_data)\n",
    "\n",
    "    a.close()\n",
    "\n",
    "msd_all = np.array(msd_all)\n",
    "vacf_all = np.array(vacf_all)\n",
    "pvacf_all = np.array(pvacf_all)\n",
    "tvacf_all = np.array(tvacf_all)\n"
   ]
  },
  {
   "cell_type": "code",
   "execution_count": null,
   "metadata": {
    "collapsed": false
   },
   "outputs": [],
   "source": [
    "msd_all.shape"
   ]
  },
  {
   "cell_type": "code",
   "execution_count": null,
   "metadata": {
    "collapsed": false
   },
   "outputs": [],
   "source": [
    "plt.ylabel(r'$\\langle (\\mathbf{r}(\\tau) - \\mathbf{r}(0))^2 \\rangle$')\n",
    "\n",
    "m = msd_all.mean(axis=0)\n",
    "plt.plot(msd_t, m, marker='o')\n",
    "m = m[...,:2].sum(axis=-1)\n",
    "\n",
    "mask = msd_t>100\n",
    "solution, ierr = leastsq(errfunc, [0, 0.1], args=(msd_t[mask], m[mask]))\n",
    "intercept, D = solution\n",
    "# MSD = 2 d D t = 4 D t -> The coefficient of the linear fit must be divided by 4\n",
    "D = D/4\n",
    "plt.plot(msd_t, fitfunc((intercept, 2*D), msd_t))\n",
    "print(\"D_parallel + D_perp = \", 2*D)\n",
    "plt.xlabel(r'$\\tau$')\n",
    "plt.loglog()\n"
   ]
  },
  {
   "cell_type": "code",
   "execution_count": null,
   "metadata": {
    "collapsed": false
   },
   "outputs": [],
   "source": [
    "plt.ylabel(r'tvacf')\n",
    "m = tvacf_all.sum(axis=-1).mean(axis=0)\n",
    "m = tvacf_all[...,:2].sum(axis=-1).mean(axis=0)\n",
    "m = cumtrapz(m, tvacf_t, initial=0)\n",
    "plt.plot(1/tvacf_t, m)\n",
    "#plt.xscale('log')\n",
    "plt.ylim(1e-4, 0.008)\n",
    "\n",
    "mask = (1/tvacf_t>0.1)\n",
    "solution, ierr = leastsq(errfunc, [0.1, -0.1], args=(1/tvacf_t[mask], m[mask]))\n",
    "inv_t = np.linspace(1e-4, 1, 100)\n",
    "plt.plot(inv_t, fitfunc(solution, inv_t))\n",
    "plt.xlim(0, 1)\n",
    "\n",
    "print(\"Number of points:\", np.sum(mask))\n",
    "print(solution)"
   ]
  },
  {
   "cell_type": "code",
   "execution_count": null,
   "metadata": {
    "collapsed": false
   },
   "outputs": [],
   "source": [
    "plt.ylabel(r'pvacf')\n",
    "m = pvacf_all.sum(axis=-1).mean(axis=0)\n",
    "m = pvacf_all[...,:2].sum(axis=-1).mean(axis=0)\n",
    "m = cumtrapz(m, pvacf_t, initial=0)\n",
    "plt.plot(1/pvacf_t, m)\n",
    "#plt.xscale('log')\n",
    "\n",
    "mask = (1/pvacf_t>=0.01)*(1/pvacf_t<=0.1)\n",
    "solution, ierr = leastsq(errfunc, [0.1, -0.1], args=(1/pvacf_t[mask], m[mask]))\n",
    "inv_t = np.linspace(1e-4, 1, 100)\n",
    "plt.plot(inv_t, fitfunc(solution, inv_t))\n",
    "plt.xlim(0, 2)\n",
    "plt.ylim(0, 0.003)\n",
    "\n",
    "print(\"Number of points:\", np.sum(mask))\n",
    "print(solution)"
   ]
  },
  {
   "cell_type": "code",
   "execution_count": null,
   "metadata": {
    "collapsed": false
   },
   "outputs": [],
   "source": [
    "m[mask]"
   ]
  },
  {
   "cell_type": "code",
   "execution_count": null,
   "metadata": {
    "collapsed": false
   },
   "outputs": [],
   "source": [
    "plt.figure()\n",
    "ax1 = plt.subplot(211)\n",
    "plt.ylabel(r'tvacf')\n",
    "m = tvacf_all[...,:2].sum(axis=-1).mean(axis=0)\n",
    "plt.plot(tvacf_t, m, marker='o')\n",
    "plt.plot(tvacf_t, cumtrapz(m, tvacf_t, initial=0))\n",
    "plt.xscale('log')\n",
    "\n",
    "ax2 = plt.subplot(212, sharex=ax1)\n",
    "plt.ylabel(r'pvacf')\n",
    "m = pvacf_all[...,:2].sum(axis=-1).mean(axis=0)\n",
    "plt.plot(pvacf_t, m, marker='o')\n",
    "plt.plot(pvacf_t, cumtrapz(m, pvacf_t, initial=0))\n",
    "plt.xscale('log')\n"
   ]
  },
  {
   "cell_type": "code",
   "execution_count": null,
   "metadata": {
    "collapsed": false
   },
   "outputs": [],
   "source": [
    "m = tvacf_all[...,:2].sum(axis=-1).mean(axis=0)\n",
    "s = tvacf_all[...,:2].sum(axis=-1).std(axis=0)\n",
    "plt.plot(tvacf_t, m, 'k-')\n",
    "plt.plot(tvacf_t, m-s, 'k--')\n",
    "plt.plot(tvacf_t, m+s, 'k--')\n",
    "\n",
    "m = pvacf_all[...,:2].sum(axis=-1).mean(axis=0)\n",
    "s = pvacf_all[...,:2].sum(axis=-1).std(axis=0)\n",
    "\n",
    "plt.plot(pvacf_t, m, 'k-')\n",
    "plt.plot(pvacf_t, m-s, 'k--')\n",
    "plt.plot(pvacf_t, m+s, 'k--')\n"
   ]
  },
  {
   "cell_type": "code",
   "execution_count": null,
   "metadata": {
    "collapsed": true
   },
   "outputs": [],
   "source": []
  }
 ],
 "metadata": {
  "kernelspec": {
   "display_name": "Python 3",
   "language": "python",
   "name": "python3"
  },
  "language_info": {
   "codemirror_mode": {
    "name": "ipython",
    "version": 3
   },
   "file_extension": ".py",
   "mimetype": "text/x-python",
   "name": "python",
   "nbconvert_exporter": "python",
   "pygments_lexer": "ipython3",
   "version": "3.4.3"
  }
 },
 "nbformat": 4,
 "nbformat_minor": 0
}
