{
 "cells": [
  {
   "cell_type": "markdown",
   "metadata": {},
   "source": [
    "# Life and death on the lattice\n",
    "\n",
    "This reports introduces a lattice model for passive and so-called \"active\" diffusion.\n",
    "\n",
    "The model consists of particles characterized by a integer-valued position and evolving\n",
    "at discrete time steps.\n",
    "The passive particles move by random jumps of step 1 either to the left or to the right.\n",
    "The active particles possess a velocity of norm 1 and value -1 or +1. At every time step,\n",
    "they change of direction with probability $p_f$."
   ]
  },
  {
   "cell_type": "code",
   "execution_count": null,
   "metadata": {},
   "outputs": [],
   "source": [
    "%matplotlib notebook\n",
    "import numpy as np\n",
    "import matplotlib.pyplot as plt\n",
    "import tidynamics\n",
    "π = np.pi"
   ]
  },
  {
   "cell_type": "code",
   "execution_count": null,
   "metadata": {},
   "outputs": [],
   "source": [
    "def random_sign(n):\n",
    "    return (-1+2*np.random.randint(0, 2, size=n)).tolist()\n",
    "\n",
    "def random_flip(n, proba):\n",
    "    result = np.ones(n, dtype=int)\n",
    "    result[np.random.random(size=n)<proba] = -1\n",
    "    return result\n",
    "\n",
    "def compute_rho(indices, Nx):\n",
    "    result = np.zeros(Nx, dtype=int)\n",
    "    for idx in indices:\n",
    "        result[idx%Nx] += 1\n",
    "    return result\n",
    "\n",
    "def compute_rho(indices, Nx):\n",
    "    return np.histogram(indices, bins=-0.5+np.arange(Nx+1))[0]\n",
    "\n",
    "def random_move(n, proba_move):\n",
    "    result = -1+2*np.random.randint(0, 2, size=n)\n",
    "    result[np.random.random(size=n) > proba_move] = 0\n",
    "    return result\n"
   ]
  },
  {
   "cell_type": "markdown",
   "metadata": {},
   "source": [
    "## The passive model - diffusion\n",
    "\n",
    "### Model\n",
    "\n",
    "- $x(t+1) = x(t) + 1$ with probability $p_\\mathrm{move}/2$\n",
    "- $x(t+1) = x(t) - 1$ with probability $p_\\mathrm{move}/2$\n",
    "- $x(t+1) = x(t)$ with probability $1-p_\\mathrm{move}$\n",
    "\n",
    "For $p_\\mathrm{move}=1$, the probability density after $t$ steps is\n",
    "$$P(x(t) = X) \\propto e^{-X^2/(2 t)} = e^{-X^2/(4 D t)}$$\n",
    "which means that the diffusion coefficient is 1/2.\n",
    "\n",
    "For other values of $p_\\mathrm{move} \\in [0, 1]$, the diffusion constant\n",
    "is modified and by rescaling the time we have $D = \\frac{p_\\mathrm{move}}{2}$"
   ]
  },
  {
   "cell_type": "code",
   "execution_count": null,
   "metadata": {},
   "outputs": [],
   "source": [
    "# Parameters of the lattice\n",
    "\n",
    "N = 2048    # Number of particles\n",
    "Nx = 1024    # Number of lattice sites\n",
    "\n",
    "# Initial condition: delta peak\n",
    "\n",
    "p_idx = np.ones(N)*(Nx//2)\n",
    "# half of the particles are shifted by one to avoid sawtooth histograms\n",
    "p_idx[::2] += 1\n",
    "\n",
    "plt.figure()\n",
    "\n",
    "new_rho = []\n",
    "N_total = []\n",
    "proba_move = 0.3\n",
    "D = proba_move / 2\n",
    "for i in range(512+1):\n",
    "    p_idx += random_move(len(p_idx), proba_move=proba_move)\n",
    "    p_idx = np.mod(p_idx, Nx)\n",
    "    ρ = compute_rho(p_idx, Nx)\n",
    "    if i>0 and i%128==0:\n",
    "        l, = plt.plot(ρ)\n",
    "        plt.plot(N / np.sqrt(D*i*4*π) * np.exp(-(np.arange(Nx)-Nx//2)**2/(4*D*i)), ls='--', color=l.get_color())\n",
    "        \n",
    "p_min, p_max = p_idx.min(), p_idx.max()\n",
    "\n",
    "half_width_max = max(abs(p_min-Nx/2), abs(p_max-Nx/2))\n",
    "\n",
    "plt.xlim(Nx/2 - half_width_max, Nx/2 + half_width_max)\n"
   ]
  },
  {
   "cell_type": "markdown",
   "metadata": {},
   "source": [
    "## Adding life to passive diffusion\n",
    "\n",
    "We aim here at reproducing locally a chemical kinetics of\n",
    "\n",
    "$$\\frac{d}{dt} {[A]} = k_b [A] - k_d [A]^2$$\n",
    "\n",
    "where $k_b$ is the birth rate and $k_d$ the death rate.\n",
    "\n",
    "Death is here modeled as a binary collision process, as this is the appropriate kinetic\n",
    "model to obtain a $[A]^2$ term in the rate equation.\n",
    "\n",
    "For the particles, we use the following procedure:\n",
    "\n",
    "- If $\\xi_b < k_b A$ add one particle in the lattice cell.\n",
    "- If $\\xi_d < k_d A^2 / A_0$ remove two particles in the lattice cell.\n",
    "\n",
    "$\\xi_b$ and $\\xi_d$ are random numbers in $[0, 1]$.\n",
    "\n",
    "The quadratic terms means that the cell-wise density must be evaluated at every time\n",
    "step."
   ]
  },
  {
   "cell_type": "markdown",
   "metadata": {},
   "source": [
    "### Chemical kinetics\n",
    "\n",
    "To model the birth and death process, we use the following reactions:\n",
    "\n",
    "- $A -> 2A$ with rate $k_b$\n",
    "- $2A -> 0$ with rate $k_d$\n",
    "\n",
    "As we work on a lattice, we can use the same method as for multiparticle collision\n",
    "type fluids proposed by Rohlf, Fraser and Kapral (Comp. Phys. Commun. 2008).\n",
    "\n",
    "In any given cell, and for low enough rates, the probabilities are as follows:\n",
    "\n",
    "- $p_b = N_A k_b \\tau$ is the probability of a birth\n",
    "- $p_d = N_A (N_A - 1) k_d \\tau /2$ is the probability of two deaths\n",
    "- The probabilities do not sum to 1, as the \"remaininder\" is simply the\n",
    "  probability of no reaction (that should of course go to 1 for small\n",
    "  values of $\\tau$).\n",
    "  \n",
    "The chemical kinetics is encoded in the function `react` that will return:\n",
    "- 0 for no reaction\n",
    "- 1 for creating a particle\n",
    "- 2 for removing two particles\n",
    "\n",
    "After processing all cells, the program below will look for particles belonging to cells\n",
    "where deletions occur, store their indices and remove them with the `.pop` method (larger\n",
    "indices first to avoid shifting indices).\n"
   ]
  },
  {
   "cell_type": "code",
   "execution_count": null,
   "metadata": {},
   "outputs": [],
   "source": [
    "def react(count, k1, k2):\n",
    "    if count==0:\n",
    "        return 0\n",
    "    proba_1 = count*k1\n",
    "    if count>1:\n",
    "        proba_2 = count*(count-1)*k2 # Rohlf Eq. (4)\n",
    "    else:\n",
    "        proba_2 = 0\n",
    "    xi = np.random.random()\n",
    "    reaction = 0\n",
    "    if xi < proba_1+proba_2:\n",
    "        xi = np.random.random()*(proba_1+proba_2)\n",
    "        if xi < proba_1:\n",
    "            reaction = 1\n",
    "        else:\n",
    "            reaction = 2\n",
    "    return reaction\n"
   ]
  },
  {
   "cell_type": "code",
   "execution_count": null,
   "metadata": {},
   "outputs": [],
   "source": [
    "# Parameters of the lattice\n",
    "\n",
    "N = 512    # Number of particles\n",
    "Nx = 2048    # Number of lattice sites\n",
    "\n",
    "p_idx = np.random.randint(1024-32, 1024+32, size=N)\n",
    "\n",
    "plt.figure()\n",
    "\n",
    "proba_move = 0.0025\n",
    "k1 = proba_move\n",
    "ρ_max = 10\n",
    "k2 = k1/2/ρ_max\n",
    "\n",
    "new_rho = []\n",
    "N = len(p_idx)\n",
    "N_r = [N]\n",
    "N_total = [N]\n",
    "BASE = 1024\n",
    "\n",
    "for i in range(1+6*BASE):\n",
    "    p_idx += random_move(len(p_idx), proba_move=proba_move)\n",
    "    p_idx = np.mod(p_idx, Nx)\n",
    "    ρ = compute_rho(p_idx, Nx)\n",
    "\n",
    "    new_p = []\n",
    "    kill_p = []\n",
    "\n",
    "    for j in range(Nx):\n",
    "        count = ρ[j]\n",
    "\n",
    "        reaction = react(count, k1, k2)\n",
    "        \n",
    "        if reaction==1:\n",
    "            # create a particle\n",
    "            new_p.append(j)\n",
    "            N += 1\n",
    "        elif reaction==2:\n",
    "            # destroy two particles\n",
    "            kill_p.append(j)\n",
    "            kill_p.append(j)\n",
    "            N -= 2\n",
    "    p_idx = p_idx.tolist()\n",
    "    kill_indices = []\n",
    "    for k in kill_p:\n",
    "        for l, idx in enumerate(p_idx):\n",
    "            if idx==k and l not in kill_indices:\n",
    "                kill_indices.append(l)\n",
    "                break\n",
    "    kill_indices.sort()\n",
    "    kill_indices.reverse()\n",
    "    for k in kill_indices:\n",
    "        p_idx.pop(k)\n",
    "    p_idx = np.array([*p_idx, *new_p])\n",
    "    N_total.append(len(p_idx))\n",
    "    N_r.append(N)\n",
    "    ρ = compute_rho(p_idx, Nx)\n",
    "\n",
    "    if i>0 and i%BASE==0:\n",
    "        l, = plt.plot(ρ)\n",
    "\n",
    "p_min, p_max = p_idx.min(), p_idx.max()\n",
    "half_width_max = max(abs(p_min-Nx/2), abs(p_max-Nx/2))\n",
    "#plt.xlim(Nx/2 - half_width_max, Nx/2 + half_width_max)\n",
    "\n",
    "plt.figure()\n",
    "plt.plot(N_total)\n",
    "plt.plot(N_r)\n"
   ]
  },
  {
   "cell_type": "markdown",
   "metadata": {},
   "source": [
    "### Continuous model\n",
    "\n",
    "$$\\partial_t \\rho = D \\partial_{xx} \\rho + k_b \\rho - k_d \\rho^2$$\n",
    "\n",
    "$$\\partial_t \\rho = D \\partial_{xx} \\rho + k_b \\rho (1 - \\frac{k_d}{k_b} \\rho)$$\n",
    "\n",
    "Transform\n",
    "- $t \\to t k_b$\n",
    "- $D \\to D / k_B$"
   ]
  },
  {
   "cell_type": "code",
   "execution_count": null,
   "metadata": {},
   "outputs": [],
   "source": [
    "600/4000"
   ]
  },
  {
   "cell_type": "code",
   "execution_count": null,
   "metadata": {},
   "outputs": [],
   "source": [
    "2*ρ_max*5/np.sqrt(6)*proba_move/2"
   ]
  },
  {
   "cell_type": "code",
   "execution_count": null,
   "metadata": {},
   "outputs": [],
   "source": [
    "D"
   ]
  },
  {
   "cell_type": "code",
   "execution_count": null,
   "metadata": {},
   "outputs": [],
   "source": [
    "proba_move"
   ]
  },
  {
   "cell_type": "code",
   "execution_count": null,
   "metadata": {},
   "outputs": [],
   "source": [
    "t = np.arange(len(N_r))\n",
    "\n",
    "fit = np.polyfit(t, N_r, 1)\n",
    "\n",
    "plt.figure()\n",
    "plt.plot(N_r)\n",
    "plt.plot(t, np.poly1d(fit)(t))"
   ]
  },
  {
   "cell_type": "code",
   "execution_count": null,
   "metadata": {},
   "outputs": [],
   "source": [
    "fit"
   ]
  },
  {
   "cell_type": "code",
   "execution_count": null,
   "metadata": {},
   "outputs": [],
   "source": []
  }
 ],
 "metadata": {
  "kernelspec": {
   "display_name": "Python 3",
   "language": "python",
   "name": "python3"
  },
  "language_info": {
   "codemirror_mode": {
    "name": "ipython",
    "version": 3
   },
   "file_extension": ".py",
   "mimetype": "text/x-python",
   "name": "python",
   "nbconvert_exporter": "python",
   "pygments_lexer": "ipython3",
   "version": "3.6.4"
  }
 },
 "nbformat": 4,
 "nbformat_minor": 2
}
