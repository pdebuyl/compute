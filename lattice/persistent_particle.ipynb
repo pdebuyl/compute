{
 "cells": [
  {
   "cell_type": "code",
   "execution_count": null,
   "metadata": {},
   "outputs": [],
   "source": [
    "%matplotlib notebook\n",
    "import numpy as np\n",
    "import matplotlib.pyplot as plt\n",
    "import scipy.special\n",
    "import scipy.integrate\n",
    "import tidynamics\n",
    "import threefry"
   ]
  },
  {
   "cell_type": "code",
   "execution_count": null,
   "metadata": {},
   "outputs": [],
   "source": [
    "def random_sign(n):\n",
    "    return (-1+2*np.random.randint(0, 2, size=n)).tolist()\n",
    "\n",
    "def random_flip(n, proba):\n",
    "    result = np.ones(n, dtype=int)\n",
    "    result[np.random.random(size=n)<proba] = -1\n",
    "    return result\n",
    "\n",
    "def compute_rho(indices, Nx):\n",
    "    result = np.zeros(Nx, dtype=int)\n",
    "    for idx in indices:\n",
    "        result[idx%Nx] += 1\n",
    "    return result\n"
   ]
  },
  {
   "cell_type": "code",
   "execution_count": null,
   "metadata": {},
   "outputs": [],
   "source": [
    "r = threefry.rng(98765)"
   ]
  },
  {
   "cell_type": "code",
   "execution_count": null,
   "metadata": {},
   "outputs": [],
   "source": [
    "# Test active Fischer KPP\n",
    "\n",
    "\n",
    "N = 2000\n",
    "\n",
    "Nx = 2000\n",
    "\n",
    "ρ_max = 10"
   ]
  },
  {
   "cell_type": "code",
   "execution_count": null,
   "metadata": {},
   "outputs": [],
   "source": [
    "many_rho = []"
   ]
  },
  {
   "cell_type": "code",
   "execution_count": null,
   "metadata": {},
   "outputs": [],
   "source": [
    "k1 = 0.1 # rate for A->2A\n",
    "k2 = 0.01 # rate for 2A -> nil\n",
    "\n",
    "p_flip = 1/4\n",
    "\n",
    "p_idx = np.random.randint(0, Nx//8, size=N)\n",
    "p_vel = np.array(random_sign(N))\n",
    "\n",
    "plt.figure()\n",
    "\n",
    "new_rho = []\n",
    "N_total = []\n",
    "for i in range(2000):\n",
    "    p_idx += p_vel\n",
    "    p_vel *= random_flip(len(p_vel), p_flip)\n",
    "    new_p = []\n",
    "    kill_p = []\n",
    "    ρ = compute_rho(p_idx, Nx)\n",
    "    for j in range(Nx):\n",
    "        count = ρ[j]\n",
    "        if count==0:\n",
    "            continue\n",
    "        proba_1 = count*k1/ρ_max\n",
    "        if count>1:\n",
    "            proba_2 = count*(count-1)*k2/ρ_max**2 # Rohlf Eq. (4)\n",
    "        else:\n",
    "            proba_2 = 0\n",
    "        xi = np.random.random()\n",
    "        reaction = 0\n",
    "        if proba_1+proba_2 > xi:\n",
    "            xi = np.random.random()*(proba_1+proba_2)\n",
    "            if xi < proba_1:\n",
    "                reaction = 1\n",
    "            else:\n",
    "                reaction = 2\n",
    "\n",
    "        if reaction==1:\n",
    "            # create a particle\n",
    "            new_p.append(j)\n",
    "        elif reaction==2:\n",
    "            # destroy two particles\n",
    "            kill_p.append(j)\n",
    "            kill_p.append(j)\n",
    "    p_idx = p_idx.tolist()\n",
    "    p_vel = p_vel.tolist()\n",
    "    kill_indices = []\n",
    "    for k in kill_p:\n",
    "        for l, idx in enumerate(p_idx):\n",
    "            if idx==k and l not in kill_indices:\n",
    "                kill_indices.append(l)\n",
    "                continue\n",
    "    kill_indices.sort()\n",
    "    kill_indices.reverse()\n",
    "    for k in kill_indices:\n",
    "        p_idx.pop(k)\n",
    "        p_vel.pop(k)\n",
    "    p_idx = np.array([*p_idx, *new_p])\n",
    "    p_vel = np.array([*p_vel, *random_sign(len(new_p))])\n",
    "    N_total.append(len(p_idx))\n",
    "    ρ = compute_rho(p_idx, Nx)\n",
    "    if i%200==0:\n",
    "        plt.plot(ρ)\n",
    "    new_rho.append(ρ)\n",
    "many_rho.append(new_rho.copy())"
   ]
  },
  {
   "cell_type": "code",
   "execution_count": null,
   "metadata": {},
   "outputs": [],
   "source": [
    "plt.figure()\n",
    "plt.plot(N_total)"
   ]
  },
  {
   "cell_type": "code",
   "execution_count": null,
   "metadata": {},
   "outputs": [],
   "source": [
    "all_rho = np.array(many_rho)"
   ]
  },
  {
   "cell_type": "code",
   "execution_count": null,
   "metadata": {},
   "outputs": [],
   "source": [
    "all_rho.shape"
   ]
  },
  {
   "cell_type": "code",
   "execution_count": null,
   "metadata": {},
   "outputs": [],
   "source": [
    "plt.figure()\n",
    "for i in range(0, 20, 2):\n",
    "    plt.plot(all_rho[:,i*100,:].mean(axis=0))\n"
   ]
  },
  {
   "cell_type": "code",
   "execution_count": null,
   "metadata": {},
   "outputs": [],
   "source": [
    "\n",
    "def vv(n, p_f):\n",
    "    p_nf = 1-p_f\n",
    "    result = 0\n",
    "    for i in range(n+1):\n",
    "        result += p_nf**i * p_f**(n-i) * (-1)**(n-i) * scipy.special.comb(n, i)\n",
    "    return result\n"
   ]
  },
  {
   "cell_type": "code",
   "execution_count": null,
   "metadata": {},
   "outputs": [],
   "source": [
    "[vv(i, 0.1) for i in range(10)]"
   ]
  },
  {
   "cell_type": "code",
   "execution_count": null,
   "metadata": {},
   "outputs": [],
   "source": [
    "p_f = 0.01\n",
    "D = 0.5 + 1/(np.exp(2*p_f)-1)\n",
    "\n",
    "xx_data = []\n",
    "vv_data = []\n",
    "for hop in range(256):\n",
    "    x = 0\n",
    "    v = 1\n",
    "\n",
    "    v_data = [x]\n",
    "    x_data = [v]\n",
    "    for i in range(200000):\n",
    "        x += v\n",
    "        if r.random_uniform() < p_f:\n",
    "            v *= -1\n",
    "        v_data.append(v)\n",
    "        x_data.append(x)\n",
    "\n",
    "    vv_data.append(np.array(v_data))\n",
    "    xx_data.append(np.array(x_data))\n"
   ]
  },
  {
   "cell_type": "code",
   "execution_count": null,
   "metadata": {},
   "outputs": [],
   "source": []
  },
  {
   "cell_type": "code",
   "execution_count": null,
   "metadata": {},
   "outputs": [],
   "source": [
    "N_steps = 5000\n",
    "steps = np.arange(N_steps)\n",
    "vacf = tidynamics.acf(v_data)[:N_steps]\n",
    "msd = tidynamics.msd(x_data)[:N_steps]\n"
   ]
  },
  {
   "cell_type": "code",
   "execution_count": null,
   "metadata": {},
   "outputs": [],
   "source": [
    "all_vacf = np.array([tidynamics.acf(v_data)[:N_steps] for v_data in vv_data])"
   ]
  },
  {
   "cell_type": "code",
   "execution_count": null,
   "metadata": {},
   "outputs": [],
   "source": [
    "plt.figure()\n",
    "m = all_vacf.mean(axis=0)\n",
    "s = all_vacf.std(axis=0)\n",
    "\n",
    "plt.plot(m)\n",
    "plt.plot(m+s, ls='--')\n",
    "plt.plot(m-s, ls='--')\n"
   ]
  },
  {
   "cell_type": "code",
   "execution_count": null,
   "metadata": {},
   "outputs": [],
   "source": [
    "plt.figure()\n",
    "plt.axhline(D)\n",
    "plt.plot(np.cumsum(all_vacf.mean(axis=0)))"
   ]
  },
  {
   "cell_type": "code",
   "execution_count": null,
   "metadata": {},
   "outputs": [],
   "source": [
    "all_msd = np.array([tidynamics.msd(x_data)[:N_steps] for x_data in xx_data])"
   ]
  },
  {
   "cell_type": "code",
   "execution_count": null,
   "metadata": {},
   "outputs": [],
   "source": [
    "plt.figure()\n",
    "\n",
    "m = all_msd.mean(axis=0)[:N_steps]\n",
    "\n",
    "plt.plot(steps, 2*D*steps, label='th.')\n",
    "\n",
    "fit = np.polyfit(steps, m, 1)\n",
    "\n",
    "plt.plot(steps, np.poly1d(fit)(steps), label='fit')\n",
    "\n",
    "plt.plot(steps, m, label='simu.')\n",
    "\n",
    "\n",
    "plt.legend()"
   ]
  },
  {
   "cell_type": "code",
   "execution_count": null,
   "metadata": {},
   "outputs": [],
   "source": [
    "fit[0]/2"
   ]
  },
  {
   "cell_type": "code",
   "execution_count": null,
   "metadata": {},
   "outputs": [],
   "source": [
    "0.5 + 1/(np.exp(2*p_f) - 1), 1/(2*p_f)"
   ]
  },
  {
   "cell_type": "code",
   "execution_count": null,
   "metadata": {},
   "outputs": [],
   "source": []
  }
 ],
 "metadata": {
  "kernelspec": {
   "display_name": "Python 3",
   "language": "python",
   "name": "python3"
  },
  "language_info": {
   "codemirror_mode": {
    "name": "ipython",
    "version": 3
   },
   "file_extension": ".py",
   "mimetype": "text/x-python",
   "name": "python",
   "nbconvert_exporter": "python",
   "pygments_lexer": "ipython3",
   "version": "3.6.4"
  }
 },
 "nbformat": 4,
 "nbformat_minor": 2
}
