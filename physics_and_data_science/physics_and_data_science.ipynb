{
 "cells": [
  {
   "cell_type": "code",
   "execution_count": null,
   "metadata": {
    "slideshow": {
     "slide_type": "skip"
    }
   },
   "outputs": [],
   "source": [
    "%matplotlib inline\n",
    "import numpy as np\n",
    "import matplotlib.pyplot as plt\n",
    "plt.rcParams['figure.figsize'] = (12, 8)\n",
    "plt.rcParams['font.size'] = '16'"
   ]
  },
  {
   "cell_type": "markdown",
   "metadata": {
    "slideshow": {
     "slide_type": "slide"
    }
   },
   "source": [
    "# Physics and Data Science\n",
    "\n",
    "**Author:** Pierre de Buyl  \n",
    "http://pdebuyl.be  \n",
    "\n",
    "**Data Science Leuven** 11 February 2020\n",
    "\n",
    "\n",
    "**License:** [CC-BY](https://creativecommons.org/licenses/by/4.0/)"
   ]
  },
  {
   "cell_type": "markdown",
   "metadata": {
    "slideshow": {
     "slide_type": "slide"
    }
   },
   "source": [
    "## Who am I?\n",
    "\n",
    "- Physicist at the [Institute for Theoretical Physics](https://fys.kuleuven.be/itf/) KU Leuven\n",
    "  - Statistical physics\n",
    "  - Nonlinear dynamics\n",
    "  - Computational science\n",
    "- Co-organizer of EuroSciPy 2012 and 2013\n",
    "- Open science / open source contributor [@pdebuyl](https://github.com/pdebuyl) on GitHub\n"
   ]
  },
  {
   "cell_type": "markdown",
   "metadata": {
    "slideshow": {
     "slide_type": "subslide"
    }
   },
   "source": [
    "## Two parts\n",
    "\n",
    "1. What can Data Science do for Physics?\n",
    "2. What can Physics do for Data Science?"
   ]
  },
  {
   "cell_type": "markdown",
   "metadata": {
    "slideshow": {
     "slide_type": "fragment"
    }
   },
   "source": [
    "Physics and computing (in general) have a strong shared history."
   ]
  },
  {
   "cell_type": "markdown",
   "metadata": {
    "slideshow": {
     "slide_type": "slide"
    }
   },
   "source": [
    "## Data Science ?"
   ]
  },
  {
   "cell_type": "markdown",
   "metadata": {
    "slideshow": {
     "slide_type": "subslide"
    }
   },
   "source": [
    "### Greater Data Science categories by Donoho\n",
    "1. Data Gathering, Preparation, and Exploration\n",
    "2. Data Representation and Transformation\n",
    "3. Computing with Data\n",
    "4. Data Modeling\n",
    "5. Data Visualization and Presentation\n",
    "6. Science about Data Science"
   ]
  },
  {
   "cell_type": "markdown",
   "metadata": {
    "slideshow": {
     "slide_type": "fragment"
    }
   },
   "source": [
    "**Focus** on computing and modeling"
   ]
  },
  {
   "cell_type": "markdown",
   "metadata": {
    "slideshow": {
     "slide_type": "subslide"
    }
   },
   "source": [
    "## Data Science for Physics\n",
    "\n",
    "- Detection of particles in particle accelerators\n",
    "- LHC summary:\n",
    "  - 30 PB per year\n",
    "  - Real-time filtering of collision events\n",
    "  - Worldwide grid for data analysis\n",
    "- In preparation: deep learning pipeline for event filtering"
   ]
  },
  {
   "cell_type": "markdown",
   "metadata": {
    "slideshow": {
     "slide_type": "slide"
    }
   },
   "source": [
    "![Collision at CERN](cern_detection_figure.png)\n",
    "\n",
    "**Credit:** [Daniel Helmborg](https://towardsdatascience.com/particle-tracking-at-cern-with-machine-learning-4cb6b255613c) on Medium."
   ]
  },
  {
   "cell_type": "markdown",
   "metadata": {
    "slideshow": {
     "slide_type": "slide"
    }
   },
   "source": [
    "## Data Science for Physics\n",
    "\n",
    "- Machine learning for materials science\n",
    "- Tune interatomic potentials without human \"a priori\"\n",
    "- Large scale data analysis for optimizing photovoltaic cells"
   ]
  },
  {
   "cell_type": "markdown",
   "metadata": {
    "slideshow": {
     "slide_type": "slide"
    }
   },
   "source": [
    "## Physics for Data Science: general ideas\n",
    "\n",
    "- Laws of physics\n",
    "- Modeling\n",
    "- Information theory"
   ]
  },
  {
   "cell_type": "markdown",
   "metadata": {
    "slideshow": {
     "slide_type": "slide"
    }
   },
   "source": [
    "## Physics for Data Science: Nonlinear dynamics and chaos\n",
    "\n",
    "- The butterfly effect exists *but* is often misrepresented.\n",
    "- Quick summary: a small change can have a large consequence.\n",
    "- Example with the logistic map\n",
    "$$ x \\to 4\\ x \\ (1-x)$$"
   ]
  },
  {
   "cell_type": "code",
   "execution_count": null,
   "metadata": {
    "slideshow": {
     "slide_type": "slide"
    }
   },
   "outputs": [],
   "source": [
    "def logistic_map(x):\n",
    "    return 4*x*(1-x)"
   ]
  },
  {
   "cell_type": "code",
   "execution_count": null,
   "metadata": {},
   "outputs": [],
   "source": [
    "data_1 = [] ; data_2 = []\n",
    "x1 = 0.45678998765478\n",
    "x2 = x1 + 0.0000001\n",
    "for i in range(35):\n",
    "    x1 = logistic_map(x1) ; x2 = logistic_map(x2)\n",
    "    data_1.append(x1) ; data_2.append(x2)\n"
   ]
  },
  {
   "cell_type": "code",
   "execution_count": null,
   "metadata": {
    "slideshow": {
     "slide_type": "subslide"
    }
   },
   "outputs": [],
   "source": [
    "plt.plot(data_1, marker='o')\n",
    "plt.plot(data_2, marker='o')"
   ]
  },
  {
   "cell_type": "markdown",
   "metadata": {
    "slideshow": {
     "slide_type": "subslide"
    }
   },
   "source": [
    "### Why the example?\n",
    "\n",
    "- Sometimes unintuitive patterns have a simple explanation.\n",
    "- In 1961, Lorenz discovered chaos by entering numerical values on the computer. He found out unexpected results because of the limited accuracy of his printout.\n",
    "- Many real-life problems exhibit chaotic behavior: population dynamics, economics, biochemical networks, ..."
   ]
  },
  {
   "cell_type": "markdown",
   "metadata": {
    "slideshow": {
     "slide_type": "slide"
    }
   },
   "source": [
    "## Physics for Data Science: information theory\n",
    "\n",
    "- Thermodynamics applies to information\n",
    "- Entropy hints at the quantity of information"
   ]
  },
  {
   "cell_type": "markdown",
   "metadata": {
    "slideshow": {
     "slide_type": "slide"
    }
   },
   "source": [
    "![](xkcd_936_password.png)\n",
    "\n",
    "**Credit:** [xkcd](https://xkcd.com/936/)"
   ]
  },
  {
   "cell_type": "markdown",
   "metadata": {
    "slideshow": {
     "slide_type": "slide"
    }
   },
   "source": [
    "<video controls src=\"gas_entropy.mp4\" />"
   ]
  },
  {
   "cell_type": "markdown",
   "metadata": {},
   "source": [
    "**Credit:** [@AndrewM_Webb](https://mobile.twitter.com/AndrewM_Webb/status/1182340203253514247)"
   ]
  },
  {
   "cell_type": "markdown",
   "metadata": {
    "slideshow": {
     "slide_type": "slide"
    }
   },
   "source": [
    "## Physics for Data Science: information theory\n",
    "\n",
    "- Minimal energy to erase a bit: $k_B \\ln 2$\n",
    "- Relation between data and the physical world"
   ]
  },
  {
   "cell_type": "markdown",
   "metadata": {
    "slideshow": {
     "slide_type": "slide"
    }
   },
   "source": [
    "## Physics for Data Science: stochastic optimization\n",
    "\n",
    "- Finding good parameters is hard!\n",
    "- Objective: minimize cost function."
   ]
  },
  {
   "cell_type": "code",
   "execution_count": null,
   "metadata": {
    "slideshow": {
     "slide_type": "slide"
    }
   },
   "outputs": [],
   "source": [
    "def cost_function(x):\n",
    "    return x**4 + 5*x - 10*x**2\n",
    "\n",
    "def cost_derivative(x):\n",
    "    return 4*x**3 + 5 - 20*x\n",
    "\n",
    "def update(x, step=0.005):\n",
    "    derivative = cost_derivative(x)\n",
    "    return x - derivative*step\n",
    "\n",
    "xr = np.linspace(-4, 4)"
   ]
  },
  {
   "cell_type": "code",
   "execution_count": null,
   "metadata": {},
   "outputs": [],
   "source": [
    "x = 3.5\n",
    "data = [x]\n",
    "for i in range(100):\n",
    "    x = update(x)\n",
    "    data.append(x)\n",
    "data = np.array(data)"
   ]
  },
  {
   "cell_type": "code",
   "execution_count": null,
   "metadata": {
    "slideshow": {
     "slide_type": "slide"
    }
   },
   "outputs": [],
   "source": [
    "plt.plot(xr, cost_function(xr), label='cost function')\n",
    "plt.scatter(data, cost_function(data), color='orange', label='gradient method')\n",
    "plt.ylim(-40, 40) ; plt.legend()"
   ]
  },
  {
   "cell_type": "code",
   "execution_count": null,
   "metadata": {
    "slideshow": {
     "slide_type": "slide"
    }
   },
   "outputs": [],
   "source": [
    "def update_stoch(x, step=0.01):                    \n",
    "    derivative = cost_derivative(x)\n",
    "    return x - derivative*step + 4*np.random.normal()*np.sqrt(step)\n",
    "\n",
    "x = 3.5            \n",
    "data_stoch = [x]\n",
    "for i in range(10000):\n",
    "    x = update_stoch(x)\n",
    "    if i%10==0: data_stoch.append(x)  \n",
    "data_stoch = np.array(data_stoch)"
   ]
  },
  {
   "cell_type": "code",
   "execution_count": null,
   "metadata": {
    "slideshow": {
     "slide_type": "slide"
    }
   },
   "outputs": [],
   "source": [
    "plt.plot(xr, cost_function(xr), label='cost function')\n",
    "plt.scatter(data, cost_function(data), color='orange', label='gradient method')\n",
    "plt.scatter(data_stoch, cost_function(data_stoch), color='green', label='stochastic gradient method')\n",
    "plt.ylim(-40, 50) ; plt.legend()"
   ]
  },
  {
   "cell_type": "code",
   "execution_count": null,
   "metadata": {
    "slideshow": {
     "slide_type": "slide"
    }
   },
   "outputs": [],
   "source": [
    "plt.plot(data_stoch)"
   ]
  },
  {
   "cell_type": "markdown",
   "metadata": {
    "slideshow": {
     "slide_type": "slide"
    }
   },
   "source": [
    "## Physics for Data Science: stochastic processes\n",
    "\n",
    "- Stochastic gradient method: \"a random walk in a force field\"\n",
    "- Relation to Brownian motion, a cornerstone of statistical physics\n",
    "- Monte Carlo methods → Markov Chain Monte Carlo (MCMC)"
   ]
  },
  {
   "cell_type": "markdown",
   "metadata": {
    "slideshow": {
     "slide_type": "slide"
    }
   },
   "source": [
    "## Summary\n",
    "\n",
    "- Physicists use Data Science\n",
    "- Ideas from statistical physics can be useful to Data Science:\n",
    "  - Nonlinear dynamics and chaos\n",
    "  - Information theory\n",
    "  - Random walks and Brownian motion"
   ]
  },
  {
   "cell_type": "markdown",
   "metadata": {
    "slideshow": {
     "slide_type": "-"
    }
   },
   "source": [
    "## Perspectives\n",
    "\n",
    "- Beyond black boxes\n",
    "- Physics should adopt more widely good programming practices"
   ]
  }
 ],
 "metadata": {
  "celltoolbar": "Slideshow",
  "kernelspec": {
   "display_name": "Python 3",
   "language": "python",
   "name": "python3"
  },
  "language_info": {
   "codemirror_mode": {
    "name": "ipython",
    "version": 3
   },
   "file_extension": ".py",
   "mimetype": "text/x-python",
   "name": "python",
   "nbconvert_exporter": "python",
   "pygments_lexer": "ipython3",
   "version": "3.7.3"
  }
 },
 "nbformat": 4,
 "nbformat_minor": 2
}
