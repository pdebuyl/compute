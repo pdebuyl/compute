{
 "cells": [
  {
   "cell_type": "markdown",
   "metadata": {},
   "source": [
    "# The Threefry random number generator\n",
    "\n",
    "**Author:** Pierre de Buyl  \n",
    "This notebook is originally developed in a github\n",
    "[repository](https://github.com/pdebuyl/compute/blob/master/threefry/threefry.ipynb)\n",
    "and presented on my [blog](http://pdebuyl.be/blog/2016/threefry-rng.html).\n",
    "The code is 3-clause BSD and content [CC-BY](https://creativecommons.org/licenses/by/3.0/)."
   ]
  },
  {
   "cell_type": "markdown",
   "metadata": {},
   "source": [
    "## Threefish\n",
    "\n",
    "The Threefish block cipher is a part of the encryption candidate [Skein](http://www.skein-hash.info/).\n",
    "A [block cipher](https://en.wikipedia.org/wiki/Block_cipher) is a reversible transformation of a\n",
    "sequence of bytes that depends on a user chosen key. Threefish (see the Wikipedia\n",
    "[page](https://en.wikipedia.org/wiki/Threefish) and the official\n",
    "[specification](http://www.skein-hash.info/)) is built of several simple components:\n",
    "  - a mix function that operates on words\n",
    "  - a permutation function $\\pi$ that operates on several consecutive words\n",
    "  - a key schedule, that defines how the information in the key is applied within the algorithm\n",
    "\n",
    "Here, a *word* is defined as a sequence of 64 bits. In practice, it is stored as an unsigned 64-bit\n",
    "integer. All sums are computed modulo $2^{64}-1$.\n",
    "\n",
    "The full algorithm, going from a series of \"plain text\" words $p_i$ to the corresponding \"cipher\" $c_i$\n",
    "consists in applying the following steps for $N_r$ rounds:\n",
    "1. one round in four, add the key to the current value of the data\n",
    "2. apply the mix function to two consecutive words at a time\n",
    "3. permute the words according to $\\pi$\n",
    "\n",
    "After the last round, a final addition of the key is applied and the full data is XOR-ed with the\n",
    "initial value $p$. In Threefish, the key schedule is modified by a *tweak*, an extra set of two\n",
    "words.\n",
    "The specification provides:\n",
    "  - a set of rotation constants for the mix function\n",
    "  - the constant C240 that is part of the key schedule\n",
    "  - the permutation function $\\pi$\n",
    "  - the number of rounds.\n",
    "\n",
    "Threefish is specified for blocks of 256, 512 and 1024 bits. Below is a plain implementation of\n",
    "Threefish-256 that operates on 4 words blocks, in Python (the code is intended for Python 3).\n",
    "The test reproduces the content of the example found on the official NIST CD release of Skein.\n",
    "Intermediate steps are obtained by adding the argument \"debug=True\"."
   ]
  },
  {
   "cell_type": "code",
   "execution_count": null,
   "metadata": {
    "collapsed": true
   },
   "outputs": [],
   "source": [
    "NW = 4\n",
    "C240 = 0x1BD11BDAA9FC1A22\n",
    "N_ROUNDS=72\n",
    "MASK = 2**64-1\n",
    "pi = (0, 3, 2, 1)\n",
    "R_256 = ((14, 16), (52, 57), (23, 40), (5, 37), (25, 33), (46, 12), (58, 22), (32, 32))\n",
    "\n",
    "def rotl_64(x, d):\n",
    "    return ((x << d) | (x >> (64-d))) & MASK\n",
    "\n",
    "def mix(x0, x1, R):\n",
    "    y0 = (x0+x1) & MASK\n",
    "    y1 = rotl_64(x1, R) ^ y0\n",
    "    return y0, y1\n",
    "\n",
    "def key_schedule(K, TW, s):\n",
    "    return (K[(s)%(NW+1)] & MASK,\n",
    "              (K[(s+1)%(NW+1)] + TW[s%3]) & MASK,\n",
    "              (K[(s+2)%(NW+1)] + TW[(s+1)%3]) & MASK,\n",
    "              (K[(s+3)%(NW+1)] + s) & MASK)\n",
    "\n",
    "def threefish(p, K, TW, debug=False):\n",
    "    K = (K[0], K[1], K[2], K[3], C240^K[0]^K[1]^K[2]^K[3])\n",
    "    TW = (TW[0], TW[1], TW[0]^TW[1])\n",
    "    v = list(p)\n",
    "    for r in range(N_ROUNDS):\n",
    "        e = [0]*4\n",
    "        if r%4 == 0:\n",
    "            ksi = key_schedule(K, TW, r//4)\n",
    "            for i in range(NW):\n",
    "                e[i] = (v[i] + ksi[i]) & MASK\n",
    "            if debug: print('key injection   ', list(map(hex, e)))\n",
    "        else:\n",
    "            e = v\n",
    "        f = [0]*4\n",
    "        f[0], f[1] = mix(e[0], e[1], R_256[r%8][0])\n",
    "        f[2], f[3] = mix(e[2], e[3], R_256[r%8][1])\n",
    "        if (r%2 == 0) and debug: print('end of round %03i' % (r+1), list(map(hex, f)))\n",
    "        for i in range(NW):\n",
    "            v[i] = f[pi[i]]\n",
    "        if (r%2 == 1) and debug: print('end of round %03i' % (r+1), list(map(hex, v)))\n",
    "\n",
    "    ksi = key_schedule(K, TW, N_ROUNDS//4)\n",
    "    v = [((x + k)^pp) & MASK for x, k, pp in zip(v, ksi, p)]\n",
    "    if debug: print(list(map(hex, v)))\n",
    "\n",
    "    return v\n"
   ]
  },
  {
   "cell_type": "code",
   "execution_count": null,
   "metadata": {
    "collapsed": false
   },
   "outputs": [],
   "source": [
    "# Test run with parameters from the NIST CD, file KAT_MCT/skein_golden_kat_internals.txt\n",
    "\n",
    "K = (0x1716151413121110, 0x1F1E1D1C1B1A1918, 0x2726252423222120, 0x2F2E2D2C2B2A2928)\n",
    "TW = (0x0706050403020100, 0x0F0E0D0C0B0A0908)\n",
    "\n",
    "c = threefish((0xF8F9FAFBFCFDFEFF, 0xF0F1F2F3F4F5F6F7, 0xE8E9EAEBECEDEEEF, 0xE0E1E2E3E4E5E6E7), K, TW)\n",
    "print([hex(x) for x in c])"
   ]
  },
  {
   "cell_type": "markdown",
   "metadata": {},
   "source": [
    "## Block ciphers, random numbers and Threefry\n",
    "\n",
    "The motivation for this post (and the corresponding code) is to generate random numbers. The use\n",
    "of cryptographic protocols as *keyed counter-based pseudorandom number generators* is presented\n",
    "in Salmon *et al* \"Parallel Random Numbers: As Easy as 1, 2, 3\", [doi:10.1145/2063384.2063405](http://dx.doi.org/10.1145/2063384.2063405), Proceedings of SC'11.\n",
    "The use of the the Skein algorithm (based on Threefish) is already mentioned in its specification, but\n",
    "the paper by Salmon *et al* goes further by specializing the algorithm (and others as well) for use in a\n",
    "PRNG context. I present here their specialization of Threefish: Threefry.\n",
    "Threefry is based on the Threefish block cipher, with two shortcuts. The number of rounds is reduced and\n",
    "the tweak that influence the key schedule is removed. I concentrate here on Threefry-2x64, that is using\n",
    "two 64-bit words, with 20 rounds.\n",
    "\n",
    "Whereas the prototypical PRNG steps from integer value to integer value using (more or less) complex\n",
    "iteration schemes, a counter based PRNG gives a random value directly for any point in the sequence at a\n",
    "fixed computational cost.\n",
    "The purpose of a cryptographic algorithm is to make it hard to guess the input from the output. Changing\n",
    "the input value from $i$ to $i+1$ will output an uncorrelated value.\n",
    "\n",
    "The algorithm depends on a key of two words. One of them can be used as the seed and the other to identify\n",
    "one stream (i.e. a compute unit in a parallel computing environment).\n",
    "The position in the random stream is given as the \"plain text\" word.\n",
    "\n",
    "Practically, it means that instead of keeping a state for the PRNG it is possible to request `random_number(counter, key)` where `random_number` is a pure function, `counter` is simply the iteration number that is requested and `key`\n",
    "is used to identify the stream (including a stream \"id\" and a seed).\n",
    "\n",
    "The authors of the paper provide an implementation at http://www.thesalmons.org/john/random123/ or http://www.deshawresearch.com/resources_random123.html\n",
    "\n",
    "As I had wanted to understand the algorithm and have a working Threefish above, here is a Python version of\n",
    "Threefry-2x64."
   ]
  },
  {
   "cell_type": "code",
   "execution_count": null,
   "metadata": {
    "collapsed": true
   },
   "outputs": [],
   "source": [
    "NW_THREEFRY = 2\n",
    "C240 = 0x1BD11BDAA9FC1A22\n",
    "N_ROUNDS_THREEFRY = 20\n",
    "MASK = 2**64-1\n",
    "R_THREEFRY = (16, 42, 12, 31, 16, 32, 24, 21)\n",
    "\n",
    "def key_schedule_threefry(K, s):\n",
    "    return (K[(s)%(NW_THREEFRY+1)] & MASK,\n",
    "              (K[(s+1)%(NW_THREEFRY+1)] + s) & MASK)\n",
    "\n",
    "def threefry(p, K, debug=False):\n",
    "    K = (K[0], K[1], C240^K[0]^K[1])\n",
    "    v = list(p)\n",
    "    for r in range(N_ROUNDS_THREEFRY):\n",
    "        if r%4 == 0:\n",
    "            ksi = key_schedule_threefry(K, r//4)\n",
    "            e = [ (v[0]+ksi[0]) & MASK, (v[1]+ksi[1]) & MASK ]\n",
    "            if debug: print('key injection   ', list(map(hex, e)))\n",
    "        else:\n",
    "            e = v\n",
    "        v[0], v[1] = mix(e[0], e[1], R_THREEFRY[r%8])\n",
    "        if debug: print('end of round %03i' % (r+1), list(map(hex, v)))\n",
    "\n",
    "    ksi = key_schedule_threefry(K, N_ROUNDS_THREEFRY//4)\n",
    "    v = [(x + k) & MASK for x, k in zip(v, ksi)]\n",
    "    if debug: print(list(map(hex, v)))\n",
    "\n",
    "    return v\n"
   ]
  },
  {
   "cell_type": "code",
   "execution_count": null,
   "metadata": {
    "collapsed": false
   },
   "outputs": [],
   "source": [
    "print(list(map(hex, threefry((0x0,0x0), (0x0, 0x0)))))"
   ]
  },
  {
   "cell_type": "code",
   "execution_count": null,
   "metadata": {
    "collapsed": false
   },
   "outputs": [],
   "source": [
    "ff = 0xffffffffffffffff\n",
    "print(list(map(hex, threefry((ff,ff), (ff, ff)))))"
   ]
  },
  {
   "cell_type": "code",
   "execution_count": null,
   "metadata": {
    "collapsed": false
   },
   "outputs": [],
   "source": [
    "print(list(map(hex, threefry((0x243f6a8885a308d3, 0x13198a2e03707344), (0xa4093822299f31d0, 0x082efa98ec4e6c89)))))"
   ]
  },
  {
   "cell_type": "code",
   "execution_count": null,
   "metadata": {
    "collapsed": true
   },
   "outputs": [],
   "source": []
  }
 ],
 "metadata": {
  "kernelspec": {
   "display_name": "Python 3",
   "language": "python",
   "name": "python3"
  },
  "language_info": {
   "codemirror_mode": {
    "name": "ipython",
    "version": 3
   },
   "file_extension": ".py",
   "mimetype": "text/x-python",
   "name": "python",
   "nbconvert_exporter": "python",
   "pygments_lexer": "ipython3",
   "version": "3.4.3+"
  }
 },
 "nbformat": 4,
 "nbformat_minor": 0
}
