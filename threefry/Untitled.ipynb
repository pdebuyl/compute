{
 "cells": [
  {
   "cell_type": "code",
   "execution_count": null,
   "metadata": {
    "collapsed": true
   },
   "outputs": [],
   "source": [
    "NW = 4\n",
    "C240 = 0x1BD11BDAA9FC1A22\n",
    "N_ROUNDS=72\n",
    "MASK = 2**64-1\n",
    "pi = (0, 3, 2, 1)\n",
    "R_256 = ((14, 16), (52, 57), (23, 40), (5, 37), (25, 33), (46, 12), (58, 22), (32, 32))\n",
    "\n",
    "def rotl_64(x, d):\n",
    "    return ((x << d) | (x >> (64-d))) & MASK\n",
    "\n",
    "def mix(x0, x1, R):\n",
    "    y0 = (x0+x1) & MASK\n",
    "    y1 = rotl_64(x1, R) ^ y0\n",
    "    return y0, y1\n",
    "\n",
    "def key_schedule(K, TW, s):\n",
    "    return (K[(s)%(NW+1)] & MASK,\n",
    "              (K[(s+1)%(NW+1)] + TW[s%3]) & MASK,\n",
    "              (K[(s+2)%(NW+1)] + TW[(s+1)%3]) & MASK,\n",
    "              (K[(s+3)%(NW+1)] + s) & MASK)\n",
    "\n",
    "def threefish(p, K, TW, debug=False):\n",
    "    K = (K[0], K[1], K[2], K[3], C240^K[0]^K[1]^K[2]^K[3])\n",
    "    TW = (TW[0], TW[1], TW[0]^TW[1])\n",
    "    v = list(p)\n",
    "    for r in range(N_ROUNDS):\n",
    "        e = [0]*4\n",
    "        if r%4 == 0:\n",
    "            ksi = key_schedule(K, TW, r//4)\n",
    "            for i in range(NW):\n",
    "                e[i] = (v[i] + ksi[i]) & MASK\n",
    "            if debug: print('key injection   ', list(map(hex, e)))\n",
    "        else:\n",
    "            e = v\n",
    "        f = [0]*4\n",
    "        f[0], f[1] = mix(e[0], e[1], R_256[r%8][0])\n",
    "        f[2], f[3] = mix(e[2], e[3], R_256[r%8][1])\n",
    "        if (r%2 == 0) and debug: print('end of round %03i' % (r+1), list(map(hex, f)))\n",
    "        for i in range(NW):\n",
    "            v[i] = f[pi[i]]\n",
    "        if (r%2 == 1) and debug: print('end of round %03i' % (r+1), list(map(hex, v)))\n",
    "\n",
    "    ksi = key_schedule(K, TW, N_ROUNDS//4)\n",
    "    v = [((x + k)^pp) & MASK for x, k, pp in zip(v, ksi, p)]\n",
    "    if debug: print(list(map(hex, v)))\n",
    "\n",
    "    return v\n"
   ]
  },
  {
   "cell_type": "code",
   "execution_count": null,
   "metadata": {
    "collapsed": false
   },
   "outputs": [],
   "source": [
    "K = (0x1716151413121110, 0x1F1E1D1C1B1A1918, 0x2726252423222120, 0x2F2E2D2C2B2A2928)\n",
    "TW = (0x0706050403020100, 0x0F0E0D0C0B0A0908)\n",
    "\n",
    "c = threefish((0xF8F9FAFBFCFDFEFF, 0xF0F1F2F3F4F5F6F7, 0xE8E9EAEBECEDEEEF, 0xE0E1E2E3E4E5E6E7), K, TW)\n",
    "print(list(map(hex, c)))"
   ]
  },
  {
   "cell_type": "code",
   "execution_count": null,
   "metadata": {
    "collapsed": true
   },
   "outputs": [],
   "source": []
  }
 ],
 "metadata": {
  "kernelspec": {
   "display_name": "Python 3",
   "language": "python",
   "name": "python3"
  },
  "language_info": {
   "codemirror_mode": {
    "name": "ipython",
    "version": 3
   },
   "file_extension": ".py",
   "mimetype": "text/x-python",
   "name": "python",
   "nbconvert_exporter": "python",
   "pygments_lexer": "ipython3",
   "version": "3.5.2+"
  }
 },
 "nbformat": 4,
 "nbformat_minor": 0
}
