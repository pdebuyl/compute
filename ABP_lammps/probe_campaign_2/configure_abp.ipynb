{
 "cells": [
  {
   "cell_type": "code",
   "execution_count": null,
   "metadata": {},
   "outputs": [],
   "source": [
    "%matplotlib notebook\n",
    "import numpy as np\n",
    "import matplotlib.pyplot as plt\n",
    "import h5py\n",
    "import tidynamics\n",
    "import subprocess\n",
    "import os, os.path\n",
    "import time"
   ]
  },
  {
   "cell_type": "code",
   "execution_count": null,
   "metadata": {},
   "outputs": [],
   "source": [
    "cd ~/compute/ABP_lammps/probe_campaign_2/"
   ]
  },
  {
   "cell_type": "code",
   "execution_count": null,
   "metadata": {},
   "outputs": [],
   "source": [
    "%run abp_util"
   ]
  },
  {
   "cell_type": "code",
   "execution_count": null,
   "metadata": {},
   "outputs": [],
   "source": [
    "params = {\n",
    "    'tau_r': 10,\n",
    "    'v0': 0,\n",
    "    'hfile': 'abp.h5',\n",
    "    'sigma_probe': 3,\n",
    "    'add_force': 0,\n",
    "    'sampling': 16000,\n",
    "    'dump_every': 100,\n",
    "    'L': 30,\n",
    "    'rho': 0.1,\n",
    "    'bath_dump_every': 100,\n",
    "    'bath_hfile': 'active_bath.h5'\n",
    "}"
   ]
  },
  {
   "cell_type": "code",
   "execution_count": null,
   "metadata": {},
   "outputs": [],
   "source": []
  },
  {
   "cell_type": "code",
   "execution_count": null,
   "metadata": {},
   "outputs": [],
   "source": [
    "vary_k, vary_v = 'v0', [0, 10, 20]"
   ]
  },
  {
   "cell_type": "code",
   "execution_count": null,
   "metadata": {},
   "outputs": [],
   "source": [
    "t0 = time.time()\n",
    "\n",
    "res = {}\n",
    "\n",
    "for i, val in enumerate(vary_v):\n",
    "    p = params.copy()\n",
    "    p.update({vary_k: val, 'hfile': f'abp_{i}.h5', 'bath_hfile': f'active_bath_{i}.h5'})\n",
    "    print(p)\n",
    "    parameter_file = write_input(**p)\n",
    "    with open(f'abp_{i}.in', 'w') as f:\n",
    "        f.write(parameter_file)\n",
    "    # here, run the simulation\n",
    "    subprocess.run([os.path.join(os.path.expanduser('~'), 'code', 'lammps', 'build_fix_active', 'lmp'), '-i', f'abp_{i}.in'])\n",
    "    #with h5py.File('abp.h5', 'r') as a:\n",
    "        # load data\n",
    "    \n",
    "\n",
    "for i, val in enumerate(vary_v):\n",
    "\n",
    "    with h5py.File(p['hfile'], 'r') as a:\n",
    "        L = a['particles/probe/box/edges/value'][0]\n",
    "        r = a['particles/probe/position/value'][:,0,:]\n",
    "        im = a['particles/probe/image/value'][:,0,:]\n",
    "        r += im*L[None,:]\n",
    "        v = a['particles/probe/velocity/value'][:,0,:]\n",
    "        r_t = a['particles/probe/position/time'][:]\n",
    "        v_t = a['particles/probe/velocity/time'][:]\n",
    "\n",
    "    r_t -= r_t[0]\n",
    "    v_t -= v_t[0]\n",
    "    u = v / np.sqrt(np.sum(v**2, axis=1))[:,None]\n",
    "\n",
    "    d = {}\n",
    "    d['msd'] = tidynamics.msd(r)\n",
    "    d['vacf'] = tidynamics.acf(v)\n",
    "    d['uacf'] = tidynamics.acf(u)\n",
    "    d['x'] = r[:,0]\n",
    "\n",
    "    res[val] = d\n",
    "\n",
    "    print(val)\n",
    "\n",
    "print(\"elapsed time:\", time.time()-t0)"
   ]
  },
  {
   "cell_type": "code",
   "execution_count": null,
   "metadata": {},
   "outputs": [],
   "source": [
    "plt.figure()\n",
    "\n",
    "for val in vary_v:\n",
    "    d = res[val]\n",
    "    plt.plot(r_t, d['msd'], label=vary_k+' '+str(val))\n",
    "\n",
    "plt.plot(r_t, 4/3*r_t, label='passive diff')\n",
    "\n",
    "plt.legend()"
   ]
  },
  {
   "cell_type": "code",
   "execution_count": null,
   "metadata": {},
   "outputs": [],
   "source": [
    "plt.figure()\n",
    "\n",
    "for val in vary_v:\n",
    "    d = res[val]\n",
    "    plt.plot(v_t, d['vacf'])\n",
    "\n",
    "plt.xlim(0, 10)"
   ]
  },
  {
   "cell_type": "code",
   "execution_count": null,
   "metadata": {},
   "outputs": [],
   "source": []
  },
  {
   "cell_type": "code",
   "execution_count": null,
   "metadata": {},
   "outputs": [],
   "source": []
  }
 ],
 "metadata": {
  "kernelspec": {
   "display_name": "Python 3",
   "language": "python",
   "name": "python3"
  },
  "language_info": {
   "codemirror_mode": {
    "name": "ipython",
    "version": 3
   },
   "file_extension": ".py",
   "mimetype": "text/x-python",
   "name": "python",
   "nbconvert_exporter": "python",
   "pygments_lexer": "ipython3",
   "version": "3.7.3"
  }
 },
 "nbformat": 4,
 "nbformat_minor": 2
}
