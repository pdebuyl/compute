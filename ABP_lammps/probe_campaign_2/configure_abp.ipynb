{
 "cells": [
  {
   "cell_type": "code",
   "execution_count": null,
   "metadata": {},
   "outputs": [],
   "source": [
    "%matplotlib notebook\n",
    "import numpy as np\n",
    "import matplotlib.pyplot as plt\n",
    "import h5py\n",
    "import tidynamics\n",
    "import subprocess\n",
    "import os, os.path\n",
    "import time\n",
    "import itertools\n",
    "from glob import glob"
   ]
  },
  {
   "cell_type": "code",
   "execution_count": null,
   "metadata": {},
   "outputs": [],
   "source": [
    "cd ~/compute/ABP_lammps/probe_campaign_2/"
   ]
  },
  {
   "cell_type": "code",
   "execution_count": null,
   "metadata": {},
   "outputs": [],
   "source": [
    "%run abp_util"
   ]
  },
  {
   "cell_type": "code",
   "execution_count": null,
   "metadata": {},
   "outputs": [],
   "source": [
    "abp_fr_TH = {\n",
    "    'params': {\n",
    "    'tau_r': 10,\n",
    "    'v0': 10,\n",
    "    'hfile': 'abp.h5',\n",
    "    'sigma_probe': 3,\n",
    "    'add_force': 0.2,\n",
    "    'sampling': 2*32000,\n",
    "    'dump_every': 100,\n",
    "    'L': 30,\n",
    "    'rho': 0.2,\n",
    "    'bath_dump_every': 0,\n",
    "    },\n",
    "    'vary_k': 'add_force',\n",
    "    'vary_v': [0., 0.1, 0.2, 0.3, 0.4, 0.5],\n",
    "    'run_name': 'abp_fr_TH'\n",
    "}\n",
    "\n",
    "abp_fr_TW = {\n",
    "    'params': {\n",
    "    'tau_r': 10,\n",
    "    'v0': 10,\n",
    "    'hfile': 'abp.h5',\n",
    "    'sigma_probe': 3,\n",
    "    'add_force': 0,\n",
    "    'sampling': 2*32000,\n",
    "    'dump_every': 100,\n",
    "    'L': 30,\n",
    "    'rho': 0.2,\n",
    "    'bath_dump_every': 0,\n",
    "    },\n",
    "    'vary_k': 'v0',\n",
    "    'vary_v': [0, 5, 10, 15, 20],\n",
    "    'run_name': 'abp_fr_TW'\n",
    "}\n",
    "\n",
    "abp_fr_FO = {\n",
    "    'params': {\n",
    "    'tau_r': 10,\n",
    "    'v0': 10,\n",
    "    'hfile': 'abp.h5',\n",
    "    'sigma_probe': 3,\n",
    "    'sampling': 2*32000,\n",
    "    'dump_every': 100,\n",
    "    'L': 30,\n",
    "    'rho': 0.2,\n",
    "    'bath_dump_every': 0,\n",
    "    },\n",
    "    'vary_k': 'v0',\n",
    "    'vary_v': [0, 5, 10, 15, 20],\n",
    "    'run_name': 'abp_fr_FO'\n",
    "}\n",
    "\n",
    "\n",
    "settings = abp_fr_FO\n",
    "\n",
    "params = settings['params']"
   ]
  },
  {
   "cell_type": "code",
   "execution_count": null,
   "metadata": {},
   "outputs": [],
   "source": []
  },
  {
   "cell_type": "code",
   "execution_count": null,
   "metadata": {},
   "outputs": [],
   "source": [
    "vary_k"
   ]
  },
  {
   "cell_type": "code",
   "execution_count": null,
   "metadata": {},
   "outputs": [],
   "source": [
    "run_name = settings['run_name']\n",
    "#os.mkdir(run_name)\n",
    "\n",
    "in_file_list = []\n",
    "letters = 'abcdef'\n",
    "for (i, val), letter in itertools.product(enumerate(settings['vary_v']), letters):\n",
    "    prefix = f'{run_name}_{i:05d}_{letter}'\n",
    "    p = params.copy()\n",
    "    p.update({settings['vary_k']: val, 'hfile': prefix+'.h5'})\n",
    "    if letter == 'a':\n",
    "        print(p)\n",
    "    parameter_file = write_input(**p)\n",
    "    in_file = prefix+'.in'\n",
    "    in_file_list.append(in_file)\n",
    "    with open(os.path.join(run_name, in_file), 'w') as f:\n",
    "        f.write(parameter_file)\n",
    "        \n",
    "print(in_file_list)"
   ]
  },
  {
   "cell_type": "code",
   "execution_count": null,
   "metadata": {},
   "outputs": [],
   "source": []
  },
  {
   "cell_type": "code",
   "execution_count": null,
   "metadata": {},
   "outputs": [],
   "source": [
    "lmp_exe = os.path.join(os.path.expanduser('~'), 'code', 'lammps', 'build_fix_active', 'lmp')\n",
    "\n",
    "t0 = time.time()\n",
    "\n",
    "subprocess.run(['parallel', '-j', '3', lmp_exe,'-i', ':::', *in_file_list])\n",
    "\n",
    "print(\"elapsed time:\", time.time()-t0)"
   ]
  },
  {
   "cell_type": "code",
   "execution_count": null,
   "metadata": {},
   "outputs": [],
   "source": [
    "res = {}\n",
    "\n",
    "for (i, val), letter in itertools.product(enumerate(vary_v), letters):\n",
    "    prefix = f'{run_name}_{i:05d}_{letter}'\n",
    "    p = params.copy()\n",
    "    p.update({vary_k: val, 'hfile': prefix+'.h5'})\n",
    "    \n",
    "    with h5py.File(os.path.join(run_name, p['hfile']), 'r') as a:\n",
    "        L = a['particles/probe/box/edges/value'][0]\n",
    "        r = a['particles/probe/position/value'][:,0,:]\n",
    "        im = a['particles/probe/image/value'][:,0,:]\n",
    "        r += im*L[None,:]\n",
    "        v = a['particles/probe/velocity/value'][:,0,:]\n",
    "        r_t = a['particles/probe/position/time'][:]\n",
    "        v_t = a['particles/probe/velocity/time'][:]\n",
    "\n",
    "    r_t -= r_t[0]\n",
    "    v_t -= v_t[0]\n",
    "    u = v / np.sqrt(np.sum(v**2, axis=1))[:,None]\n",
    "\n",
    "    d = {}\n",
    "    d['msd'] = tidynamics.msd(r)\n",
    "    d['vacf'] = tidynamics.acf(v)\n",
    "    d['uacf'] = tidynamics.acf(u)\n",
    "    d['x'] = r[:,0]\n",
    "\n",
    "    res[prefix] = d\n",
    "\n",
    "    print(val)\n"
   ]
  },
  {
   "cell_type": "code",
   "execution_count": null,
   "metadata": {},
   "outputs": [],
   "source": [
    "plt.figure()\n",
    "\n",
    "for val in vary_v:\n",
    "    d = res[val]\n",
    "    plt.plot(r_t, d['msd'], label=vary_k+' '+str(val))\n",
    "\n",
    "plt.plot(r_t, 4/3*r_t, label='passive diff')\n",
    "\n",
    "plt.legend()"
   ]
  },
  {
   "cell_type": "code",
   "execution_count": null,
   "metadata": {},
   "outputs": [],
   "source": [
    "plt.figure()\n",
    "\n",
    "for val in vary_v:\n",
    "    d = res[val]\n",
    "    plt.plot(v_t, d['vacf'])\n",
    "\n",
    "plt.xlim(0, 10)"
   ]
  },
  {
   "cell_type": "code",
   "execution_count": null,
   "metadata": {},
   "outputs": [],
   "source": [
    "plt.figure()\n",
    "\n",
    "mu_data = []\n",
    "\n",
    "for (i, val) in enumerate(settings['vary_v'][1:]):\n",
    "    x = res_x[val]\n",
    "    force = val\n",
    "    r_t = r_dt*np.arange(len(x))\n",
    "    l, = plt.plot(r_t, x/force, label=vary_k+' '+str(val))\n",
    "    fit = np.polyfit(r_t, x/force, 1)\n",
    "    plt.plot(r_t, np.poly1d(fit)(r_t), c=l.get_color(), ls='--')\n",
    "    slope, x0 = fit\n",
    "    print(str(val), \"mobility\", slope/force)\n",
    "    mu_data.append(slope/force)\n",
    "    \n",
    "\n",
    "plt.legend()"
   ]
  },
  {
   "cell_type": "code",
   "execution_count": null,
   "metadata": {},
   "outputs": [],
   "source": [
    "plt.figure()\n",
    "plt.plot(settings['vary_v'][1:], mu_data)"
   ]
  },
  {
   "cell_type": "code",
   "execution_count": null,
   "metadata": {},
   "outputs": [],
   "source": [
    "plt.figure()\n",
    "\n",
    "D_data = []\n",
    "\n",
    "for (i, val) in enumerate(settings['vary_v'][1:]):\n",
    "    msd = res_msd[val]\n",
    "    r_t = r_dt*np.arange(len(msd))\n",
    "    l, = plt.plot(r_t, msd, label=settings['vary_k']+' '+str(val))\n",
    "    fit = np.polyfit(r_t, msd, 1)\n",
    "    plt.plot(r_t, np.poly1d(fit)(r_t), c=l.get_color(), ls='--')\n",
    "    slope, x0 = fit\n",
    "    print(str(val), \"diffusion\", slope/4)\n",
    "    D_data.append(slope/4)\n",
    "    \n",
    "plt.legend()"
   ]
  },
  {
   "cell_type": "code",
   "execution_count": null,
   "metadata": {},
   "outputs": [],
   "source": [
    "plt.figure()\n",
    "\n",
    "vsq_data = []\n",
    "for (i, val) in enumerate(settings['vary_v'][1:]):\n",
    "    vacf = res_vacf[val]\n",
    "    r_t = v_dt*np.arange(len(vacf))\n",
    "    l, = plt.plot(r_t, vacf, label=settings['vary_k']+' '+str(val))\n",
    "    vsq_data.append(vacf[0])\n",
    "\n",
    "plt.xlim(0, 5)\n",
    "plt.legend()"
   ]
  },
  {
   "cell_type": "code",
   "execution_count": null,
   "metadata": {},
   "outputs": [],
   "source": [
    "plt.figure()\n",
    "\n",
    "probe_mass = 0.3\n",
    "damp = 0.1\n",
    "\n",
    "probe_gamma = probe_mass / damp\n",
    "\n",
    "T_kin = probe_mass*np.array(vsq_data)/2\n",
    "\n",
    "plt.plot(T_kin, D_data)\n",
    "\n",
    "plt.plot(T_kin, T_kin*probe_mu)"
   ]
  },
  {
   "cell_type": "code",
   "execution_count": null,
   "metadata": {},
   "outputs": [],
   "source": [
    "print(settings['run_name'])"
   ]
  },
  {
   "cell_type": "code",
   "execution_count": null,
   "metadata": {},
   "outputs": [],
   "source": [
    "res_x = {}\n",
    "res_msd = {}\n",
    "res_vacf = {}\n",
    "\n",
    "run_name = settings['run_name']\n",
    "for (i, val) in enumerate(settings['vary_v']):\n",
    "    prefix = f'{run_name}_{i:05d}_'\n",
    "\n",
    "    data_x = []\n",
    "    data_msd = []\n",
    "    data_vacf = []\n",
    "    runs = glob(os.path.join(run_name, prefix+'*_processed.h5'))\n",
    "    print(runs)\n",
    "    for r in runs:\n",
    "        with h5py.File(r, 'r') as a:\n",
    "            data_x.append(a['x'][:])\n",
    "            data_msd.append(a['msd'][:])\n",
    "            data_vacf.append(a['vacf'][:])\n",
    "            r_dt = a['r_dt'][()]\n",
    "            v_dt = a['v_dt'][()]\n",
    "    print(data_x[0].shape)\n",
    "    res_x[val] = np.mean(data_x, axis=0)\n",
    "    res_msd[val] = np.mean(data_msd, axis=0)\n",
    "    res_vacf[val] = np.mean(data_vacf, axis=0)\n",
    "    print(val)\n"
   ]
  },
  {
   "cell_type": "code",
   "execution_count": null,
   "metadata": {},
   "outputs": [],
   "source": [
    "ls {run_name}"
   ]
  },
  {
   "cell_type": "code",
   "execution_count": null,
   "metadata": {},
   "outputs": [],
   "source": [
    "res_x[5].shape"
   ]
  },
  {
   "cell_type": "code",
   "execution_count": null,
   "metadata": {},
   "outputs": [],
   "source": [
    "probe_mu = np.array(list(map(float, \"\"\"5 mobility 0.001901381136953548\n",
    "10 mobility 0.0005232571874781254\n",
    "15 mobility 0.00022741719358230125\n",
    "20 mobility 0.00012244118083948134\"\"\".split()[2::3])))"
   ]
  },
  {
   "cell_type": "code",
   "execution_count": null,
   "metadata": {},
   "outputs": [],
   "source": [
    "T_kin"
   ]
  },
  {
   "cell_type": "code",
   "execution_count": null,
   "metadata": {},
   "outputs": [],
   "source": [
    "probe_mass"
   ]
  },
  {
   "cell_type": "code",
   "execution_count": null,
   "metadata": {},
   "outputs": [],
   "source": []
  }
 ],
 "metadata": {
  "kernelspec": {
   "display_name": "Python 3",
   "language": "python",
   "name": "python3"
  },
  "language_info": {
   "codemirror_mode": {
    "name": "ipython",
    "version": 3
   },
   "file_extension": ".py",
   "mimetype": "text/x-python",
   "name": "python",
   "nbconvert_exporter": "python",
   "pygments_lexer": "ipython3",
   "version": "3.7.3"
  }
 },
 "nbformat": 4,
 "nbformat_minor": 2
}
