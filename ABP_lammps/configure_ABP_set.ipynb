{
 "cells": [
  {
   "cell_type": "code",
   "execution_count": null,
   "metadata": {},
   "outputs": [],
   "source": [
    "import numpy as np\n",
    "import os\n",
    "import os.path\n",
    "import itertools\n",
    "import json"
   ]
  },
  {
   "cell_type": "code",
   "execution_count": null,
   "metadata": {},
   "outputs": [],
   "source": [
    "cd probe_campaign_2/"
   ]
  },
  {
   "cell_type": "markdown",
   "metadata": {},
   "source": [
    "Plan:\n",
    "\n",
    "Common par"
   ]
  },
  {
   "cell_type": "code",
   "execution_count": null,
   "metadata": {},
   "outputs": [],
   "source": [
    "%run abp_util.py"
   ]
  },
  {
   "cell_type": "code",
   "execution_count": null,
   "metadata": {},
   "outputs": [],
   "source": [
    "base_params = {\n",
    "    'tau_r': 10,\n",
    "    'L': 60,\n",
    "    'rho': 0.5,\n",
    "    'v0': 2,\n",
    "    'hfile': 'abp.h5',\n",
    "    'sigma_probe': 3,\n",
    "    'sampling': 64000,\n",
    "    'dump_every': 100,\n",
    "    'bath_dump_every': 0,\n",
    "    'D_probe': 0.1,\n",
    "}\n",
    "\n",
    "plans = [\n",
    "    {\n",
    "        'parameter': 'tau_r',\n",
    "        'values': [5, 10, 15, 20]\n",
    "    }\n",
    "]\n",
    "\n",
    "\n",
    "studies =  [\n",
    "    {\n",
    "        'name': 'free',\n",
    "        'values': [None]\n",
    "    },\n",
    "    {\n",
    "        'name': 'add_force',\n",
    "        'values': [1, 2, 3]\n",
    "    },\n",
    "    {\n",
    "        'name': 'gravity',\n",
    "        'values': [1, 2]\n",
    "    }\n",
    "]\n",
    "\n",
    "set_name = 'test_12'\n",
    "dir_name = 'abp_'+set_name\n",
    "letters = 'abcdefgh'\n",
    "\n",
    "if os.path.exists(dir_name):\n",
    "    print(f'Simulation set abp_{set_name} already exists')\n",
    "else:\n",
    "    os.mkdir(dir_name)\n",
    "    i = 0\n",
    "    for plan, study in itertools.product(plans, studies):\n",
    "\n",
    "        parameter = plan['parameter']\n",
    "\n",
    "        for value, letter in itertools.product(plan['values'], letters):\n",
    "            \n",
    "            for study_value in study['values']:\n",
    "            \n",
    "                p = base_params.copy()\n",
    "                p.update(**{parameter: value, study['name']: study_value})\n",
    "                prefix = f'{dir_name}_'\n",
    "                for PPP in ['v0', 'tau_r']:\n",
    "                    v = p[PPP]\n",
    "                    prefix += f'{PPP}_{int(100*v):06d}_'\n",
    "                if study_value is not None:\n",
    "                    prefix += f\"{study['name']}_{int(100*study_value):06d}_\"\n",
    "                else:\n",
    "                    prefix += f\"{study['name']}_\"\n",
    "\n",
    "                prefix += f'{letter}'\n",
    "                p.update(**{'hfile': prefix+'.h5'})\n",
    "                \n",
    "                s, d = write_input(**p)\n",
    "\n",
    "                with open(os.path.join(dir_name, prefix+'.in'), 'w') as f:\n",
    "                    f.write(s)\n",
    "\n",
    "                if letter == 'a':\n",
    "                    print(prefix)\n",
    "                    i += 1\n",
    "\n",
    "                if letter == 'a':\n",
    "                    with open(os.path.join(dir_name, prefix+'.json'), 'w') as f:\n",
    "                        json.dump(p, f)\n",
    "    print(i)\n"
   ]
  },
  {
   "cell_type": "code",
   "execution_count": null,
   "metadata": {},
   "outputs": [],
   "source": [
    "with open(dir_name+'/'+dir_name+'.json', 'w') as f:\n",
    "    json.dump({'plans': plans, 'studies': studies, 'base_params': base_params}\n",
    "    , f)"
   ]
  },
  {
   "cell_type": "code",
   "execution_count": null,
   "metadata": {},
   "outputs": [],
   "source": [
    "plans, studies, base_params"
   ]
  },
  {
   "cell_type": "code",
   "execution_count": null,
   "metadata": {},
   "outputs": [],
   "source": [
    "set_name"
   ]
  },
  {
   "cell_type": "code",
   "execution_count": null,
   "metadata": {},
   "outputs": [],
   "source": [
    "pwd"
   ]
  },
  {
   "cell_type": "code",
   "execution_count": null,
   "metadata": {},
   "outputs": [],
   "source": []
  }
 ],
 "metadata": {
  "kernelspec": {
   "display_name": "Python 3",
   "language": "python",
   "name": "python3"
  },
  "language_info": {
   "codemirror_mode": {
    "name": "ipython",
    "version": 3
   },
   "file_extension": ".py",
   "mimetype": "text/x-python",
   "name": "python",
   "nbconvert_exporter": "python",
   "pygments_lexer": "ipython3",
   "version": "3.7.3"
  }
 },
 "nbformat": 4,
 "nbformat_minor": 2
}
