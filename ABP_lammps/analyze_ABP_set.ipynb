{
 "cells": [
  {
   "cell_type": "code",
   "execution_count": null,
   "metadata": {},
   "outputs": [],
   "source": [
    "%matplotlib notebook\n",
    "\n",
    "import numpy as np\n",
    "import os\n",
    "import os.path\n",
    "import itertools\n",
    "import json\n",
    "import matplotlib.pyplot as plt\n",
    "import h5py\n",
    "\n",
    "from glob import glob"
   ]
  },
  {
   "cell_type": "code",
   "execution_count": null,
   "metadata": {},
   "outputs": [],
   "source": [
    "set_name = 'test_11'\n",
    "dir_name = 'abp_'+set_name"
   ]
  },
  {
   "cell_type": "code",
   "execution_count": null,
   "metadata": {},
   "outputs": [],
   "source": [
    "cd /home/pierre/compute/ABP_lammps/probe_campaign_2"
   ]
  },
  {
   "cell_type": "code",
   "execution_count": null,
   "metadata": {},
   "outputs": [],
   "source": []
  },
  {
   "cell_type": "code",
   "execution_count": null,
   "metadata": {},
   "outputs": [],
   "source": [
    "pwd"
   ]
  },
  {
   "cell_type": "code",
   "execution_count": null,
   "metadata": {},
   "outputs": [],
   "source": [
    "\n",
    "run_type = 'free'\n",
    "\n",
    "parameter = 'tau_r'\n",
    "v0 = 2\n",
    "\n",
    "prefix = f'{dir_name}_v0_{int(100*v0):06d}_tau_r_*_{run_type}'\n",
    "\n",
    "sets = glob(os.path.join(dir_name, prefix+'_*.json'))\n",
    "sets.sort()"
   ]
  },
  {
   "cell_type": "code",
   "execution_count": null,
   "metadata": {},
   "outputs": [],
   "source": [
    "prefix, sets"
   ]
  },
  {
   "cell_type": "code",
   "execution_count": null,
   "metadata": {},
   "outputs": [],
   "source": [
    "cd .."
   ]
  },
  {
   "cell_type": "code",
   "execution_count": null,
   "metadata": {},
   "outputs": [],
   "source": [
    "all_msd = []\n",
    "all_v0 = []\n",
    "all_vsq = []\n",
    "all_tau_r = []\n",
    "all_vacf = []\n",
    "\n",
    "for s in sets:\n",
    "    glob_pattern = s[:-6]+'*_strided.h5'\n",
    "    print(glob_pattern)\n",
    "    runs = glob(glob_pattern)\n",
    "    runs.sort()\n",
    "    print(runs)\n",
    "    with open(s, 'rb') as f:\n",
    "        d = json.load(f)\n",
    "    all_v0.append(d['v0'])\n",
    "    all_tau_r.append(d['tau_r'])\n",
    "    msd_data = []\n",
    "    vsq_data = []\n",
    "    vacf_data = []\n",
    "    for r in runs:\n",
    "        with h5py.File(r, 'r') as a:\n",
    "            msd_data.append(a['msd'][:])\n",
    "            r_dt = a['r_dt'][()]\n",
    "            vsq_data.append(a['vacf'][0])\n",
    "            vacf_data.append(a['vacf'][:])\n",
    " \n",
    "    all_vsq.append(np.mean(vsq_data))\n",
    "    all_msd.append(np.mean(msd_data, axis=0))\n",
    "    all_vacf.append(np.mean(vacf_data, axis=0))\n"
   ]
  },
  {
   "cell_type": "code",
   "execution_count": null,
   "metadata": {},
   "outputs": [],
   "source": [
    "n = len(all_msd[0])\n",
    "t = np.arange(n)*r_dt\n",
    "\n",
    "plt.figure()\n",
    "\n",
    "all_D = []\n",
    "for msd in all_msd:\n",
    "    l, = plt.plot(t, msd)\n",
    "    mask = (t>=100) * (t<=1000)\n",
    "    slope, y0 = np.polyfit(t[mask], msd[mask], 1)\n",
    "    plt.plot(t, y0 + slope*t, c=l.get_color(), ls='--')\n",
    "    print(y0)\n",
    "    all_D.append(slope/4)"
   ]
  },
  {
   "cell_type": "code",
   "execution_count": null,
   "metadata": {},
   "outputs": [],
   "source": [
    "n = len(all_vacf[0])\n",
    "t = np.arange(n)*v_dt\n",
    "\n",
    "plt.figure()\n",
    "\n",
    "for tau_r, vacf in zip(all_tau_r, all_vacf):\n",
    "    plt.plot(t, vacf, label=str(tau_r))\n",
    "\n",
    "plt.legend()"
   ]
  },
  {
   "cell_type": "code",
   "execution_count": null,
   "metadata": {},
   "outputs": [],
   "source": [
    "all_D[0], T/gamma # damp = mass / gamma # gamma = mass / damp"
   ]
  },
  {
   "cell_type": "code",
   "execution_count": null,
   "metadata": {},
   "outputs": [],
   "source": [
    "all_D"
   ]
  },
  {
   "cell_type": "code",
   "execution_count": null,
   "metadata": {},
   "outputs": [],
   "source": [
    "plt.figure()\n",
    "plt.plot(all_vsq, marker='o')"
   ]
  },
  {
   "cell_type": "code",
   "execution_count": null,
   "metadata": {},
   "outputs": [],
   "source": [
    "D0 = 1/3"
   ]
  },
  {
   "cell_type": "code",
   "execution_count": null,
   "metadata": {},
   "outputs": [],
   "source": [
    "plt.figure()\n",
    "\n",
    "probe_mass = 0.3 #d['mass_probe']\n",
    "sigma_probe = d['sigma_probe']\n",
    "\n",
    "Pe_sq = np.array(all_vsq)*sigma_probe**2 / D0**2\n",
    "\n",
    "plt.plot(all_tau_r, all_D, label='D')\n",
    "plt.plot(all_tau_r, (1+2/3*Pe_sq)/360, label='1+2/3 Pe^2')\n",
    "plt.plot(all_tau_r, probe_mass*np.array(all_vsq)/2, label='m v**2/2')\n",
    "\n",
    "plt.legend()"
   ]
  },
  {
   "cell_type": "code",
   "execution_count": null,
   "metadata": {},
   "outputs": [],
   "source": [
    "all_v0, all_D"
   ]
  },
  {
   "cell_type": "code",
   "execution_count": null,
   "metadata": {},
   "outputs": [],
   "source": [
    "D_grav = all_D[-2]"
   ]
  },
  {
   "cell_type": "code",
   "execution_count": null,
   "metadata": {},
   "outputs": [],
   "source": [
    "parameter = 'add_force'\n",
    "\n",
    "run_type = 'add_force'\n",
    "\n",
    "prefix = f'{dir_name}_v0_{int(100*v0):06d}_tau_r_*_{run_type}'\n",
    "\n",
    "sets = glob(os.path.join(dir_name, prefix+'_*.json'))\n",
    "sets.sort()"
   ]
  },
  {
   "cell_type": "code",
   "execution_count": null,
   "metadata": {},
   "outputs": [],
   "source": [
    "sets"
   ]
  },
  {
   "cell_type": "code",
   "execution_count": null,
   "metadata": {},
   "outputs": [],
   "source": [
    "all_x = []\n",
    "all_f = []\n",
    "\n",
    "for s in sets:\n",
    "    runs = glob(s[:-6]+'*_processed.h5')\n",
    "    with open(s, 'rb') as f:\n",
    "        d = json.load(f)\n",
    "    all_f.append(d['add_force'])\n",
    "    x_data = []\n",
    "    for r in runs:\n",
    "        with h5py.File(r, 'r') as a:\n",
    "            n = a['x'].shape[0]\n",
    "            x_data.append(a['x'][:n//2])\n",
    "            r_dt = a['r_dt'][()]\n",
    "    all_x.append(np.mean(x_data, axis=0))\n",
    "\n"
   ]
  },
  {
   "cell_type": "code",
   "execution_count": null,
   "metadata": {},
   "outputs": [],
   "source": [
    "plt.figure()\n",
    "\n",
    "mu_data = []\n",
    "t = np.arange(len(all_x[0]))*r_dt\n",
    "for x, f in zip(all_x, all_f):\n",
    "    l, = plt.plot(t, x)\n",
    "    fit = np.polyfit(t, x, 1)\n",
    "    plt.plot(t, np.poly1d(fit)(t), ls='--', color=l.get_color())\n",
    "    if f > 0:\n",
    "        mu_data.append(fit[0]/f)\n"
   ]
  },
  {
   "cell_type": "code",
   "execution_count": null,
   "metadata": {},
   "outputs": [],
   "source": [
    "plt.figure()\n",
    "plt.plot(mu_data)"
   ]
  },
  {
   "cell_type": "code",
   "execution_count": null,
   "metadata": {},
   "outputs": [],
   "source": [
    "m, s = np.mean(mu_data, axis=0), np.std(mu_data, axis=0, ddof=1)"
   ]
  },
  {
   "cell_type": "code",
   "execution_count": null,
   "metadata": {},
   "outputs": [],
   "source": [
    "s/m, s, m"
   ]
  },
  {
   "cell_type": "code",
   "execution_count": null,
   "metadata": {},
   "outputs": [],
   "source": [
    "mu_grav = m"
   ]
  },
  {
   "cell_type": "code",
   "execution_count": null,
   "metadata": {},
   "outputs": [],
   "source": [
    "set_name = 'test_08'\n",
    "dir_name = 'abp_'+set_name"
   ]
  },
  {
   "cell_type": "code",
   "execution_count": null,
   "metadata": {},
   "outputs": [],
   "source": [
    "parameter = 'gravity'\n",
    "\n",
    "prefix = f'{dir_name}_{parameter}'\n",
    "\n",
    "sets = glob(dir_name+'*_tau_r_001000_'+parameter+'*.json')\n",
    "sets.sort()"
   ]
  },
  {
   "cell_type": "code",
   "execution_count": null,
   "metadata": {},
   "outputs": [],
   "source": [
    "print(sets[0][:-7]+'*_strided.h5')"
   ]
  },
  {
   "cell_type": "code",
   "execution_count": null,
   "metadata": {},
   "outputs": [],
   "source": [
    "all_y = []\n",
    "all_g = []\n",
    "\n",
    "for s in sets:\n",
    "    runs = glob(s[:-7]+'_*_strided.h5')\n",
    "    with open(s, 'rb') as f:\n",
    "        d = json.load(f)\n",
    "    if d['v0'] == 0.: continue\n",
    "    all_g.append(d['gravity'])\n",
    "    y_data = []\n",
    "    for r in runs:\n",
    "        with h5py.File(r, 'r') as a:\n",
    "            y_data.append(a['y'][:])\n",
    "            r_dt = a['r_dt'][()]\n",
    "    all_y.append(np.concatenate(y_data))\n"
   ]
  },
  {
   "cell_type": "code",
   "execution_count": null,
   "metadata": {},
   "outputs": [],
   "source": [
    "glob(sets[1][:-7]+'_*_strided.h5')"
   ]
  },
  {
   "cell_type": "code",
   "execution_count": null,
   "metadata": {},
   "outputs": [],
   "source": [
    "slope_data = []\n",
    "\n",
    "plt.figure()\n",
    "\n",
    "i = 1\n",
    "for y, g in zip(all_y, all_g):\n",
    "    count, bins, patches = plt.hist(y, histtype='step', bins=30, density=True, label=str(i))\n",
    "    i += 1\n",
    "    mask = count > 1e-4\n",
    "    bins = bins[:-1][mask]\n",
    "    count = count[mask]\n",
    "    mask = bins < 23\n",
    "    bins = bins[mask]\n",
    "    count = count[mask]\n",
    "    print(g, sum(count))\n",
    "    if True:\n",
    "        slope, y0 = np.polyfit(bins, np.log(count), 1)\n",
    "        plt.plot(bins, np.exp(y0+slope*bins), c=patches[0].get_edgecolor())\n",
    "        slope_data.append(slope)\n",
    "\n",
    "plt.yscale('log')\n",
    "plt.legend()"
   ]
  },
  {
   "cell_type": "code",
   "execution_count": null,
   "metadata": {},
   "outputs": [],
   "source": [
    "plt.figure()\n",
    "\n",
    "plt.plot(slope_data[1:] / np.array(all_g)[1:], ls='', marker='o')\n",
    "\n",
    "plt.plot(np.array(all_g)[1:]/slope_data[1:], ls='', marker='x')"
   ]
  },
  {
   "cell_type": "code",
   "execution_count": null,
   "metadata": {},
   "outputs": [],
   "source": [
    "all_g, all_D[1:], all_g[::2]"
   ]
  },
  {
   "cell_type": "code",
   "execution_count": null,
   "metadata": {},
   "outputs": [],
   "source": [
    "np.array(slope_data)[::2]"
   ]
  },
  {
   "cell_type": "code",
   "execution_count": null,
   "metadata": {},
   "outputs": [],
   "source": [
    "mu = 0.225 # approx\n",
    "\n",
    "force = 1\n",
    "\n",
    "mu*force/all_D/2"
   ]
  },
  {
   "cell_type": "code",
   "execution_count": null,
   "metadata": {},
   "outputs": [],
   "source": [
    "plt.figure()\n",
    "\n",
    "# take delta = D / (mu force) -> balance of diffusive and sedimentation currents\n",
    "# D = mu T -> delta = 1/gravity -> if \n",
    "\n",
    "plt.plot(1/np.array(slope_data)[::2], marker='o')\n",
    "plt.plot(all_vsq[1:], marker='o')\n",
    "#plt.plot(all_D[1:]/(mu*force), marker='o')\n",
    "\n"
   ]
  },
  {
   "cell_type": "code",
   "execution_count": null,
   "metadata": {},
   "outputs": [],
   "source": []
  },
  {
   "cell_type": "code",
   "execution_count": null,
   "metadata": {},
   "outputs": [],
   "source": [
    "DEBUG = {\n",
    "    'free': True,\n",
    "    'add_force': False,\n",
    "    'gravity': False\n",
    "}\n",
    "\n",
    "\n",
    "TRACE = {\n",
    "    'free': False,\n",
    "    'add_force': False,\n",
    "    'gravity': False\n",
    "}\n",
    "\n",
    "\n",
    "def process_free(prefix, p):\n",
    "    runs = glob(prefix+'*_strided.h5')\n",
    "    print(runs)\n",
    "    D_data = []\n",
    "    msd_data = []\n",
    "    vsq_data = []\n",
    "    l = None\n",
    "    for r in runs:\n",
    "        with h5py.File(r, 'r') as a:\n",
    "            msd = a['msd'][:]\n",
    "            msd_data.append(msd)\n",
    "            n = len(msd)\n",
    "            r_dt = a['r_dt'][()]\n",
    "            vsq_data.append(a['vacf'][0])\n",
    "        t = np.arange(n)*r_dt\n",
    "        D_data.append(np.polyfit(t[n//32:n//16], msd[n//32:n//16], 1)[0]/4)\n",
    "    if DEBUG['free']:\n",
    "        m = np.mean(msd_data, axis=0)[::10]\n",
    "        s = np.std(msd_data, axis=0, ddof=1)[::10]\n",
    "        #plt.errorbar(t[::10], m-s, m+s, label=prefix, alpha=0.5)\n",
    "        l, = plt.plot(t[::10], m, label=prefix)\n",
    "        plt.plot(t[::10], m-s, color=l.get_color(), ls='--')\n",
    "        plt.plot(t[::10], m+s, color=l.get_color(), ls='--')\n",
    "        plt.plot(t[::10], np.mean(D_data)*4*t[::10], color=l.get_color(), ls=':')\n",
    "\n",
    "    return np.array(D_data), np.array(vsq_data)\n",
    "\n",
    "\n",
    "def process_add_force(prefix, p):\n",
    "    runs = glob(prefix+'*_strided.h5')\n",
    "    print(runs)\n",
    "    f = p['add_force']\n",
    "    x_data = []\n",
    "    if TRACE['add_force']:\n",
    "        plt.figure()\n",
    "    for r in runs:\n",
    "        with h5py.File(r, 'r') as a:\n",
    "            n = a['x'].shape[0]\n",
    "            x_data.append(a['x'][:n//2])\n",
    "            r_dt = a['r_dt'][()]\n",
    "        t = np.arange(len(x_data[-1]))*r_dt\n",
    "        if TRACE['add_force']:\n",
    "            plt.plot(t, x_data[-1])\n",
    "\n",
    "    x_mean = np.mean(x_data, axis=0)\n",
    "    fit = np.polyfit(t, x_mean, 1)\n",
    "    if DEBUG['add_force']:\n",
    "        l, = plt.plot(t, x_mean)\n",
    "        plt.plot(t, np.poly1d(fit)(t), color=l.get_color())\n",
    "\n",
    "    return fit[0]/f\n",
    "\n",
    "\n",
    "def process_gravity(prefix, p):\n",
    "    return 0\n",
    "\n",
    "processors = {\n",
    "    'free': process_free,\n",
    "    'add_force': process_add_force,\n",
    "    'gravity': process_gravity\n",
    "}"
   ]
  },
  {
   "cell_type": "code",
   "execution_count": null,
   "metadata": {},
   "outputs": [],
   "source": []
  },
  {
   "cell_type": "code",
   "execution_count": null,
   "metadata": {},
   "outputs": [],
   "source": []
  },
  {
   "cell_type": "code",
   "execution_count": null,
   "metadata": {},
   "outputs": [],
   "source": [
    "set_name = 'test_11'\n",
    "dir_name = 'abp_'+set_name\n",
    "\n",
    "os.chdir(os.path.expanduser(f'~/compute/ABP_lammps/probe_campaign_2/{dir_name}'))\n",
    "\n",
    "with open(dir_name+'.json', 'r') as f:\n",
    "    set_d = json.load(f)\n",
    "\n",
    "fixed_name = 'v0'\n",
    "fixed_value = 2\n",
    "vary_name = 'tau_r'\n",
    "\n",
    "values = [p for p in set_d['plans'] if p['parameter'] == vary_name][0]['values']\n",
    "\n",
    "res = {\n",
    "    'free': [],\n",
    "    'add_force': [],\n",
    "    'gravity': []\n",
    "}\n",
    "\n",
    "if any(DEBUG):\n",
    "    plt.figure()\n",
    "\n",
    "for v in values:\n",
    "    print('---------------')\n",
    "    print('values loop')\n",
    "    D = 0 # analyze free\n",
    "    p = set_d['base_params'].copy()\n",
    "    p.update(**{vary_name: v})\n",
    "\n",
    "    for study in set_d['studies']:\n",
    "        print('---------------')\n",
    "        print('study loop')\n",
    "        results = []\n",
    "        study_name = study['name']\n",
    "        study_values = study['values']\n",
    "        for study_value in study_values:\n",
    "            prefix = f'{dir_name}_'\n",
    "            for PPP in ['v0', 'tau_r']:\n",
    "                v = p[PPP]\n",
    "                prefix += f'{PPP}_{int(100*v):06d}_'\n",
    "\n",
    "            print('---------------')\n",
    "            print('study values loop')\n",
    "            print('---------------')\n",
    "            if study_value is not None:\n",
    "                prefix += f\"{study_name}_{int(100*study_value):06d}_\"\n",
    "            else:\n",
    "                prefix += f\"{study_name}_\"\n",
    "            p.update(**{study_name: study_value})\n",
    "\n",
    "            print(prefix)\n",
    "            \n",
    "            results.append(processors[study_name](prefix, p))\n",
    "        res[study_name].append(results)\n",
    "    \n",
    "if DEBUG['free']:\n",
    "    plt.legend()\n",
    "    #plt.xlim(0, 10000)"
   ]
  },
  {
   "cell_type": "code",
   "execution_count": null,
   "metadata": {},
   "outputs": [],
   "source": [
    "all_D = np.mean([D for D, vsq in map(lambda x: x[0], res['free'])], axis=1)\n",
    "\n",
    "all_vsq = np.mean([vsq for D, vsq in map(lambda x: x[0], res['free'])], axis=1)\n"
   ]
  },
  {
   "cell_type": "code",
   "execution_count": null,
   "metadata": {},
   "outputs": [],
   "source": [
    "all_D"
   ]
  },
  {
   "cell_type": "code",
   "execution_count": null,
   "metadata": {},
   "outputs": [],
   "source": [
    "list(map(len, [D for D, vsq in map(lambda x: x[0], res['free'])]))"
   ]
  },
  {
   "cell_type": "code",
   "execution_count": null,
   "metadata": {},
   "outputs": [],
   "source": [
    "plt.figure()\n",
    "\n",
    "m = np.mean(res['add_force'], axis=1)\n",
    "s = np.std(res['add_force'], axis=1, ddof=1)\n",
    "\n",
    "l, = plt.plot(values, m, label='mu')\n",
    "\n",
    "plt.figure()\n",
    "\n",
    "plt.plot(values, m-s, color=l.get_color(), ls='--')\n",
    "plt.plot(values, m+s, color=l.get_color(), ls='--')\n",
    "\n",
    "m = np.mean([D for D, vsq in map(lambda x: x[0], res['free'])], axis=1)\n",
    "s = np.std([D for D, vsq in map(lambda x: x[0], res['free'])], axis=1, ddof=1)\n",
    "\n",
    "l, = plt.plot(values, m, label='D')\n",
    "\n",
    "plt.plot(values, m-s, color=l.get_color(), ls='--')\n",
    "plt.plot(values, m+s, color=l.get_color(), ls='--')\n",
    "\n",
    "plt.plot(values, np.mean([vsq for D, vsq in map(lambda x: x[0], res['free'])], axis=1), label='vsq')\n",
    "\n",
    "plt.plot(values, 6.66 + np.array(values)**2/100*7.66)\n",
    "\n",
    "plt.legend()"
   ]
  },
  {
   "cell_type": "code",
   "execution_count": null,
   "metadata": {},
   "outputs": [],
   "source": [
    "set_d['studies']"
   ]
  },
  {
   "cell_type": "code",
   "execution_count": null,
   "metadata": {},
   "outputs": [],
   "source": [
    "# strided version\n",
    "\n",
    "set_name = 'test_11'\n",
    "dir_name = 'abp_'+set_name\n",
    "\n",
    "#os.chdir(os.path.expanduser(f'~/SIMU/20200430/{dir_name}'))\n",
    "os.chdir(os.path.expanduser(f'~/compute/ABP_lammps/probe_campaign_2/{dir_name}'))\n",
    "\n",
    "with open(dir_name+'.json', 'r') as f:\n",
    "    set_d = json.load(f)\n",
    "\n",
    "fixed_name = 'v0'\n",
    "fixed_value = 2\n",
    "vary_name = 'tau_r'\n",
    "\n",
    "values = [p for p in set_d['plans'] if p['parameter'] == vary_name][0]['values']\n",
    "   \n",
    "plt.figure()\n",
    "\n",
    "ax1 = plt.subplot(211)\n",
    "ax2 = plt.subplot(212, sharex=ax1)\n",
    "\n",
    "for v in values:\n",
    "    print('---------------')\n",
    "    print('values loop')\n",
    "    D = 0 # analyze free\n",
    "    p = set_d['base_params'].copy()\n",
    "    p.update(**{vary_name: v})\n",
    "\n",
    "    study = set_d['studies'][0]\n",
    "    study_name = study['name']\n",
    "    study_values = study['values']\n",
    "    for study_value in study_values[:1]:\n",
    "        prefix = f'{dir_name}_'\n",
    "        for PPP in ['v0', 'tau_r']:\n",
    "            v = p[PPP]\n",
    "            prefix += f'{PPP}_{int(100*v):06d}_'\n",
    "\n",
    "        if study_value is not None:\n",
    "            prefix += f\"{study_name}_{int(100*study_value):06d}_\"\n",
    "        else:\n",
    "            prefix += f\"{study_name}_\"\n",
    "        p.update(**{study_name: study_value})\n",
    "\n",
    "        print(prefix)\n",
    "        vacf = []\n",
    "        for r in glob(prefix+'*_strided.h5'):\n",
    "            with h5py.File(r, 'r') as a:\n",
    "                vacf.append(a['vacf'][:])\n",
    "                v_dt = a['v_dt'][()]\n",
    "        vacf = np.mean(vacf, axis=0)\n",
    "        t = np.arange(len(vacf))*v_dt\n",
    "        l, = ax1.plot(t, vacf, label=f\"v0 {p['v0']}\")\n",
    "        if p['v0'] > 0:\n",
    "            ax1.axvline(p['L']/p['v0'], color=l.get_color())\n",
    "            \n",
    "    study = set_d['studies'][2]\n",
    "    study_name = study['name']\n",
    "    study_values = study['values']\n",
    "    for study_value in study_values[:1]:\n",
    "        prefix = f'{dir_name}_'\n",
    "        for PPP in ['v0', 'tau_r']:\n",
    "            v = p[PPP]\n",
    "            prefix += f'{PPP}_{int(100*v):06d}_'\n",
    "\n",
    "        if study_value is not None:\n",
    "            prefix += f\"{study_name}_{int(100*study_value):06d}_\"\n",
    "        else:\n",
    "            prefix += f\"{study_name}_\"\n",
    "        p.update(**{study_name: study_value})\n",
    "\n",
    "        print(prefix)\n",
    "        vacf = []\n",
    "        for r in glob(prefix+'*_strided.h5'):\n",
    "            with h5py.File(r, 'r') as a:\n",
    "                vacf.append(a['vacf'][:])\n",
    "                v_dt = a['v_dt'][()]\n",
    "        vacf = np.mean(vacf, axis=0)\n",
    "        t = np.arange(len(vacf))*v_dt\n",
    "        l, = ax2.plot(t, vacf, label=f\"v0 {p['v0']}\")\n",
    "        if p['v0'] > 0:\n",
    "            ax2.axvline(p['L']/p['v0'], color=l.get_color())\n",
    "\n",
    "\n",
    "plt.xlabel('time')\n",
    "plt.ylabel('probe VACF')\n",
    "plt.xlim(-.1, 50)\n",
    "\n",
    "p_type = 'lin'\n",
    "if p_type=='lin':\n",
    "    ax1.set_ylim(-0.2,2)\n",
    "    ax2.set_ylim(-0.2,2)\n",
    "else:\n",
    "    ax1.set_ylim(1e-3,20)\n",
    "    ax1.set_yscale('log')\n",
    "    ax2.set_ylim(1e-3,20)\n",
    "    ax2.set_yscale('log')\n",
    "\n",
    "plt.legend()\n",
    "\n",
    "plt.savefig(dir_name+'_vacf_'+p_type+'.pdf')"
   ]
  },
  {
   "cell_type": "code",
   "execution_count": null,
   "metadata": {},
   "outputs": [],
   "source": [
    "set_d['studies']"
   ]
  },
  {
   "cell_type": "code",
   "execution_count": null,
   "metadata": {},
   "outputs": [],
   "source": [
    "np.sqrt(all_vsq)"
   ]
  },
  {
   "cell_type": "code",
   "execution_count": null,
   "metadata": {},
   "outputs": [],
   "source": []
  }
 ],
 "metadata": {
  "kernelspec": {
   "display_name": "Python 3",
   "language": "python",
   "name": "python3"
  },
  "language_info": {
   "codemirror_mode": {
    "name": "ipython",
    "version": 3
   },
   "file_extension": ".py",
   "mimetype": "text/x-python",
   "name": "python",
   "nbconvert_exporter": "python",
   "pygments_lexer": "ipython3",
   "version": "3.7.3"
  }
 },
 "nbformat": 4,
 "nbformat_minor": 2
}
