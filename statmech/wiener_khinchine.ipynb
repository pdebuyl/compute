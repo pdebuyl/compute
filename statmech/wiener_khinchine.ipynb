{
 "cells": [
  {
   "cell_type": "markdown",
   "metadata": {},
   "source": [
    "## Definitions\n",
    "\n",
    "- We are intersted in the real-valued signal or process $\\xi(t)$\n",
    "- $\\tilde\\xi(\\omega) = \\int_{-\\infty}^\\infty dt e^{-i\\omega t} \\xi(t)$ is the Fourier transform of $\\xi(t)$.\n",
    "- Complex conjugates are denoted by a star $\\tilde\\xi^\\ast(\\omega)$\n",
    "- $\\xi(t) = (2\\pi)^{-1} \\int_{-\\infty}^\\infty d\\omega e^{i\\omega t} \\tilde\\xi(\\omega)$ defines the\n",
    "  inverse Fourier transform.\n",
    "- The autocorrelation of $\\xi(t)$ is $C(\\tau) = \\lim_{T\\to\\infty} T^{-1} \\int_0^T dt \\xi(t) \\xi(t+\\tau)$\n",
    "- The spectral power density is $S(\\omega) = |\\tilde\\xi(\\omega)|^2 / (2\\pi)$"
   ]
  },
  {
   "cell_type": "markdown",
   "metadata": {},
   "source": [
    "## Derivation\n",
    "\n",
    "We start by the definition of the autocorrelation\n",
    "\n",
    "$$C(\\tau) = \\lim_{T\\to\\infty} T^{-1} \\int_0^T dt \\xi(t) \\xi(t+\\tau)$$\n",
    "\n",
    "and replace $\\xi(t)$ by the inverse transform of $\\tilde\\xi(\\omega)$\n",
    "\n",
    "$$C(\\tau) = \\lim_{T\\to\\infty} T^{-1} \\int_0^T dt\\int_{-\\infty}^\\infty \\frac{d\\omega}{2\\pi} e^{i\\omega t} \\tilde\\xi(\\omega) \\int_{-\\infty}^\\infty \\frac{d\\omega'}{2\\pi} e^{i\\omega' (t+\\tau)} \\tilde\\xi(\\omega')~,$$\n",
    "change the order of the integrals\n",
    "$$C(\\tau) = \\lim_{T\\to\\infty} \\int_{-\\infty}^\\infty \\frac{d\\omega}{2\\pi} \\int_{-\\infty}^\\infty \\frac{d\\omega'}{2\\pi} T^{-1} \\int_0^T dt e^{i\\omega t} e^{i\\omega' (t+\\tau)} \\tilde\\xi(\\omega) \\tilde\\xi(\\omega')~,$$\n",
    "$$C(\\tau) = \\lim_{T\\to\\infty} \\int_{-\\infty}^\\infty \\frac{d\\omega}{2\\pi} \\int_{-\\infty}^\\infty \\frac{d\\omega'}{2\\pi} T^{-1} \\int_0^T dt e^{i(\\omega+\\omega') t} e^{i\\omega' \\tau} \\tilde\\xi(\\omega) \\tilde\\xi(\\omega')~.$$\n",
    "\n",
    "The integral over $t$ will depend on the value of $\\omega+\\omega'$. Explicitly, the subcases are\n",
    "1. $\\omega+\\omega'\\neq 0$ Here, writing $T= n 2 \\pi / (\\omega+\\omega') + T'$, where $0\\leq T'<2 \\pi / (\\omega+\\omega')$ we find that the integral is zero to order $\\approx 1/T$.\n",
    "2. $\\omega+\\omega'=0$ Here the integral is equal to $T$\n",
    "\n",
    "By only keeping the non-zero contribution, we can use $\\omega+\\omega'=0$ and obtain\n",
    "$$C(\\tau) = \\frac{1}{2\\pi} \\int_{-\\infty}^\\infty \\frac{d\\omega}{2\\pi} e^{-i\\omega \\tau} \\tilde\\xi(\\omega) \\tilde\\xi(-\\omega)$$\n",
    "and by using the fact that for a real-valued $\\xi(t)$, $\\tilde\\xi(-\\omega)=\\tilde\\xi^\\ast(\\omega)$ and changing the variable $\\omega$ to $-\\omega$ in the integral\n",
    "$$C(\\tau) = \\frac{1}{2\\pi} \\int_{-\\infty}^\\infty \\frac{d\\omega}{2\\pi} e^{i\\omega \\tau} \\tilde\\xi(\\omega) \\tilde\\xi^\\ast(\\omega) = \\frac{1}{2\\pi} \\int_{-\\infty}^\\infty \\frac{d\\omega}{2\\pi} e^{i\\omega \\tau} |\\tilde\\xi(\\omega)|^2$$\n",
    "\n",
    "We have thus obtained the Wiener-Khinchin theorem that states that the autocorrelation of a signal is the inverse Fourier transform of its spectral power density divided by $2\\pi$.\n"
   ]
  },
  {
   "cell_type": "markdown",
   "metadata": {},
   "source": [
    "## Illustration\n",
    "\n",
    "For illustration, I consider a periodic signal and a Ornstein–Uhlenbeck process.\n",
    "For the numerical evaluation of the autocorrelation using FFTs, see the dedicated blog post: http://pdebuyl.be/blog/2016/correlators.html\n",
    "\n",
    "The \"code cell\" below loads the math, random, NumPy, matplotlib and SciPy libraries.\n",
    "There are small differences due to the fact that the signals are of finite length,\n",
    "though!"
   ]
  },
  {
   "cell_type": "code",
   "execution_count": null,
   "metadata": {
    "collapsed": true
   },
   "outputs": [],
   "source": [
    "%matplotlib inline\n",
    "import math\n",
    "import random\n",
    "import numpy as np\n",
    "import matplotlib.pyplot as plt\n",
    "import scipy.signal\n",
    "plt.rcParams['font.size'] = 18\n",
    "plt.rcParams['figure.subplot.wspace'] = 0.25"
   ]
  },
  {
   "cell_type": "markdown",
   "metadata": {},
   "source": [
    "### Periodic signal\n",
    "\n",
    "Let us consider a sinusoid with pulse $\\omega = 2.7$. The power spectrum will have peaks\n",
    "at $\\pm\\omega$ that would converge to Dirac deltas for an infinite time series.\n",
    "\n",
    "The autocorrelation can be computed analytically and is a cosine. It is\n",
    "plotted for reference."
   ]
  },
  {
   "cell_type": "code",
   "execution_count": null,
   "metadata": {
    "collapsed": false
   },
   "outputs": [],
   "source": [
    "# Define the signal\n",
    "\n",
    "N = 1024\n",
    "omega = 2.7\n",
    "dt = 2*np.pi/omega/128\n",
    "time = np.arange(N)*dt\n",
    "xi = np.sin(omega*time)\n",
    "\n",
    "plt.plot(time, xi)\n",
    "plt.xlabel(r'$t$')\n",
    "plt.ylabel(r'$\\xi(t)$');"
   ]
  },
  {
   "cell_type": "code",
   "execution_count": null,
   "metadata": {
    "collapsed": false
   },
   "outputs": [],
   "source": [
    "# Analytical value of the autocorrelation\n",
    "\n",
    "plt.plot(time, 0.5*np.cos(omega*time))\n",
    "\n",
    "# Compute numerically the autocorrelation via a Fourier transform\n",
    "\n",
    "fft_cor = scipy.signal.fftconvolve(xi, xi[::-1])[N-1:]\n",
    "fft_cor /= (N - np.arange(N))\n",
    "plt.plot(time, fft_cor, 'k-', lw=2)\n",
    "\n",
    "# Compute the autocorrelation via the Wiener-Khinchin theorem\n",
    "# The NumPy fft routines include the 2 pi factors\n",
    "\n",
    "psd = np.fft.fft(xi)*np.conj(np.fft.fft(xi))/N\n",
    "C = np.fft.ifft(psd).real\n",
    "\n",
    "plt.plot(time, C)\n",
    "\n",
    "\n",
    "plt.xlim(0, 5*2*np.pi/omega)\n",
    "\n",
    "plt.xlabel(r'$\\tau$')\n",
    "plt.ylabel(r'$C(\\tau)$');"
   ]
  },
  {
   "cell_type": "code",
   "execution_count": null,
   "metadata": {
    "collapsed": false
   },
   "outputs": [],
   "source": [
    "# Plot the spectral power density\n",
    "\n",
    "plt.plot(np.fft.fftfreq(N, dt), psd.real)\n",
    "plt.axvline(-omega/(2*np.pi), ls='--', c='k')\n",
    "plt.axvline(omega/(2*np.pi), ls='--', c='k')\n",
    "\n",
    "plt.xlim(-2, 2)\n",
    "plt.xlabel(r'$\\nu$')\n",
    "plt.ylabel(r'$|\\tilde\\xi(\\nu)|^2$');"
   ]
  },
  {
   "cell_type": "markdown",
   "metadata": {},
   "source": [
    "### Ornstein–Uhlenbeck process\n",
    "\n",
    "The Ornstein–Uhlenbeck (OU) process is defined by the following\n",
    "Langevin equation\n",
    "$$\\dot v = -\\gamma v + \\eta ~,$$\n",
    "where $\\gamma$ is the friction and $\\eta$ is the noise term, obeying\n",
    "$\\langle \\eta(t) \\eta(t+\\tau) \\rangle = 2\\gamma$.\n",
    "\n",
    "The dynamics is solved with the first order Euler scheme\n",
    "$v_{i+1}=v_i - \\gamma v_i \\Delta t + \\sqrt{2\\gamma\\Delta t} \\chi$\n",
    "where $\\chi$ is a normally sampled number with zero mean and unit\n",
    "variance. $v(t=0)=0$ and 1024 loops of thermalization are performed.\n",
    "\n",
    "For the OU process, the autocorrelation decays exponentially. The power spectrum\n",
    "is a Lorentzian\n",
    "$$S(\\nu) = \\frac{\\gamma}{\\gamma^2 + (2\\pi \\nu)^2}$$\n",
    "and must be scaled by the sampling time of the signal."
   ]
  },
  {
   "cell_type": "code",
   "execution_count": null,
   "metadata": {
    "collapsed": false
   },
   "outputs": [],
   "source": [
    "# First order Euler integration of the Langevin equation\n",
    "\n",
    "N = 8192\n",
    "v = 0\n",
    "dt = 0.03\n",
    "T = N*dt\n",
    "time = np.arange(N)*dt\n",
    "gamma = 2.5\n",
    "v_factor = math.sqrt(2*gamma*dt)\n",
    "v_data = []\n",
    "for t in range(1024):\n",
    "    F = random.gauss(0,1)\n",
    "    v = v - gamma*v*dt + v_factor*F\n",
    "for t in range(N):\n",
    "    F = random.gauss(0,1)\n",
    "    v = v - gamma*v*dt + v_factor*F\n",
    "    v_data.append(v)\n",
    "v_data = np.array(v_data)"
   ]
  },
  {
   "cell_type": "code",
   "execution_count": null,
   "metadata": {
    "collapsed": false
   },
   "outputs": [],
   "source": [
    "# Plot the time series for v(t)\n",
    "plt.plot(time, v_data)\n",
    "plt.xlabel(r'$t$')\n",
    "plt.ylabel(r'$v(t)$')\n",
    "plt.xlim(0, 30/gamma);"
   ]
  },
  {
   "cell_type": "code",
   "execution_count": null,
   "metadata": {
    "collapsed": false
   },
   "outputs": [],
   "source": [
    "# Analytical value of the autocorrelation\n",
    "\n",
    "plt.plot(time, np.exp(-gamma*time))\n",
    "\n",
    "# Compute numerically the autocorrelation via a Fourier transform\n",
    "\n",
    "fft_cor = scipy.signal.fftconvolve(v_data, v_data[::-1])[N-1:]\n",
    "fft_cor /= (N - np.arange(N))\n",
    "plt.plot(time, fft_cor, 'k-', lw=2)\n",
    "\n",
    "# Compute the autocorrelation via the Wiener-Khinchin theorem\n",
    "\n",
    "psd = np.fft.fft(v_data)*np.conj(np.fft.fft(v_data))/N\n",
    "C = np.fft.ifft(psd).real\n",
    "\n",
    "plt.plot(time, C)\n",
    "\n",
    "plt.xlim(0, 30/gamma)\n",
    "plt.ylim(-0.05, 1.1)\n",
    "\n",
    "plt.xlabel(r'$\\tau$')\n",
    "plt.ylabel(r'$C(\\tau)$');"
   ]
  },
  {
   "cell_type": "code",
   "execution_count": null,
   "metadata": {
    "collapsed": false
   },
   "outputs": [],
   "source": [
    "# Plot the spectral power density\n",
    "\n",
    "# Compute the FFT with proper units\n",
    "t_v = np.fft.fft(v_data)*dt\n",
    "psd = (t_v*t_v.conjugate()).real\n",
    "psd[N//2] = np.nan # to avoid the crossing from -infinity to infinity\n",
    "\n",
    "# The psd is defined per unit time, so 1/T normalizes the result\n",
    "plt.plot(np.fft.fftfreq(N, dt), psd/T)\n",
    "# Analytical value\n",
    "freqs = np.linspace(-2, 2, 100)\n",
    "plt.plot(freqs, 2*gamma/((2*np.pi*freqs)**2+gamma**2))\n",
    "\n",
    "plt.xlim(-1, 1)\n",
    "plt.xlabel(r'$\\nu$')\n",
    "plt.ylabel(r'$S_v(\\nu)$');\n"
   ]
  },
  {
   "cell_type": "markdown",
   "metadata": {},
   "source": [
    "## Ending\n",
    "\n",
    "In this post, I presented a short derivation of the Wiener-Kinchin theorem and\n",
    "its numerical application to a periodic signal and to a stochastic process using\n",
    "the scientific Python tools.\n",
    "\n",
    "Comments are welcome!"
   ]
  }
 ],
 "metadata": {
  "kernelspec": {
   "display_name": "Python 3",
   "language": "python",
   "name": "python3"
  },
  "language_info": {
   "codemirror_mode": {
    "name": "ipython",
    "version": 3
   },
   "file_extension": ".py",
   "mimetype": "text/x-python",
   "name": "python",
   "nbconvert_exporter": "python",
   "pygments_lexer": "ipython3",
   "version": "3.5.2+"
  }
 },
 "nbformat": 4,
 "nbformat_minor": 2
}
