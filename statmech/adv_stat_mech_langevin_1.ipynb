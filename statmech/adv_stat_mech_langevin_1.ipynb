{
 "cells": [
  {
   "cell_type": "markdown",
   "metadata": {},
   "source": [
    "# Exercise session on the Langevin equation\n",
    "\n",
    "**Author:** Pierre de Buyl - http://pdebuyl.be/  \n",
    "**License:** [CC-BY](http://creativecommons.org/licenses/by/4.0/)"
   ]
  },
  {
   "cell_type": "code",
   "execution_count": null,
   "metadata": {
    "collapsed": true,
    "slideshow": {
     "slide_type": "slide"
    }
   },
   "outputs": [],
   "source": [
    "from __future__ import division, print_function\n",
    "%matplotlib inline\n",
    "import numpy as np\n",
    "import matplotlib.pyplot as plt\n",
    "import math\n",
    "import random\n",
    "plt.rcParams['font.size'] = 16"
   ]
  },
  {
   "cell_type": "markdown",
   "metadata": {
    "slideshow": {
     "slide_type": "slide"
    }
   },
   "source": [
    "## Installing Python\n",
    "\n",
    "- Linux: use `apt-get`, `yum` or whatever graphical software center you have\n",
    "  to install NumPy, SciPy, Matplotlib. Then go to http://jupyter.org/\n",
    "- Mac: See Linux, but use Homebrew or Macports\n",
    "- Windows: use a full Scientific Python package (this also works for Linux and\n",
    "  Mac, actually): Anaconda https://www.continuum.io/downloads or Canopy\n",
    "  https://www.enthought.com/products/canopy/"
   ]
  },
  {
   "cell_type": "markdown",
   "metadata": {
    "slideshow": {
     "slide_type": "subslide"
    }
   },
   "source": [
    "## Impatient\n",
    "\n",
    "https://try.jupyter.org/"
   ]
  },
  {
   "cell_type": "markdown",
   "metadata": {},
   "source": [
    "## Langevin equation for the velocity\n",
    "\n",
    "$$\\dot v = - \\gamma v + \\xi$$"
   ]
  },
  {
   "cell_type": "code",
   "execution_count": null,
   "metadata": {
    "collapsed": false,
    "slideshow": {
     "slide_type": "slide"
    }
   },
   "outputs": [],
   "source": [
    "# Langevin equation for the velocity\n",
    "\n",
    "v = 0\n",
    "dt = 0.01\n",
    "gamma = 0.1\n",
    "v_factor = math.sqrt(2*dt)\n",
    "F_data = []\n",
    "v_data = []\n",
    "for t in range(100000):\n",
    "    F = random.gauss(0,1)\n",
    "    v = v*(1-gamma*dt) + v_factor*F\n",
    "    F_data.append(F)\n",
    "    v_data.append(v)\n",
    "F_data = np.array(F_data)\n",
    "v_data = np.array(v_data)"
   ]
  },
  {
   "cell_type": "code",
   "execution_count": null,
   "metadata": {
    "collapsed": false,
    "slideshow": {
     "slide_type": "subslide"
    }
   },
   "outputs": [],
   "source": [
    "plt.plot(v_data)"
   ]
  },
  {
   "cell_type": "code",
   "execution_count": null,
   "metadata": {
    "collapsed": false,
    "slideshow": {
     "slide_type": "subslide"
    }
   },
   "outputs": [],
   "source": [
    "tau = np.linspace(-len(v_data)*dt, len(v_data)*dt, 2*len(v_data)-1)\n",
    "plt.plot(tau, np.correlate(v_data, v_data, mode='full')/len(v_data))\n",
    "plt.plot(tau, np.exp(-gamma*np.abs(tau))/gamma)\n",
    "plt.xlim(-20, 20)"
   ]
  },
  {
   "cell_type": "code",
   "execution_count": null,
   "metadata": {
    "collapsed": false,
    "slideshow": {
     "slide_type": "subslide"
    }
   },
   "outputs": [],
   "source": [
    "plt.plot(tau, np.correlate(v_data, F_data, mode='full')/len(v_data))\n",
    "plt.xlim(-20, 20)"
   ]
  },
  {
   "cell_type": "markdown",
   "metadata": {},
   "source": [
    "## Langevin equation with colored noise\n",
    "\n",
    "The noise is defined by its autocorrelation\n",
    "$$\\langle F(\\tau) F \\rangle = 2 D m^2 \\omega_c e^{-\\omega_c |\\tau|}$$\n",
    "and the Langevin equation is\n",
    "$$\\dot v = - \\gamma v + F$$"
   ]
  },
  {
   "cell_type": "code",
   "execution_count": null,
   "metadata": {
    "collapsed": false,
    "slideshow": {
     "slide_type": "slide"
    }
   },
   "outputs": [],
   "source": [
    "# Langevin equation with colored noise\n",
    "\n",
    "v = 0\n",
    "F = 0\n",
    "dt = 0.01 ; N_steps = 10000\n",
    "gamma = 2\n",
    "wc = 1\n",
    "D = 1\n",
    "v_factor = math.sqrt(2*D*wc)*dt\n",
    "F_factor = math.sqrt(2*dt)\n",
    "F_data = []\n",
    "v_data = []\n",
    "for t in range(N_steps):\n",
    "    F = F*(1-wc*dt) + F_factor*random.gauss(0,1)\n",
    "    v = v*(1-gamma*dt) + v_factor*F\n",
    "    F_data.append(F)\n",
    "    v_data.append(v)\n",
    "time = np.arange(N_steps)*dt\n",
    "F_data = np.array(F_data)\n",
    "v_data = np.array(v_data)"
   ]
  },
  {
   "cell_type": "code",
   "execution_count": null,
   "metadata": {
    "collapsed": false,
    "slideshow": {
     "slide_type": "subslide"
    }
   },
   "outputs": [],
   "source": [
    "plt.plot(time, F_data)\n",
    "plt.plot(time, v_data)"
   ]
  },
  {
   "cell_type": "code",
   "execution_count": null,
   "metadata": {
    "collapsed": false,
    "slideshow": {
     "slide_type": "subslide"
    }
   },
   "outputs": [],
   "source": [
    "n = len(F_data)\n",
    "C_F = np.correlate(F_data, F_data, mode='full')/n\n",
    "n_points = 101\n",
    "tau = np.linspace(-n_points*dt, n_points*dt, 2*n_points)\n",
    "plt.plot(tau, C_F[n-n_points:n+n_points])\n",
    "plt.plot(tau, np.exp(-wc*np.abs(tau))/wc)"
   ]
  },
  {
   "cell_type": "code",
   "execution_count": null,
   "metadata": {
    "collapsed": true,
    "slideshow": {
     "slide_type": "subslide"
    }
   },
   "outputs": [],
   "source": [
    "def vv(tau):\n",
    "    pref = 2*D*wc\n",
    "    t1 = 1/(2*gamma)*(1/(gamma+wc)-1/(gamma-wc))*np.exp(-gamma*np.abs(tau))\n",
    "    t2 = 1/(gamma-wc)/(gamma+wc)*np.exp(-wc*np.abs(tau))\n",
    "    return pref*(t1+t2)"
   ]
  },
  {
   "cell_type": "code",
   "execution_count": null,
   "metadata": {
    "collapsed": false,
    "slideshow": {
     "slide_type": "subslide"
    }
   },
   "outputs": [],
   "source": [
    "n = len(v_data)\n",
    "C_v = np.correlate(v_data, v_data, mode='full')/n\n",
    "n_points = 401\n",
    "tau = np.linspace(-n_points*dt, n_points*dt, 2*n_points)\n",
    "plt.plot(tau, C_v[n-n_points:n+n_points])\n",
    "plt.plot(tau, vv(np.abs(tau)))"
   ]
  },
  {
   "cell_type": "markdown",
   "metadata": {
    "collapsed": true
   },
   "source": [
    "## On white noise\n",
    "\n",
    "To generate white noise, one use a random number generator with the\n",
    "*normal* (i.e. gaussian distributed) distribution. Below, I show its\n",
    "autocorrelation that should resemble a Dirac, have zero average and\n",
    "standard deviation 1."
   ]
  },
  {
   "cell_type": "code",
   "execution_count": null,
   "metadata": {
    "collapsed": false
   },
   "outputs": [],
   "source": [
    "data = np.random.normal(size=10000)\n",
    "\n",
    "print('Average', np.mean(data))\n",
    "print('Standard deviation', np.std(data))\n",
    "plt.plot(np.correlate(data, data, mode='full') / len(data))\n",
    "plt.title(r'$\\langle \\xi(\\tau) \\xi\\rangle$')\n",
    "plt.xlabel(r'$\\tau$');"
   ]
  },
  {
   "cell_type": "code",
   "execution_count": null,
   "metadata": {
    "collapsed": true
   },
   "outputs": [],
   "source": []
  }
 ],
 "metadata": {
  "kernelspec": {
   "display_name": "Python 2",
   "language": "python",
   "name": "python2"
  },
  "language_info": {
   "codemirror_mode": {
    "name": "ipython",
    "version": 2
   },
   "file_extension": ".py",
   "mimetype": "text/x-python",
   "name": "python",
   "nbconvert_exporter": "python",
   "pygments_lexer": "ipython2",
   "version": "2.7.9"
  }
 },
 "nbformat": 4,
 "nbformat_minor": 0
}
