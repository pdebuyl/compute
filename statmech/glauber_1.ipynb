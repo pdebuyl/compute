{
 "cells": [
  {
   "cell_type": "code",
   "execution_count": null,
   "metadata": {},
   "outputs": [],
   "source": [
    "%pylab inline\n",
    "import scipy.special"
   ]
  },
  {
   "cell_type": "code",
   "execution_count": null,
   "metadata": {
    "collapsed": true
   },
   "outputs": [],
   "source": [
    "def single_run(q0, alpha, n_steps=200):\n",
    "    data = []\n",
    "    q = q0\n",
    "    for i in range(n_steps):\n",
    "        if np.random.random()<alpha/2:\n",
    "            q = -q\n",
    "        data.append(q)\n",
    "    return np.array(data)"
   ]
  },
  {
   "cell_type": "code",
   "execution_count": null,
   "metadata": {},
   "outputs": [],
   "source": [
    "plot(single_run(1, 0.1))"
   ]
  },
  {
   "cell_type": "code",
   "execution_count": null,
   "metadata": {},
   "outputs": [],
   "source": [
    "data = []\n",
    "for i in range(1000):\n",
    "    data.append(single_run(1, 0.01))\n",
    "data = np.array(data)"
   ]
  },
  {
   "cell_type": "code",
   "execution_count": null,
   "metadata": {},
   "outputs": [],
   "source": [
    "plot(data.mean(axis=0))\n",
    "plot(exp(-0.01*arange(200)))"
   ]
  },
  {
   "cell_type": "code",
   "execution_count": null,
   "metadata": {
    "collapsed": true
   },
   "outputs": [],
   "source": [
    "def many_run(q0, alpha, gamma, n_steps=200):\n",
    "    q = np.array(q0, copy=True)\n",
    "    data = [q.copy()]\n",
    "    N = len(q)\n",
    "    for i in range(n_steps):\n",
    "        for j in range(N):\n",
    "            proba = alpha/2 * (1 - gamma/2 * q[j]*(q[(j-1)%N] + q[(j+1)%N]))\n",
    "            if np.random.random()<proba:\n",
    "                q[j] = -q[j]\n",
    "        data.append(q.copy())\n",
    "    return np.array(data)"
   ]
  },
  {
   "cell_type": "code",
   "execution_count": null,
   "metadata": {},
   "outputs": [],
   "source": [
    "AL = 0.2\n",
    "GA = 0.5\n",
    "many_data = []\n",
    "for i in range(32*1024):\n",
    "    q0 = -1+2*np.random.randint(0, 2, size=32)\n",
    "    q0[0] = 1\n",
    "    many_data.append(many_run(q0, alpha=AL, gamma=GA, n_steps=50))\n",
    "many_data = np.array(many_data)"
   ]
  },
  {
   "cell_type": "code",
   "execution_count": null,
   "metadata": {},
   "outputs": [],
   "source": [
    "plt.figure(figsize=(15,4))\n",
    "plt.imshow(many_data.mean(axis=0).T, vmin=-1, vmax=1, cmap=plt.cm.seismic)\n",
    "plt.colorbar()"
   ]
  },
  {
   "cell_type": "code",
   "execution_count": null,
   "metadata": {},
   "outputs": [],
   "source": [
    "plt.plot(many_data.mean(axis=0)[:,0])\n",
    "plt.plot(many_data.mean(axis=0)[:,1])\n",
    "plt.plot(many_data.mean(axis=0)[:,2])\n",
    "steps = np.arange(51)\n",
    "plt.plot(steps, scipy.special.jn(0, AL*GA*steps)*exp(-AL*steps), 'k--')\n",
    "plt.plot(steps, scipy.special.jn(1, AL*GA*steps)*exp(-AL*steps), 'k--')\n",
    "plt.plot(steps, scipy.special.jn(2, AL*GA*steps)*exp(-AL*steps), 'k--')"
   ]
  },
  {
   "cell_type": "code",
   "execution_count": null,
   "metadata": {},
   "outputs": [],
   "source": []
  },
  {
   "cell_type": "code",
   "execution_count": null,
   "metadata": {},
   "outputs": [],
   "source": [
    "many_data[:,0,:3].mean(axis=0)"
   ]
  },
  {
   "cell_type": "code",
   "execution_count": null,
   "metadata": {
    "collapsed": true
   },
   "outputs": [],
   "source": [
    "ran_ic = np.array([(-1+2*np.random.randint(0, 2, size=32)) for i in range(1024)])"
   ]
  },
  {
   "cell_type": "code",
   "execution_count": null,
   "metadata": {},
   "outputs": [],
   "source": [
    "ran_ic.shape"
   ]
  },
  {
   "cell_type": "code",
   "execution_count": null,
   "metadata": {},
   "outputs": [],
   "source": [
    "ran_ic[:,:3].mean(axis=0)"
   ]
  },
  {
   "cell_type": "code",
   "execution_count": null,
   "metadata": {},
   "outputs": [],
   "source": [
    "1/np.sqrt(32*1024)"
   ]
  },
  {
   "cell_type": "code",
   "execution_count": null,
   "metadata": {
    "collapsed": true
   },
   "outputs": [],
   "source": [
    "scipy.special.jn?"
   ]
  },
  {
   "cell_type": "code",
   "execution_count": null,
   "metadata": {
    "collapsed": true
   },
   "outputs": [],
   "source": []
  }
 ],
 "metadata": {
  "kernelspec": {
   "display_name": "Python 3",
   "language": "python",
   "name": "python3"
  },
  "language_info": {
   "codemirror_mode": {
    "name": "ipython",
    "version": 3
   },
   "file_extension": ".py",
   "mimetype": "text/x-python",
   "name": "python",
   "nbconvert_exporter": "python",
   "pygments_lexer": "ipython3",
   "version": "3.6.4"
  }
 },
 "nbformat": 4,
 "nbformat_minor": 2
}
