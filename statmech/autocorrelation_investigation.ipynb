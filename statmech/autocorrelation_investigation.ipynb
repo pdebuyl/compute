{
 "cells": [
  {
   "cell_type": "code",
   "execution_count": null,
   "metadata": {},
   "outputs": [],
   "source": [
    "%matplotlib inline\n",
    "import numpy as np\n",
    "import matplotlib.pyplot as plt\n",
    "import tidynamics"
   ]
  },
  {
   "cell_type": "code",
   "execution_count": null,
   "metadata": {},
   "outputs": [],
   "source": [
    "def autocorrelation(data):\n",
    "\n",
    "    N = len(data)\n",
    "\n",
    "    norm = np.fft.fft(np.ones(N))\n",
    "    norm = np.fft.ifft(norm*np.conj(norm))\n",
    "    norm = np.real(norm).astype(int)\n",
    "\n",
    "    fourier = np.fft.fft(data-np.mean(data))\n",
    "    result  = np.fft.ifft(fourier*np.conj(fourier))\n",
    "    result  = np.divide(result,norm)\n",
    "    result /= np.var(data)\n",
    "\n",
    "    return np.real(result)[0:N//2]\n"
   ]
  },
  {
   "cell_type": "markdown",
   "metadata": {},
   "source": [
    "### Generate test data\n",
    "\n",
    "The test data is a random signal with zero mean, to take into\n",
    "account the removal of the mean in `autocorrelation`."
   ]
  },
  {
   "cell_type": "code",
   "execution_count": null,
   "metadata": {},
   "outputs": [],
   "source": [
    "N = 128\n",
    "data_1 = np.random.random(size=N)\n",
    "data_1 -= data_1.mean()"
   ]
  },
  {
   "cell_type": "code",
   "execution_count": null,
   "metadata": {},
   "outputs": [],
   "source": [
    "np_cor = np.correlate(data_1, data_1, mode='full')[N-1:]\n",
    "np_cor /= np_cor[0]\n",
    "np_cor = np_cor * N/(N-np.arange(N))\n",
    "plt.plot(np_cor)\n",
    "\n",
    "plt.plot(autocorrelation(data_1))"
   ]
  },
  {
   "cell_type": "markdown",
   "metadata": {},
   "source": [
    "The signals seem close enough, let's have a closer look by plotting the difference between the two."
   ]
  },
  {
   "cell_type": "code",
   "execution_count": null,
   "metadata": {},
   "outputs": [],
   "source": [
    "plt.plot(np_cor[:N//2] - autocorrelation(data_1))"
   ]
  },
  {
   "cell_type": "markdown",
   "metadata": {},
   "source": [
    "It appears that the difference grows for longer times, confirming that the\n",
    "issue of normalizing the FFT result by the number of items in the\n",
    "corresponding sum is the issue with the routine."
   ]
  },
  {
   "cell_type": "code",
   "execution_count": null,
   "metadata": {},
   "outputs": [],
   "source": [
    "plt.plot(np_cor[:N//2])\n",
    "plt.plot(autocorrelation(data_1) * (N/(N-np.arange(N)))[:N//2])\n",
    "plt.plot(autocorrelation(data_1))"
   ]
  },
  {
   "cell_type": "code",
   "execution_count": null,
   "metadata": {},
   "outputs": [],
   "source": []
  },
  {
   "cell_type": "markdown",
   "metadata": {},
   "source": [
    "### The norm\n",
    "\n",
    "Let's have a look at the norm variable in the routine."
   ]
  },
  {
   "cell_type": "code",
   "execution_count": null,
   "metadata": {},
   "outputs": [],
   "source": [
    "def get_norm(data):\n",
    "    N = len(data)\n",
    "    norm = np.fft.fft(np.ones(N))\n",
    "    norm = np.fft.ifft(norm*np.conj(norm))\n",
    "    norm = np.real(norm).astype(int)\n",
    "    return norm"
   ]
  },
  {
   "cell_type": "code",
   "execution_count": null,
   "metadata": {},
   "outputs": [],
   "source": [
    "get_norm(data_1)"
   ]
  },
  {
   "cell_type": "markdown",
   "metadata": {},
   "source": [
    "Ok, so `norm` is just a constant given by the length of the data. We can replace it by `N`."
   ]
  },
  {
   "cell_type": "code",
   "execution_count": null,
   "metadata": {},
   "outputs": [],
   "source": [
    "def autocorrelation_no_norm(data):\n",
    "\n",
    "    N = len(data)\n",
    "\n",
    "    fourier = np.fft.fft(data-np.mean(data))\n",
    "    result  = np.fft.ifft(fourier*np.conj(fourier))\n",
    "    result /= np.var(data)\n",
    "\n",
    "    return np.real(result)[0:N//2]/N\n"
   ]
  },
  {
   "cell_type": "code",
   "execution_count": null,
   "metadata": {},
   "outputs": [],
   "source": [
    "plt.plot(autocorrelation_no_norm(data_1))\n",
    "plt.plot(autocorrelation(data_1))"
   ]
  },
  {
   "cell_type": "markdown",
   "metadata": {},
   "source": [
    "Confirmed, no difference without the norm variable."
   ]
  },
  {
   "cell_type": "markdown",
   "metadata": {},
   "source": [
    "Other point, the correlation with the Fourier transform assumes periodic\n",
    "data. It is possible to circumvent this by adding zero to the data, so that\n",
    "the \"periodic\" interaction of the data with itself is effectively 0."
   ]
  },
  {
   "cell_type": "code",
   "execution_count": null,
   "metadata": {},
   "outputs": [],
   "source": [
    "data_2 = np.concatenate([data_1, np.zeros(N)])"
   ]
  },
  {
   "cell_type": "code",
   "execution_count": null,
   "metadata": {},
   "outputs": [],
   "source": [
    "np_cor_data_2 = np.correlate(data_2, data_2, mode='full')[2*N-1:]\n",
    "np_cor_data_2 /= np_cor_data_2[0]\n",
    "np_cor_data_2 = np_cor_data_2[:N]\n",
    "\n",
    "plt.plot(autocorrelation_no_norm(data_2))\n",
    "plt.plot(np_cor_data_2)\n"
   ]
  },
  {
   "cell_type": "code",
   "execution_count": null,
   "metadata": {},
   "outputs": [],
   "source": [
    "plt.plot(autocorrelation_no_norm(data_2)-np_cor_data_2)\n"
   ]
  },
  {
   "cell_type": "code",
   "execution_count": null,
   "metadata": {},
   "outputs": [],
   "source": []
  },
  {
   "cell_type": "markdown",
   "metadata": {},
   "source": [
    "This final result, where the difference between the signal is of about\n",
    "$10^{-16}$ corresponds to the machine precision and thus roundoff errors.\n",
    "\n",
    "### The catch\n",
    "\n",
    "NumPy's [`correlate`](https://docs.scipy.org/doc/numpy/reference/generated/numpy.correlate.html#numpy.correlate)\n",
    "computes the following formula:\n",
    "\n",
    "$$c_k = \\sum_n a_{n+k}\\ v^\\ast_{n}$$\n",
    "\n",
    "whereas the number of summation items in $c_k$ is $N-k$ (due to the zero padding).\n",
    "\n",
    "The \"physics\" correlation is the average of the product of the variables and to\n",
    "obtain the average, one must \"correct\" the result by dividing the elements not by $N$ but by $N-k$."
   ]
  },
  {
   "cell_type": "code",
   "execution_count": null,
   "metadata": {},
   "outputs": [],
   "source": [
    "def autocorrelation_no_norm_proper_average(data):\n",
    "\n",
    "    N = len(data)\n",
    "\n",
    "    fourier = np.fft.fft(data-np.mean(data))\n",
    "    result  = np.fft.ifft(fourier*np.conj(fourier))\n",
    "    result /= np.var(data)\n",
    "    result /= (N - np.arange(N))\n",
    "\n",
    "    return np.real(result)[0:N//2]\n"
   ]
  },
  {
   "cell_type": "code",
   "execution_count": null,
   "metadata": {},
   "outputs": [],
   "source": [
    "plt.plot(autocorrelation_no_norm_proper_average(data_2))\n",
    "tiny_acf = tidynamics.acf(data_2)\n",
    "plt.plot(tiny_acf/tiny_acf[0])"
   ]
  },
  {
   "cell_type": "markdown",
   "metadata": {},
   "source": [
    "### Summary\n",
    "\n",
    "The routine `autocorrelation` lacked the padding with zeros and the proper normalization.\n",
    "\n",
    "The final routine `autocorrelation_no_norm_proper_average` still does not automatically\n",
    "perform the padding and I humbly suggest to use tidynamics instead :-)"
   ]
  },
  {
   "cell_type": "code",
   "execution_count": null,
   "metadata": {},
   "outputs": [],
   "source": []
  },
  {
   "cell_type": "code",
   "execution_count": null,
   "metadata": {},
   "outputs": [],
   "source": []
  }
 ],
 "metadata": {
  "kernelspec": {
   "display_name": "Python 3",
   "language": "python",
   "name": "python3"
  },
  "language_info": {
   "codemirror_mode": {
    "name": "ipython",
    "version": 3
   },
   "file_extension": ".py",
   "mimetype": "text/x-python",
   "name": "python",
   "nbconvert_exporter": "python",
   "pygments_lexer": "ipython3",
   "version": "3.6.4rc1"
  }
 },
 "nbformat": 4,
 "nbformat_minor": 2
}
