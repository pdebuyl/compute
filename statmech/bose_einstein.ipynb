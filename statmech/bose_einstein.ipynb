{
 "cells": [
  {
   "cell_type": "code",
   "execution_count": null,
   "metadata": {
    "collapsed": false
   },
   "outputs": [],
   "source": [
    "%matplotlib inline\n",
    "import numpy as np\n",
    "from numpy import linspace, arange, zeros, ones, sum, vectorize, exp, log\n",
    "from matplotlib.pyplot import plot, xlim, ylim, xlabel, ylabel, legend, yscale\n",
    "from scipy.optimize import brentq"
   ]
  },
  {
   "cell_type": "code",
   "execution_count": null,
   "metadata": {
    "collapsed": false
   },
   "outputs": [],
   "source": []
  },
  {
   "cell_type": "code",
   "execution_count": null,
   "metadata": {
    "collapsed": false
   },
   "outputs": [],
   "source": [
    "def nxny(N=100):\n",
    "    nx = np.arange(N).reshape((-1,1))\n",
    "    ny = np.arange(N).reshape((1,-1))\n",
    "    return nx, ny\n",
    "\n",
    "def be(beta, epsilon):\n",
    "    return 1/(exp(beta*epsilon)-1)\n",
    "\n",
    "def g(epsilon):\n",
    "    return epsilon\n",
    "\n",
    "def Z(beta, hw, N=100):\n",
    "    nx, ny = nxny(N)\n",
    "    return sum(exp(-beta*hw*(nx+ny)) )\n",
    "\n",
    "def E(beta, hw, N=100):\n",
    "    nx, ny = nxny(N)\n",
    "    return sum(hw*(nx+ny)*exp(-beta*hw*(nx+ny))) / Z(beta, hw, N)"
   ]
  },
  {
   "cell_type": "code",
   "execution_count": null,
   "metadata": {
    "collapsed": false
   },
   "outputs": [],
   "source": [
    "Z(1, 1)"
   ]
  },
  {
   "cell_type": "code",
   "execution_count": null,
   "metadata": {
    "collapsed": false
   },
   "outputs": [],
   "source": [
    "T = linspace(0.01, 1.5, 100)\n",
    "plot(T, vectorize(E)(1/T, 1))"
   ]
  },
  {
   "cell_type": "code",
   "execution_count": null,
   "metadata": {
    "collapsed": false
   },
   "outputs": [],
   "source": [
    "T = linspace(0.01, 2, 100)\n",
    "plot(T, 1/vectorize(Z)(1/T, 1))\n",
    "\n",
    "Tc = 1\n",
    "plot(T, 1 - (T/Tc)**2)\n",
    "ylim(0, 1)"
   ]
  },
  {
   "cell_type": "code",
   "execution_count": null,
   "metadata": {
    "collapsed": false
   },
   "outputs": [],
   "source": [
    "nx, ny = nxny(3)\n",
    "sum(nx+ny)"
   ]
  },
  {
   "cell_type": "code",
   "execution_count": null,
   "metadata": {
    "collapsed": false
   },
   "outputs": [],
   "source": [
    "nx+ny"
   ]
  },
  {
   "cell_type": "markdown",
   "metadata": {
    "collapsed": false
   },
   "source": [
    "### Bose-Einstein condensation in 2D harmonic trap\n",
    "\n",
    "$$\\epsilon_n = \\hbar\\omega ( n_x + n_y )$$\n",
    "\n",
    "$$N(\\mu, T) = \\sum_{n_x, n_y = 0}^\\infty \\frac{1}{e^{\\beta(\\epsilon-\\mu)} - 1}$$\n",
    "\n",
    "In the numerical computations, $\\hbar\\omega = 1$"
   ]
  },
  {
   "cell_type": "code",
   "execution_count": null,
   "metadata": {
    "collapsed": true
   },
   "outputs": [],
   "source": [
    "hw = 1\n",
    "delta = 1e-6\n",
    "\n",
    "def nxny(N=30, beta=1):\n",
    "    nx = np.arange(N).reshape((-1,1))\n",
    "    ny = np.arange(N).reshape((1,-1))\n",
    "    mask = (nx+ny) < log(1 + 1/delta)/(beta*hw)\n",
    "    return nx, ny, mask\n",
    "\n",
    "def f_N(beta, mu):\n",
    "    nx, ny, mask = nxny(30, beta)\n",
    "    return sum(1/(exp(beta*(hw*(nx + ny)-mu)) - 1)[mask])\n",
    "\n",
    "def f_mu(beta, N0):\n",
    "    mu_solution = brentq(lambda mu: f_N(beta, mu)-N0, -100/beta, -0.00001)\n",
    "    return mu_solution\n",
    "\n",
    "def f_N0(beta, mu):\n",
    "    return 1/(exp(-beta*mu) - 1)"
   ]
  },
  {
   "cell_type": "code",
   "execution_count": null,
   "metadata": {
    "collapsed": false
   },
   "outputs": [],
   "source": [
    "# Fix N\n",
    "\n",
    "mu_variable = linspace(-3, -0.01, 100)\n",
    "\n",
    "plot(mu_variable, map(lambda x: f_N(1, x), mu_variable))\n",
    "xlabel(r'$\\mu$')\n",
    "ylabel(r'$N(\\mu, T)$');"
   ]
  },
  {
   "cell_type": "code",
   "execution_count": null,
   "metadata": {
    "collapsed": false
   },
   "outputs": [],
   "source": [
    "T_variable = linspace(0.05, 0.5, 100)\n",
    "\n",
    "for N in (100,400,1600):\n",
    "    plot(T_variable, map(lambda x: f_mu(x, N), T_variable), label=r'$N = '+str(N)+'$')\n",
    "xlabel(r'$T$')\n",
    "ylabel(r'$\\mu(N, T)$')\n",
    "ylim(-3, -1e-7)\n",
    "#yscale('log')\n",
    "legend();"
   ]
  },
  {
   "cell_type": "code",
   "execution_count": null,
   "metadata": {
    "collapsed": false
   },
   "outputs": [],
   "source": [
    "N_variable = linspace(100, 1000, 200)\n",
    "\n",
    "T = 0.2\n",
    "beta = 1/T\n",
    "plot(N_variable, map(lambda x: f_mu(beta, x), N_variable), label=r'$N = '+str(N)+'$')\n",
    "\n",
    "mu_variable = linspace(-0.3, -0.001, 100)\n",
    "\n",
    "plot(map(lambda x: f_N(beta, x), mu_variable), mu_variable)\n",
    "\n",
    "xlabel(r'$\\mu$')\n",
    "ylabel(r'$N(\\mu, T)$');\n"
   ]
  },
  {
   "cell_type": "code",
   "execution_count": null,
   "metadata": {
    "collapsed": false
   },
   "outputs": [],
   "source": [
    "N_variable = linspace(50, 5000, 200)\n",
    "\n",
    "T_variable = linspace(0.1, 7, 20)\n",
    "beta_variable = 1/T_variable\n",
    "\n",
    "N=100\n",
    "plot(T_variable, map(lambda x: 1/(exp(-x*f_mu(x, N))-1)/N, beta_variable))\n",
    "plot(T_variable, 1-(T_variable/7)**2)"
   ]
  },
  {
   "cell_type": "code",
   "execution_count": null,
   "metadata": {
    "collapsed": false
   },
   "outputs": [],
   "source": [
    "N_variable = linspace(50, 5000, 200)\n",
    "\n",
    "T_variable = linspace(0.1, 12, 20)\n",
    "beta_variable = 1/T_variable\n",
    "\n",
    "N=200\n",
    "plot(T_variable, map(lambda x: 1/(exp(-x*f_mu(x, N))-1)/N, beta_variable))\n",
    "plot(T_variable, 1-(T_variable/10)**2)\n",
    "ylim(0, 1);"
   ]
  },
  {
   "cell_type": "code",
   "execution_count": null,
   "metadata": {
    "collapsed": true
   },
   "outputs": [],
   "source": []
  },
  {
   "cell_type": "code",
   "execution_count": null,
   "metadata": {
    "collapsed": true
   },
   "outputs": [],
   "source": []
  },
  {
   "cell_type": "code",
   "execution_count": null,
   "metadata": {
    "collapsed": true
   },
   "outputs": [],
   "source": []
  },
  {
   "cell_type": "code",
   "execution_count": null,
   "metadata": {
    "collapsed": true
   },
   "outputs": [],
   "source": []
  },
  {
   "cell_type": "code",
   "execution_count": null,
   "metadata": {
    "collapsed": true
   },
   "outputs": [],
   "source": []
  }
 ],
 "metadata": {
  "kernelspec": {
   "display_name": "Python 2",
   "language": "python",
   "name": "python2"
  },
  "language_info": {
   "codemirror_mode": {
    "name": "ipython",
    "version": 2
   },
   "file_extension": ".py",
   "mimetype": "text/x-python",
   "name": "python",
   "nbconvert_exporter": "python",
   "pygments_lexer": "ipython2",
   "version": "2.7.11+"
  }
 },
 "nbformat": 4,
 "nbformat_minor": 0
}
