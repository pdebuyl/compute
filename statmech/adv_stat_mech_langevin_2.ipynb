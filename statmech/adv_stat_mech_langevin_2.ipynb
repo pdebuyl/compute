{
 "cells": [
  {
   "cell_type": "markdown",
   "metadata": {},
   "source": [
    "# Exercise session on the Langevin equation\n",
    "\n",
    "**Author:** Pierre de Buyl - http://pdebuyl.be/  \n",
    "**License:** [CC-BY](http://creativecommons.org/licenses/by/4.0/)"
   ]
  },
  {
   "cell_type": "code",
   "execution_count": null,
   "metadata": {
    "collapsed": true
   },
   "outputs": [],
   "source": [
    "from __future__ import division, print_function\n",
    "%matplotlib inline\n",
    "import numpy as np\n",
    "import matplotlib.pyplot as plt\n",
    "import math\n",
    "import random\n",
    "plt.rcParams['font.size'] = 16"
   ]
  },
  {
   "cell_type": "code",
   "execution_count": null,
   "metadata": {
    "collapsed": true
   },
   "outputs": [],
   "source": [
    "# Langevin equation for the velocity\n",
    "\n",
    "v0 = 1\n",
    "Dr = 1\n",
    "th = 0\n",
    "x = 0\n",
    "y = 0\n",
    "dt = 0.01\n",
    "th_factor = math.sqrt(2*Dr*dt)\n",
    "xy_factor = v0*dt\n",
    "xy_data = []\n",
    "th_data = []\n",
    "for t in range(100000):\n",
    "    th = th + th_factor*random.gauss(0,1)\n",
    "    x = x + math.cos(th)*xy_factor\n",
    "    y = y + math.sin(th)*xy_factor\n",
    "    th_data.append(th)\n",
    "    xy_data.append((x,y))\n",
    "th_data = np.array(th_data)\n",
    "xy_data = np.array(xy_data)"
   ]
  },
  {
   "cell_type": "code",
   "execution_count": null,
   "metadata": {
    "collapsed": false
   },
   "outputs": [],
   "source": [
    "plt.plot(xy_data[:,0], xy_data[:,1]);"
   ]
  },
  {
   "cell_type": "code",
   "execution_count": null,
   "metadata": {
    "collapsed": false
   },
   "outputs": [],
   "source": [
    "plt.plot(np.sum(xy_data**2, axis=1));"
   ]
  },
  {
   "cell_type": "code",
   "execution_count": null,
   "metadata": {
    "collapsed": true
   },
   "outputs": [],
   "source": []
  }
 ],
 "metadata": {
  "kernelspec": {
   "display_name": "Python 2",
   "language": "python",
   "name": "python2"
  },
  "language_info": {
   "codemirror_mode": {
    "name": "ipython",
    "version": 2
   },
   "file_extension": ".py",
   "mimetype": "text/x-python",
   "name": "python",
   "nbconvert_exporter": "python",
   "pygments_lexer": "ipython2",
   "version": "2.7.9"
  }
 },
 "nbformat": 4,
 "nbformat_minor": 0
}
