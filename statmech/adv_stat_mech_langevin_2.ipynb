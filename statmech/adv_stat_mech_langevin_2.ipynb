{
 "cells": [
  {
   "cell_type": "markdown",
   "metadata": {},
   "source": [
    "# Exercise session on the Langevin equation\n",
    "\n",
    "**Author:** Pierre de Buyl - http://pdebuyl.be/  \n",
    "**License:** [CC-BY](http://creativecommons.org/licenses/by/4.0/)"
   ]
  },
  {
   "cell_type": "code",
   "execution_count": null,
   "metadata": {
    "collapsed": true
   },
   "outputs": [],
   "source": [
    "from __future__ import division, print_function\n",
    "%matplotlib inline\n",
    "import numpy as np\n",
    "import matplotlib.pyplot as plt\n",
    "import math\n",
    "import random\n",
    "plt.rcParams['font.size'] = 16"
   ]
  },
  {
   "cell_type": "markdown",
   "metadata": {},
   "source": [
    "## Velocity and force frequency spectra\n",
    "\n",
    "For the Langevin equation\n",
    "$$\\dot v = - \\gamma v + \\xi$$\n",
    "can be Fourier transformed\n",
    "$$i \\omega \\hat v = - \\gamma \\hat v + \\hat \\xi$$\n",
    "and thus solved in frequency space\n",
    "$$\\hat v = \\frac{\\hat\\xi}{\\gamma + i \\omega}$$\n",
    "\n",
    "and the relation between the spectra is $S_v(\\omega) = S_F(\\omega) / (\\gamma^2+\\omega^2)$"
   ]
  },
  {
   "cell_type": "code",
   "execution_count": null,
   "metadata": {
    "collapsed": true
   },
   "outputs": [],
   "source": [
    "# Langevin equation for the velocity\n",
    "\n",
    "v = 0\n",
    "dt = 0.01\n",
    "gamma = 0.5\n",
    "D = 1/gamma\n",
    "v_factor = math.sqrt(2*D*dt)\n",
    "F_data = []\n",
    "v_data = []\n",
    "for t in range(1024*8):\n",
    "    F = v_factor*random.gauss(0,1)\n",
    "    v = v*(1-gamma*dt) + F\n",
    "    F_data.append(F)\n",
    "    v_data.append(v)\n",
    "F_data = np.array(F_data)/math.sqrt(dt)\n",
    "v_data = np.array(v_data)"
   ]
  },
  {
   "cell_type": "code",
   "execution_count": null,
   "metadata": {
    "collapsed": false
   },
   "outputs": [],
   "source": [
    "def power_spectrum(data, dt):\n",
    "    N_samples = len(data)\n",
    "    t = np.arange(N_samples)*dt\n",
    "    df = 1/(dt*N_samples)\n",
    "    y_hat = np.fft.fft(data)/N_samples\n",
    "    y_hat = y_hat[1:N_samples//2+1]+np.conj(y_hat[-N_samples//2:][::-1])\n",
    "    s = np.abs(y_hat**2)\n",
    "    s *= len(s)/2\n",
    "    return np.arange(len(s))*df, s\n",
    "\n",
    "plt.figure(figsize=(12, 4))\n",
    "plt.subplot(121)\n",
    "\n",
    "f, s = power_spectrum(F_data, dt)\n",
    "plt.plot(f, s);\n",
    "plt.axhline(2*D, c='r');\n",
    "plt.xlabel(r'$f$')\n",
    "plt.ylabel(r'$S_F(f)$')\n",
    "print(s.mean())\n",
    "\n",
    "plt.subplot(122)\n",
    "f, s = power_spectrum(v_data, dt)\n",
    "plt.plot(f, s);\n",
    "plt.plot(f, 2*D/(gamma**2+f**2), c='r')\n",
    "plt.xlabel(r'$f$')\n",
    "plt.ylabel(r'$S_v(f)$')\n",
    "plt.yscale('log')\n",
    "\n",
    "plt.xlim(0, 20);\n",
    "plt.ylim(1e-3, 1e3);"
   ]
  },
  {
   "cell_type": "markdown",
   "metadata": {
    "collapsed": false
   },
   "source": [
    "## Active Brownian Particles\n",
    "\n",
    "$$\\dot \\theta = \\xi$$\n",
    "$$v = v_0 (\\cos\\theta, \\sin\\theta)$$\n",
    "$$\\dot x = v$$"
   ]
  },
  {
   "cell_type": "code",
   "execution_count": null,
   "metadata": {
    "collapsed": true
   },
   "outputs": [],
   "source": [
    "# Langevin equation for the velocity\n",
    "\n",
    "v0 = 1\n",
    "Dr = 2\n",
    "th = 0\n",
    "x = 0\n",
    "y = 0\n",
    "dt = 0.01\n",
    "th_factor = math.sqrt(2*Dr*dt)\n",
    "xy_factor = v0*dt\n",
    "xy_data = []\n",
    "th_data = []\n",
    "for t in range(100000):\n",
    "    th = th + th_factor*random.gauss(0,1)\n",
    "    x = x + math.cos(th)*xy_factor\n",
    "    y = y + math.sin(th)*xy_factor\n",
    "    th_data.append(th)\n",
    "    xy_data.append((x,y))\n",
    "th_data = np.array(th_data)\n",
    "xy_data = np.array(xy_data)"
   ]
  },
  {
   "cell_type": "code",
   "execution_count": null,
   "metadata": {
    "collapsed": false,
    "scrolled": true
   },
   "outputs": [],
   "source": [
    "plt.plot(xy_data[:,0], xy_data[:,1]);"
   ]
  },
  {
   "cell_type": "code",
   "execution_count": null,
   "metadata": {
    "collapsed": false
   },
   "outputs": [],
   "source": [
    "t = dt*np.arange(len(xy_data))\n",
    "plt.plot(t, np.sum(xy_data**2, axis=1))\n",
    "\n",
    "plt.plot(t, v0**2/(2*Dr)*t);"
   ]
  },
  {
   "cell_type": "markdown",
   "metadata": {
    "collapsed": false
   },
   "source": [
    "## Sedimentation\n",
    "\n",
    "$$\\dot x = - \\frac{m g}{\\gamma} + \\xi$$"
   ]
  },
  {
   "cell_type": "code",
   "execution_count": null,
   "metadata": {
    "collapsed": false
   },
   "outputs": [],
   "source": [
    "# Overdamped Langevin equation for sedimentation\n",
    "\n",
    "x = 1\n",
    "dt = 0.01\n",
    "D = 2\n",
    "g = 0.3\n",
    "x_factor = math.sqrt(2*D**2*dt)\n",
    "x_data = []\n",
    "for t in range(100000):\n",
    "    x = x - g*D*dt + x_factor*random.gauss(0,1)\n",
    "    if x<0:\n",
    "        x = -x\n",
    "    x_data.append(x)\n",
    "x_data = np.array(x_data)"
   ]
  },
  {
   "cell_type": "code",
   "execution_count": null,
   "metadata": {
    "collapsed": false
   },
   "outputs": [],
   "source": [
    "plt.plot(x_data);"
   ]
  },
  {
   "cell_type": "code",
   "execution_count": null,
   "metadata": {
    "collapsed": false
   },
   "outputs": [],
   "source": [
    "n, bins, patches = plt.hist(x_data, bins=32, normed=True)\n",
    "#bins = (bins[1:]+bins[:-1])/2\n",
    "plt.title('Density as a function of altitude')\n",
    "plt.plot(bins, g/D*np.exp(-bins*g/D));"
   ]
  },
  {
   "cell_type": "code",
   "execution_count": null,
   "metadata": {
    "collapsed": true
   },
   "outputs": [],
   "source": []
  }
 ],
 "metadata": {
  "kernelspec": {
   "display_name": "Python 2",
   "language": "python",
   "name": "python2"
  },
  "language_info": {
   "codemirror_mode": {
    "name": "ipython",
    "version": 2
   },
   "file_extension": ".py",
   "mimetype": "text/x-python",
   "name": "python",
   "nbconvert_exporter": "python",
   "pygments_lexer": "ipython2",
   "version": "2.7.9"
  }
 },
 "nbformat": 4,
 "nbformat_minor": 0
}
