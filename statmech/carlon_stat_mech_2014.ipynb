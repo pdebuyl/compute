{
 "cells": [
  {
   "cell_type": "code",
   "execution_count": null,
   "metadata": {
    "collapsed": false
   },
   "outputs": [],
   "source": [
    "import numpy as np\n",
    "%matplotlib inline\n",
    "import matplotlib.pyplot as plt\n",
    "from __future__ import division, print_function\n",
    "plt.rcParams['figure.figsize']= (6,3.6)\n",
    "plt.rcParams['font.size'] = 18\n",
    "plt.rcParams['lines.linewidth'] = 2"
   ]
  },
  {
   "cell_type": "markdown",
   "metadata": {},
   "source": [
    "### 1.7.1\n",
    "\n",
    "The probability is given by the binomial coefficient $\\binom{n}{p}$: how many ways\n",
    "are there to select p steps in n?\n",
    "The probability is normalized by $2^n$ that is the number of possible states after\n",
    "$n$ steps."
   ]
  },
  {
   "cell_type": "code",
   "execution_count": null,
   "metadata": {
    "collapsed": false
   },
   "outputs": [],
   "source": [
    "def myb(p,n):\n",
    "    \"\"\"Binomial coefficient \"n over p\" \"\"\"\n",
    "    return np.math.factorial(n)/(np.math.factorial(p)*np.math.factorial(n-p))\n",
    "\n",
    "def myp(p, n):\n",
    "    \"\"\"Probability of p jumps to the right given n total jumps\"\"\"\n",
    "    return myb(p,n)/2**n"
   ]
  },
  {
   "cell_type": "code",
   "execution_count": null,
   "metadata": {
    "collapsed": false
   },
   "outputs": [],
   "source": [
    "# data holds the probability for p in (0,100)\n",
    "data = [myp(p, 100) for p in range(101)]\n",
    "# distance p-n/2 travelled\n",
    "abscissa = [p-50 for p in range(101)]"
   ]
  },
  {
   "cell_type": "code",
   "execution_count": null,
   "metadata": {
    "collapsed": false
   },
   "outputs": [],
   "source": [
    "plt.plot(abscissa,data);\n",
    "plt.xlabel(r\"$p-n/2$\");\n",
    "plt.ylabel(r\"$\\mathcal{P} (p, n)$\");"
   ]
  },
  {
   "cell_type": "markdown",
   "metadata": {},
   "source": [
    "### 1.7.3\n",
    "\n",
    "#### a) solution to the diffusion equation\n",
    "\n",
    "The solution for a the infinite domain with $x_0$ is\n",
    "\n",
    "$c(x,t) = \\frac{1}{\\sqrt{2\\pi Dt}} e^{-(x-x_0)^2 / 2Dt}$\n",
    "\n",
    "It is duplicated, reflected around the boundary at $x=0$\n",
    "\n",
    "$c(x,t) = \\frac{1}{\\sqrt{8\\pi Dt}} \\left( e^{-(x-x_0)^2 / 2Dt} + e^{-(x+x_0)^2 / 2Dt} \\right)$\n",
    "\n",
    "#### b) inversion of maximum\n",
    "\n",
    "The problem can be stated as $c(0,t) = c(x_0,t)$ or\n",
    "\n",
    "$e^{-(-x_0)^2 / 2Dt} + e^{-(+x_0)^2 / 2Dt} = e^{-(x_0-x_0)^2 / 2Dt} + e^{-(x_0+x_0)^2 / 2Dt}$\n",
    "\n",
    "$2 e^{-x_0^2 / 2Dt} = 1 + e^{-4 x_0^2 / 2Dt}$"
   ]
  },
  {
   "cell_type": "code",
   "execution_count": null,
   "metadata": {
    "collapsed": false
   },
   "outputs": [],
   "source": []
  },
  {
   "cell_type": "markdown",
   "metadata": {},
   "source": [
    "### 1.7.8\n",
    "\n",
    "#### a) Radius and volume for a random walk ADN chain\n",
    "\n",
    "$R=R_{ee}=a \\sqrt{N}$\n",
    "\n",
    "$V = 4/3 \\pi R^3$\n",
    "\n",
    "Random walk: $V \\propto a^3 N^{3/2}$\n",
    "\n",
    "#### b) Probability that a pair of monomers meet? Any pair?\n",
    "\n",
    "$V_1 / V_{tot} \\propto N^{-3\\nu}$\n",
    "\n",
    "Occupied volume: $N V_1$  \n",
    "Available volume: $V - N V_1$\n",
    "\n",
    "Odd to land on occupied volume: $N V_1 / V = N V_1 / (4\\pi R_{ee}^3/3)$\n",
    "\n",
    "$N V_1 / (4\\pi a^3 N^{3/2}/3) = N^{-1/2} V_1 / (4\\pi a^3/3) = 1/\\sqrt{N}$\n",
    "\n",
    "This result is for a single monomer landing on *any* other monomer.\n",
    "For any pair, we multiply by $N$ and divide by two to remove the\n",
    "double counting of the pairs:\n",
    "\n",
    "$\\sqrt{N}/2$\n"
   ]
  },
  {
   "cell_type": "code",
   "execution_count": null,
   "metadata": {
    "collapsed": false
   },
   "outputs": [],
   "source": []
  },
  {
   "cell_type": "markdown",
   "metadata": {},
   "source": [
    "### 1.7.9\n",
    "\n",
    "data:\n",
    "\n",
    "| quantity               | value        |\n",
    "|------------------------|--------------|\n",
    "| a (segment length)     | $50 \\eta$m   |\n",
    "| dist. betw. base pairs | $0.34 \\eta$m |\n",
    "| Number of base         | $3.3~10^9$   |"
   ]
  },
  {
   "cell_type": "code",
   "execution_count": null,
   "metadata": {
    "collapsed": false
   },
   "outputs": [],
   "source": [
    "segment_length = 50e-9\n",
    "base_pair_length = 0.34e-9\n",
    "base_number = 3.3e9\n",
    "print(\"There are {} base pairs per segment\".format(segment_length/base_pair_length))\n",
    "N_segments = base_number/(segment_length/base_pair_length)\n",
    "print(\"There are {} segments\".format(N_segments))"
   ]
  },
  {
   "cell_type": "markdown",
   "metadata": {},
   "source": [
    "#### a) Typical radius\n",
    "\n",
    "For the random walk, we use $R\\sim a \\sqrt{N}$ and for\n",
    "the self-avoiding random walk $R\\sim a N^{0.6}$."
   ]
  },
  {
   "cell_type": "code",
   "execution_count": null,
   "metadata": {
    "collapsed": false
   },
   "outputs": [],
   "source": [
    "print(N_segments**0.5*segment_length)\n",
    "print(N_segments**0.6*segment_length)\n"
   ]
  },
  {
   "cell_type": "markdown",
   "metadata": {},
   "source": [
    "#### b) package\n",
    "\n",
    "The end to end distance is of $0.2$mm and $1.3$mm for the random\n",
    "walk and the self-avoiding random walk, respectively. This is $200$\n",
    "and $1300$ times too large to fit in a cell of $1\\mu$m."
   ]
  },
  {
   "cell_type": "markdown",
   "metadata": {},
   "source": [
    "a\n",
    "\n",
    "a\n",
    "\n",
    "a\n",
    "\n",
    "a\n",
    "\n",
    "a\n",
    "\n",
    "a\n",
    "\n",
    "a\n",
    "\n",
    "a\n",
    "\n",
    "a\n",
    "\n",
    "a\n",
    "\n",
    "a\n",
    "\n",
    "a\n",
    "\n",
    "a\n",
    "\n",
    "a\n",
    "\n",
    "a\n",
    "\n",
    "a"
   ]
  },
  {
   "cell_type": "code",
   "execution_count": null,
   "metadata": {
    "collapsed": false
   },
   "outputs": [],
   "source": [
    "\n",
    "\n",
    "\n",
    "\n"
   ]
  },
  {
   "cell_type": "markdown",
   "metadata": {},
   "source": [
    "### Surface and Volume of a high dimensional sphere\n",
    "\n",
    "$I_N = \\int d^N \\vec x e^{-\\vec x^2}$\n",
    "\n",
    "$I_N = \\prod_1^N \\int dx e^{-x^2} = \\sqrt{\\pi}^N$\n",
    "\n",
    "$I_N = \\int dx x^{N-1} \\mu_{N-1} e^{-\\vec x^2}$  \n",
    "$= \\mu_{N-1} \\int dx x^{N-1} e^{-x^2}$\n",
    "\n",
    "$\\mu_{N-1} = 2 \\pi^{N/2} / \\Gamma(N/2)$\n",
    "\n",
    "$\\mu_1 = 2 \\pi / \\Gamma(1) = 2\\pi$\n",
    "\n",
    "$\\mu_2 = 2 \\pi^{3/2} / \\Gamma(3/2)$\n",
    "\n",
    "as $\\Gamma(t+1) = t\\Gamma(t)$, one has $\\Gamma(3/2) = \\Gamma(1/2 + 1) = 1/2 \\Gamma(1/2) = \\sqrt{\\pi}/2$\n",
    "and $\\Gamma(5/2) = \\Gamma(3/2 +1) = 3/2 \\Gamma(3/2) = 3/4 \\sqrt{\\pi}$\n",
    "\n",
    "$\\mu_2 = 4\\pi$\n",
    "\n",
    "The volume is $V_N = \\int_0^R dR' S_N(R')$, the surface $S_N = \\mu_{N-1} R^{N-1}$\n",
    "\n",
    "$V_N = \\mu_{N-1} \\int_0^R dR' R'^{N-1} = \\frac{\\mu_{N-1}}{N} R^N$\n",
    "\n",
    "$V_N = \\frac{2 \\pi^{N/2}}{\\Gamma(N/2) N} R^N = \\frac{\\pi^{N/2}}{\\Gamma(N/2+1)} R^N$\n",
    "\n",
    "$V_2(R) = \\int_0^R dR' S_2(R') = \\int_0^R dR' 2\\pi R' = 2\\pi \\int_0^R dR' R' = 2\\pi R^2/2 = \\pi R^2$\n",
    "\n",
    "$V_3(R) = \\int_0^R dR' S_3(R') = \\int_0^R dR' 4\\pi R'^2 = 4\\pi \\int_0^R dR' R'^2 = 4 \\pi R^3/3$\n",
    "\n",
    "Fraction of the volume\n",
    "\n",
    "$\\Delta V / V = \\frac{ R^{3N} - (R-\\Delta R)^{3N} }{R^{3N}}$\n",
    "\n",
    "Use $(R-\\Delta R)^M = R^M (1 - \\Delta R/R)^M = R^M (1 - M \\Delta R/R)$\n",
    "\n",
    "$\\Delta V / V = R^M M \\Delta R / R / R^M = M \\Delta R / R$\n",
    "\n",
    "Back a few lines\n",
    "\n",
    "$\\Delta V / V = 1 - (R - \\Delta R)^M / R^M = 1 - (1-\\Delta R/R)^M$"
   ]
  },
  {
   "cell_type": "code",
   "execution_count": null,
   "metadata": {
    "collapsed": false
   },
   "outputs": [],
   "source": [
    "(1-1e-20)"
   ]
  }
 ],
 "metadata": {
  "kernelspec": {
   "display_name": "Python 2",
   "language": "python",
   "name": "python2"
  },
  "language_info": {
   "codemirror_mode": {
    "name": "ipython",
    "version": 2
   },
   "file_extension": ".py",
   "mimetype": "text/x-python",
   "name": "python",
   "nbconvert_exporter": "python",
   "pygments_lexer": "ipython2",
   "version": "2.7.13"
  }
 },
 "nbformat": 4,
 "nbformat_minor": 0
}
