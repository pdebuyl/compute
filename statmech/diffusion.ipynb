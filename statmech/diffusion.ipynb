{
 "cells": [
  {
   "cell_type": "code",
   "execution_count": null,
   "metadata": {
    "collapsed": false
   },
   "outputs": [],
   "source": [
    "%matplotlib inline\n",
    "import matplotlib.pyplot as plt\n",
    "import numpy as np\n",
    "import scipy\n",
    "from scipy.misc import comb\n",
    "from numpy import pi\n",
    "from __future__ import division\n",
    "from ipywidgets import interact\n",
    "\n",
    "plt.rcParams['font.size'] = 12\n",
    "plt.rcParams['axes.labelsize'] = 'large'"
   ]
  },
  {
   "cell_type": "markdown",
   "metadata": {},
   "source": [
    "## Random walks and diffusion"
   ]
  },
  {
   "cell_type": "code",
   "execution_count": null,
   "metadata": {
    "collapsed": false
   },
   "outputs": [],
   "source": [
    "Nbins = 32\n",
    "\n",
    "def reflective_pl(i):\n",
    "    if i==0:\n",
    "        return 0\n",
    "    else:\n",
    "        return 0.5\n",
    "\n",
    "def open_pl(i):\n",
    "    return 0.5\n",
    "\n",
    "def absorbing_pl(i):\n",
    "    if i==0:\n",
    "        return 1\n",
    "    elif i==-1:\n",
    "        return 0\n",
    "    else:\n",
    "        return 0.5\n",
    "\n",
    "pl = absorbing_pl\n",
    "\n",
    "all_data = []\n",
    "for iteration in range(10):\n",
    "    data = [iteration]\n",
    "    i = Nbins // 2\n",
    "    for time in range(300):\n",
    "        if np.random.rand() < pl(i):\n",
    "            i = i - 1\n",
    "        else:\n",
    "            i = i + 1\n",
    "        data.append(i)\n",
    "    all_data.append(data)\n",
    "    plt.plot(data)\n",
    "plt.grid()\n",
    "all_data = np.array(all_data)"
   ]
  },
  {
   "cell_type": "code",
   "execution_count": null,
   "metadata": {
    "collapsed": false
   },
   "outputs": [],
   "source": []
  },
  {
   "cell_type": "code",
   "execution_count": null,
   "metadata": {
    "collapsed": true
   },
   "outputs": [],
   "source": [
    "def P_x(x, N):\n",
    "    \"\"\"Probability of position x after N steps\"\"\"\n",
    "    if (x + N) % 2 == 0:\n",
    "        Right = (N + x)//2\n",
    "        return 0.5**N * comb(N, Right, exact=True)\n",
    "    else:\n",
    "        return 0"
   ]
  },
  {
   "cell_type": "code",
   "execution_count": null,
   "metadata": {
    "collapsed": false
   },
   "outputs": [],
   "source": [
    "def view_P(N):\n",
    "    all_x = ( -N + np.arange(2*N+1))[::2]\n",
    "    P = [P_x(x, N) for x in all_x]\n",
    "    plt.plot(all_x, P)\n",
    "    plt.xlim(-100,100)\n",
    "    plt.ylim(0, 0.5)\n",
    "\n",
    "interact(view_P, N=(3,100,1));"
   ]
  },
  {
   "cell_type": "markdown",
   "metadata": {
    "collapsed": false
   },
   "source": [
    "### Diffusion in open space"
   ]
  },
  {
   "cell_type": "code",
   "execution_count": null,
   "metadata": {
    "collapsed": true
   },
   "outputs": [],
   "source": [
    "def c(x, t, x0):\n",
    "    \"\"\"Solution to the diffusion equation at position x and time t.\n",
    "    x0 is the initial position.\"\"\"\n",
    "    return 1/np.sqrt(2*pi*t) * np.exp(-(x-x0)**2 / (2*t))"
   ]
  },
  {
   "cell_type": "code",
   "execution_count": null,
   "metadata": {
    "collapsed": false
   },
   "outputs": [],
   "source": [
    "space = np.linspace(-12, 12, 101)\n",
    "\n",
    "def diff_solution(t, x0):\n",
    "    plt.plot(space, c(space, t, x0))\n",
    "    plt.axvline(0)\n",
    "    plt.xlim(-12,12)\n",
    "    plt.ylim(0, 0.41)\n",
    "    plt.ylabel(r'$c(x,t)$')\n",
    "    plt.xlabel(r'$x$')\n",
    "\n",
    "interact(diff_solution, t=(1,10,2), x0=(-1,5,1));"
   ]
  },
  {
   "cell_type": "markdown",
   "metadata": {},
   "source": [
    "### Absorbing boundary condition"
   ]
  },
  {
   "cell_type": "code",
   "execution_count": null,
   "metadata": {
    "collapsed": false
   },
   "outputs": [],
   "source": [
    "def diff_solution(t, x0):\n",
    "    plt.plot(space, c(space, t, x0) - c(space, t, -x0))\n",
    "    plt.axvline(0)\n",
    "    plt.xlim(-12,12)\n",
    "    plt.ylim(-0.41, 0.41)\n",
    "    plt.ylabel(r'$c(x,t)$')\n",
    "    plt.xlabel(r'$x$')\n",
    "\n",
    "interact(diff_solution, t=(1,15,2), x0=(-1,6,1));"
   ]
  },
  {
   "cell_type": "markdown",
   "metadata": {},
   "source": [
    "### Reflecting boundary condition"
   ]
  },
  {
   "cell_type": "code",
   "execution_count": null,
   "metadata": {
    "collapsed": false
   },
   "outputs": [],
   "source": [
    "def diff_solution(t, x0):\n",
    "    plt.plot(space, c(space, t, x0) + c(space, t, -x0))\n",
    "    plt.axvline(0)\n",
    "    plt.xlim(-12,12)\n",
    "    plt.ylim(0, 0.41)\n",
    "    plt.ylabel(r'$c(x,t)$')\n",
    "    plt.xlabel(r'$x$')\n",
    "\n",
    "\n",
    "interact(diff_solution, t=(1,30), x0=(-1,6));"
   ]
  },
  {
   "cell_type": "markdown",
   "metadata": {},
   "source": [
    "## The polymer as a random walk"
   ]
  },
  {
   "cell_type": "code",
   "execution_count": null,
   "metadata": {
    "collapsed": false
   },
   "outputs": [],
   "source": [
    "N = 10\n",
    "angles = np.random.random_sample(N)*2*pi\n",
    "bonds = np.zeros((N,2))\n",
    "bonds[:,0] = np.cos(angles)\n",
    "bonds[:,1] = np.sin(angles)\n",
    "x = np.concatenate(((0,),np.cumsum(np.cos(angles))))\n",
    "y = np.concatenate(((0,),np.cumsum(np.sin(angles))))\n",
    "plt.xlim(-5,5); plt.ylim(-5,5)\n",
    "\n",
    "plt.plot(x,y,marker='o',markersize=20);"
   ]
  },
  {
   "cell_type": "code",
   "execution_count": null,
   "metadata": {
    "collapsed": false
   },
   "outputs": [],
   "source": []
  },
  {
   "cell_type": "code",
   "execution_count": null,
   "metadata": {
    "collapsed": false
   },
   "outputs": [],
   "source": []
  },
  {
   "cell_type": "code",
   "execution_count": null,
   "metadata": {
    "collapsed": true
   },
   "outputs": [],
   "source": []
  }
 ],
 "metadata": {
  "kernelspec": {
   "display_name": "Python 2",
   "language": "python",
   "name": "python2"
  },
  "language_info": {
   "codemirror_mode": {
    "name": "ipython",
    "version": 2
   },
   "file_extension": ".py",
   "mimetype": "text/x-python",
   "name": "python",
   "nbconvert_exporter": "python",
   "pygments_lexer": "ipython2",
   "version": "2.7.9"
  }
 },
 "nbformat": 4,
 "nbformat_minor": 0
}
