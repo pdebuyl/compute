{
 "cells": [
  {
   "cell_type": "markdown",
   "metadata": {},
   "source": [
    "# Exercise session on the Langevin equation\n",
    "\n",
    "**Author:** Pierre de Buyl - http://pdebuyl.be/\n",
    "**License:** [CC-BY](http://creativecommons.org/licenses/by/4.0/)"
   ]
  },
  {
   "cell_type": "code",
   "execution_count": null,
   "metadata": {
    "collapsed": true
   },
   "outputs": [],
   "source": [
    "from __future__ import division, print_function\n",
    "%matplotlib inline\n",
    "import numpy as np\n",
    "import matplotlib.pyplot as plt\n",
    "import math\n",
    "import random"
   ]
  },
  {
   "cell_type": "code",
   "execution_count": null,
   "metadata": {
    "collapsed": true
   },
   "outputs": [],
   "source": [
    "\n",
    "wc = 1\n",
    "D = 1\n",
    "m = 1\n",
    "K = 2*D*m**2\n",
    "\n",
    "gamma = 2"
   ]
  },
  {
   "cell_type": "code",
   "execution_count": null,
   "metadata": {
    "collapsed": true
   },
   "outputs": [],
   "source": [
    "time_range = np.arange(200)*0.025"
   ]
  },
  {
   "cell_type": "code",
   "execution_count": null,
   "metadata": {
    "collapsed": false
   },
   "outputs": [],
   "source": []
  },
  {
   "cell_type": "code",
   "execution_count": null,
   "metadata": {
    "collapsed": true
   },
   "outputs": [],
   "source": [
    "def vv(tau):\n",
    "    pref = 2*D*m**2*wc\n",
    "    t1 = 1/(2*gamma)*(1/(gamma+wc)-1/(gamma-wc))*np.exp(-gamma*np.abs(tau))\n",
    "    t2 = 1/(gamma-wc)/(gamma+wc)*np.exp(-wc*np.abs(tau))\n",
    "    return pref*(t1+t2)"
   ]
  },
  {
   "cell_type": "code",
   "execution_count": null,
   "metadata": {
    "collapsed": false
   },
   "outputs": [],
   "source": []
  },
  {
   "cell_type": "code",
   "execution_count": null,
   "metadata": {
    "collapsed": false
   },
   "outputs": [],
   "source": [
    "F = 0\n",
    "v = 0\n",
    "dt = 0.03\n",
    "v_data = []\n",
    "F_data = []\n",
    "v_fact = math.sqrt(2*D)*wc*dt\n",
    "F_fact = math.sqrt(2*dt)\n",
    "for t in range(10000):\n",
    "    v = v - gamma*v*dt + v_fact*F\n",
    "    F = F - wc*F*dt + F_fact*random.gauss(0,1)\n",
    "    v_data.append(v)\n",
    "    F_data.append(F)\n",
    "v_data = np.array(v_data)\n",
    "F_data = np.array(F_data)"
   ]
  },
  {
   "cell_type": "code",
   "execution_count": null,
   "metadata": {
    "collapsed": false
   },
   "outputs": [],
   "source": []
  },
  {
   "cell_type": "code",
   "execution_count": null,
   "metadata": {
    "collapsed": false
   },
   "outputs": [],
   "source": []
  },
  {
   "cell_type": "code",
   "execution_count": null,
   "metadata": {
    "collapsed": false
   },
   "outputs": [],
   "source": []
  },
  {
   "cell_type": "code",
   "execution_count": null,
   "metadata": {
    "collapsed": true
   },
   "outputs": [],
   "source": []
  },
  {
   "cell_type": "code",
   "execution_count": null,
   "metadata": {
    "collapsed": false
   },
   "outputs": [],
   "source": [
    "plt.figure(figsize=(12,4))\n",
    "\n",
    "plt.subplot(121)\n",
    "plt.plot(v_data)\n",
    "plt.subplot(122)\n",
    "plt.plot(F_data)"
   ]
  },
  {
   "cell_type": "code",
   "execution_count": null,
   "metadata": {
    "collapsed": false
   },
   "outputs": [],
   "source": [
    "n = len(F_data)\n",
    "C = np.correlate(F_data, F_data, mode='full')/n\n",
    "n_points = 101\n",
    "tau = np.linspace(-n_points*dt, n_points*dt, 2*n_points)\n",
    "plt.plot(tau, C[n-n_points:n+n_points])\n",
    "plt.plot(tau, np.exp(-wc*np.abs(tau))/wc)"
   ]
  },
  {
   "cell_type": "code",
   "execution_count": null,
   "metadata": {
    "collapsed": false
   },
   "outputs": [],
   "source": [
    "(F_data**2).mean(), C[n]"
   ]
  },
  {
   "cell_type": "code",
   "execution_count": null,
   "metadata": {
    "collapsed": false
   },
   "outputs": [],
   "source": []
  },
  {
   "cell_type": "code",
   "execution_count": null,
   "metadata": {
    "collapsed": false
   },
   "outputs": [],
   "source": [
    "n = len(v_data)\n",
    "Cv = np.correlate(v_data, v_data, mode='full')/n\n",
    "n_points = 401\n",
    "tau = np.linspace(-n_points*dt, n_points*dt, 2*n_points)\n",
    "plt.plot(tau, Cv[n-n_points:n+n_points])\n",
    "plt.plot(tau, vv(np.abs(tau)))"
   ]
  },
  {
   "cell_type": "code",
   "execution_count": null,
   "metadata": {
    "collapsed": false
   },
   "outputs": [],
   "source": [
    "Cv.max(), vv(np.abs(tau)).max()"
   ]
  },
  {
   "cell_type": "code",
   "execution_count": null,
   "metadata": {
    "collapsed": false
   },
   "outputs": [],
   "source": [
    "(v_data**2).mean()"
   ]
  },
  {
   "cell_type": "code",
   "execution_count": null,
   "metadata": {
    "collapsed": false
   },
   "outputs": [],
   "source": []
  },
  {
   "cell_type": "code",
   "execution_count": null,
   "metadata": {
    "collapsed": false
   },
   "outputs": [],
   "source": []
  },
  {
   "cell_type": "code",
   "execution_count": null,
   "metadata": {
    "collapsed": false
   },
   "outputs": [],
   "source": [
    "data = np.random.normal(size=10000)"
   ]
  },
  {
   "cell_type": "code",
   "execution_count": null,
   "metadata": {
    "collapsed": true
   },
   "outputs": [],
   "source": [
    "c = np.correlate(data, data, mode='full') / len(data)"
   ]
  },
  {
   "cell_type": "code",
   "execution_count": null,
   "metadata": {
    "collapsed": false
   },
   "outputs": [],
   "source": [
    "c.max()"
   ]
  },
  {
   "cell_type": "code",
   "execution_count": null,
   "metadata": {
    "collapsed": false
   },
   "outputs": [],
   "source": [
    "plt.plot(c)"
   ]
  },
  {
   "cell_type": "code",
   "execution_count": null,
   "metadata": {
    "collapsed": false
   },
   "outputs": [],
   "source": [
    "plt.plot(np.fft.fft(C).real)"
   ]
  },
  {
   "cell_type": "code",
   "execution_count": null,
   "metadata": {
    "collapsed": false
   },
   "outputs": [],
   "source": [
    "plt.plot(C)"
   ]
  },
  {
   "cell_type": "code",
   "execution_count": null,
   "metadata": {
    "collapsed": true
   },
   "outputs": [],
   "source": [
    "wc = 0.5\n",
    "D = 0.1\n",
    "\n",
    "F = 0\n",
    "dt = 0.01\n",
    "F_data = []\n",
    "F_fact = math.sqrt(2*D*dt)\n",
    "for t in range(5000):\n",
    "    F = F - wc*F*dt + F_fact*random.gauss(0,1)\n",
    "    F_data.append(F)\n",
    "F_data = np.array(F_data)"
   ]
  },
  {
   "cell_type": "code",
   "execution_count": null,
   "metadata": {
    "collapsed": false
   },
   "outputs": [],
   "source": [
    "Fsq = (F_data**2).mean()\n",
    "#print(Fsq)\n",
    "plot_ac(F_data, dt=dt)\n",
    "plt.axhline(Fsq)\n",
    "tau = np.linspace(0,200*dt,101)\n",
    "plt.plot(tau, D*np.exp(-wc*tau)/wc);"
   ]
  },
  {
   "cell_type": "code",
   "execution_count": null,
   "metadata": {
    "collapsed": true
   },
   "outputs": [],
   "source": [
    "def plot_ac(data, dt=1):\n",
    "    n = len(data)\n",
    "    c = np.correlate(data, data, mode='full') / n\n",
    "    plt.plot(np.arange(101)*dt, c[n-1:n+100])"
   ]
  },
  {
   "cell_type": "code",
   "execution_count": null,
   "metadata": {
    "collapsed": true
   },
   "outputs": [],
   "source": [
    "m_F = []"
   ]
  },
  {
   "cell_type": "code",
   "execution_count": null,
   "metadata": {
    "collapsed": false
   },
   "outputs": [],
   "source": [
    "m = 1\n",
    "wc = 1.\n",
    "D = 2*m**2*wc*3\n",
    "gamma = 0.5\n",
    "\n",
    "def vv(tau):\n",
    "    pref = D\n",
    "    t1 = 1/(2*gamma)*(1/(gamma+wc)-1/(gamma-wc))*np.exp(-gamma*np.abs(tau))\n",
    "    t2 = 1/(gamma-wc)/(gamma+wc)*np.exp(-wc*np.abs(tau))\n",
    "    return pref*(t1+t2)\n",
    "\n",
    "F = 0\n",
    "v = 0\n",
    "dt = 0.01\n",
    "F_data = []\n",
    "F_fact = math.sqrt(2*D*dt)\n",
    "v_data = []\n",
    "v_fact = gamma*dt\n",
    "for t in range(100000):\n",
    "    F = F - wc*F*dt + F_fact*random.gauss(0,1)\n",
    "    v = v - v_fact*v + F*dt\n",
    "    F_data.append(F)\n",
    "    v_data.append(v)\n",
    "F_data = np.array(F_data)\n",
    "v_data = np.array(v_data)\n",
    "m_F.append(F_data)"
   ]
  },
  {
   "cell_type": "code",
   "execution_count": null,
   "metadata": {
    "collapsed": false
   },
   "outputs": [],
   "source": [
    "plt.plot(F_data)\n",
    "plt.plot(v_data)"
   ]
  },
  {
   "cell_type": "code",
   "execution_count": null,
   "metadata": {
    "collapsed": false
   },
   "outputs": [],
   "source": [
    "n = len(v_data)\n",
    "Cv = np.correlate(v_data, v_data, mode='full')/n\n",
    "n_points = 401\n",
    "tau = np.linspace(-n_points*dt, n_points*dt, 2*n_points)\n",
    "plt.plot(tau, Cv[n-n_points:n+n_points])\n",
    "plt.plot(tau, vv(np.abs(tau)))"
   ]
  },
  {
   "cell_type": "code",
   "execution_count": null,
   "metadata": {
    "collapsed": false
   },
   "outputs": [],
   "source": [
    "n = len(F_data)\n",
    "C = np.correlate(F_data, F_data, mode='full')/n\n",
    "n_points = 201\n",
    "tau = np.linspace(-n_points*dt, n_points*dt, 2*n_points)\n",
    "plt.plot(tau, C[n-n_points:n+n_points])\n",
    "plt.plot(tau, D*np.exp(-wc*np.abs(tau))/wc)"
   ]
  },
  {
   "cell_type": "code",
   "execution_count": null,
   "metadata": {
    "collapsed": false
   },
   "outputs": [],
   "source": [
    "m_F = np.array(m_F)"
   ]
  },
  {
   "cell_type": "code",
   "execution_count": null,
   "metadata": {
    "collapsed": false
   },
   "outputs": [],
   "source": [
    "plt.plot((m_F**2).mean(axis=0))"
   ]
  },
  {
   "cell_type": "code",
   "execution_count": null,
   "metadata": {
    "collapsed": true
   },
   "outputs": [],
   "source": [
    "m_X = np.cumsum(m_F, axis=0)"
   ]
  },
  {
   "cell_type": "code",
   "execution_count": null,
   "metadata": {
    "collapsed": false
   },
   "outputs": [],
   "source": [
    "plt.plot((m_X**2).mean(axis=0))"
   ]
  },
  {
   "cell_type": "code",
   "execution_count": null,
   "metadata": {
    "collapsed": true
   },
   "outputs": [],
   "source": []
  }
 ],
 "metadata": {
  "celltoolbar": "Slideshow",
  "kernelspec": {
   "display_name": "Python 2",
   "language": "python",
   "name": "python2"
  },
  "language_info": {
   "codemirror_mode": {
    "name": "ipython",
    "version": 2
   },
   "file_extension": ".py",
   "mimetype": "text/x-python",
   "name": "python",
   "nbconvert_exporter": "python",
   "pygments_lexer": "ipython2",
   "version": "2.7.9"
  }
 },
 "nbformat": 4,
 "nbformat_minor": 0
}
