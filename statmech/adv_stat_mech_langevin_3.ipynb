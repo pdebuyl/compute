{
 "cells": [
  {
   "cell_type": "markdown",
   "metadata": {},
   "source": [
    "# Exercise session on the Langevin equation\n",
    "\n",
    "**Author:** Pierre de Buyl - http://pdebuyl.be/  \n",
    "**License:** [CC-BY](http://creativecommons.org/licenses/by/4.0/)"
   ]
  },
  {
   "cell_type": "code",
   "execution_count": null,
   "metadata": {
    "collapsed": true
   },
   "outputs": [],
   "source": [
    "from __future__ import division, print_function\n",
    "%matplotlib inline\n",
    "import numpy as np\n",
    "import matplotlib.pyplot as plt\n",
    "import math\n",
    "import random\n",
    "from scipy.signal import fftconvolve\n",
    "plt.rcParams['font.size'] = 16"
   ]
  },
  {
   "cell_type": "markdown",
   "metadata": {},
   "source": [
    "## Velocity and force frequency spectra\n",
    "\n",
    "For the Langevin equation\n",
    "$$\\dot v = - \\gamma v - w_0^2 x + \\xi$$\n"
   ]
  },
  {
   "cell_type": "code",
   "execution_count": null,
   "metadata": {},
   "outputs": [],
   "source": [
    "# Langevin equation for the velocity\n",
    "\n",
    "v = 0\n",
    "x = 0\n",
    "dt = 0.01\n",
    "gamma = 0.5\n",
    "w0 = 1\n",
    "D = 1\n",
    "v_factor = math.sqrt(D*dt)\n",
    "F_data = []\n",
    "v_data = []\n",
    "x_data = []\n",
    "for t in range(1024*128):\n",
    "    F = v_factor*random.gauss(0,1)\n",
    "    x = x + v*dt\n",
    "    v = v*(1-gamma*dt) - w0**2*x*dt + F\n",
    "    F_data.append(F)\n",
    "    x_data.append(x)\n",
    "    v_data.append(v)\n",
    "x_data = np.array(x_data)\n",
    "F_data = np.array(F_data)/math.sqrt(dt)\n",
    "v_data = np.array(v_data)"
   ]
  },
  {
   "cell_type": "code",
   "execution_count": null,
   "metadata": {},
   "outputs": [],
   "source": [
    "N = len(x_data)\n",
    "fft_cor = fftconvolve(v_data, v_data[::-1])[N-1:]\n",
    "fft_cor /= (N - np.arange(N))\n",
    "t = dt*np.arange(N)\n",
    "plt.plot(t, fft_cor, 'k-', lw=2)\n",
    "plt.xlim(0, 50)"
   ]
  },
  {
   "cell_type": "code",
   "execution_count": null,
   "metadata": {},
   "outputs": [],
   "source": [
    "(v_data**2).mean()"
   ]
  },
  {
   "cell_type": "markdown",
   "metadata": {},
   "source": [
    "## Active Brownian Particles\n",
    "\n",
    "$$\\dot \\theta = \\xi$$\n",
    "$$v = v_0 (\\cos\\theta, \\sin\\theta)$$\n",
    "$$\\dot x = v$$"
   ]
  },
  {
   "cell_type": "code",
   "execution_count": null,
   "metadata": {
    "collapsed": true
   },
   "outputs": [],
   "source": [
    "# Langevin equation for the velocity\n",
    "\n",
    "v0 = 1\n",
    "Dr = 2\n",
    "th = 0\n",
    "x = 0\n",
    "y = 0\n",
    "dt = 0.01\n",
    "th_factor = math.sqrt(2*Dr*dt)\n",
    "xy_factor = v0*dt\n",
    "xy_data = []\n",
    "th_data = []\n",
    "for t in range(100000):\n",
    "    th = th + th_factor*random.gauss(0,1)\n",
    "    x = x + math.cos(th)*xy_factor\n",
    "    y = y + math.sin(th)*xy_factor\n",
    "    th_data.append(th)\n",
    "    xy_data.append((x,y))\n",
    "th_data = np.array(th_data)\n",
    "xy_data = np.array(xy_data)"
   ]
  },
  {
   "cell_type": "code",
   "execution_count": null,
   "metadata": {
    "scrolled": true
   },
   "outputs": [],
   "source": [
    "plt.plot(xy_data[:,0], xy_data[:,1]);"
   ]
  },
  {
   "cell_type": "code",
   "execution_count": null,
   "metadata": {},
   "outputs": [],
   "source": [
    "t = dt*np.arange(len(xy_data))\n",
    "plt.plot(t, np.sum(xy_data**2, axis=1))\n",
    "\n",
    "plt.plot(t, v0**2/(2*Dr)*t);"
   ]
  },
  {
   "cell_type": "markdown",
   "metadata": {},
   "source": [
    "## Sedimentation\n",
    "\n",
    "$$\\dot x = - \\frac{m g}{\\gamma} + \\xi$$"
   ]
  },
  {
   "cell_type": "code",
   "execution_count": null,
   "metadata": {},
   "outputs": [],
   "source": [
    "# Overdamped Langevin equation for sedimentation\n",
    "\n",
    "x = 1\n",
    "dt = 0.01\n",
    "D = 2\n",
    "g = 0.3\n",
    "x_factor = math.sqrt(2*D**2*dt)\n",
    "x_data = []\n",
    "for t in range(100000):\n",
    "    x = x - g*D*dt + x_factor*random.gauss(0,1)\n",
    "    if x<0:\n",
    "        x = -x\n",
    "    x_data.append(x)\n",
    "x_data = np.array(x_data)"
   ]
  },
  {
   "cell_type": "code",
   "execution_count": null,
   "metadata": {},
   "outputs": [],
   "source": [
    "plt.plot(x_data);"
   ]
  },
  {
   "cell_type": "code",
   "execution_count": null,
   "metadata": {},
   "outputs": [],
   "source": [
    "n, bins, patches = plt.hist(x_data, bins=32, normed=True)\n",
    "#bins = (bins[1:]+bins[:-1])/2\n",
    "plt.title('Density as a function of altitude')\n",
    "plt.plot(bins, g/D*np.exp(-bins*g/D));"
   ]
  },
  {
   "cell_type": "code",
   "execution_count": null,
   "metadata": {
    "collapsed": true
   },
   "outputs": [],
   "source": []
  }
 ],
 "metadata": {
  "kernelspec": {
   "display_name": "Python 2",
   "language": "python",
   "name": "python2"
  },
  "language_info": {
   "codemirror_mode": {
    "name": "ipython",
    "version": 2
   },
   "file_extension": ".py",
   "mimetype": "text/x-python",
   "name": "python",
   "nbconvert_exporter": "python",
   "pygments_lexer": "ipython2",
   "version": "2.7.14+"
  }
 },
 "nbformat": 4,
 "nbformat_minor": 1
}
