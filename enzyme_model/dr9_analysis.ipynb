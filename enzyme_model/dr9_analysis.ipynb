{
 "cells": [
  {
   "cell_type": "code",
   "execution_count": null,
   "metadata": {},
   "outputs": [],
   "source": [
    "%pylab notebook\n",
    "from glob import glob\n",
    "import json\n",
    "import os.path\n",
    "\n",
    "π = np.pi"
   ]
  },
  {
   "cell_type": "code",
   "execution_count": null,
   "metadata": {},
   "outputs": [],
   "source": [
    "# List filenames\n",
    "dr9_runs = glob(os.path.expanduser('~/SIMU/20200124/dynamic_run_9_*.json')) ; dr9_runs.sort()\n",
    "\n",
    "# Obtain simulation parameters\n",
    "with open('/home/pierre/code/RMPCDMD/experiments/04-enzyme/pfiles_dynamic_run_9/dynamic_run_9_20200304_00001.json', 'r') as f:\n",
    "    input_data = json.load(f)                                     \n"
   ]
  },
  {
   "cell_type": "code",
   "execution_count": null,
   "metadata": {},
   "outputs": [],
   "source": [
    "# Collect data from simulations\n",
    "\n",
    "all_rates_data = [] \n",
    "for fn in dr9_runs: \n",
    "    with open(fn, 'r') as f:\n",
    "        data = json.load(f)\n",
    "    all_rates_data.append(data)\n"
   ]
  },
  {
   "cell_type": "code",
   "execution_count": null,
   "metadata": {},
   "outputs": [],
   "source": [
    "# Structured data type for the data\n",
    "e_sim_dt = np.dtype([\n",
    "    ('n_e0', float),\n",
    "    ('phi', float),\n",
    "    ('n_fluid', float),\n",
    "    ('n_s', float),\n",
    "    ('n_p', float),\n",
    "    ('n_estar', float),\n",
    "    ('n_e', float),\n",
    "    ('n_s_plus', float),\n",
    "    ('n_p_plus', float),\n",
    "    ('n_s_minus', float),\n",
    "    ('n_p_minus', float),\n",
    "])"
   ]
  },
  {
   "cell_type": "code",
   "execution_count": null,
   "metadata": {},
   "outputs": [],
   "source": [
    "# Array for simulation data\n",
    "simu = np.zeros(4, dtype=e_sim_dt)"
   ]
  },
  {
   "cell_type": "code",
   "execution_count": null,
   "metadata": {},
   "outputs": [],
   "source": []
  },
  {
   "cell_type": "code",
   "execution_count": null,
   "metadata": {},
   "outputs": [],
   "source": [
    "# Read the simulation data\n",
    "\n",
    "n_solvent = np.array([d['n_solvent']['mean'] for d in all_rates_data])\n",
    "n_minus = np.array([d['n_minus']['mean'] for d in all_rates_data])\n",
    "n_plus = np.array([d['n_plus']['mean'] for d in all_rates_data])\n",
    "\n",
    "ρ = 12                                             \n",
    "V = 30**3\n",
    "v_e = 4/3*pi * (3**3 + 2)\n",
    "substrate_fraction = float(input_data['substrate_fraction'])\n",
    "ρ = int(input_data['rho'])\n",
    "\n",
    "for i, d in enumerate(all_rates_data):\n",
    "    n_e0 = d['N_enzymes']\n",
    "    ϕ = n_e0 * v_e / V\n",
    "    n_fluid = ρ * (V - int(n_e0*v_e))\n",
    "    n_solvent = np.array(d['n_solvent']['mean'])\n",
    "    n_plus = np.array(d['n_plus']['mean'])\n",
    "    n_minus = np.array(d['n_minus']['mean'])\n",
    "    n_estar = (n_fluid*substrate_fraction - n_solvent.sum())\n",
    "    n_e = n_e0 - n_estar\n",
    "    simu[i]['n_e0'] = n_e0\n",
    "    bind_time = (d['bind product time'] + d['bind substrate time'])/2\n",
    "    release_time = (d['release product time'] + d['release substrate time'])/2\n",
    "    simu[i]['n_e'] = n_e0 * bind_time/(bind_time+release_time)\n",
    "    simu[i]['n_estar'] = n_e0 * release_time/(bind_time+release_time)\n",
    "\n",
    "    simu[i]['phi'] = ϕ\n",
    "    simu[i]['n_fluid'] = n_fluid\n",
    "    simu[i]['n_s'] = n_solvent[0]\n",
    "    simu[i]['n_p'] = n_solvent[1]\n",
    "    simu[i]['n_s_plus'] = n_plus[0]\n",
    "    simu[i]['n_p_plus'] = n_plus[1]\n",
    "    simu[i]['n_s_minus'] = n_minus[0]\n",
    "    simu[i]['n_p_minus'] = n_minus[1]\n"
   ]
  },
  {
   "cell_type": "code",
   "execution_count": null,
   "metadata": {},
   "outputs": [],
   "source": [
    "# Compute model estimates\n",
    "\n",
    "R = float(input_data['sigma_E'])*2**(1/6)    \n",
    "V = np.product(list(map(float, input_data['L'].split())))\n",
    "\n",
    "sigma_N = list(map(float, input_data['sigma_N'].split()))\n",
    "\n",
    "k1_0 = float(input_data['proba_s']) * np.sqrt(8*π*float(input_data['T'])) * R**2\n",
    "k2_0 = float(input_data['proba_p']) * np.sqrt(8*π*float(input_data['T'])) * R**2\n",
    "km1 = float(input_data['rate_release_s'])\n",
    "km2 = float(input_data['rate_release_p'])\n",
    "kappa = km1+km2\n",
    "\n",
    "model = np.zeros(4, dtype=e_sim_dt)\n",
    "\n",
    "for i in range(4):\n",
    "    n_e0 = simu[i]['n_e0']\n",
    "    model[i]['n_e0'] = n_e0\n",
    "    e0 = n_e0 / V\n",
    "    v_real = V - n_e0 * v_e\n",
    "    s0 = simu[i]['n_fluid'] *substrate_fraction / V\n",
    "    phi = simu[i]['phi']\n",
    "\n",
    "    # Solve\n",
    "\n",
    "    γ = 1/(1-phi)\n",
    "    k1 = k1_0*γ\n",
    "    k2 = k2_0*γ\n",
    "    μ = k1/(1+k1*km2/km1/k2) + k2/(km1*k2/k1/km2 + 1)\n",
    "    Δ = (μ*(e0+s0) + kappa)**2 - 4*μ**2*s0*e0\n",
    "\n",
    "    estar = (( μ*(s0+e0)+kappa) - np.sqrt(Δ)) / (2*μ)\n",
    "    S = (s0-estar) / (1+k1*km2/km1/k2)\n",
    "    P = (s0-estar) / (km1*k2/k1/km2 + 1)\n",
    "    \n",
    "    #print(estar, simu[i]['n_estar']/V)\n",
    "    #print(simu[i]['n_s']/V, S)\n",
    "    model[i]['phi'] = phi\n",
    "    model[i]['n_s'] = S*V\n",
    "    model[i]['n_p'] = P*V\n",
    "    model[i]['n_e'] = (e0 - estar)*V\n",
    "    model[i]['n_estar'] = estar*V\n"
   ]
  },
  {
   "cell_type": "code",
   "execution_count": null,
   "metadata": {},
   "outputs": [],
   "source": [
    "simu['n_e0']"
   ]
  },
  {
   "cell_type": "code",
   "execution_count": null,
   "metadata": {},
   "outputs": [],
   "source": [
    "plt.figure()\n",
    "plt.subplot(211)\n",
    "\n",
    "plt.plot(simu['phi'], simu['n_s_minus'] / simu['n_e0'], label=r'$S^- / N_E$')\n",
    "plt.plot(simu['phi'], simu['n_s']*simu['n_e']*k1_0/V/(1-simu['phi']) / simu['n_e0'], label=r'$S\\ E\\ k_1^0 / N_E$')\n",
    "plt.plot(simu['phi'], model['n_s']*model['n_e']*k1_0/V/(1-model['phi']) / model['n_e0'], label=r'$S\\ E\\ k_1^0 / N_E$ (model)')\n",
    "\n",
    "plt.xlabel(r'$\\phi$')\n",
    "plt.legend()\n",
    "\n",
    "plt.subplot(212)\n",
    "\n",
    "plt.plot(simu['phi'], simu['n_p_minus'] / simu['n_e0'], label=r'$P^- / N_E$')\n",
    "plt.plot(simu['phi'], simu['n_p']*simu['n_e']*k2_0/V/(1-simu['phi']) / simu['n_e0'], label=r'$P\\ E\\ k_2^0 / N_E$')\n",
    "plt.plot(simu['phi'], model['n_p']*model['n_e']*k2_0/V/(1-model['phi']) / model['n_e0'], label=r'$P\\ E\\ k_2^0 / N_E$ (model)')\n",
    "\n",
    "plt.xlabel(r'$\\phi$')\n",
    "plt.legend()\n",
    "\n",
    "plt.suptitle('Actual consumption rates and kinetic theory')"
   ]
  },
  {
   "cell_type": "code",
   "execution_count": null,
   "metadata": {},
   "outputs": [],
   "source": [
    "plt.figure()\n",
    "\n",
    "plt.subplot(211)\n",
    "\n",
    "plt.plot(simu['phi'], simu['n_s_plus'] / V / simu['n_e0'], label=r'$S^+$')\n",
    "plt.plot(simu['phi'], simu['n_estar'] / V * km1/ simu['n_e0'], label=r'$E* k^{-1}$')\n",
    "plt.plot(simu['phi'], model['n_estar'] / V * km1/ model['n_e0'], label=r'$E* k_{-1}$ (model)')\n",
    "\n",
    "\n",
    "plt.xlabel(r'$\\phi$')\n",
    "plt.legend()\n",
    "\n",
    "plt.subplot(212)\n",
    "\n",
    "plt.plot(simu['phi'], simu['n_p_plus'] / V/ simu['n_e0'], label=r'$P^+$')\n",
    "plt.plot(simu['phi'], simu['n_estar'] / V * km2/ simu['n_e0'], label=r'$E* k_{-2}$')\n",
    "plt.plot(simu['phi'], model['n_estar'] / V * km2/ model['n_e0'], label=r'$E* k_{-2}$ (model)')\n",
    "\n",
    "ylo, yhi = plt.ylim()\n",
    "\n",
    "#plt.ylim(0, yhi)\n",
    "plt.xlabel(r'$\\phi$')\n",
    "plt.legend()\n"
   ]
  },
  {
   "cell_type": "code",
   "execution_count": null,
   "metadata": {},
   "outputs": [],
   "source": [
    "plt.figure()\n",
    "plt.plot(simu['phi'], simu['n_estar'], label='E* simu', marker='o')\n",
    "plt.plot(simu['phi'], simu['n_e'], label='E simu', marker='^')\n",
    "#plt.plot(simu['phi'], simu['n_estar'] + simu['n_e'], label='E+E* simu')\n",
    "\n",
    "plt.plot(simu['phi'], model['n_estar'], label='E* model')\n",
    "plt.plot(simu['phi'], model['n_e'], label='E model')\n",
    "#plt.plot(simu['phi'], model['n_estar'] + model['n_e'], label='E+E* model')\n",
    "\n",
    "#plt.plot(simu['phi'], simu['n_e0'])\n",
    "\n",
    "plt.xlabel(r'$\\phi$')\n",
    "plt.legend()"
   ]
  },
  {
   "cell_type": "code",
   "execution_count": null,
   "metadata": {},
   "outputs": [],
   "source": []
  }
 ],
 "metadata": {
  "kernelspec": {
   "display_name": "Python 3",
   "language": "python",
   "name": "python3"
  },
  "language_info": {
   "codemirror_mode": {
    "name": "ipython",
    "version": 3
   },
   "file_extension": ".py",
   "mimetype": "text/x-python",
   "name": "python",
   "nbconvert_exporter": "python",
   "pygments_lexer": "ipython3",
   "version": "3.7.3"
  }
 },
 "nbformat": 4,
 "nbformat_minor": 2
}
