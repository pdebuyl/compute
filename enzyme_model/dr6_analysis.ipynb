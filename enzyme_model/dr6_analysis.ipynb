{
 "cells": [
  {
   "cell_type": "code",
   "execution_count": null,
   "metadata": {},
   "outputs": [],
   "source": [
    "%pylab notebook\n",
    "from glob import glob\n",
    "import json\n",
    "import os.path\n",
    "\n",
    "π = np.pi"
   ]
  },
  {
   "cell_type": "code",
   "execution_count": null,
   "metadata": {},
   "outputs": [],
   "source": [
    "dr6_runs = glob(os.path.expanduser('~/SIMU/20200124/dynamic_run_6_*.json')) ; dr6_runs.sort()\n",
    "\n",
    "with open('/home/pierre/code/RMPCDMD/experiments/04-enzyme/pfiles_dynamic_run_6/dynamic_run_6_20200122_00002.json', 'r') as f:\n",
    "    input_data = json.load(f)                                     \n"
   ]
  },
  {
   "cell_type": "code",
   "execution_count": null,
   "metadata": {},
   "outputs": [],
   "source": [
    "all_rates_data = [] \n",
    "for fn in dr6_runs: \n",
    "    with open(fn, 'r') as f:\n",
    "        data = json.load(f)\n",
    "    all_rates_data.append(data)\n"
   ]
  },
  {
   "cell_type": "code",
   "execution_count": null,
   "metadata": {},
   "outputs": [],
   "source": [
    "e_sim_dt = np.dtype([\n",
    "    ('n_e0', float),\n",
    "    ('phi', float),\n",
    "    ('n_fluid', float),\n",
    "    ('n_s', float),\n",
    "    ('n_p', float),\n",
    "    ('n_estar', float),\n",
    "    ('n_e', float),\n",
    "    ('n_s_plus', float),\n",
    "    ('n_p_plus', float),\n",
    "    ('n_s_minus', float),\n",
    "    ('n_p_minus', float),\n",
    "])"
   ]
  },
  {
   "cell_type": "code",
   "execution_count": null,
   "metadata": {},
   "outputs": [],
   "source": [
    "es = np.zeros(4, dtype=e_sim_dt)"
   ]
  },
  {
   "cell_type": "code",
   "execution_count": null,
   "metadata": {},
   "outputs": [],
   "source": [
    "n_solvent = np.array([d['n_solvent']['mean'] for d in all_rates_data])\n",
    "n_minus = np.array([d['n_minus']['mean'] for d in all_rates_data])\n",
    "n_plus = np.array([d['n_plus']['mean'] for d in all_rates_data])\n",
    "\n",
    "ρ = 12                                             \n",
    "V = 30**3\n",
    "v_e = 4/3*pi * (3**3 + 2)\n",
    "substrate_fraction = float(input_data['substrate_fraction'])\n",
    "ρ = int(input_data['rho'])\n",
    "\n",
    "all_n_e0 = np.array([10, 20, 30, 40])\n",
    "\n",
    "for i, d in enumerate(all_rates_data):\n",
    "    n_e0 = d['N_enzymes']\n",
    "    ϕ = n_e0 * v_e / V\n",
    "    n_fluid = ρ * (V - n_e0*v_e)\n",
    "    n_solvent = np.array(d['n_solvent']['mean'])\n",
    "    n_plus = np.array(d['n_plus']['mean'])\n",
    "    n_minus = np.array(d['n_minus']['mean'])\n",
    "    n_estar = (n_fluid*substrate_fraction - n_solvent.sum())\n",
    "    n_e = n_e0 - n_estar\n",
    "    es[i]['n_e0'] = n_e0\n",
    "    es[i]['n_e'] = n_e\n",
    "    es[i]['n_estar'] = n_estar\n",
    "\n",
    "    es[i]['phi'] = ϕ\n",
    "    es[i]['n_fluid'] = n_fluid\n",
    "    es[i]['n_s'] = n_solvent[0]\n",
    "    es[i]['n_p'] = n_solvent[1]\n",
    "    es[i]['n_s_plus'] = n_plus[0]\n",
    "    es[i]['n_p_plus'] = n_plus[1]\n",
    "    es[i]['n_s_plus'] = n_plus[0]\n",
    "    es[i]['n_p_plus'] = n_plus[1]\n",
    "\n"
   ]
  },
  {
   "cell_type": "code",
   "execution_count": null,
   "metadata": {},
   "outputs": [],
   "source": [
    "es['n_s']"
   ]
  },
  {
   "cell_type": "code",
   "execution_count": null,
   "metadata": {},
   "outputs": [],
   "source": [
    "plt.figure()\n",
    "\n",
    "plt.plot(es['phi'], es['n_estar'] / es['n_e'] / es['n_s'])\n",
    "plt.plot(es['phi'], es['n_estar'] / es['n_e'] / es['n_s'] * (1 - es['phi']))\n"
   ]
  },
  {
   "cell_type": "code",
   "execution_count": null,
   "metadata": {},
   "outputs": [],
   "source": [
    "R = float(input_data['sigma_E'])*2**(1/6)    \n",
    "V = np.product(list(map(float, input_data['L'].split())))\n",
    "\n",
    "sigma_N = list(map(float, input_data['sigma_N'].split()))\n",
    "\n",
    "k1_0 = float(input_data['proba_s']) * np.sqrt(8*π*float(input_data['T'])) * R**2\n",
    "k2_0 = float(input_data['proba_p']) * np.sqrt(8*π*float(input_data['T'])) * R**2\n",
    "km1 = float(input_data['rate_release_s'])\n",
    "km2 = float(input_data['rate_release_p'])\n",
    "kappa = km1+km2\n",
    "\n",
    "for i in range(4):\n",
    "    n_e0 = es[i]['n_e0']\n",
    "    e0 = n_e0 / V\n",
    "    v_real = V - n_e0 * v_e\n",
    "    s0 = es[i]['n_fluid'] / V\n",
    "    phi = es[i]['phi']\n",
    "\n",
    "    # Solve\n",
    "\n",
    "    γ = 1/(1-phi)\n",
    "    k1 = k1_0*γ\n",
    "    k2 = k2_0*γ\n",
    "    μ = k1/(1+k1*km2/km1/k2) + k2/(km1*k2/k1/km2 + 1)\n",
    "    Δ = (μ*(e0+s0) + kappa)**2 - 4*μ**2*s0*e0\n",
    "\n",
    "    estar = (( μ*(s0+e0)+kappa) - np.sqrt(Δ)) / (2*μ)\n",
    "    S = (s0-estar) / (1+k1*km2/km1/k2)\n",
    "    P = (s0-estar) / (km1*k2/k1/km2 + 1)\n",
    "    \n",
    "    #print(estar, es[i]['n_estar']/V)\n",
    "    print(es[i]['n_s']/V, S)\n"
   ]
  },
  {
   "cell_type": "code",
   "execution_count": null,
   "metadata": {},
   "outputs": [],
   "source": []
  }
 ],
 "metadata": {
  "kernelspec": {
   "display_name": "Python 3",
   "language": "python",
   "name": "python3"
  },
  "language_info": {
   "codemirror_mode": {
    "name": "ipython",
    "version": 3
   },
   "file_extension": ".py",
   "mimetype": "text/x-python",
   "name": "python",
   "nbconvert_exporter": "python",
   "pygments_lexer": "ipython3",
   "version": "3.7.3"
  }
 },
 "nbformat": 4,
 "nbformat_minor": 2
}
