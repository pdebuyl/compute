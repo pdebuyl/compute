{
 "cells": [
  {
   "cell_type": "markdown",
   "metadata": {
    "slideshow": {
     "slide_type": "slide"
    }
   },
   "source": [
    "## Langevin dynamics: introduction with simulations\n",
    "\n",
    "Topics:\n",
    "- Perform simple simulations of Langevin dynamics\n",
    "- Verify the expected equilibrium properties\n",
    "- Probe the dynamics with correlation functions"
   ]
  },
  {
   "cell_type": "code",
   "execution_count": null,
   "metadata": {
    "slideshow": {
     "slide_type": "skip"
    }
   },
   "outputs": [],
   "source": [
    "%matplotlib notebook\n",
    "import matplotlib.pyplot as plt\n",
    "import numpy as np\n",
    "import tidynamics"
   ]
  },
  {
   "cell_type": "markdown",
   "metadata": {
    "slideshow": {
     "slide_type": "slide"
    }
   },
   "source": [
    "### A super mega crash course on Python\n",
    "\n",
    "This introduction uses Python.\n",
    "\n",
    "Let's go!"
   ]
  },
  {
   "cell_type": "code",
   "execution_count": null,
   "metadata": {
    "slideshow": {
     "slide_type": "slide"
    }
   },
   "outputs": [],
   "source": [
    "# Variables\n",
    "\n",
    "a = 1\n",
    "print(a, type(a))\n",
    "a = '1'\n",
    "print(a, type(a))\n",
    "a = 1.0\n",
    "print(a, type(a))\n"
   ]
  },
  {
   "cell_type": "code",
   "execution_count": null,
   "metadata": {
    "slideshow": {
     "slide_type": "subslide"
    }
   },
   "outputs": [],
   "source": [
    "# Loops\n",
    "\n",
    "for a in [1, '1', 1.0]:\n",
    "    print(a, type(a))"
   ]
  },
  {
   "cell_type": "code",
   "execution_count": null,
   "metadata": {
    "slideshow": {
     "slide_type": "subslide"
    }
   },
   "outputs": [],
   "source": [
    "# Functions\n",
    "\n",
    "def my_function(x, y):\n",
    "    return x+y\n",
    "\n",
    "print(my_function(1, 1))\n",
    "print(my_function('one ', 'two'))\n",
    "print(my_function(1.0, 2.0))\n",
    "print(my_function(1.0, 'two'))"
   ]
  },
  {
   "cell_type": "markdown",
   "metadata": {
    "slideshow": {
     "slide_type": "slide"
    }
   },
   "source": [
    "## Arrays in Python\n",
    "\n",
    "In Python, the most convenient data type for numerical data is the NumPy array."
   ]
  },
  {
   "cell_type": "code",
   "execution_count": null,
   "metadata": {},
   "outputs": [],
   "source": [
    "my_array = np.ones(5)\n",
    "print(my_array)\n",
    "my_array[0] = 10\n",
    "print(my_array)\n",
    "print(2*my_array)\n",
    "print(np.sin(my_array))"
   ]
  },
  {
   "cell_type": "markdown",
   "metadata": {
    "slideshow": {
     "slide_type": "slide"
    }
   },
   "source": [
    "## The Langevin equation\n",
    "\n",
    "The Langevin equation for the velocity (Ornstein-Uhlenbeck process)\n",
    "\n",
    "$$\\dot v = - \\gamma v + \\sqrt{2 \\gamma T} \\xi$$\n",
    "\n",
    "where $\\gamma$ is the friction coefficient, $T$ is the temperature ($k_B=1$) and\n",
    "$\\xi$ is gaussian white noise.\n",
    "\n",
    "Questions:\n",
    "1. How to represent the noise numerically?\n",
    "2. How to do a simulation of this equation?"
   ]
  },
  {
   "cell_type": "markdown",
   "metadata": {
    "slideshow": {
     "slide_type": "slide"
    }
   },
   "source": [
    "### White noise\n",
    "\n",
    "Noise is generated from a \"pseudo random number generator\" (RNG or PRNG)."
   ]
  },
  {
   "cell_type": "code",
   "execution_count": null,
   "metadata": {},
   "outputs": [],
   "source": [
    "sample_data = np.random.normal(size=100)"
   ]
  },
  {
   "cell_type": "code",
   "execution_count": null,
   "metadata": {},
   "outputs": [],
   "source": [
    "plt.figure()\n",
    "count, bins, patches = plt.hist(sample_data, bins=32, normed=True)\n",
    "plt.plot(bins, np.exp(-bins**2/2)/np.sqrt(2*np.pi));"
   ]
  },
  {
   "cell_type": "markdown",
   "metadata": {
    "slideshow": {
     "slide_type": "slide"
    }
   },
   "source": [
    "## What about the correlations?\n",
    "\n",
    "A definining feature of the noise $\\xi$ is its autocorrelation:\n",
    "\n",
    "$$\\langle \\xi(t_1) \\xi(t_2) \\rangle = 2 T \\gamma \\delta(t_1-t_2)$$\n",
    "\n",
    "**Exercise:** Compute the autocorrelation of the noise.\n",
    "\n",
    "In discrete time, use\n",
    "\n",
    "$$\\langle \\xi(t_1) \\xi(t_2) \\rangle = \\frac{1}{\\# \\mathrm{ samples}} \\sum_{i, j} \\xi(i) \\xi(j)$$\n",
    "\n",
    "where the sum is taken over the i and j that obey $i-j = t_1-t_2$"
   ]
  },
  {
   "cell_type": "code",
   "execution_count": null,
   "metadata": {
    "slideshow": {
     "slide_type": "slide"
    }
   },
   "outputs": [],
   "source": [
    "N_data_points = 1000\n",
    "noise = np.random.normal(size=N_data_points)\n",
    "\n",
    "autocorrelation = np.zeros(2*N_data_points - 1)\n",
    "autocorrelation_count = np.zeros(2*N_data_points - 1)\n",
    "center_point = N_data_points\n",
    "\n",
    "for i in range(N_data_points):\n",
    "    for j in range(N_data_points):\n",
    "        pass        \n",
    "\n",
    "autocorrelation /= autocorrelation_count"
   ]
  },
  {
   "cell_type": "code",
   "execution_count": null,
   "metadata": {
    "slideshow": {
     "slide_type": "subslide"
    }
   },
   "outputs": [],
   "source": [
    "plt.figure()\n",
    "plt.plot(autocorrelation);"
   ]
  },
  {
   "cell_type": "code",
   "execution_count": null,
   "metadata": {
    "slideshow": {
     "slide_type": "subslide"
    }
   },
   "outputs": [],
   "source": [
    "x_axis = center_point + np.arange(len(noise)) - 1\n",
    "plt.plot(x_axis, tidynamics.acf(noise))"
   ]
  },
  {
   "cell_type": "markdown",
   "metadata": {
    "slideshow": {
     "slide_type": "slide"
    }
   },
   "source": [
    "## Solutions to the Langevin equation\n",
    "\n",
    "$$v(t+dt) = v(t) + \\int_t^{t+dt} dt' ~ \\left[ -\\gamma v(t') + \\sqrt{2\\gamma T} \\xi(t')\\right]$$\n",
    "\n",
    "The Euler-Maruyama algorithm is the simplest stochastic integrator:\n",
    "\n",
    "$$v(t+dt) \\approx v(t) - \\gamma v(t) dt + \\sqrt{2\\gamma T dt} \\Gamma$$"
   ]
  },
  {
   "cell_type": "markdown",
   "metadata": {
    "slideshow": {
     "slide_type": "slide"
    }
   },
   "source": [
    "For research projects, do a bit of research to find a better algorithm!\n",
    "\n",
    "The Euler-Maruyama algorithm requires small timesteps."
   ]
  },
  {
   "cell_type": "markdown",
   "metadata": {
    "slideshow": {
     "slide_type": "slide"
    }
   },
   "source": [
    "**Exercise:** apply iteratively the euler step to collect a time series for the velocity.\n",
    "\n",
    "**Exercise:** plot the equilibrium velocity distribution."
   ]
  },
  {
   "cell_type": "code",
   "execution_count": null,
   "metadata": {
    "slideshow": {
     "slide_type": "-"
    }
   },
   "outputs": [],
   "source": [
    "def euler_step(v, gamma, T, dt):\n",
    "    return v - gamma*v*dt + np.sqrt(2*gamma*T*dt)*np.random.normal()\n"
   ]
  },
  {
   "cell_type": "code",
   "execution_count": null,
   "metadata": {
    "slideshow": {
     "slide_type": "slide"
    }
   },
   "outputs": [],
   "source": [
    "data = [] # Create an empty list\n",
    "\n",
    "g = 0.1\n",
    "dt = 0.01\n",
    "T = 2\n",
    "\n",
    "v = 0 # Initial condition\n",
    "\n",
    "for i in range(1000):\n",
    "    pass\n",
    "\n",
    "for i in range(10000):\n",
    "    for j in range(10):\n",
    "        pass\n",
    "    data.append(v) # Sample every 10 dt\n",
    "data = np.array(data)"
   ]
  },
  {
   "cell_type": "code",
   "execution_count": null,
   "metadata": {
    "slideshow": {
     "slide_type": "subslide"
    }
   },
   "outputs": [],
   "source": [
    "plt.figure()\n",
    "\n",
    "plt.plot(data)\n",
    "plt.xlabel('Time') ; plt.ylabel('velocity')"
   ]
  },
  {
   "cell_type": "code",
   "execution_count": null,
   "metadata": {
    "slideshow": {
     "slide_type": "subslide"
    }
   },
   "outputs": [],
   "source": [
    "plt.figure()\n",
    "count, bins, patches = plt.hist(data, bins=32, normed=True)\n",
    "\n",
    "plt.plot(bins, bins) # Here, replace \"y-axis\" by the equilibrium distribution\n",
    "\n",
    "plt.xlabel('velocity') ; plt.title('Histogram of velocity')\n"
   ]
  },
  {
   "cell_type": "markdown",
   "metadata": {
    "slideshow": {
     "slide_type": "slide"
    }
   },
   "source": [
    "## Correlation with the force\n",
    "\n",
    "Other data than the velocity autocorrelation can be useful.\n",
    "The force - velocity correlation function shows, for instance, causality."
   ]
  },
  {
   "cell_type": "code",
   "execution_count": null,
   "metadata": {},
   "outputs": [],
   "source": [
    "# Define the Euler while also returning the value of the force\n",
    "\n",
    "def euler_step_with_force(v, gamma, T, dt):\n",
    "    force = np.sqrt(2*gamma*T*dt)*np.random.normal()\n",
    "    return v - gamma*v*dt+ force, force/dt\n"
   ]
  },
  {
   "cell_type": "code",
   "execution_count": null,
   "metadata": {
    "slideshow": {
     "slide_type": "slide"
    }
   },
   "outputs": [],
   "source": [
    "v_data = []\n",
    "f_data = []\n",
    "\n",
    "g = 0.1\n",
    "dt = 0.01\n",
    "T = 2\n",
    "\n",
    "v = 0 # Initial condition\n",
    "\n",
    "for i in range(1000):\n",
    "    v = euler_step(v, g, T, dt)\n",
    "\n",
    "for i in range(80000):\n",
    "    for j in range(5):\n",
    "        v, force = euler_step_with_force(v, g, T, dt)\n",
    "    v_data.append(v)\n",
    "    f_data.append(force)\n",
    "v_data = np.array(v_data)\n",
    "f_data = np.array(f_data)"
   ]
  },
  {
   "cell_type": "code",
   "execution_count": null,
   "metadata": {
    "slideshow": {
     "slide_type": "slide"
    }
   },
   "outputs": [],
   "source": [
    "plt.figure()\n",
    "tr = (-len(v_data) + np.arange(2*len(v_data)-1))*5*dt\n",
    "plt.plot(tr, tidynamics.core.correlation_1d(f_data, v_data))\n",
    "#plt.xlim(-10, 20)\n",
    "plt.ylim(-1, 2)\n",
    "plt.title(r'$\\langle f(0) v(\\tau) \\rangle$')\n",
    "plt.xlabel(r'$\\tau$')"
   ]
  },
  {
   "cell_type": "markdown",
   "metadata": {
    "slideshow": {
     "slide_type": "slide"
    }
   },
   "source": [
    "## Langevin equation for the position\n",
    "\n",
    "Now, consider\n",
    "\n",
    "$$\\dot x = -\\mu \\nabla V(x) + \\sqrt{2 \\mu T} \\xi$$\n",
    "\n",
    "The overdamped Langevin equation.\n",
    "\n",
    "**Exercise:** Plot the equilibrium distribution, in $[0, 2\\pi]$"
   ]
  },
  {
   "cell_type": "code",
   "execution_count": null,
   "metadata": {},
   "outputs": [],
   "source": [
    "def euler_x_step(x, f, mu, T, dt):\n",
    "    return x + f(x)*mu*dt + np.sqrt(2*mu*T*dt)*np.random.normal()"
   ]
  },
  {
   "cell_type": "code",
   "execution_count": null,
   "metadata": {
    "slideshow": {
     "slide_type": "slide"
    }
   },
   "outputs": [],
   "source": [
    "N_steps = 20000\n",
    "\n",
    "dt = 0.01\n",
    "mu = 1\n",
    "T = 0.4\n",
    "\n",
    "x = 0\n",
    "\n",
    "x_data = []\n",
    "for i in range(N_steps):\n",
    "    for j in range(10):\n",
    "        x = euler_x_step(x, lambda x: -np.sin(x), mu, T, dt)\n",
    "    x_data.append(x)\n",
    "x_data = np.array(x_data)"
   ]
  },
  {
   "cell_type": "code",
   "execution_count": null,
   "metadata": {
    "scrolled": false
   },
   "outputs": [],
   "source": [
    "plt.figure()\n",
    "plt.plot(x_data)"
   ]
  },
  {
   "cell_type": "code",
   "execution_count": null,
   "metadata": {
    "slideshow": {
     "slide_type": "slide"
    }
   },
   "outputs": [],
   "source": [
    "plt.figure()\n",
    "count, bins, patches = plt.hist(np.mod(x_data, 2*np.pi), normed=True, bins=32)\n",
    "\n",
    "# plot the distribution\n",
    "\n",
    "plt.plot(bins, rho)"
   ]
  },
  {
   "cell_type": "markdown",
   "metadata": {
    "slideshow": {
     "slide_type": "slide"
    }
   },
   "source": [
    "## Escape rate\n",
    "\n",
    "Kramers' theory for the escape rate can be used for Langevin dynamics in a\n",
    "metastable potential.\n"
   ]
  },
  {
   "cell_type": "code",
   "execution_count": null,
   "metadata": {
    "slideshow": {
     "slide_type": "slide"
    }
   },
   "outputs": [],
   "source": [
    "xr = np.linspace(-1.5, 1.5, 101)\n",
    "plt.figure()\n",
    "\n",
    "def V_kramers(x):\n",
    "    return x*(1-x**2)\n",
    "\n",
    "def f_kramers(x):\n",
    "    return 3*x**2-1\n",
    "\n",
    "# V'' = - 6x\n",
    "\n",
    "plt.plot(xr, V_kramers(xr))\n",
    "plt.plot(xr, f_kramers(xr))\n",
    "plt.axhline(0)"
   ]
  },
  {
   "cell_type": "code",
   "execution_count": null,
   "metadata": {
    "slideshow": {
     "slide_type": "slide"
    }
   },
   "outputs": [],
   "source": [
    "N_steps = 8000\n",
    "\n",
    "dt = 0.01\n",
    "mu = 1\n",
    "T = 1\n",
    "\n",
    "time_data = []\n",
    "for realization in range(100):\n",
    "    x = -np.sqrt(1/3)\n",
    "    for i in range(N_steps):\n",
    "        for j in range(10):\n",
    "            x = euler_x_step(x, f_kramers, mu, T, dt)\n",
    "        if x>1:\n",
    "            break\n",
    "    if i<=N_steps:\n",
    "        time_data.append(i*10*dt)"
   ]
  },
  {
   "cell_type": "code",
   "execution_count": null,
   "metadata": {
    "slideshow": {
     "slide_type": "slide"
    }
   },
   "outputs": [],
   "source": [
    "plt.figure()\n",
    "plt.plot(x_data)"
   ]
  },
  {
   "cell_type": "code",
   "execution_count": null,
   "metadata": {
    "slideshow": {
     "slide_type": "slide"
    }
   },
   "outputs": [],
   "source": [
    "plt.figure()\n",
    "count, bins, patches = plt.hist(time_data, normed=True)\n",
    "\n",
    "fit = [-1, 1]\n",
    "\n",
    "slope, origin = fit\n",
    "\n",
    "plt.plot(bins, np.exp(origin+slope*bins))\n"
   ]
  },
  {
   "cell_type": "code",
   "execution_count": null,
   "metadata": {
    "slideshow": {
     "slide_type": "slide"
    }
   },
   "outputs": [],
   "source": [
    "delta_E = V_kramers(np.sqrt(1/3)) - V_kramers(-np.sqrt(1/3))\n",
    "\n",
    "rate = mu/(2*np.pi)*np.exp(-delta_E/T) * np.sqrt(12)\n"
   ]
  },
  {
   "cell_type": "code",
   "execution_count": null,
   "metadata": {},
   "outputs": [],
   "source": [
    "1/rate"
   ]
  },
  {
   "cell_type": "code",
   "execution_count": null,
   "metadata": {},
   "outputs": [],
   "source": []
  },
  {
   "cell_type": "code",
   "execution_count": null,
   "metadata": {},
   "outputs": [],
   "source": []
  }
 ],
 "metadata": {
  "celltoolbar": "Slideshow",
  "kernelspec": {
   "display_name": "Python 3",
   "language": "python",
   "name": "python3"
  },
  "language_info": {
   "codemirror_mode": {
    "name": "ipython",
    "version": 3
   },
   "file_extension": ".py",
   "mimetype": "text/x-python",
   "name": "python",
   "nbconvert_exporter": "python",
   "pygments_lexer": "ipython3",
   "version": "3.6.4"
  }
 },
 "nbformat": 4,
 "nbformat_minor": 2
}
