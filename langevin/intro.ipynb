{
 "cells": [
  {
   "cell_type": "markdown",
   "metadata": {
    "slideshow": {
     "slide_type": "slide"
    }
   },
   "source": [
    "## Langevin dynamics: introduction with simulations\n",
    "\n",
    "Topics:\n",
    "- Perform simple simulations of Langevin dynamics\n",
    "- Verify the expected equilibrium properties\n",
    "- Probe the dynamics with correlation functions"
   ]
  },
  {
   "cell_type": "code",
   "execution_count": null,
   "metadata": {
    "slideshow": {
     "slide_type": "skip"
    }
   },
   "outputs": [],
   "source": [
    "%matplotlib notebook\n",
    "import matplotlib.pyplot as plt\n",
    "import numpy as np\n",
    "import tidynamics"
   ]
  },
  {
   "cell_type": "markdown",
   "metadata": {
    "slideshow": {
     "slide_type": "slide"
    }
   },
   "source": [
    "### A super mega crash course on Python\n",
    "\n",
    "This introduction uses Python.\n",
    "\n",
    "Let's go!"
   ]
  },
  {
   "cell_type": "code",
   "execution_count": null,
   "metadata": {
    "slideshow": {
     "slide_type": "slide"
    }
   },
   "outputs": [],
   "source": [
    "# Variables\n",
    "\n",
    "a = 1\n",
    "print(a, type(a))\n",
    "a = '1'\n",
    "print(a, type(a))\n",
    "a = 1.0\n",
    "print(a, type(a))\n"
   ]
  },
  {
   "cell_type": "code",
   "execution_count": null,
   "metadata": {
    "slideshow": {
     "slide_type": "subslide"
    }
   },
   "outputs": [],
   "source": [
    "# Loops\n",
    "\n",
    "for a in [1, '1', 1.0]:\n",
    "    print(a, type(a))"
   ]
  },
  {
   "cell_type": "code",
   "execution_count": null,
   "metadata": {
    "slideshow": {
     "slide_type": "subslide"
    }
   },
   "outputs": [],
   "source": [
    "# Functions\n",
    "\n",
    "def my_function(x, y):\n",
    "    return x+y\n",
    "\n",
    "print(my_function(1, 1))\n",
    "print(my_function('one ', 'two'))\n",
    "print(my_function(1.0, 2.0))\n",
    "print(my_function(1.0, 'two'))"
   ]
  },
  {
   "cell_type": "markdown",
   "metadata": {
    "slideshow": {
     "slide_type": "slide"
    }
   },
   "source": [
    "## Arrays in Python\n",
    "\n",
    "In Python, the most convenient data type for numerical data is the NumPy array."
   ]
  },
  {
   "cell_type": "code",
   "execution_count": null,
   "metadata": {},
   "outputs": [],
   "source": [
    "my_array = np.ones(5)\n",
    "print(my_array)\n",
    "my_array[0] = 10\n",
    "print(my_array)\n",
    "print(2*my_array)\n",
    "print(np.sin(my_array))"
   ]
  },
  {
   "cell_type": "markdown",
   "metadata": {
    "slideshow": {
     "slide_type": "slide"
    }
   },
   "source": [
    "## The Langevin equation\n",
    "\n",
    "The Langevin equation for the velocity (Ornstein-Uhlenbeck process)\n",
    "\n",
    "$$\\dot v = - \\gamma v + \\sqrt{2 \\gamma T} \\xi$$\n",
    "\n",
    "where $\\gamma$ is the friction coefficient, $T$ is the temperature ($k_B=1$) and\n",
    "$\\xi$ is gaussian white noise.\n",
    "\n",
    "Questions:\n",
    "1. How to represent the noise numerically?\n",
    "2. How to do a simulation of this equation?"
   ]
  },
  {
   "cell_type": "markdown",
   "metadata": {
    "slideshow": {
     "slide_type": "slide"
    }
   },
   "source": [
    "### White noise\n",
    "\n",
    "Noise is generated from a \"pseudo random number generator\" (RNG or PRNG)."
   ]
  },
  {
   "cell_type": "code",
   "execution_count": null,
   "metadata": {},
   "outputs": [],
   "source": [
    "sample_data = np.random.normal(size=100)"
   ]
  },
  {
   "cell_type": "code",
   "execution_count": null,
   "metadata": {},
   "outputs": [],
   "source": [
    "plt.figure()\n",
    "count, bins, patches = plt.hist(sample_data, bins=32, normed=True)\n",
    "plt.plot(bins, np.exp(-bins**2/2)/np.sqrt(2*np.pi))"
   ]
  },
  {
   "cell_type": "markdown",
   "metadata": {
    "slideshow": {
     "slide_type": "slide"
    }
   },
   "source": [
    "## What about the correlations?\n",
    "\n",
    "A definining feature of the noise $\\xi$ is its autocorrelation:\n",
    "\n",
    "$$\\langle \\xi(t_1) \\xi(t_2) \\rangle = 2 T \\gamma \\delta(t_1-t_2)$$\n",
    "\n",
    "**First exercise:** Compute the autocorrelation of the noise.\n",
    "\n",
    "In discrete time, use\n",
    "\n",
    "$$\\langle \\xi(t_1) \\xi(t_2) \\rangle = \\frac{1}{\\# \\mathrm{ samples}} \\sum_{i, j} \\xi(i) \\xi(j)$$\n",
    "\n",
    "where the sum is taken over the i and j that obey $i-j = t_1-t_2$"
   ]
  },
  {
   "cell_type": "code",
   "execution_count": null,
   "metadata": {
    "slideshow": {
     "slide_type": "slide"
    }
   },
   "outputs": [],
   "source": [
    "N_data_points = 1000\n",
    "noise = np.random.normal(size=N_data_points)\n",
    "\n",
    "autocorrelation = np.zeros(2*N_data_points - 1)\n",
    "autocorrelation_count = np.zeros(2*N_data_points - 1)\n",
    "center_point = N_data_points\n",
    "\n",
    "for i in range(N_data_points):\n",
    "    for j in range(N_data_points):\n",
    "        index = center_point + i - j - 1\n",
    "        autocorrelation[index] += noise[i]*noise[j]\n",
    "        autocorrelation_count[index] += 1\n",
    "        \n",
    "\n",
    "autocorrelation /= autocorrelation_count"
   ]
  },
  {
   "cell_type": "code",
   "execution_count": null,
   "metadata": {
    "slideshow": {
     "slide_type": "subslide"
    }
   },
   "outputs": [],
   "source": [
    "plt.figure()\n",
    "plt.plot(autocorrelation)"
   ]
  },
  {
   "cell_type": "code",
   "execution_count": null,
   "metadata": {
    "slideshow": {
     "slide_type": "subslide"
    }
   },
   "outputs": [],
   "source": [
    "x_axis = center_point + np.arange(len(noise)) - 1\n",
    "plt.plot(x_axis, tidynamics.acf(noise))"
   ]
  },
  {
   "cell_type": "markdown",
   "metadata": {
    "slideshow": {
     "slide_type": "slide"
    }
   },
   "source": [
    "## Solutions to the Langevin equation\n",
    "\n",
    "$$v(t+dt) = v(t) + \\int_t^{t+dt} dt' ~ \\left[ -\\gamma v(t') + \\sqrt{2\\gamma T} \\xi(t')\\right]$$\n",
    "\n",
    "The Euler-Maruyama algorithm is the simplest stochastic integrator:\n",
    "\n",
    "$$v(t+dt) \\approx v(t) - \\gamma v(t) dt + \\sqrt{2\\gamma T dt} \\Gamma$$"
   ]
  },
  {
   "cell_type": "code",
   "execution_count": null,
   "metadata": {},
   "outputs": [],
   "source": [
    "def euler_step(v, gamma, T, dt):\n",
    "    return v - gamma*v*dt + np.sqrt(2*gamma*T*dt)*np.random.normal()\n"
   ]
  },
  {
   "cell_type": "code",
   "execution_count": null,
   "metadata": {
    "slideshow": {
     "slide_type": "slide"
    }
   },
   "outputs": [],
   "source": [
    "data = [] # Create an empty list\n",
    "\n",
    "γ = 0.1\n",
    "dt = 0.01\n",
    "T = 2\n",
    "\n",
    "v = 0 # Initial condition\n",
    "\n",
    "for i in range(1000):\n",
    "    v = euler_step(v, γ, T, dt)\n",
    "\n",
    "for i in range(10000):\n",
    "    for j in range(10):\n",
    "        v = euler_step(v, γ, T, dt)\n",
    "    data.append(v) # Sample every 10 dt\n",
    "data = np.array(data)"
   ]
  },
  {
   "cell_type": "code",
   "execution_count": null,
   "metadata": {
    "slideshow": {
     "slide_type": "subslide"
    }
   },
   "outputs": [],
   "source": [
    "plt.figure()\n",
    "\n",
    "plt.plot(data)\n",
    "plt.xlabel('Time') ; plt.ylabel('velocity')"
   ]
  },
  {
   "cell_type": "code",
   "execution_count": null,
   "metadata": {
    "slideshow": {
     "slide_type": "subslide"
    }
   },
   "outputs": [],
   "source": [
    "plt.figure()\n",
    "count, bins, patches = plt.hist(data, bins=32, normed=True)\n",
    "plt.plot(bins, np.exp(-bins**2/(2*T))/np.sqrt(2*np.pi*T))\n",
    "plt.xlabel('velocity') ; plt.title('Histogram of velocity')"
   ]
  },
  {
   "cell_type": "code",
   "execution_count": null,
   "metadata": {},
   "outputs": [],
   "source": []
  },
  {
   "cell_type": "code",
   "execution_count": null,
   "metadata": {},
   "outputs": [],
   "source": []
  }
 ],
 "metadata": {
  "celltoolbar": "Slideshow",
  "kernelspec": {
   "display_name": "Python 3",
   "language": "python",
   "name": "python3"
  },
  "language_info": {
   "codemirror_mode": {
    "name": "ipython",
    "version": 3
   },
   "file_extension": ".py",
   "mimetype": "text/x-python",
   "name": "python",
   "nbconvert_exporter": "python",
   "pygments_lexer": "ipython3",
   "version": "3.6.4"
  }
 },
 "nbformat": 4,
 "nbformat_minor": 2
}
