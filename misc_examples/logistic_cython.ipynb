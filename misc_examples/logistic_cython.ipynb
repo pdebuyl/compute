{
 "cells": [
  {
   "cell_type": "code",
   "execution_count": null,
   "metadata": {},
   "outputs": [],
   "source": [
    "%matplotlib inline\n",
    "import cython\n",
    "import numpy as np\n",
    "import matplotlib.pyplot as plt"
   ]
  },
  {
   "cell_type": "code",
   "execution_count": null,
   "metadata": {},
   "outputs": [],
   "source": [
    "%load_ext cython"
   ]
  },
  {
   "cell_type": "markdown",
   "metadata": {},
   "source": [
    "## The logistic map\n",
    "\n",
    "The logistic map is defined as\n",
    "\n",
    "$$x_{i+1} = \\mu\\ x_i\\ (1-x_i)$$\n",
    "\n",
    "Iterating over a function is a typical non-vectorizable computation.\n",
    "\n",
    "Below, I define functions that iterate N times over the map and return\n",
    "the final value, in plain Python and in Cython."
   ]
  },
  {
   "cell_type": "code",
   "execution_count": null,
   "metadata": {},
   "outputs": [],
   "source": [
    "def iterate_logistic_map(x0, mu, N):\n",
    "    x = x0\n",
    "    for i in range(N):\n",
    "        x = mu*x*(1-x)\n",
    "    return x"
   ]
  },
  {
   "cell_type": "code",
   "execution_count": null,
   "metadata": {},
   "outputs": [],
   "source": [
    "%%cython\n",
    "\n",
    "def iterate_logistic_map_cy(double x0, double mu, int N):\n",
    "    cdef double x = x0\n",
    "    for i in range(N):\n",
    "        x = mu*x*(1-x)\n",
    "    return x"
   ]
  },
  {
   "cell_type": "markdown",
   "metadata": {},
   "source": [
    "### Timings\n",
    "\n",
    "First, for a single call"
   ]
  },
  {
   "cell_type": "code",
   "execution_count": null,
   "metadata": {},
   "outputs": [],
   "source": [
    "%timeit x = iterate_logistic_map_cy(x0=0.1, mu=3.9, N=10**4)"
   ]
  },
  {
   "cell_type": "code",
   "execution_count": null,
   "metadata": {},
   "outputs": [],
   "source": [
    "%timeit x = iterate_logistic_map(x0=0.1, mu=3.9, N=10**4)"
   ]
  },
  {
   "cell_type": "markdown",
   "metadata": {},
   "source": [
    "And timings with repeated calls, which is the \"standard\" use case for\n",
    "this type of map."
   ]
  },
  {
   "cell_type": "code",
   "execution_count": null,
   "metadata": {},
   "outputs": [],
   "source": [
    "%%timeit\n",
    "x_data = []\n",
    "mu_data = np.linspace(2, 4, 2001)\n",
    "\n",
    "for mu in mu_data:\n",
    "    x_data.append(iterate_logistic_map(x0=np.random.random(), mu=mu, N=10**4))\n",
    "    \n",
    "x_data = np.array(x_data)"
   ]
  },
  {
   "cell_type": "code",
   "execution_count": null,
   "metadata": {},
   "outputs": [],
   "source": [
    "%%timeit\n",
    "x_data = []\n",
    "mu_data = np.linspace(2, 4, 2001)\n",
    "\n",
    "for mu in mu_data:\n",
    "    x_data.append(iterate_logistic_map_cy(x0=np.random.random(), mu=mu, N=10**4))\n",
    "    \n",
    "x_data = np.array(x_data)"
   ]
  },
  {
   "cell_type": "code",
   "execution_count": null,
   "metadata": {},
   "outputs": [],
   "source": [
    "# Actually generate the data for plotting\n",
    "\n",
    "x_data = []\n",
    "mu_data = np.linspace(2, 4, 16001)\n",
    "\n",
    "for mu in mu_data:\n",
    "    x_data.append(iterate_logistic_map_cy(x0=np.random.random(), mu=mu, N=10**4))\n",
    "    \n",
    "x_data = np.array(x_data)"
   ]
  },
  {
   "cell_type": "code",
   "execution_count": null,
   "metadata": {},
   "outputs": [],
   "source": [
    "\n",
    "plt.figure(figsize=(10, 7.5))\n",
    "plt.plot(mu_data, x_data, ls='', marker='o', markersize=1)\n",
    "plt.xlabel(r'$\\mu$', fontsize=22)\n",
    "plt.ylabel(r'Stationary $x$', fontsize=22)"
   ]
  },
  {
   "cell_type": "code",
   "execution_count": null,
   "metadata": {},
   "outputs": [],
   "source": []
  }
 ],
 "metadata": {
  "kernelspec": {
   "display_name": "Python 3",
   "language": "python",
   "name": "python3"
  },
  "language_info": {
   "codemirror_mode": {
    "name": "ipython",
    "version": 3
   },
   "file_extension": ".py",
   "mimetype": "text/x-python",
   "name": "python",
   "nbconvert_exporter": "python",
   "pygments_lexer": "ipython3",
   "version": "3.6.4rc1"
  }
 },
 "nbformat": 4,
 "nbformat_minor": 2
}
