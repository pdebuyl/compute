{
 "metadata": {
  "name": "",
  "signature": "sha256:742cf80e56585176e85e49105bb30d2b4b7200cabcaa40130c45caebf309a4c5"
 },
 "nbformat": 3,
 "nbformat_minor": 0,
 "worksheets": [
  {
   "cells": [
    {
     "cell_type": "code",
     "collapsed": false,
     "input": [
      "%pylab inline\n",
      "from collections import deque\n",
      "from mpl_toolkits.mplot3d import Axes3D\n",
      "from __future__ import print_function, division\n",
      "from IPython.display import Image"
     ],
     "language": "python",
     "metadata": {},
     "outputs": []
    },
    {
     "cell_type": "markdown",
     "metadata": {},
     "source": [
      "# Understanding the Hilbert curve\n",
      "\n",
      "**Author:** Pierre de Buyl\n",
      "\n",
      "In this notebook, I review the algorithm by Chris Hamilton and XX to compute\n",
      "Hilbert indices.\n",
      "\n",
      "My motivations (and yours, maybe) are:\n",
      "- Understand the algorithm to implement it in a simulation code.\n",
      "  The point is to sort particles spatially for better memory access.\n",
      "- Provide a full Python-based implementation that can be used for\n",
      "  reference *and* illustration purposes.\n",
      "- Have a clear explanation for later reference.\n",
      "\n",
      "## Bitwise operations\n",
      "\n",
      "I review here the bitwise operations in Python, as they will be used throughout.\n",
      "Only integer numbers are used. We define a word length that corresponds to the\n",
      "dimension of the Hilbert curve."
     ]
    },
    {
     "cell_type": "code",
     "collapsed": false,
     "input": [
      "N = 3\n",
      "\n",
      "def bin_str(i):\n",
      "    \"\"\"Return a string representation of i with N bits.\"\"\"\n",
      "    out = ''\n",
      "    for j in range(N-1,-1,-1):\n",
      "        if (i>>j) & 1 == 1:\n",
      "            out += '1'\n",
      "        else:\n",
      "            out += '0'\n",
      "    return out\n"
     ],
     "language": "python",
     "metadata": {},
     "outputs": []
    },
    {
     "cell_type": "markdown",
     "metadata": {},
     "source": [
      "The function `bin_str` helps to visualize bitwise operations.\n",
      "In Python, the AND, OR and XOR operators are defined and also\n",
      "the bit shifts."
     ]
    },
    {
     "cell_type": "code",
     "collapsed": false,
     "input": [
      "print('AND  ', bin_str(1), '&', bin_str(5), '=', bin_str(1 & 5))\n",
      "print('OR   ', bin_str(1), '|', bin_str(5), '=', bin_str(1 | 5))\n",
      "print('XOR  ', bin_str(1), '^', bin_str(5), '=', bin_str(1 ^ 5))\n",
      "print('shift', bin_str(2), '>> 1  =', bin_str(2 >> 1))\n",
      "print('shift', bin_str(2), '<< 1  =', bin_str(2 << 1))"
     ],
     "language": "python",
     "metadata": {},
     "outputs": []
    },
    {
     "cell_type": "markdown",
     "metadata": {},
     "source": [
      "Next, we define rotation operators and a function to extract the i-th bit from a number."
     ]
    },
    {
     "cell_type": "code",
     "collapsed": false,
     "input": [
      "def rotate_right(x, d):\n",
      "    \"\"\"Rotate x by d bits to the right.\"\"\"\n",
      "    d = d % N\n",
      "    out = x >> d\n",
      "    for i in range(d):\n",
      "        bit = (x & 2**i)>>i\n",
      "        out |= bit << (N+i-d)\n",
      "    return out\n",
      "\n",
      "def rotate_left(x, d):\n",
      "    \"\"\"Rotate x by d bits to the left.\"\"\"\n",
      "    d = d % N\n",
      "    out = x << d\n",
      "    excess = out \n",
      "    out = out & (2**N-1)\n",
      "    for i in range(d):\n",
      "        bit = (x & 2**(N-1-d+1+i))>> (N-1-d+1+i)\n",
      "        out |= bit << i\n",
      "    return out\n",
      "\n",
      "def bit_component(x, i):\n",
      "    \"\"\"Return i-th bit of x\"\"\"\n",
      "    return (x & 2**i) >> i"
     ],
     "language": "python",
     "metadata": {},
     "outputs": []
    },
    {
     "cell_type": "markdown",
     "metadata": {},
     "source": [
      "Apply increasing rotations to the right to the number 1."
     ]
    },
    {
     "cell_type": "code",
     "collapsed": false,
     "input": [
      "print(bin_str(1), bin_str(rotate_right(1, 1)), bin_str(rotate_right(1,2)), bin_str(rotate_right(1,3)))"
     ],
     "language": "python",
     "metadata": {},
     "outputs": []
    },
    {
     "cell_type": "markdown",
     "metadata": {},
     "source": [
      "The technical reports describes with good details all the intermediate steps\n",
      "of the algorithm using binary operations and sequences.\n",
      "The gray code index of a number i, for instance, is given by\n",
      "gc(i) = i XOR (i \u226b 1).\n",
      "\n",
      "To understand the building of the Hilbert curve, other quantities are needed.\n",
      "The graphical representation use arrows in each sub-hypercube of the curve to\n",
      "represent the path.\n",
      "The definitions of the gray curve index and of the arrows is given and we use these\n",
      "defintions to illustrate the Hilbert curve afterwards.\n",
      "\n",
      "The interpretation of gc, e and f below is a binary representation in base N of the\n",
      "vertices of a hypercube (a square for N=2, a cube for N=3, etc).\n",
      "The bits represent the z, y and x coordinates."
     ]
    },
    {
     "cell_type": "code",
     "collapsed": false,
     "input": [
      "%run draw_cube.py\n",
      "Image('binary_cube.png');"
     ],
     "language": "python",
     "metadata": {},
     "outputs": []
    },
    {
     "cell_type": "code",
     "collapsed": false,
     "input": [
      "def gc(i):\n",
      "    \"\"\"Return the Gray code index of i.\"\"\"\n",
      "    return i ^ (i >> 1)\n",
      "\n",
      "def e(i):\n",
      "    \"\"\"Return the entry point of hypercube i.\"\"\"\n",
      "    if i==0:\n",
      "        return 0\n",
      "    else:\n",
      "        return gc(2*int(math.floor((i-1)//2)))\n",
      "\n",
      "def f(i):\n",
      "    \"\"\"Return the exit point of hypercube i.\"\"\"\n",
      "    return e(2**N-1-i) ^ 2**(N-1)\n"
     ],
     "language": "python",
     "metadata": {},
     "outputs": []
    },
    {
     "cell_type": "code",
     "collapsed": false,
     "input": [
      "print('Gray code', map(lambda i: (gc(i), bin_str(gc(i))), range(2**N)),\n",
      "      'Entry point', map(lambda i: (e(i), bin_str(e(i))), range(2**N)),\n",
      "      'Exit point', map(lambda i: (f(i), bin_str(f(i))), range(2**N)),\n",
      "      sep='\\n')"
     ],
     "language": "python",
     "metadata": {},
     "outputs": []
    },
    {
     "cell_type": "code",
     "collapsed": false,
     "input": [],
     "language": "python",
     "metadata": {},
     "outputs": []
    },
    {
     "cell_type": "code",
     "collapsed": false,
     "input": [],
     "language": "python",
     "metadata": {},
     "outputs": []
    },
    {
     "cell_type": "code",
     "collapsed": false,
     "input": [],
     "language": "python",
     "metadata": {},
     "outputs": []
    },
    {
     "cell_type": "code",
     "collapsed": false,
     "input": [],
     "language": "python",
     "metadata": {},
     "outputs": []
    },
    {
     "cell_type": "code",
     "collapsed": false,
     "input": [],
     "language": "python",
     "metadata": {},
     "outputs": []
    },
    {
     "cell_type": "code",
     "collapsed": false,
     "input": [],
     "language": "python",
     "metadata": {},
     "outputs": []
    },
    {
     "cell_type": "code",
     "collapsed": false,
     "input": [],
     "language": "python",
     "metadata": {},
     "outputs": []
    },
    {
     "cell_type": "code",
     "collapsed": false,
     "input": [],
     "language": "python",
     "metadata": {},
     "outputs": []
    },
    {
     "cell_type": "code",
     "collapsed": false,
     "input": [],
     "language": "python",
     "metadata": {},
     "outputs": []
    },
    {
     "cell_type": "code",
     "collapsed": false,
     "input": [
      "N = 3\n",
      "\n",
      "\n",
      "def gc_inverse(p):\n",
      "    return (0, 1, 3, 2, 7, 6, 4, 5)[p]\n",
      "\n",
      "\n",
      "def g(i):\n",
      "    return int(np.log2(gc(i)^gc(i+1)))\n",
      "\n",
      "\n",
      "def d(i):\n",
      "    if i==0:\n",
      "        return 0\n",
      "    elif (i%2)==0:\n",
      "        return g(i-1) % N\n",
      "    else:\n",
      "        return g(i) % N\n",
      "\n",
      "def d(i):\n",
      "    return int(np.log2(e(i)^f(i)))\n",
      "\n",
      "\n",
      "def T(e, d, b):\n",
      "    out = b ^ e\n",
      "    return rotate_right(out, d+1)\n",
      "\n",
      "def T_inv(e, d, b):\n",
      "    return T(rotate_right(e, d+1), N-d-1, b)\n",
      "\n"
     ],
     "language": "python",
     "metadata": {},
     "outputs": []
    },
    {
     "cell_type": "code",
     "collapsed": false,
     "input": [
      "for i in range(2**N):\n",
      "    print(i, gc(i), gc_inverse(gc(i)))"
     ],
     "language": "python",
     "metadata": {},
     "outputs": []
    },
    {
     "cell_type": "code",
     "collapsed": false,
     "input": [],
     "language": "python",
     "metadata": {},
     "outputs": []
    },
    {
     "cell_type": "code",
     "collapsed": false,
     "input": [],
     "language": "python",
     "metadata": {},
     "outputs": []
    },
    {
     "cell_type": "code",
     "collapsed": false,
     "input": [],
     "language": "python",
     "metadata": {},
     "outputs": []
    },
    {
     "cell_type": "code",
     "collapsed": false,
     "input": [
      "for i in range(2**N):\n",
      "    print(i, bin_str(i), '|', gc(i), bin_str(gc(i)))"
     ],
     "language": "python",
     "metadata": {},
     "outputs": []
    },
    {
     "cell_type": "code",
     "collapsed": false,
     "input": [
      "for i in range(2**N):\n",
      "    print(bin_str(i), bin_str(rotate_right(i, 1)))"
     ],
     "language": "python",
     "metadata": {},
     "outputs": []
    },
    {
     "cell_type": "code",
     "collapsed": false,
     "input": [
      "for i in range(2**N):\n",
      "    print(bin_str(i), bin_str(rotate_left(i, 1)))"
     ],
     "language": "python",
     "metadata": {},
     "outputs": []
    },
    {
     "cell_type": "code",
     "collapsed": false,
     "input": [
      "EFD = {}\n",
      "EFD[2] = ((0, 1, 0), (0, 2, 1), (0, 2, 1), (3, 2, 0))\n",
      "EFD[3] = ((0, 1, 0), (0, 2, 1), (0, 2, 1), (3, 7, 2), (3, 7, 2), (6, 4, 1), (6, 4, 1), (5, 4, 0))\n",
      "\n",
      "W = {}\n",
      "W[2] = (0, 1, 3, 2)\n",
      "W[3] = (0, 1, 3, 2, 7, 6, 4, 5)\n"
     ],
     "language": "python",
     "metadata": {},
     "outputs": []
    },
    {
     "cell_type": "code",
     "collapsed": false,
     "input": [
      "print(map(gc, range(2**N)))\n",
      "print(map(e, range(2**N)))\n",
      "print(map(f, range(2**N)))\n",
      "print(map(g, range(2**N)))\n",
      "print(map(d, range(2**N)))"
     ],
     "language": "python",
     "metadata": {},
     "outputs": []
    },
    {
     "cell_type": "code",
     "collapsed": false,
     "input": [
      "print(N)\n",
      "for eee, fff, ddd in EFD[N]:\n",
      "    print(eee, ddd, fff, T(eee, ddd, fff), T(eee, ddd, eee))"
     ],
     "language": "python",
     "metadata": {},
     "outputs": []
    },
    {
     "cell_type": "code",
     "collapsed": false,
     "input": [],
     "language": "python",
     "metadata": {},
     "outputs": []
    },
    {
     "cell_type": "code",
     "collapsed": false,
     "input": [],
     "language": "python",
     "metadata": {},
     "outputs": []
    },
    {
     "cell_type": "code",
     "collapsed": false,
     "input": [
      "for i in range(2**N):\n",
      "    print(i, bin_str(i), '|', rotate_right(i, 1), bin_str(rotate_right(i, 1)))"
     ],
     "language": "python",
     "metadata": {},
     "outputs": []
    },
    {
     "cell_type": "code",
     "collapsed": false,
     "input": [
      "def fffff(x, d):\n",
      "    d = d % N\n",
      "    out = x >> d\n",
      "    print('d', d, 'out', out)\n",
      "    for i in range(d):\n",
      "        bit = (x & 2**i)>>i\n",
      "        print('i', i, 'bit', bit, 'shifted', bit << (N-i-1))\n",
      "        out |= bit << (N+i-d)\n",
      "    return out\n"
     ],
     "language": "python",
     "metadata": {},
     "outputs": []
    },
    {
     "cell_type": "code",
     "collapsed": false,
     "input": [],
     "language": "python",
     "metadata": {},
     "outputs": []
    },
    {
     "cell_type": "code",
     "collapsed": false,
     "input": [],
     "language": "python",
     "metadata": {},
     "outputs": []
    },
    {
     "cell_type": "code",
     "collapsed": false,
     "input": [],
     "language": "python",
     "metadata": {},
     "outputs": []
    },
    {
     "cell_type": "code",
     "collapsed": false,
     "input": [],
     "language": "python",
     "metadata": {},
     "outputs": []
    },
    {
     "cell_type": "code",
     "collapsed": false,
     "input": [
      "M = 2\n",
      "def algo1(p):\n",
      "    h = ve = 0\n",
      "    vd = 0\n",
      "    for i in range(M-1, -1, -1):\n",
      "        l = [bit_component(px, i) for px in p[::-1]]\n",
      "        #print(i, l, h, ve, vd)\n",
      "        l = sum( [lx*2**j for j, lx in enumerate(l)] )\n",
      "        #print(i, l, bin_str(l))\n",
      "        l = T(ve, vd, l)\n",
      "        #print(i, l, bin_str(l), gc_inverse(l))\n",
      "        w = gc_inverse(l)\n",
      "        ve = ve ^ (rotate_left(e(w), vd+1))\n",
      "        vd = (vd + d(w) + 1) % N\n",
      "        h = (h << N) | w\n",
      "    return h\n",
      "\n",
      "\n",
      "def algo2(h):\n",
      "    ve = vd = 0\n",
      "    p = [0]*N\n",
      "    for i in range(M-1, -1, -1):\n",
      "        w = [bit_component(h, i*N+ii) for ii in range(N-1,-1,-1)]\n",
      "        #print(i, w)\n",
      "        w = sum( [wx*2**j for j, wx in enumerate(w)] )\n",
      "        #print(i, w, gc(w))\n",
      "        l = gc(w)\n",
      "        l = T_inv(ve, vd, l)\n",
      "        for j in range(N):\n",
      "            p[j] += bit_component(l, j) << i\n",
      "        ve = ve ^ rotate_left(e(w), vd+1)\n",
      "        vd = (vd + d(w) + 1) % N\n",
      "    return p"
     ],
     "language": "python",
     "metadata": {},
     "outputs": []
    },
    {
     "cell_type": "code",
     "collapsed": false,
     "input": [
      "print(algo1([0, 0, 2]))\n",
      "print(algo2(60))"
     ],
     "language": "python",
     "metadata": {},
     "outputs": []
    },
    {
     "cell_type": "code",
     "collapsed": false,
     "input": [
      "for i in [0,1]:\n",
      "    for j in [2,3]:\n",
      "        for k in [0,1]:\n",
      "            print((i,j,k), algo1((i,j,k)))"
     ],
     "language": "python",
     "metadata": {},
     "outputs": []
    },
    {
     "cell_type": "code",
     "collapsed": false,
     "input": [
      "gc(0)"
     ],
     "language": "python",
     "metadata": {},
     "outputs": []
    },
    {
     "cell_type": "code",
     "collapsed": false,
     "input": [],
     "language": "python",
     "metadata": {},
     "outputs": []
    },
    {
     "cell_type": "code",
     "collapsed": false,
     "input": [],
     "language": "python",
     "metadata": {},
     "outputs": []
    },
    {
     "cell_type": "code",
     "collapsed": false,
     "input": [],
     "language": "python",
     "metadata": {},
     "outputs": []
    },
    {
     "cell_type": "code",
     "collapsed": false,
     "input": [],
     "language": "python",
     "metadata": {},
     "outputs": []
    },
    {
     "cell_type": "code",
     "collapsed": false,
     "input": [],
     "language": "python",
     "metadata": {},
     "outputs": []
    },
    {
     "cell_type": "code",
     "collapsed": false,
     "input": [],
     "language": "python",
     "metadata": {},
     "outputs": []
    },
    {
     "cell_type": "code",
     "collapsed": false,
     "input": [],
     "language": "python",
     "metadata": {},
     "outputs": []
    }
   ],
   "metadata": {}
  }
 ]
}