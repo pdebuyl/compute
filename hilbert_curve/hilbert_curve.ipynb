{
 "metadata": {
  "name": "",
  "signature": "sha256:356f6b56870fe4be5c8ac878700e38628e61b1b420c108fdbc51f077eb317813"
 },
 "nbformat": 3,
 "nbformat_minor": 0,
 "worksheets": [
  {
   "cells": [
    {
     "cell_type": "code",
     "collapsed": false,
     "input": [
      "%matplotlib inline\n",
      "import matplotlib\n",
      "import matplotlib.pyplot as plt\n",
      "import numpy as np\n",
      "import math\n",
      "from collections import deque\n",
      "from mpl_toolkits.mplot3d import Axes3D\n",
      "from __future__ import print_function, division\n",
      "from IPython.display import Image"
     ],
     "language": "python",
     "metadata": {},
     "outputs": []
    },
    {
     "cell_type": "markdown",
     "metadata": {},
     "source": [
      "# Understanding the Hilbert curve\n",
      "\n",
      "**Author:** Pierre de Buyl\n",
      "\n",
      "In this notebook, I review the algorithm by Chris Hamilton and XX to compute\n",
      "Hilbert indices.\n",
      "\n",
      "My motivations (and yours, maybe) are:\n",
      "- Understand the algorithm to implement it in a simulation code.\n",
      "  The point is to sort particles spatially for better memory access.\n",
      "- Provide a full Python-based implementation that can be used for\n",
      "  reference *and* illustration purposes.\n",
      "- Have a clear explanation for later reference.\n",
      "\n",
      "## Bitwise operations\n",
      "\n",
      "I review here the bitwise operations in Python, as they will be used throughout.\n",
      "Only integer numbers are used. We define a word length that corresponds to the\n",
      "dimension of the Hilbert curve."
     ]
    },
    {
     "cell_type": "code",
     "collapsed": false,
     "input": [
      "N = 3\n",
      "\n",
      "def bin_str(i):\n",
      "    \"\"\"Return a string representation of i with N bits.\"\"\"\n",
      "    out = ''\n",
      "    for j in range(N-1,-1,-1):\n",
      "        if (i>>j) & 1 == 1:\n",
      "            out += '1'\n",
      "        else:\n",
      "            out += '0'\n",
      "    return out\n"
     ],
     "language": "python",
     "metadata": {},
     "outputs": []
    },
    {
     "cell_type": "markdown",
     "metadata": {},
     "source": [
      "The function `bin_str` helps to visualize bitwise operations.\n",
      "In Python, the AND, OR and XOR operators are defined and also\n",
      "the bit shifts."
     ]
    },
    {
     "cell_type": "code",
     "collapsed": false,
     "input": [
      "print('AND  ', bin_str(1), '&', bin_str(5), '=', bin_str(1 & 5))\n",
      "print('OR   ', bin_str(1), '|', bin_str(5), '=', bin_str(1 | 5))\n",
      "print('XOR  ', bin_str(1), '^', bin_str(5), '=', bin_str(1 ^ 5))\n",
      "print('shift', bin_str(2), '>> 1  =', bin_str(2 >> 1))\n",
      "print('shift', bin_str(2), '<< 1  =', bin_str(2 << 1))"
     ],
     "language": "python",
     "metadata": {},
     "outputs": []
    },
    {
     "cell_type": "markdown",
     "metadata": {},
     "source": [
      "Next, we define rotation operators and a function to extract the i-th bit from a number."
     ]
    },
    {
     "cell_type": "code",
     "collapsed": false,
     "input": [
      "def rotate_right(x, d):\n",
      "    \"\"\"Rotate x by d bits to the right.\"\"\"\n",
      "    d = d % N\n",
      "    out = x >> d\n",
      "    for i in range(d):\n",
      "        bit = (x & 2**i)>>i\n",
      "        out |= bit << (N+i-d)\n",
      "    return out\n",
      "\n",
      "def rotate_left(x, d):\n",
      "    \"\"\"Rotate x by d bits to the left.\"\"\"\n",
      "    d = d % N\n",
      "    out = x << d\n",
      "    excess = out \n",
      "    out = out & (2**N-1)\n",
      "    for i in range(d):\n",
      "        bit = (x & 2**(N-1-d+1+i))>> (N-1-d+1+i)\n",
      "        out |= bit << i\n",
      "    return out\n",
      "\n",
      "def bit_component(x, i):\n",
      "    \"\"\"Return i-th bit of x\"\"\"\n",
      "    return (x & 2**i) >> i"
     ],
     "language": "python",
     "metadata": {},
     "outputs": []
    },
    {
     "cell_type": "markdown",
     "metadata": {},
     "source": [
      "Apply increasing rotations to the right to the number 1."
     ]
    },
    {
     "cell_type": "code",
     "collapsed": false,
     "input": [
      "print(bin_str(1), bin_str(rotate_right(1, 1)), bin_str(rotate_right(1,2)), bin_str(rotate_right(1,3)))"
     ],
     "language": "python",
     "metadata": {},
     "outputs": []
    },
    {
     "cell_type": "markdown",
     "metadata": {},
     "source": [
      "The technical reports describes with good details all the intermediate steps\n",
      "of the algorithm using binary operations and sequences.\n",
      "The gray code index of a number i, for instance, is given by\n",
      "gc(i) = i XOR (i \u226b 1).\n",
      "\n",
      "To understand the building of the Hilbert curve, other quantities are needed.\n",
      "The graphical representation use arrows in each sub-hypercube of the curve to\n",
      "represent the path.\n",
      "The definitions of the gray curve index and of the arrows is given and we use these\n",
      "defintions to illustrate the Hilbert curve afterwards.\n",
      "\n",
      "The interpretation of gc, e and f below is a binary representation in base N of the\n",
      "vertices of a hypercube (a square for N=2, a cube for N=3, etc).\n",
      "The bits represent the z, y and x coordinates."
     ]
    },
    {
     "cell_type": "code",
     "collapsed": false,
     "input": [
      "# Build all edges of a square and of a cube\n",
      "\n",
      "edges = [((0,),(1,))]\n",
      "\n",
      "def add_edges(edges):\n",
      "    \"\"\"Extend the list of edges from an hypercube to the list of\n",
      "    edges of the hypercube of the next dimension.\"\"\"\n",
      "\n",
      "    old_edges = list(edges)\n",
      "    old_points = set( [x[0] for x in old_edges] ) | set( [x[1] for x in old_edges] )\n",
      "    edges = [ ( (0,)+x[0], (0,)+x[1] ) for x in old_edges ]\n",
      "    edges.extend( [ ( (1,)+x[0], (1,)+x[1] ) for x in old_edges ] )\n",
      "    for e in old_points:\n",
      "        edges.append( ( (0,)+e, (1,)+e) )\n",
      "\n",
      "    return edges\n",
      "\n",
      "square_edges = add_edges(edges)\n",
      "cube_edges = add_edges(square_edges)\n",
      "\n",
      "cube_xyz = []\n",
      "for single_edge in cube_edges:\n",
      "    cube_xyz.append(single_edge[0])\n",
      "    cube_xyz.append(single_edge[1])\n",
      "    # The np.inf value breaks the line plot into disconnected parts\n",
      "    cube_xyz.append((np.inf,)*3)\n",
      "cube_xyz = np.array(cube_xyz)\n",
      "\n",
      "def set_unit_cube(ax):\n",
      "    \"\"\"Present the unit cube.\"\"\"\n",
      "    ax.set_xlabel('x'); ax.set_ylabel('y'); ax.set_zlabel('z');\n",
      "    ax.set_xticks([0,1]); ax.set_yticks([0,1]); ax.set_zticks([0,1]);\n",
      "    ax.set_xlim(0, 1); ax.set_ylim(0,1); ax.set_zlim(0,1);\n",
      "    ax.view_init(10, -67)\n",
      "\n",
      "fig = plt.figure(figsize=(6, 5))\n",
      "ax = fig.add_subplot(111,projection='3d')\n",
      "\n",
      "ax.plot(*zip(*cube_xyz), color='b')\n",
      "\n",
      "for i in range(2**N):\n",
      "    x = bit_component(i, 0)\n",
      "    y = bit_component(i, 1)\n",
      "    z = bit_component(i, 2)\n",
      "    ax.text(x, y+0.05, z+0.05, bin_str(i))\n",
      "\n",
      "set_unit_cube(ax)"
     ],
     "language": "python",
     "metadata": {},
     "outputs": []
    },
    {
     "cell_type": "code",
     "collapsed": false,
     "input": [
      "def gc(i):\n",
      "    \"\"\"Return the Gray code index of i.\"\"\"\n",
      "    return i ^ (i >> 1)\n",
      "\n",
      "def e(i):\n",
      "    \"\"\"Return the entry point of hypercube i.\"\"\"\n",
      "    if i==0:\n",
      "        return 0\n",
      "    else:\n",
      "        return gc(2*int(math.floor((i-1)//2)))\n",
      "\n",
      "def f(i):\n",
      "    \"\"\"Return the exit point of hypercube i.\"\"\"\n",
      "    return e(2**N-1-i) ^ 2**(N-1)\n"
     ],
     "language": "python",
     "metadata": {},
     "outputs": []
    },
    {
     "cell_type": "code",
     "collapsed": false,
     "input": [
      "print('Gray code', map(lambda i: (gc(i), bin_str(gc(i))), range(2**N)),\n",
      "      'Entry point', map(lambda i: (e(i), bin_str(e(i))), range(2**N)),\n",
      "      'Exit point', map(lambda i: (f(i), bin_str(f(i))), range(2**N)),\n",
      "      sep='\\n')"
     ],
     "language": "python",
     "metadata": {},
     "outputs": []
    },
    {
     "cell_type": "markdown",
     "metadata": {},
     "source": [
      "## Visiting the Hilbert curve in the cube\n",
      "\n",
      "To observe the Hilbert curve without recursion, we can simply build the curve from\n",
      "the function `gc`. The resulting representation then has to be converted to x, y, z\n",
      "coordinates by extracting the relevant bits.\n",
      "The curve actually visits the edges of the cube. To visit the origin (most low, left\n",
      "and front point) of the subcubes, the coordinates are scaled by 1/2.\n",
      "As we now have the origin of all sub-cubes, we can draw also the lines connecting\n",
      "the entry points `e` and exit points `f` that are used in TR to visit space.\n",
      "\n",
      "The figures below show the Hilbert curve"
     ]
    },
    {
     "cell_type": "code",
     "collapsed": false,
     "input": [
      "\n",
      "# Use gc to build the Hilbert curve\n",
      "xyz = np.array(map(lambda i: (bit_component(gc(i), 0), bit_component(gc(i), 1), bit_component(gc(i), 2)), range(2**N)))/2\n",
      "# Inner coordinates for the entry and exit points\n",
      "# The coordinates are scaled by 1/2 to fit in a subcube\n",
      "e_xyz = np.array(map(lambda i: (bit_component(e(i), 0), bit_component(e(i), 1), bit_component(e(i), 2)), range(2**N)))/2\n",
      "f_xyz = np.array(map(lambda i: (bit_component(f(i), 0), bit_component(f(i), 1), bit_component(f(i), 2)), range(2**N)))/2\n",
      "\n",
      "fig = plt.figure(figsize=(12, 12))\n",
      "\n",
      "edges = []\n",
      "for e_point, f_point, origin in zip(e_xyz, f_xyz, xyz):\n",
      "    edges.append(origin+e_point)\n",
      "    edges.append(origin+f_point)\n",
      "    edges.append((np.inf,)*3)\n",
      "\n",
      "ax1 = fig.add_subplot(221,projection='3d')\n",
      "ax1.plot(*zip(*edges))\n",
      "ax1.set_title('The Hilbert curve')\n",
      "\n",
      "ax2 = fig.add_subplot(222,projection='3d')\n",
      "ax2.scatter(*zip( *(xyz+ e_xyz)), marker='o', color='r')\n",
      "ax2.set_title('Entry points')\n",
      "\n",
      "ax3 = fig.add_subplot(223,projection='3d')\n",
      "ax3.scatter(*zip( *(xyz+ f_xyz)), marker='*')\n",
      "ax3.set_title('Exit points')\n",
      "\n",
      "edges = []\n",
      "for e_point, f_point, origin in zip(e_xyz, f_xyz, xyz):\n",
      "    dir = (f_point-e_point)\n",
      "    # For the 3d quiver plot, the origin of the arrow is shifted\n",
      "    # which is why we use origin+e_point+dir instead of origin+e_point\n",
      "    edges.append(np.concatenate((origin+e_point+dir, dir)))\n",
      "\n",
      "ax4 = fig.add_subplot(224,projection='3d')\n",
      "ax4.quiver(*zip(*edges), length=0.5)\n",
      "ax4.set_title('Arrows to visit the Hilbert curve')\n",
      "\n",
      "for ax in [ax1, ax2, ax3, ax4]:\n",
      "    ax.plot(*zip(*cube_xyz), color='k', zorder=1, alpha=0.5)\n",
      "    set_unit_cube(ax)"
     ],
     "language": "python",
     "metadata": {},
     "outputs": []
    },
    {
     "cell_type": "markdown",
     "metadata": {},
     "source": [
      "## Define the curve directions and transforms\n",
      "\n",
      "To write the Hilbert curve algorithm, we still need to define\n",
      "the inter-subcube direction `g` and the intra-subcube direction `d`\n",
      "(the direction of the arrow that connect `e` and `f`)."
     ]
    },
    {
     "cell_type": "code",
     "collapsed": false,
     "input": [
      "def inverse_gc(g):\n",
      "    \"\"\"The inverse gray code.\"\"\"\n",
      "    i = g\n",
      "    j = 1\n",
      "    while j<N:\n",
      "        i = i ^ (g >> j)\n",
      "        j = j + 1\n",
      "    return i\n",
      "\n",
      "def g(i):\n",
      "    \"\"\"The direction between subcube i and the next one\"\"\"\n",
      "    return int(np.log2(gc(i)^gc(i+1)))\n",
      "\n",
      "\n",
      "def d(i):\n",
      "    \"\"\"The direction of the arrow whithin a subcube.\"\"\"\n",
      "    if i==0:\n",
      "        return 0\n",
      "    elif (i%2)==0:\n",
      "        return g(i-1) % N\n",
      "    else:\n",
      "        return g(i) % N\n",
      "\n",
      "def T(e, d, b):\n",
      "    \"\"\"Transform b.\"\"\"\n",
      "    out = b ^ e\n",
      "    return rotate_right(out, d+1)\n",
      "\n",
      "def T_inv(e, d, b):\n",
      "    \"\"\"Inverse transform b.\"\"\"\n",
      "    return T(rotate_right(e, d+1), N-d-2, b)\n"
     ],
     "language": "python",
     "metadata": {},
     "outputs": []
    },
    {
     "cell_type": "code",
     "collapsed": false,
     "input": [
      "for i in range(2**N):\n",
      "    print(i, gc(i), gc_inverse(gc(i)))"
     ],
     "language": "python",
     "metadata": {},
     "outputs": []
    },
    {
     "cell_type": "code",
     "collapsed": false,
     "input": [],
     "language": "python",
     "metadata": {},
     "outputs": []
    },
    {
     "cell_type": "code",
     "collapsed": false,
     "input": [],
     "language": "python",
     "metadata": {},
     "outputs": []
    },
    {
     "cell_type": "code",
     "collapsed": false,
     "input": [],
     "language": "python",
     "metadata": {},
     "outputs": []
    },
    {
     "cell_type": "code",
     "collapsed": false,
     "input": [
      "for i in range(2**N):\n",
      "    print(i, bin_str(i), '|', gc(i), bin_str(gc(i)))"
     ],
     "language": "python",
     "metadata": {},
     "outputs": []
    },
    {
     "cell_type": "code",
     "collapsed": false,
     "input": [
      "for i in range(2**N):\n",
      "    print(bin_str(i), bin_str(rotate_right(i, 1)))"
     ],
     "language": "python",
     "metadata": {},
     "outputs": []
    },
    {
     "cell_type": "code",
     "collapsed": false,
     "input": [
      "for i in range(2**N):\n",
      "    print(bin_str(i), bin_str(rotate_left(i, 1)))"
     ],
     "language": "python",
     "metadata": {},
     "outputs": []
    },
    {
     "cell_type": "code",
     "collapsed": false,
     "input": [
      "EFD = {}\n",
      "EFD[2] = ((0, 1, 0), (0, 2, 1), (0, 2, 1), (3, 2, 0))\n",
      "EFD[3] = ((0, 1, 0), (0, 2, 1), (0, 2, 1), (3, 7, 2), (3, 7, 2), (6, 4, 1), (6, 4, 1), (5, 4, 0))\n",
      "\n",
      "W = {}\n",
      "W[2] = (0, 1, 3, 2)\n",
      "W[3] = (0, 1, 3, 2, 7, 6, 4, 5)\n"
     ],
     "language": "python",
     "metadata": {},
     "outputs": []
    },
    {
     "cell_type": "code",
     "collapsed": false,
     "input": [
      "print(map(gc, range(2**N)))\n",
      "print(map(e, range(2**N)))\n",
      "print(map(f, range(2**N)))\n",
      "print(map(g, range(2**N)))\n",
      "print(map(d, range(2**N)))"
     ],
     "language": "python",
     "metadata": {},
     "outputs": []
    },
    {
     "cell_type": "code",
     "collapsed": false,
     "input": [
      "print(N)\n",
      "for eee, fff, ddd in EFD[N]:\n",
      "    print(eee, ddd, fff, T(eee, ddd, fff), T(eee, ddd, eee))"
     ],
     "language": "python",
     "metadata": {},
     "outputs": []
    },
    {
     "cell_type": "code",
     "collapsed": false,
     "input": [],
     "language": "python",
     "metadata": {},
     "outputs": []
    },
    {
     "cell_type": "code",
     "collapsed": false,
     "input": [],
     "language": "python",
     "metadata": {},
     "outputs": []
    },
    {
     "cell_type": "code",
     "collapsed": false,
     "input": [
      "for i in range(2**N):\n",
      "    print(i, bin_str(i), '|', rotate_right(i, 1), bin_str(rotate_right(i, 1)))"
     ],
     "language": "python",
     "metadata": {},
     "outputs": []
    },
    {
     "cell_type": "code",
     "collapsed": false,
     "input": [
      "def fffff(x, d):\n",
      "    d = d % N\n",
      "    out = x >> d\n",
      "    print('d', d, 'out', out)\n",
      "    for i in range(d):\n",
      "        bit = (x & 2**i)>>i\n",
      "        print('i', i, 'bit', bit, 'shifted', bit << (N-i-1))\n",
      "        out |= bit << (N+i-d)\n",
      "    return out\n"
     ],
     "language": "python",
     "metadata": {},
     "outputs": []
    },
    {
     "cell_type": "code",
     "collapsed": false,
     "input": [],
     "language": "python",
     "metadata": {},
     "outputs": []
    },
    {
     "cell_type": "code",
     "collapsed": false,
     "input": [],
     "language": "python",
     "metadata": {},
     "outputs": []
    },
    {
     "cell_type": "code",
     "collapsed": false,
     "input": [],
     "language": "python",
     "metadata": {},
     "outputs": []
    },
    {
     "cell_type": "code",
     "collapsed": false,
     "input": [],
     "language": "python",
     "metadata": {},
     "outputs": []
    },
    {
     "cell_type": "code",
     "collapsed": false,
     "input": [
      "M = 2\n",
      "def algo1(p):\n",
      "    h = ve = 0\n",
      "    vd = 0\n",
      "    for i in range(M-1, -1, -1):\n",
      "        l = [bit_component(px, i) for px in p[::-1]]\n",
      "        #print(i, l, h, ve, vd)\n",
      "        l = sum( [lx*2**j for j, lx in enumerate(l)] )\n",
      "        #print(i, l, bin_str(l))\n",
      "        l = T(ve, vd, l)\n",
      "        #print(i, l, bin_str(l), gc_inverse(l))\n",
      "        w = gc_inverse(l)\n",
      "        ve = ve ^ (rotate_left(e(w), vd+1))\n",
      "        vd = (vd + d(w) + 1) % N\n",
      "        h = (h << N) | w\n",
      "    return h\n",
      "\n",
      "\n",
      "def algo2(h):\n",
      "    ve = vd = 0\n",
      "    p = [0]*N\n",
      "    for i in range(M-1, -1, -1):\n",
      "        w = [bit_component(h, i*N+ii) for ii in range(N-1,-1,-1)]\n",
      "        #print(i, w)\n",
      "        w = sum( [wx*2**j for j, wx in enumerate(w)] )\n",
      "        #print(i, w, gc(w))\n",
      "        l = gc(w)\n",
      "        l = T_inv(ve, vd, l)\n",
      "        for j in range(N):\n",
      "            p[j] += bit_component(l, j) << i\n",
      "        ve = ve ^ rotate_left(e(w), vd+1)\n",
      "        vd = (vd + d(w) + 1) % N\n",
      "    return p"
     ],
     "language": "python",
     "metadata": {},
     "outputs": []
    },
    {
     "cell_type": "code",
     "collapsed": false,
     "input": [
      "print(algo1([0, 0, 2]))\n",
      "print(algo2(60))"
     ],
     "language": "python",
     "metadata": {},
     "outputs": []
    },
    {
     "cell_type": "code",
     "collapsed": false,
     "input": [
      "for i in [0,1]:\n",
      "    for j in [2,3]:\n",
      "        for k in [0,1]:\n",
      "            print((i,j,k), algo1((i,j,k)))"
     ],
     "language": "python",
     "metadata": {},
     "outputs": []
    },
    {
     "cell_type": "code",
     "collapsed": false,
     "input": [
      "gc(0)"
     ],
     "language": "python",
     "metadata": {},
     "outputs": []
    },
    {
     "cell_type": "code",
     "collapsed": false,
     "input": [],
     "language": "python",
     "metadata": {},
     "outputs": []
    },
    {
     "cell_type": "code",
     "collapsed": false,
     "input": [],
     "language": "python",
     "metadata": {},
     "outputs": []
    },
    {
     "cell_type": "code",
     "collapsed": false,
     "input": [],
     "language": "python",
     "metadata": {},
     "outputs": []
    },
    {
     "cell_type": "code",
     "collapsed": false,
     "input": [],
     "language": "python",
     "metadata": {},
     "outputs": []
    },
    {
     "cell_type": "code",
     "collapsed": false,
     "input": [],
     "language": "python",
     "metadata": {},
     "outputs": []
    },
    {
     "cell_type": "code",
     "collapsed": false,
     "input": [],
     "language": "python",
     "metadata": {},
     "outputs": []
    },
    {
     "cell_type": "code",
     "collapsed": false,
     "input": [],
     "language": "python",
     "metadata": {},
     "outputs": []
    }
   ],
   "metadata": {}
  }
 ]
}