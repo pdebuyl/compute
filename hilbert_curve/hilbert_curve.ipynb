{
 "metadata": {
  "name": "",
  "signature": "sha256:bb65ecb9d1c64f1419d9c8edf2865960744b7fc8c2a7ca6ed133af2bf74f7a97"
 },
 "nbformat": 3,
 "nbformat_minor": 0,
 "worksheets": [
  {
   "cells": [
    {
     "cell_type": "code",
     "collapsed": false,
     "input": [
      "%pylab inline\n",
      "from collections import deque\n",
      "from mpl_toolkits.mplot3d import Axes3D\n",
      "from __future__ import print_function, division"
     ],
     "language": "python",
     "metadata": {},
     "outputs": []
    },
    {
     "cell_type": "markdown",
     "metadata": {},
     "source": [
      "# Understanding the Hilbert curve\n",
      "\n",
      "**Author:** Pierre de Buyl\n",
      "\n",
      "In this notebook, I review the algorithm by Chris Hamilton and XX to compute\n",
      "Hilbert indices.\n",
      "\n",
      "## Bitwise operations\n",
      "\n",
      "I review here the bitwise operations in Python, as they will be used throughout.\n",
      "Only integer numbers are used. We define a word length that corresponds to the\n",
      "dimension of the Hilbert curve."
     ]
    },
    {
     "cell_type": "code",
     "collapsed": false,
     "input": [
      "N = 3\n",
      "\n",
      "def bin_str(i):\n",
      "    \"\"\"Return a string representation of i with N bits.\"\"\"\n",
      "    out = ''\n",
      "    for j in range(N-1,-1,-1):\n",
      "        if (i>>j) & 1 == 1:\n",
      "            out += '1'\n",
      "        else:\n",
      "            out += '0'\n",
      "    return out\n"
     ],
     "language": "python",
     "metadata": {},
     "outputs": []
    },
    {
     "cell_type": "markdown",
     "metadata": {},
     "source": [
      "The function `bin_str` helps to visualize bitwise operations.\n",
      "In Python, the AND, OR and XOR operators are defined and also\n",
      "the bit shifts."
     ]
    },
    {
     "cell_type": "code",
     "collapsed": false,
     "input": [
      "print('AND  ', bin_str(1), '&', bin_str(5), '=', bin_str(1 & 5))\n",
      "print('OR   ', bin_str(1), '|', bin_str(5), '=', bin_str(1 | 5))\n",
      "print('XOR  ', bin_str(1), '^', bin_str(5), '=', bin_str(1 ^ 5))\n",
      "print('shift', bin_str(2), '>> 1  =', bin_str(2 >> 1))\n",
      "print('shift', bin_str(2), '<< 1  =', bin_str(2 << 1))"
     ],
     "language": "python",
     "metadata": {},
     "outputs": []
    },
    {
     "cell_type": "markdown",
     "metadata": {},
     "source": [
      "Next, we define rotation operators and a function to extract the i-th bit from a number."
     ]
    },
    {
     "cell_type": "code",
     "collapsed": false,
     "input": [
      "def rotate_right(x, d):\n",
      "    \"\"\"Rotate x by d bits to the right.\"\"\"\n",
      "    d = d % N\n",
      "    out = x >> d\n",
      "    for i in range(d):\n",
      "        bit = (x & 2**i)>>i\n",
      "        out |= bit << (N+i-d)\n",
      "    return out\n",
      "\n",
      "def rotate_left(x, d):\n",
      "    \"\"\"Rotate x by d bits to the left.\"\"\"\n",
      "    d = d % N\n",
      "    out = x << d\n",
      "    excess = out \n",
      "    out = out & (2**N-1)\n",
      "    for i in range(d):\n",
      "        bit = (x & 2**(N-1-d+1+i))>> (N-1-d+1+i)\n",
      "        out |= bit << i\n",
      "    return out\n",
      "\n",
      "def bit_component(x, i):\n",
      "    \"\"\"Return i-th bit of x\"\"\"\n",
      "    return (x & 2**i) >> i"
     ],
     "language": "python",
     "metadata": {},
     "outputs": []
    },
    {
     "cell_type": "markdown",
     "metadata": {},
     "source": [
      "Apply increasing rotations to the right to the number 1."
     ]
    },
    {
     "cell_type": "code",
     "collapsed": false,
     "input": [
      "print(bin_str(1), bin_str(rotate_right(1, 1)), bin_str(rotate_right(1,2)), bin_str(rotate_right(1,3)))"
     ],
     "language": "python",
     "metadata": {},
     "outputs": []
    },
    {
     "cell_type": "code",
     "collapsed": false,
     "input": [],
     "language": "python",
     "metadata": {},
     "outputs": []
    },
    {
     "cell_type": "code",
     "collapsed": false,
     "input": [],
     "language": "python",
     "metadata": {},
     "outputs": []
    },
    {
     "cell_type": "code",
     "collapsed": false,
     "input": [
      "\n",
      "d = 0\n",
      "s = list(g0)\n",
      "i = g0[0]\n",
      "for j in s:\n",
      "    print(i,j, d)\n",
      "    d = (d + 1) % 2\n",
      "i = g0[1]\n",
      "s.reverse()\n",
      "for j in s:\n",
      "    print(i,j, d)\n",
      "    d = (d + 1) % 2\n",
      "\n"
     ],
     "language": "python",
     "metadata": {},
     "outputs": []
    },
    {
     "cell_type": "code",
     "collapsed": false,
     "input": [
      "\n",
      "s = list(g0)\n",
      "\n",
      "s = [(0,), (1,)]\n",
      "dlist = [0,1]\n",
      "d0 = [0,1]"
     ],
     "language": "python",
     "metadata": {},
     "outputs": []
    },
    {
     "cell_type": "code",
     "collapsed": false,
     "input": [
      "def gcurve(t, d, D):\n",
      "    out = []\n",
      "    d_out = []\n",
      "    for i in s:\n",
      "        for j, k in zip(t, d):\n",
      "            print(i,j,k)\n",
      "            out.append(i+j)\n",
      "            d_out.append(k)\n",
      "        t.reverse()\n",
      "        d_out[-1] = D-1\n",
      "    return out, d_out"
     ],
     "language": "python",
     "metadata": {},
     "outputs": []
    },
    {
     "cell_type": "code",
     "collapsed": false,
     "input": [
      "c, d = gcurve([(0,),(1,)], [0,1], 2)\n",
      "\n",
      "gcurve(c, d, 3)"
     ],
     "language": "python",
     "metadata": {},
     "outputs": []
    },
    {
     "cell_type": "code",
     "collapsed": false,
     "input": [],
     "language": "python",
     "metadata": {},
     "outputs": []
    },
    {
     "cell_type": "code",
     "collapsed": false,
     "input": [],
     "language": "python",
     "metadata": {},
     "outputs": []
    },
    {
     "cell_type": "code",
     "collapsed": false,
     "input": [
      "fig = plt.figure(figsize=(10,10))\n",
      "ax = fig.gca(projection='3d')\n",
      "\n",
      "pts, d_pts = gcurve(c, d, 3)\n",
      "pts = [i[::-1] for i in pts]\n",
      "\n",
      "ax.plot(*zip(*pts));\n",
      "\n",
      "ax.set_xlabel('x'); ax.set_ylabel('y'); ax.set_zlabel('z');\n",
      "plt.savefig('h3d.pdf')"
     ],
     "language": "python",
     "metadata": {},
     "outputs": []
    },
    {
     "cell_type": "code",
     "collapsed": false,
     "input": [
      "\n",
      "l1 = [0, 1, 2]\n",
      "l2 = [10, 100, 1000]\n",
      "\n",
      "for i, j in zip(l1,l2):\n",
      "    print(i,j)\n",
      "\n"
     ],
     "language": "python",
     "metadata": {},
     "outputs": []
    },
    {
     "cell_type": "code",
     "collapsed": false,
     "input": [],
     "language": "python",
     "metadata": {},
     "outputs": []
    },
    {
     "cell_type": "code",
     "collapsed": false,
     "input": [
      "N = 3\n",
      "\n",
      "def gc(i):\n",
      "    return i ^ (i >> 1)\n",
      "\n",
      "def gc_inverse(p):\n",
      "    return (0, 1, 3, 2, 7, 6, 4, 5)[p]\n",
      "\n",
      "\n",
      "def g(i):\n",
      "    return int(np.log2(gc(i)^gc(i+1)))\n",
      "\n",
      "def e(i):\n",
      "    if i==0:\n",
      "        return 0\n",
      "    else:\n",
      "        return gc(2*int(math.floor((i-1)//2)))\n",
      "\n",
      "def f(i):\n",
      "    return e(2**N-1-i) ^ 2**(N-1)\n",
      "\n",
      "def d(i):\n",
      "    if i==0:\n",
      "        return 0\n",
      "    elif (i%2)==0:\n",
      "        return g(i-1) % N\n",
      "    else:\n",
      "        return g(i) % N\n",
      "\n",
      "def d(i):\n",
      "    return int(np.log2(e(i)^f(i)))\n",
      "\n",
      "\n",
      "def T(e, d, b):\n",
      "    out = b ^ e\n",
      "    return rotate_right(out, d+1)\n",
      "\n",
      "def T_inv(e, d, b):\n",
      "    return T(rotate_right(e, d+1), N-d-1, b)\n",
      "\n"
     ],
     "language": "python",
     "metadata": {},
     "outputs": []
    },
    {
     "cell_type": "code",
     "collapsed": false,
     "input": [
      "for i in range(2**N):\n",
      "    print(i, gc(i), gc_inverse(gc(i)))"
     ],
     "language": "python",
     "metadata": {},
     "outputs": []
    },
    {
     "cell_type": "code",
     "collapsed": false,
     "input": [],
     "language": "python",
     "metadata": {},
     "outputs": []
    },
    {
     "cell_type": "code",
     "collapsed": false,
     "input": [],
     "language": "python",
     "metadata": {},
     "outputs": []
    },
    {
     "cell_type": "code",
     "collapsed": false,
     "input": [],
     "language": "python",
     "metadata": {},
     "outputs": []
    },
    {
     "cell_type": "code",
     "collapsed": false,
     "input": [
      "for i in range(2**N):\n",
      "    print(i, bin_str(i), '|', gc(i), bin_str(gc(i)))"
     ],
     "language": "python",
     "metadata": {},
     "outputs": []
    },
    {
     "cell_type": "code",
     "collapsed": false,
     "input": [
      "for i in range(2**N):\n",
      "    print(bin_str(i), bin_str(rotate_right(i, 1)))"
     ],
     "language": "python",
     "metadata": {},
     "outputs": []
    },
    {
     "cell_type": "code",
     "collapsed": false,
     "input": [
      "for i in range(2**N):\n",
      "    print(bin_str(i), bin_str(rotate_left(i, 1)))"
     ],
     "language": "python",
     "metadata": {},
     "outputs": []
    },
    {
     "cell_type": "code",
     "collapsed": false,
     "input": [
      "EFD = {}\n",
      "EFD[2] = ((0, 1, 0), (0, 2, 1), (0, 2, 1), (3, 2, 0))\n",
      "EFD[3] = ((0, 1, 0), (0, 2, 1), (0, 2, 1), (3, 7, 2), (3, 7, 2), (6, 4, 1), (6, 4, 1), (5, 4, 0))\n",
      "\n",
      "W = {}\n",
      "W[2] = (0, 1, 3, 2)\n",
      "W[3] = (0, 1, 3, 2, 7, 6, 4, 5)\n"
     ],
     "language": "python",
     "metadata": {},
     "outputs": []
    },
    {
     "cell_type": "code",
     "collapsed": false,
     "input": [
      "print(map(gc, range(2**N)))\n",
      "print(map(e, range(2**N)))\n",
      "print(map(f, range(2**N)))\n",
      "print(map(g, range(2**N)))\n",
      "print(map(d, range(2**N)))"
     ],
     "language": "python",
     "metadata": {},
     "outputs": []
    },
    {
     "cell_type": "code",
     "collapsed": false,
     "input": [
      "print(N)\n",
      "for eee, fff, ddd in EFD[N]:\n",
      "    print(eee, ddd, fff, T(eee, ddd, fff), T(eee, ddd, eee))"
     ],
     "language": "python",
     "metadata": {},
     "outputs": []
    },
    {
     "cell_type": "code",
     "collapsed": false,
     "input": [],
     "language": "python",
     "metadata": {},
     "outputs": []
    },
    {
     "cell_type": "code",
     "collapsed": false,
     "input": [],
     "language": "python",
     "metadata": {},
     "outputs": []
    },
    {
     "cell_type": "code",
     "collapsed": false,
     "input": [
      "for i in range(2**N):\n",
      "    print(i, bin_str(i), '|', rotate_right(i, 1), bin_str(rotate_right(i, 1)))"
     ],
     "language": "python",
     "metadata": {},
     "outputs": []
    },
    {
     "cell_type": "code",
     "collapsed": false,
     "input": [
      "def fffff(x, d):\n",
      "    d = d % N\n",
      "    out = x >> d\n",
      "    print('d', d, 'out', out)\n",
      "    for i in range(d):\n",
      "        bit = (x & 2**i)>>i\n",
      "        print('i', i, 'bit', bit, 'shifted', bit << (N-i-1))\n",
      "        out |= bit << (N+i-d)\n",
      "    return out\n"
     ],
     "language": "python",
     "metadata": {},
     "outputs": []
    },
    {
     "cell_type": "code",
     "collapsed": false,
     "input": [
      "f(2, 2)"
     ],
     "language": "python",
     "metadata": {},
     "outputs": []
    },
    {
     "cell_type": "code",
     "collapsed": false,
     "input": [
      "bin_str(2)"
     ],
     "language": "python",
     "metadata": {},
     "outputs": []
    },
    {
     "cell_type": "code",
     "collapsed": false,
     "input": [
      "bin_str(f(2,2))"
     ],
     "language": "python",
     "metadata": {},
     "outputs": []
    },
    {
     "cell_type": "code",
     "collapsed": false,
     "input": [],
     "language": "python",
     "metadata": {},
     "outputs": []
    },
    {
     "cell_type": "code",
     "collapsed": false,
     "input": [
      "M = 2\n",
      "def algo1(p):\n",
      "    h = ve = 0\n",
      "    vd = 0\n",
      "    for i in range(M-1, -1, -1):\n",
      "        l = [bit_component(px, i) for px in p[::-1]]\n",
      "        #print(i, l, h, ve, vd)\n",
      "        l = sum( [lx*2**j for j, lx in enumerate(l)] )\n",
      "        #print(i, l, bin_str(l))\n",
      "        l = T(ve, vd, l)\n",
      "        #print(i, l, bin_str(l), gc_inverse(l))\n",
      "        w = gc_inverse(l)\n",
      "        ve = ve ^ (rotate_left(e(w), vd+1))\n",
      "        vd = (vd + d(w) + 1) % N\n",
      "        h = (h << N) | w\n",
      "    return h\n",
      "\n",
      "\n",
      "def algo2(h):\n",
      "    ve = vd = 0\n",
      "    p = [0]*N\n",
      "    for i in range(M-1, -1, -1):\n",
      "        w = [bit_component(h, i*N+ii) for ii in range(N-1,-1,-1)]\n",
      "        #print(i, w)\n",
      "        w = sum( [wx*2**j for j, wx in enumerate(w)] )\n",
      "        #print(i, w, gc(w))\n",
      "        l = gc(w)\n",
      "        l = T_inv(ve, vd, l)\n",
      "        for j in range(N):\n",
      "            p[j] += bit_component(l, j) << i\n",
      "        ve = ve ^ rotate_left(e(w), vd+1)\n",
      "        vd = (vd + d(w) + 1) % N\n",
      "    return p"
     ],
     "language": "python",
     "metadata": {},
     "outputs": []
    },
    {
     "cell_type": "code",
     "collapsed": false,
     "input": [
      "print(algo1([0, 0, 2]))\n",
      "print(algo2(60))"
     ],
     "language": "python",
     "metadata": {},
     "outputs": []
    },
    {
     "cell_type": "code",
     "collapsed": false,
     "input": [
      "for i in [0,1]:\n",
      "    for j in [2,3]:\n",
      "        for k in [0,1]:\n",
      "            print((i,j,k), algo1((i,j,k)))"
     ],
     "language": "python",
     "metadata": {},
     "outputs": []
    },
    {
     "cell_type": "code",
     "collapsed": false,
     "input": [
      "gc(0)"
     ],
     "language": "python",
     "metadata": {},
     "outputs": []
    },
    {
     "cell_type": "code",
     "collapsed": false,
     "input": [
      "range(N-1,-1,-1)"
     ],
     "language": "python",
     "metadata": {},
     "outputs": []
    },
    {
     "cell_type": "code",
     "collapsed": false,
     "input": [
      "import h5py"
     ],
     "language": "python",
     "metadata": {},
     "outputs": []
    },
    {
     "cell_type": "code",
     "collapsed": false,
     "input": [
      "ref = h5py.File('/home/pierre/tmp-soft/nano-dimer/test/hilbert_2x2x2.h5', 'r')['value'][...]"
     ],
     "language": "python",
     "metadata": {},
     "outputs": []
    },
    {
     "cell_type": "code",
     "collapsed": false,
     "input": [
      "ref.shape"
     ],
     "language": "python",
     "metadata": {},
     "outputs": []
    },
    {
     "cell_type": "code",
     "collapsed": false,
     "input": [
      "for i in range(4):\n",
      "    for j in range(4):\n",
      "        for k in range(4):\n",
      "            h_idx = algo1((i,j,k))\n",
      "            assert(np.allclose( ref[h_idx], np.array([i,j,k])))"
     ],
     "language": "python",
     "metadata": {},
     "outputs": []
    },
    {
     "cell_type": "code",
     "collapsed": false,
     "input": [],
     "language": "python",
     "metadata": {},
     "outputs": []
    }
   ],
   "metadata": {}
  }
 ]
}