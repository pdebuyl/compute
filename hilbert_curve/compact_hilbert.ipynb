{
 "cells": [
  {
   "cell_type": "code",
   "execution_count": null,
   "metadata": {
    "collapsed": true
   },
   "outputs": [],
   "source": [
    "%matplotlib inline\n",
    "import matplotlib\n",
    "import matplotlib.pyplot as plt\n",
    "import numpy as np\n",
    "import math\n",
    "from mpl_toolkits.mplot3d import Axes3D\n",
    "from __future__ import print_function, division"
   ]
  },
  {
   "cell_type": "code",
   "execution_count": null,
   "metadata": {
    "collapsed": false
   },
   "outputs": [],
   "source": [
    "N = 3\n",
    "def s_to_i(s):\n",
    "    return sum([2**i * int(b) for i, b in enumerate(s[::-1])])\n",
    "\n",
    "def bin_str(i):\n",
    "    \"\"\"Return a string representation of i with N bits.\"\"\"\n",
    "    out = ''\n",
    "    for j in range(N-1,-1,-1):\n",
    "        if (i>>j) & 1 == 1:\n",
    "            out += '1'\n",
    "        else:\n",
    "            out += '0'\n",
    "    return out\n",
    "\n",
    "def gc(i):\n",
    "    \"\"\"Return the Gray code index of i.\"\"\"\n",
    "    return i ^ (i >> 1)\n",
    "\n",
    "def bit_component(x, i):\n",
    "    \"\"\"Return i-th bit of x\"\"\"\n",
    "    return (x & 2**i) >> i\n",
    "\n",
    "def rotate_right(x, d):\n",
    "    \"\"\"Rotate x by d bits to the right.\"\"\"\n",
    "    d = d % N\n",
    "    out = x >> d\n",
    "    for i in range(d):\n",
    "        bit = (x & 2**i)>>i\n",
    "        out |= bit << (N+i-d)\n",
    "    return out\n",
    "\n",
    "def rotate_left(x, d):\n",
    "    \"\"\"Rotate x by d bits to the left.\"\"\"\n",
    "    d = d % N\n",
    "    out = x << d\n",
    "    excess = out \n",
    "    out = out & (2**N-1)\n",
    "    for i in range(d):\n",
    "        bit = (x & 2**(N-1-d+1+i))>> (N-1-d+1+i)\n",
    "        out |= bit << i\n",
    "    return out\n",
    "\n",
    "def T(e, d, b):\n",
    "    \"\"\"Transform b.\"\"\"\n",
    "    out = b ^ e\n",
    "    return rotate_right(out, d+1)\n",
    "\n",
    "def T_inv(e, d, b):\n",
    "    \"\"\"Inverse transform b.\"\"\"\n",
    "    return T(rotate_right(e, d+1), N-d-2, b)\n",
    "\n",
    "\n",
    "mask = s_to_i('010110')\n",
    "pi = s_to_i('001000')"
   ]
  },
  {
   "cell_type": "code",
   "execution_count": null,
   "metadata": {
    "collapsed": false
   },
   "outputs": [],
   "source": [
    "print(mask, pi)"
   ]
  },
  {
   "cell_type": "code",
   "execution_count": null,
   "metadata": {
    "collapsed": false
   },
   "outputs": [],
   "source": [
    "for i in [15, 12, 8, 11, 16, 19, 23, 20]:\n",
    "    print(i, gc(i), gcr(i), gcr_inv(gcr(i)))"
   ]
  },
  {
   "cell_type": "code",
   "execution_count": null,
   "metadata": {
    "collapsed": false
   },
   "outputs": [],
   "source": [
    "def g(i):\n",
    "    \"\"\"The direction between subcube i and the next one\"\"\"\n",
    "    return int(np.log2(gc(i)^gc(i+1)))\n",
    "\n",
    "\n",
    "def d(i):\n",
    "    \"\"\"The direction of the arrow whithin a subcube.\"\"\"\n",
    "    if i==0:\n",
    "        return 0\n",
    "    elif (i%2)==0:\n",
    "        return g(i-1) % N\n",
    "    else:\n",
    "        return g(i) % N\n",
    "\n",
    "def e(i):\n",
    "    \"\"\"Return the entry point of hypercube i.\"\"\"\n",
    "    if i==0:\n",
    "        return 0\n",
    "    else:\n",
    "        return gc(2*int(math.floor((i-1)//2)))\n",
    "\n",
    "def f(i):\n",
    "    \"\"\"Return the exit point of hypercube i.\"\"\"\n",
    "    return e(2**N-1-i) ^ 2**(N-1)\n",
    "\n",
    "def i_to_p(i):\n",
    "    \"\"\"Extract the 3d position from a 3-bit integer.\"\"\"\n",
    "    return [bit_component(i,j) for j in (0,1,2)]\n",
    "\n",
    "def inverse_gc(g):\n",
    "    \"\"\"The inverse gray code.\"\"\"\n",
    "    i = g\n",
    "    j = 1\n",
    "    while j<N:\n",
    "        i = i ^ (g >> j)\n",
    "        j = j + 1\n",
    "    return i\n",
    "\n",
    "def gcr(i, mu, pi):\n",
    "    r = 0\n",
    "    for k in range(N-1, -1, -1):\n",
    "        if bit_component(mu, k):\n",
    "            r = (r << 1) | bit_component(i, k)\n",
    "    return r\n",
    "\n",
    "def gcr_inv(r, mu, pi):\n",
    "    i = 0\n",
    "    g = 0\n",
    "    j = sum([bit_component(mu, k) for k in range(N)])-1\n",
    "    for k in range(N-1, -1, -1):\n",
    "        if bit_component(mu, k)==1:\n",
    "            i |= bit_component(r, j) << k\n",
    "            g |= ( (bit_component(i, k) + bit_component(i, k+1))%2 ) << k\n",
    "            j -= 1\n",
    "        else:\n",
    "            g |= bit_component(pi, k) << k\n",
    "            i |= ( (bit_component(g, k) + bit_component(i, k+1)) % 2) << k\n",
    "    return i\n",
    "\n",
    "M = [3, 4, 4]\n",
    "\n",
    "def extract_mask(i):\n",
    "    mu = 0\n",
    "    for j in range(N-1, -1, -1):\n",
    "        mu = mu << 1\n",
    "        if M[j] > i:\n",
    "            mu = mu | 1\n",
    "    return mu\n",
    "\n",
    "def TR_algo7(p):\n",
    "    h = 0\n",
    "    ve = 0\n",
    "    vd = 2\n",
    "    m = max(M)\n",
    "    for i in range(m-1, -1, -1):\n",
    "        mu = extract_mask(i)\n",
    "        mu_norm = sum([bit_component(mu, j) for j in range(N)])\n",
    "        mu = rotate_right(mu, vd+1)\n",
    "        pi = rotate_right(ve, vd+1) & ((~mu) & 2**N-1)\n",
    "        l = [bit_component(px, i) for px in p]\n",
    "        # 2. construct a integer whose bits are given by l\n",
    "        l = sum( [lx*2**j for j, lx in enumerate(l)] )\n",
    "        l = T(ve, vd, l)\n",
    "        w = inverse_gc(l)\n",
    "        r = gcr(w, mu, pi)\n",
    "        ve = ve ^ rotate_left(e(w), vd+1)\n",
    "        vd = (vd + d(w) + 1) % N\n",
    "        h = (h << mu_norm) | r\n",
    "    return h\n",
    "\n",
    "def TR_algo8(h):\n",
    "    ve = 0\n",
    "    vd = 2\n",
    "    k = 0\n",
    "    p = [0,]*N\n",
    "    m = max(M)\n",
    "    vM = sum(M)\n",
    "    for i in range(m-1, -1, -1):\n",
    "        mu = extract_mask(i)\n",
    "        mu_norm = sum([bit_component(mu, j) for j in range(N)])\n",
    "        mu = rotate_right(mu, vd+1)\n",
    "        pi = rotate_right(ve, vd+1) & (~mu & 2**N-1)\n",
    "        r = [bit_component(h, vM - k - (j+1)) for j in range(mu_norm)][::-1]\n",
    "        r = sum( [rx*2**j for j, rx in enumerate(r)] )\n",
    "        k = k + mu_norm\n",
    "        w = gcr_inv(r, mu, pi)\n",
    "        l = gc(w)\n",
    "        l = T_inv(ve, vd, l)\n",
    "        for j in range(N):\n",
    "            p[j] |= bit_component(l, j) << i\n",
    "        ve = ve ^ (rotate_left(e(w), vd+1))\n",
    "        vd = (vd + d(w) + 1) % N\n",
    "    return p"
   ]
  },
  {
   "cell_type": "code",
   "execution_count": null,
   "metadata": {
    "collapsed": false
   },
   "outputs": [],
   "source": [
    "TR_algo7([2, 1, 0])"
   ]
  },
  {
   "cell_type": "code",
   "execution_count": null,
   "metadata": {
    "collapsed": false
   },
   "outputs": [],
   "source": [
    "TR_algo8(29)"
   ]
  },
  {
   "cell_type": "code",
   "execution_count": null,
   "metadata": {
    "collapsed": false
   },
   "outputs": [],
   "source": [
    "d"
   ]
  },
  {
   "cell_type": "code",
   "execution_count": null,
   "metadata": {
    "collapsed": false
   },
   "outputs": [],
   "source": [
    "print(bin_str(4))\n",
    "print((~4) & 2**N-1, bin_str(~4))"
   ]
  },
  {
   "cell_type": "code",
   "execution_count": null,
   "metadata": {
    "collapsed": false
   },
   "outputs": [],
   "source": [
    "bin_str(~4 & 2**N-1)"
   ]
  },
  {
   "cell_type": "code",
   "execution_count": null,
   "metadata": {
    "collapsed": true
   },
   "outputs": [],
   "source": [
    "import h5py\n",
    "\n",
    "with h5py.File('/home/pierre/tmp-soft/nano-dimer/test/hilbert_1x3x2x4.h5', 'r') as ref_file:\n",
    "    ref_dset = ref_file['value']\n",
    "    ref_data = ref_dset[...]\n",
    "    ref_M = ref_dset.attrs['M']"
   ]
  },
  {
   "cell_type": "code",
   "execution_count": null,
   "metadata": {
    "collapsed": false
   },
   "outputs": [],
   "source": [
    "ref_M"
   ]
  },
  {
   "cell_type": "code",
   "execution_count": null,
   "metadata": {
    "collapsed": false
   },
   "outputs": [],
   "source": [
    "for i in range(10):\n",
    "    print(i, ref_data[i], TR_algo8(i))"
   ]
  },
  {
   "cell_type": "code",
   "execution_count": null,
   "metadata": {
    "collapsed": false
   },
   "outputs": [],
   "source": [
    "for i in range(2**N):\n",
    "    not_i = ~i & 2**N-1\n",
    "    assert not_i >=0\n",
    "    assert not_i < 2**N\n",
    "    assert i & not_i == 0\n",
    "    assert i | not_i == 2**N-1"
   ]
  },
  {
   "cell_type": "code",
   "execution_count": null,
   "metadata": {
    "collapsed": false
   },
   "outputs": [],
   "source": [
    "fig = plt.figure(figsize=(14, 12))\n",
    "\n",
    "ax = fig.add_subplot(111,projection='3d')\n",
    "\n",
    "test_data = [TR_algo8(i) for i in range(128)]\n",
    "ax.plot(*zip(*test_data))\n",
    "\n",
    "for i, (x, y, z) in enumerate(test_data):\n",
    "    ax.text(x, y, z, str(i))\n",
    "\n",
    "print(test_data)\n",
    "\n",
    "plt.savefig('compact_3_2_2.png')"
   ]
  },
  {
   "cell_type": "code",
   "execution_count": null,
   "metadata": {
    "collapsed": false
   },
   "outputs": [],
   "source": [
    "M = [3, 2, 2]\n",
    "print(M, 2**sum(M))"
   ]
  },
  {
   "cell_type": "code",
   "execution_count": null,
   "metadata": {
    "collapsed": true
   },
   "outputs": [],
   "source": []
  }
 ],
 "metadata": {
  "kernelspec": {
   "display_name": "Python 2",
   "language": "python",
   "name": "python2"
  },
  "language_info": {
   "codemirror_mode": {
    "name": "ipython",
    "version": 2
   },
   "file_extension": ".py",
   "mimetype": "text/x-python",
   "name": "python",
   "nbconvert_exporter": "python",
   "pygments_lexer": "ipython2",
   "version": "2.7.9"
  }
 },
 "nbformat": 4,
 "nbformat_minor": 0
}
